{
 "cells": [
  {
   "cell_type": "code",
   "execution_count": 1,
   "metadata": {},
   "outputs": [],
   "source": [
    "# 2024 fabio-affaticati\n",
    "\n",
    "import pandas as pd\n",
    "import numpy as np\n",
    "import os\n",
    "import pathlib\n",
    "import seaborn as sns\n",
    "import matplotlib.pyplot as plt\n",
    "\n",
    "from tqdm import tqdm\n",
    "\n",
    "from src.utils import plotting\n",
    "from src.utils import tools\n",
    "\n",
    "import plotly.express as px\n",
    "import plotly.graph_objects as go\n",
    "from plotly.subplots import make_subplots\n",
    "\n",
    "import rpy2.robjects as ro\n",
    "from rpy2.robjects.packages import importr\n",
    "from rpy2.robjects import r, pandas2ri\n",
    "\n",
    "\n",
    "from skbio.diversity import alpha_diversity\n",
    "from statsmodels.stats.multitest import multipletests\n",
    "from scipy.stats import pearsonr, spearmanr, mannwhitneyu, ttest_ind"
   ]
  },
  {
   "cell_type": "code",
   "execution_count": 2,
   "metadata": {},
   "outputs": [],
   "source": [
    "FONT = 'JetBrains Mono'\n",
    "FONTSNS =  'DejaVu Sans'"
   ]
  },
  {
   "cell_type": "code",
   "execution_count": 3,
   "metadata": {},
   "outputs": [],
   "source": [
    "# define macros for directories\n",
    "\n",
    "DATADIR = os.path.join(pathlib.Path().absolute(), 'data/')\n",
    "RESULTSDIR = os.path.join(pathlib.Path().absolute(), 'results/')\n",
    "PROCESSEDDIR = os.path.join(RESULTSDIR, 'processed_data/')\n",
    "PLOTSDIR = os.path.join(pathlib.Path().absolute(), RESULTSDIR+'plots/')\n",
    "MODELSDIR = os.path.join(RESULTSDIR, 'models/')"
   ]
  },
  {
   "cell_type": "code",
   "execution_count": 4,
   "metadata": {},
   "outputs": [],
   "source": [
    "# create directories if they do not exist\n",
    "\n",
    "for directory in [DATADIR, RESULTSDIR, PROCESSEDDIR, PLOTSDIR, MODELSDIR]:\n",
    "    if not os.path.exists(directory):\n",
    "        os.makedirs(directory)"
   ]
  },
  {
   "cell_type": "markdown",
   "metadata": {},
   "source": [
    "## Load metadata and read files"
   ]
  },
  {
   "cell_type": "code",
   "execution_count": 5,
   "metadata": {},
   "outputs": [],
   "source": [
    "# Import metadata and apply transformations\n",
    "metadata = (\n",
    "    pd.read_excel(DATADIR + 'metadata.xlsx')\n",
    "    .rename(columns={'SAMPLE_ID': 'sample_id'})\n",
    "    .assign(\n",
    "        sample_id=lambda df: df['sample_id'].astype(str),\n",
    "        AB_TITER=lambda df: df['AB_TITER']\n",
    "        .astype(str)\n",
    "        .str.replace('>400', '400', regex=False)\n",
    "        .str.replace(',', '.', regex=False)\n",
    "        .str.replace('<', '', regex=False)\n",
    "        .str.replace('V2 ', '', regex=False)\n",
    "        .astype(float)\n",
    "    )\n",
    "    .assign(\n",
    "        TIMEPOINTS=lambda df: df['TIMEPOINTS']\n",
    "            .astype(str)\n",
    "            .str.replace('V1', 'V1 (50 days)', regex=False)\n",
    "            .str.replace('V3', 'V3 (6 months)', regex=False)\n",
    "    )\n",
    "    .assign(\n",
    "        CONDITION=lambda df: df['CONDITION']\n",
    "            .astype(str)\n",
    "            .str.replace('Healthy', 'Healthy controls', regex=False)\n",
    "            .str.replace('Lymphomas', 'Lymphoma patients', regex=False)\n",
    "    )\n",
    ")"
   ]
  },
  {
   "cell_type": "code",
   "execution_count": 6,
   "metadata": {},
   "outputs": [
    {
     "data": {
      "text/plain": [
       "5294164"
      ]
     },
     "execution_count": 6,
     "metadata": {},
     "output_type": "execute_result"
    }
   ],
   "source": [
    "data = (\n",
    "    pd.read_csv(PROCESSEDDIR + 'preprocessed_data.csv', index_col=0, low_memory=False)\n",
    "    .assign(\n",
    "        length=lambda df: df['junction_aa'].str.len(),\n",
    "        clonotype=lambda df: df['v_call'] + '_' + df['junction_aa'] + '_' + df['j_call']\n",
    "    )\n",
    "    .groupby(['clonotype', 'sample_id', 'SAMPLE', 'TIMEPOINTS', 'CONDITION', 'TCR_Chain', 'v_call', 'j_call', 'junction_aa'], as_index=False)\n",
    "    .agg({'cloneFraction': 'sum', 'cloneCount': 'sum'})\n",
    "    .reset_index(drop=True)\n",
    "    .query('not (v_call == \"TRBV15\" and j_call == \"TRBJ2-2\" and junction_aa == \"CATSLANTGELFF\" and SAMPLE == \"s_9\")')\n",
    "    .assign(\n",
    "        TIMEPOINTS=lambda df: df['TIMEPOINTS']\n",
    "            .astype(str)\n",
    "            .str.replace('V1', 'V1 (50 days)', regex=False)\n",
    "            .str.replace('V3', 'V3 (6 months)', regex=False)\n",
    "    )\n",
    "    .assign(\n",
    "        CONDITION=lambda df: df['CONDITION']\n",
    "            .astype(str)\n",
    "            .str.replace('Healthy', 'Healthy controls', regex=False)\n",
    "            .str.replace('Lymphomas', 'Lymphoma patients', regex=False)\n",
    "    )\n",
    ")\n",
    "\n",
    "data['clonotype'].nunique()"
   ]
  },
  {
   "cell_type": "code",
   "execution_count": 7,
   "metadata": {},
   "outputs": [
    {
     "data": {
      "application/vnd.microsoft.datawrangler.viewer.v0+json": {
       "columns": [
        {
         "name": "index",
         "rawType": "int64",
         "type": "integer"
        },
        {
         "name": "clonotype",
         "rawType": "object",
         "type": "string"
        },
        {
         "name": "sample_id",
         "rawType": "object",
         "type": "string"
        },
        {
         "name": "SAMPLE",
         "rawType": "object",
         "type": "string"
        },
        {
         "name": "TIMEPOINTS",
         "rawType": "object",
         "type": "string"
        },
        {
         "name": "CONDITION",
         "rawType": "object",
         "type": "string"
        },
        {
         "name": "TCR_Chain",
         "rawType": "object",
         "type": "string"
        },
        {
         "name": "v_call",
         "rawType": "object",
         "type": "string"
        },
        {
         "name": "j_call",
         "rawType": "object",
         "type": "string"
        },
        {
         "name": "junction_aa",
         "rawType": "object",
         "type": "string"
        },
        {
         "name": "cloneFraction",
         "rawType": "float64",
         "type": "float"
        },
        {
         "name": "cloneCount",
         "rawType": "float64",
         "type": "float"
        }
       ],
       "ref": "4df5dd4f-8d7f-4363-a39f-c795782bcf31",
       "rows": [
        [
         "0",
         "TRAV1-1_CAAAAGGSYIPTF_TRAJ6",
         "13L",
         "s_12",
         "baseline",
         "Lymphoma patients",
         "TRA",
         "TRAV1-1",
         "TRAJ6",
         "CAAAAGGSYIPTF",
         "4.712699688867567e-07",
         "1.0"
        ],
        [
         "1",
         "TRAV1-1_CAAAAGNKLTF_TRAJ17",
         "A8",
         "s_1",
         "V3 (6 months)",
         "Healthy controls",
         "TRA",
         "TRAV1-1",
         "TRAJ17",
         "CAAAAGNKLTF",
         "3.6925058378517296e-07",
         "1.0"
        ],
        [
         "2",
         "TRAV1-1_CAAAAPGGYQKVTF_TRAJ13",
         "39670",
         "s_7",
         "baseline",
         "Healthy controls",
         "TRA",
         "TRAV1-1",
         "TRAJ13",
         "CAAAAPGGYQKVTF",
         "4.429687904634953e-06",
         "13.0"
        ],
        [
         "3",
         "TRAV1-1_CAAAAVSKSTF_TRAJ27",
         "20L",
         "s_14",
         "V1 (50 days)",
         "Lymphoma patients",
         "TRA",
         "TRAV1-1",
         "TRAJ27",
         "CAAAAVSKSTF",
         "2.009788242968469e-06",
         "7.0"
        ],
        [
         "4",
         "TRAV1-1_CAAACQAGTALIF_TRAJ15",
         "A12",
         "s_5",
         "V3 (6 months)",
         "Healthy controls",
         "TRA",
         "TRAV1-1",
         "TRAJ15",
         "CAAACQAGTALIF",
         "7.021049457325534e-07",
         "2.0"
        ],
        [
         "5",
         "TRAV1-1_CAAADGNTGKLIF_TRAJ37",
         "14L",
         "s_12",
         "V1 (50 days)",
         "Lymphoma patients",
         "TRA",
         "TRAV1-1",
         "TRAJ37",
         "CAAADGNTGKLIF",
         "2.5980774227071965e-06",
         "6.0"
        ],
        [
         "6",
         "TRAV1-1_CAAADGQKLLF_TRAJ16",
         "A7",
         "s_7",
         "V1 (50 days)",
         "Healthy controls",
         "TRA",
         "TRAV1-1",
         "TRAJ16",
         "CAAADGQKLLF",
         "1.001629049486084e-06",
         "5.0"
        ],
        [
         "7",
         "TRAV1-1_CAAADNYGQNFVF_TRAJ26",
         "20L",
         "s_14",
         "V1 (50 days)",
         "Lymphoma patients",
         "TRA",
         "TRAV1-1",
         "TRAJ26",
         "CAAADNYGQNFVF",
         "1.722675636830116e-06",
         "6.0"
        ],
        [
         "8",
         "TRAV1-1_CAAADTGRRALTF_TRAJ5",
         "24L",
         "s_15",
         "V3 (6 months)",
         "Lymphoma patients",
         "TRA",
         "TRAV1-1",
         "TRAJ5",
         "CAAADTGRRALTF",
         "3.334444814938313e-07",
         "1.0"
        ],
        [
         "9",
         "TRAV1-1_CAAADTGRRALTF_TRAJ5",
         "39498",
         "s_2",
         "baseline",
         "Healthy controls",
         "TRA",
         "TRAV1-1",
         "TRAJ5",
         "CAAADTGRRALTF",
         "2.0685161499398404e-06",
         "6.0"
        ],
        [
         "10",
         "TRAV1-1_CAAADYKLSF_TRAJ20",
         "A9",
         "s_2",
         "V3 (6 months)",
         "Healthy controls",
         "TRA",
         "TRAV1-1",
         "TRAJ20",
         "CAAADYKLSF",
         "3.145816457338797e-07",
         "1.0"
        ],
        [
         "11",
         "TRAV1-1_CAAAFQGGKLIF_TRAJ23",
         "A9",
         "s_2",
         "V3 (6 months)",
         "Healthy controls",
         "TRA",
         "TRAV1-1",
         "TRAJ23",
         "CAAAFQGGKLIF",
         "1.2583265829355186e-06",
         "4.0"
        ],
        [
         "12",
         "TRAV1-1_CAAAGAAGNKLTF_TRAJ17",
         "39498",
         "s_2",
         "baseline",
         "Healthy controls",
         "TRA",
         "TRAV1-1",
         "TRAJ17",
         "CAAAGAAGNKLTF",
         "1.3790107666265604e-06",
         "4.0"
        ],
        [
         "13",
         "TRAV1-1_CAAAGDSNYQLIW_TRAJ33",
         "39498",
         "s_2",
         "baseline",
         "Healthy controls",
         "TRA",
         "TRAV1-1",
         "TRAJ33",
         "CAAAGDSNYQLIW",
         "1.0342580749699202e-06",
         "3.0"
        ],
        [
         "14",
         "TRAV1-1_CAAAGDSNYQLIW_TRAJ33",
         "A9",
         "s_2",
         "V3 (6 months)",
         "Healthy controls",
         "TRA",
         "TRAV1-1",
         "TRAJ33",
         "CAAAGDSNYQLIW",
         "1.2583265829355186e-06",
         "4.0"
        ],
        [
         "15",
         "TRAV1-1_CAAAGGATNKLIF_TRAJ32",
         "B2",
         "s_7",
         "V3 (6 months)",
         "Healthy controls",
         "TRA",
         "TRAV1-1",
         "TRAJ32",
         "CAAAGGATNKLIF",
         "1.0652622249492935e-06",
         "3.0"
        ],
        [
         "16",
         "TRAV1-1_CAAAGGSYIPTF_TRAJ6",
         "A8",
         "s_1",
         "V3 (6 months)",
         "Healthy controls",
         "TRA",
         "TRAV1-1",
         "TRAJ6",
         "CAAAGGSYIPTF",
         "2.584754086496211e-06",
         "7.0"
        ],
        [
         "17",
         "TRAV1-1_CAAAGGSYVPTF_TRAJ6",
         "A8",
         "s_1",
         "V3 (6 months)",
         "Healthy controls",
         "TRA",
         "TRAV1-1",
         "TRAJ6",
         "CAAAGGSYVPTF",
         "3.6925058378517296e-07",
         "1.0"
        ],
        [
         "18",
         "TRAV1-1_CAAAGKSTF_TRAJ27",
         "14L",
         "s_12",
         "V1 (50 days)",
         "Lymphoma patients",
         "TRA",
         "TRAV1-1",
         "TRAJ27",
         "CAAAGKSTF",
         "8.660258075690656e-07",
         "2.0"
        ],
        [
         "19",
         "TRAV1-1_CAAAGMDSSYKLIF_TRAJ12",
         "39700",
         "s_1",
         "baseline",
         "Healthy controls",
         "TRA",
         "TRAV1-1",
         "TRAJ12",
         "CAAAGMDSSYKLIF",
         "1.5384644970471097e-06",
         "4.0"
        ],
        [
         "20",
         "TRAV1-1_CAAAGNKLTF_TRAJ17",
         "B1",
         "s_6",
         "V3 (6 months)",
         "Healthy controls",
         "TRA",
         "TRAV1-1",
         "TRAJ17",
         "CAAAGNKLTF",
         "4.43533570544185e-06",
         "13.0"
        ],
        [
         "21",
         "TRAV1-1_CAAAGRRALTF_TRAJ5",
         "27L",
         "s_16",
         "V3 (6 months)",
         "Lymphoma patients",
         "TRA",
         "TRAV1-1",
         "TRAJ5",
         "CAAAGRRALTF",
         "1.4590212010370724e-06",
         "4.0"
        ],
        [
         "22",
         "TRAV1-1_CAAAGTGANNLFF_TRAJ36",
         "3L",
         "s_8",
         "V3 (6 months)",
         "Lymphoma patients",
         "TRA",
         "TRAV1-1",
         "TRAJ36",
         "CAAAGTGANNLFF",
         "1.4420354041322246e-06",
         "4.0"
        ],
        [
         "23",
         "TRAV1-1_CAAAHPNAGNNRKLIW_TRAJ38",
         "8L",
         "s_10",
         "V1 (50 days)",
         "Lymphoma patients",
         "TRA",
         "TRAV1-1",
         "TRAJ38",
         "CAAAHPNAGNNRKLIW",
         "2.180890312121752e-06",
         "6.0"
        ],
        [
         "24",
         "TRAV1-1_CAAAITDKLIF_TRAJ34",
         "15L",
         "s_12",
         "V3 (6 months)",
         "Lymphoma patients",
         "TRA",
         "TRAV1-1",
         "TRAJ34",
         "CAAAITDKLIF",
         "3.1024615860962565e-07",
         "1.0"
        ],
        [
         "25",
         "TRAV1-1_CAAAKYNFNKFYF_TRAJ21",
         "27L",
         "s_16",
         "V3 (6 months)",
         "Lymphoma patients",
         "TRA",
         "TRAV1-1",
         "TRAJ21",
         "CAAAKYNFNKFYF",
         "3.647553002592681e-07",
         "1.0"
        ],
        [
         "26",
         "TRAV1-1_CAAALDSNYQLIW_TRAJ33",
         "39700",
         "s_1",
         "baseline",
         "Healthy controls",
         "TRA",
         "TRAV1-1",
         "TRAJ33",
         "CAAALDSNYQLIW",
         "7.692322485235548e-07",
         "2.0"
        ],
        [
         "27",
         "TRAV1-1_CAAALYNQGGKLIF_TRAJ23",
         "39498",
         "s_2",
         "baseline",
         "Healthy controls",
         "TRA",
         "TRAV1-1",
         "TRAJ23",
         "CAAALYNQGGKLIF",
         "1.0687333441355843e-05",
         "31.0"
        ],
        [
         "28",
         "TRAV1-1_CAAALYNQGGKLIF_TRAJ23",
         "A2",
         "s_2",
         "V1 (50 days)",
         "Healthy controls",
         "TRA",
         "TRAV1-1",
         "TRAJ23",
         "CAAALYNQGGKLIF",
         "5.430729238322122e-06",
         "6.0"
        ],
        [
         "29",
         "TRAV1-1_CAAALYNQGGKLIF_TRAJ23",
         "A9",
         "s_2",
         "V3 (6 months)",
         "Healthy controls",
         "TRA",
         "TRAV1-1",
         "TRAJ23",
         "CAAALYNQGGKLIF",
         "1.761657216109726e-05",
         "56.0"
        ],
        [
         "30",
         "TRAV1-1_CAAALYSSASKIIF_TRAJ3",
         "A9",
         "s_2",
         "V3 (6 months)",
         "Healthy controls",
         "TRA",
         "TRAV1-1",
         "TRAJ3",
         "CAAALYSSASKIIF",
         "1.2583265829355186e-06",
         "4.0"
        ],
        [
         "31",
         "TRAV1-1_CAAAMDSSYKLIF_TRAJ12",
         "14L",
         "s_12",
         "V1 (50 days)",
         "Lymphoma patients",
         "TRA",
         "TRAV1-1",
         "TRAJ12",
         "CAAAMDSSYKLIF",
         "8.660258075690656e-07",
         "2.0"
        ],
        [
         "32",
         "TRAV1-1_CAAAMDSSYKLIF_TRAJ12",
         "A9",
         "s_2",
         "V3 (6 months)",
         "Healthy controls",
         "TRA",
         "TRAV1-1",
         "TRAJ12",
         "CAAAMDSSYKLIF",
         "9.43744937201639e-07",
         "3.0"
        ],
        [
         "33",
         "TRAV1-1_CAAAMMDSSYKLIF_TRAJ12",
         "A9",
         "s_2",
         "V3 (6 months)",
         "Healthy controls",
         "TRA",
         "TRAV1-1",
         "TRAJ12",
         "CAAAMMDSSYKLIF",
         "1.887489874403278e-06",
         "6.0"
        ],
        [
         "34",
         "TRAV1-1_CAAANNNARLMF_TRAJ31",
         "39498",
         "s_2",
         "baseline",
         "Healthy controls",
         "TRA",
         "TRAV1-1",
         "TRAJ31",
         "CAAANNNARLMF",
         "3.447526916566401e-07",
         "1.0"
        ],
        [
         "35",
         "TRAV1-1_CAAANNTNAGKSTF_TRAJ27",
         "A11",
         "s_4",
         "V3 (6 months)",
         "Healthy controls",
         "TRA",
         "TRAV1-1",
         "TRAJ27",
         "CAAANNTNAGKSTF",
         "1.371395501205628e-06",
         "4.0"
        ],
        [
         "36",
         "TRAV1-1_CAAANQAGTALIF_TRAJ15",
         "14L",
         "s_12",
         "V1 (50 days)",
         "Lymphoma patients",
         "TRA",
         "TRAV1-1",
         "TRAJ15",
         "CAAANQAGTALIF",
         "4.330129037845328e-07",
         "1.0"
        ],
        [
         "37",
         "TRAV1-1_CAAANQAGTALIF_TRAJ15",
         "39498",
         "s_2",
         "baseline",
         "Healthy controls",
         "TRA",
         "TRAV1-1",
         "TRAJ15",
         "CAAANQAGTALIF",
         "4.137032299879681e-06",
         "12.0"
        ],
        [
         "38",
         "TRAV1-1_CAAANQAGTALIF_TRAJ15",
         "39617",
         "s_5",
         "baseline",
         "Healthy controls",
         "TRA",
         "TRAV1-1",
         "TRAJ15",
         "CAAANQAGTALIF",
         "2.3303537430374856e-06",
         "5.0"
        ],
        [
         "39",
         "TRAV1-1_CAAANQAGTALIF_TRAJ15",
         "A9",
         "s_2",
         "V3 (6 months)",
         "Healthy controls",
         "TRA",
         "TRAV1-1",
         "TRAJ15",
         "CAAANQAGTALIF",
         "1.887489874403278e-06",
         "6.0"
        ],
        [
         "40",
         "TRAV1-1_CAAANRAGTALIF_TRAJ15",
         "A9",
         "s_2",
         "V3 (6 months)",
         "Healthy controls",
         "TRA",
         "TRAV1-1",
         "TRAJ15",
         "CAAANRAGTALIF",
         "6.291632914677593e-07",
         "2.0"
        ],
        [
         "41",
         "TRAV1-1_CAAANTDKLIF_TRAJ34",
         "15L",
         "s_12",
         "V3 (6 months)",
         "Lymphoma patients",
         "TRA",
         "TRAV1-1",
         "TRAJ34",
         "CAAANTDKLIF",
         "1.2409846344385026e-06",
         "4.0"
        ],
        [
         "42",
         "TRAV1-1_CAAANTDKLIF_TRAJ34",
         "A9",
         "s_2",
         "V3 (6 months)",
         "Healthy controls",
         "TRA",
         "TRAV1-1",
         "TRAJ34",
         "CAAANTDKLIF",
         "6.291632914677593e-07",
         "2.0"
        ],
        [
         "43",
         "TRAV1-1_CAAANTGGFKTIF_TRAJ9",
         "10L",
         "s_11",
         "baseline",
         "Lymphoma patients",
         "TRA",
         "TRAV1-1",
         "TRAJ9",
         "CAAANTGGFKTIF",
         "1.593012833311385e-06",
         "3.0"
        ],
        [
         "44",
         "TRAV1-1_CAAANTPLVF_TRAJ29",
         "4L",
         "s_9",
         "baseline",
         "Lymphoma patients",
         "TRA",
         "TRAV1-1",
         "TRAJ29",
         "CAAANTPLVF",
         "6.391866137278109e-06",
         "24.0"
        ],
        [
         "45",
         "TRAV1-1_CAAANTPLVF_TRAJ29",
         "5L",
         "s_9",
         "V1 (50 days)",
         "Lymphoma patients",
         "TRA",
         "TRAV1-1",
         "TRAJ29",
         "CAAANTPLVF",
         "3.5465143084119774e-06",
         "15.0"
        ],
        [
         "46",
         "TRAV1-1_CAAANTPLVF_TRAJ29",
         "6L",
         "s_9",
         "V3 (6 months)",
         "Lymphoma patients",
         "TRA",
         "TRAV1-1",
         "TRAJ29",
         "CAAANTPLVF",
         "1.3648309008634602e-06",
         "6.0"
        ],
        [
         "47",
         "TRAV1-1_CAAANYNTDKLIF_TRAJ34",
         "14L",
         "s_12",
         "V1 (50 days)",
         "Lymphoma patients",
         "TRA",
         "TRAV1-1",
         "TRAJ34",
         "CAAANYNTDKLIF",
         "8.660258075690656e-07",
         "2.0"
        ],
        [
         "48",
         "TRAV1-1_CAAAPENDARLMF_TRAJ31",
         "9L",
         "s_10",
         "V3 (6 months)",
         "Lymphoma patients",
         "TRA",
         "TRAV1-1",
         "TRAJ31",
         "CAAAPENDARLMF",
         "6.074625560080477e-07",
         "3.0"
        ],
        [
         "49",
         "TRAV1-1_CAAAPENNARLMF_TRAJ31",
         "9L",
         "s_10",
         "V3 (6 months)",
         "Lymphoma patients",
         "TRA",
         "TRAV1-1",
         "TRAJ31",
         "CAAAPENNARLMF",
         "5.467163004072429e-06",
         "27.0"
        ]
       ],
       "shape": {
        "columns": 11,
        "rows": 7913702
       }
      },
      "text/html": [
       "<div>\n",
       "<style scoped>\n",
       "    .dataframe tbody tr th:only-of-type {\n",
       "        vertical-align: middle;\n",
       "    }\n",
       "\n",
       "    .dataframe tbody tr th {\n",
       "        vertical-align: top;\n",
       "    }\n",
       "\n",
       "    .dataframe thead th {\n",
       "        text-align: right;\n",
       "    }\n",
       "</style>\n",
       "<table border=\"1\" class=\"dataframe\">\n",
       "  <thead>\n",
       "    <tr style=\"text-align: right;\">\n",
       "      <th></th>\n",
       "      <th>clonotype</th>\n",
       "      <th>sample_id</th>\n",
       "      <th>SAMPLE</th>\n",
       "      <th>TIMEPOINTS</th>\n",
       "      <th>CONDITION</th>\n",
       "      <th>TCR_Chain</th>\n",
       "      <th>v_call</th>\n",
       "      <th>j_call</th>\n",
       "      <th>junction_aa</th>\n",
       "      <th>cloneFraction</th>\n",
       "      <th>cloneCount</th>\n",
       "    </tr>\n",
       "  </thead>\n",
       "  <tbody>\n",
       "    <tr>\n",
       "      <th>0</th>\n",
       "      <td>TRAV1-1_CAAAAGGSYIPTF_TRAJ6</td>\n",
       "      <td>13L</td>\n",
       "      <td>s_12</td>\n",
       "      <td>baseline</td>\n",
       "      <td>Lymphoma patients</td>\n",
       "      <td>TRA</td>\n",
       "      <td>TRAV1-1</td>\n",
       "      <td>TRAJ6</td>\n",
       "      <td>CAAAAGGSYIPTF</td>\n",
       "      <td>4.712700e-07</td>\n",
       "      <td>1.0</td>\n",
       "    </tr>\n",
       "    <tr>\n",
       "      <th>1</th>\n",
       "      <td>TRAV1-1_CAAAAGNKLTF_TRAJ17</td>\n",
       "      <td>A8</td>\n",
       "      <td>s_1</td>\n",
       "      <td>V3 (6 months)</td>\n",
       "      <td>Healthy controls</td>\n",
       "      <td>TRA</td>\n",
       "      <td>TRAV1-1</td>\n",
       "      <td>TRAJ17</td>\n",
       "      <td>CAAAAGNKLTF</td>\n",
       "      <td>3.692506e-07</td>\n",
       "      <td>1.0</td>\n",
       "    </tr>\n",
       "    <tr>\n",
       "      <th>2</th>\n",
       "      <td>TRAV1-1_CAAAAPGGYQKVTF_TRAJ13</td>\n",
       "      <td>39670</td>\n",
       "      <td>s_7</td>\n",
       "      <td>baseline</td>\n",
       "      <td>Healthy controls</td>\n",
       "      <td>TRA</td>\n",
       "      <td>TRAV1-1</td>\n",
       "      <td>TRAJ13</td>\n",
       "      <td>CAAAAPGGYQKVTF</td>\n",
       "      <td>4.429688e-06</td>\n",
       "      <td>13.0</td>\n",
       "    </tr>\n",
       "    <tr>\n",
       "      <th>3</th>\n",
       "      <td>TRAV1-1_CAAAAVSKSTF_TRAJ27</td>\n",
       "      <td>20L</td>\n",
       "      <td>s_14</td>\n",
       "      <td>V1 (50 days)</td>\n",
       "      <td>Lymphoma patients</td>\n",
       "      <td>TRA</td>\n",
       "      <td>TRAV1-1</td>\n",
       "      <td>TRAJ27</td>\n",
       "      <td>CAAAAVSKSTF</td>\n",
       "      <td>2.009788e-06</td>\n",
       "      <td>7.0</td>\n",
       "    </tr>\n",
       "    <tr>\n",
       "      <th>4</th>\n",
       "      <td>TRAV1-1_CAAACQAGTALIF_TRAJ15</td>\n",
       "      <td>A12</td>\n",
       "      <td>s_5</td>\n",
       "      <td>V3 (6 months)</td>\n",
       "      <td>Healthy controls</td>\n",
       "      <td>TRA</td>\n",
       "      <td>TRAV1-1</td>\n",
       "      <td>TRAJ15</td>\n",
       "      <td>CAAACQAGTALIF</td>\n",
       "      <td>7.021049e-07</td>\n",
       "      <td>2.0</td>\n",
       "    </tr>\n",
       "    <tr>\n",
       "      <th>...</th>\n",
       "      <td>...</td>\n",
       "      <td>...</td>\n",
       "      <td>...</td>\n",
       "      <td>...</td>\n",
       "      <td>...</td>\n",
       "      <td>...</td>\n",
       "      <td>...</td>\n",
       "      <td>...</td>\n",
       "      <td>...</td>\n",
       "      <td>...</td>\n",
       "      <td>...</td>\n",
       "    </tr>\n",
       "    <tr>\n",
       "      <th>7913700</th>\n",
       "      <td>TRGV9_CVLWVPALF_TRGJ1</td>\n",
       "      <td>7L</td>\n",
       "      <td>s_10</td>\n",
       "      <td>baseline</td>\n",
       "      <td>Lymphoma patients</td>\n",
       "      <td>TRG</td>\n",
       "      <td>TRGV9</td>\n",
       "      <td>TRGJ1</td>\n",
       "      <td>CVLWVPALF</td>\n",
       "      <td>1.873815e-07</td>\n",
       "      <td>1.0</td>\n",
       "    </tr>\n",
       "    <tr>\n",
       "      <th>7913701</th>\n",
       "      <td>TRGV9_CVLWVYYYKKLF_TRGJ1</td>\n",
       "      <td>A2</td>\n",
       "      <td>s_2</td>\n",
       "      <td>V1 (50 days)</td>\n",
       "      <td>Healthy controls</td>\n",
       "      <td>TRG</td>\n",
       "      <td>TRGV9</td>\n",
       "      <td>TRGJ1</td>\n",
       "      <td>CVLWVYYYKKLF</td>\n",
       "      <td>9.051215e-07</td>\n",
       "      <td>1.0</td>\n",
       "    </tr>\n",
       "    <tr>\n",
       "      <th>7913702</th>\n",
       "      <td>TRGV9_CVPCRGKLF_TRGJ1</td>\n",
       "      <td>A10</td>\n",
       "      <td>s_3</td>\n",
       "      <td>V3 (6 months)</td>\n",
       "      <td>Healthy controls</td>\n",
       "      <td>TRG</td>\n",
       "      <td>TRGV9</td>\n",
       "      <td>TRGJ1</td>\n",
       "      <td>CVPCRGKLF</td>\n",
       "      <td>2.963851e-07</td>\n",
       "      <td>1.0</td>\n",
       "    </tr>\n",
       "    <tr>\n",
       "      <th>7913703</th>\n",
       "      <td>TRGV9_CVSYKKLF_TRGJ1</td>\n",
       "      <td>B2</td>\n",
       "      <td>s_7</td>\n",
       "      <td>V3 (6 months)</td>\n",
       "      <td>Healthy controls</td>\n",
       "      <td>TRG</td>\n",
       "      <td>TRGV9</td>\n",
       "      <td>TRGJ1</td>\n",
       "      <td>CVSYKKLF</td>\n",
       "      <td>3.550874e-07</td>\n",
       "      <td>1.0</td>\n",
       "    </tr>\n",
       "    <tr>\n",
       "      <th>7913704</th>\n",
       "      <td>TRGV9_CYKKLF_TRGJ1</td>\n",
       "      <td>B2</td>\n",
       "      <td>s_7</td>\n",
       "      <td>V3 (6 months)</td>\n",
       "      <td>Healthy controls</td>\n",
       "      <td>TRG</td>\n",
       "      <td>TRGV9</td>\n",
       "      <td>TRGJ1</td>\n",
       "      <td>CYKKLF</td>\n",
       "      <td>1.420350e-06</td>\n",
       "      <td>4.0</td>\n",
       "    </tr>\n",
       "  </tbody>\n",
       "</table>\n",
       "<p>7913702 rows × 11 columns</p>\n",
       "</div>"
      ],
      "text/plain": [
       "                             clonotype sample_id SAMPLE     TIMEPOINTS  \\\n",
       "0          TRAV1-1_CAAAAGGSYIPTF_TRAJ6       13L   s_12       baseline   \n",
       "1           TRAV1-1_CAAAAGNKLTF_TRAJ17        A8    s_1  V3 (6 months)   \n",
       "2        TRAV1-1_CAAAAPGGYQKVTF_TRAJ13     39670    s_7       baseline   \n",
       "3           TRAV1-1_CAAAAVSKSTF_TRAJ27       20L   s_14   V1 (50 days)   \n",
       "4         TRAV1-1_CAAACQAGTALIF_TRAJ15       A12    s_5  V3 (6 months)   \n",
       "...                                ...       ...    ...            ...   \n",
       "7913700          TRGV9_CVLWVPALF_TRGJ1        7L   s_10       baseline   \n",
       "7913701       TRGV9_CVLWVYYYKKLF_TRGJ1        A2    s_2   V1 (50 days)   \n",
       "7913702          TRGV9_CVPCRGKLF_TRGJ1       A10    s_3  V3 (6 months)   \n",
       "7913703           TRGV9_CVSYKKLF_TRGJ1        B2    s_7  V3 (6 months)   \n",
       "7913704             TRGV9_CYKKLF_TRGJ1        B2    s_7  V3 (6 months)   \n",
       "\n",
       "                 CONDITION TCR_Chain   v_call  j_call     junction_aa  \\\n",
       "0        Lymphoma patients       TRA  TRAV1-1   TRAJ6   CAAAAGGSYIPTF   \n",
       "1         Healthy controls       TRA  TRAV1-1  TRAJ17     CAAAAGNKLTF   \n",
       "2         Healthy controls       TRA  TRAV1-1  TRAJ13  CAAAAPGGYQKVTF   \n",
       "3        Lymphoma patients       TRA  TRAV1-1  TRAJ27     CAAAAVSKSTF   \n",
       "4         Healthy controls       TRA  TRAV1-1  TRAJ15   CAAACQAGTALIF   \n",
       "...                    ...       ...      ...     ...             ...   \n",
       "7913700  Lymphoma patients       TRG    TRGV9   TRGJ1       CVLWVPALF   \n",
       "7913701   Healthy controls       TRG    TRGV9   TRGJ1    CVLWVYYYKKLF   \n",
       "7913702   Healthy controls       TRG    TRGV9   TRGJ1       CVPCRGKLF   \n",
       "7913703   Healthy controls       TRG    TRGV9   TRGJ1        CVSYKKLF   \n",
       "7913704   Healthy controls       TRG    TRGV9   TRGJ1          CYKKLF   \n",
       "\n",
       "         cloneFraction  cloneCount  \n",
       "0         4.712700e-07         1.0  \n",
       "1         3.692506e-07         1.0  \n",
       "2         4.429688e-06        13.0  \n",
       "3         2.009788e-06         7.0  \n",
       "4         7.021049e-07         2.0  \n",
       "...                ...         ...  \n",
       "7913700   1.873815e-07         1.0  \n",
       "7913701   9.051215e-07         1.0  \n",
       "7913702   2.963851e-07         1.0  \n",
       "7913703   3.550874e-07         1.0  \n",
       "7913704   1.420350e-06         4.0  \n",
       "\n",
       "[7913702 rows x 11 columns]"
      ]
     },
     "execution_count": 7,
     "metadata": {},
     "output_type": "execute_result"
    }
   ],
   "source": [
    "data"
   ]
  },
  {
   "cell_type": "markdown",
   "metadata": {},
   "source": [
    "## Load DETECT predictions"
   ]
  },
  {
   "cell_type": "code",
   "execution_count": 8,
   "metadata": {},
   "outputs": [],
   "source": [
    "DETECT_predictions = pd.read_csv(PROCESSEDDIR + 'DETECT_predictions.tsv', sep = '\\t', low_memory=False)\n",
    "\n",
    "# filter only SARS-CoV-2 Spike protein, we could choose a higher score threshold here to further remove false positives\n",
    "DETECT_predictions = DETECT_predictions.query('Score >= 0.2 and Antigen == \"Spike/surface glycoprotein (S)\" and Species == \"SARS-CoV-2\"')\n",
    "\n",
    "DETECT_predictions = (\n",
    "    DETECT_predictions\n",
    "    .assign(clonotype=lambda df: df['v_call'] + '_' + df['junction_aa'] + '_' + df['j_call'])\n",
    "    .drop_duplicates(subset=['clonotype'])\n",
    "    .reset_index(drop=True)\n",
    ")"
   ]
  },
  {
   "cell_type": "code",
   "execution_count": 9,
   "metadata": {},
   "outputs": [
    {
     "data": {
      "application/vnd.microsoft.datawrangler.viewer.v0+json": {
       "columns": [
        {
         "name": "index",
         "rawType": "int64",
         "type": "integer"
        },
        {
         "name": "junction_aa",
         "rawType": "object",
         "type": "string"
        },
        {
         "name": "v_call",
         "rawType": "object",
         "type": "string"
        },
        {
         "name": "j_call",
         "rawType": "object",
         "type": "string"
        },
        {
         "name": "Epitope",
         "rawType": "object",
         "type": "string"
        },
        {
         "name": "Score",
         "rawType": "float64",
         "type": "float"
        },
        {
         "name": "Reference TCRs",
         "rawType": "object",
         "type": "string"
        },
        {
         "name": "Antigen",
         "rawType": "object",
         "type": "string"
        },
        {
         "name": "Species",
         "rawType": "object",
         "type": "string"
        },
        {
         "name": "clonotype",
         "rawType": "object",
         "type": "string"
        }
       ],
       "ref": "f544dbca-d21c-4956-8012-b57be4b44d76",
       "rows": [
        [
         "0",
         "CVVNNQDDMRF",
         "TRAV12-1",
         "TRAJ43",
         "YLQPRTFLL",
         "0.855678620027592",
         "[('CVVNNQDDMRF', '10.1016/j.immuni.2020.11.004')]",
         "Spike/surface glycoprotein (S)",
         "SARS-CoV-2",
         "TRAV12-1_CVVNNQDDMRF_TRAJ43"
        ],
        [
         "1",
         "CVVNDADKLIF",
         "TRAV12-1",
         "TRAJ34",
         "YLQPRTFLL",
         "0.8549905903688058",
         "[('CVVNDADKLIF', '10.1016/j.cell.2022.07.002')]",
         "Spike/surface glycoprotein (S)",
         "SARS-CoV-2",
         "TRAV12-1_CVVNDADKLIF_TRAJ34"
        ],
        [
         "2",
         "CVVNNLDDMRF",
         "TRAV12-1",
         "TRAJ43",
         "YLQPRTFLL",
         "0.8400851402412117",
         "[('CVVNNLDDMRF', '10.1016/j.immuni.2020.11.004')]",
         "Spike/surface glycoprotein (S)",
         "SARS-CoV-2",
         "TRAV12-1_CVVNNLDDMRF_TRAJ43"
        ],
        [
         "3",
         "CVVNTLDDMRF",
         "TRAV12-1",
         "TRAJ43",
         "YLQPRTFLL",
         "0.8120813145729866",
         "[('CVVNTLDDMRF', '10.1016/j.immuni.2020.11.004')]",
         "Spike/surface glycoprotein (S)",
         "SARS-CoV-2",
         "TRAV12-1_CVVNTLDDMRF_TRAJ43"
        ],
        [
         "4",
         "CVVNRRDDMRF",
         "TRAV12-1",
         "TRAJ43",
         "YLQPRTFLL",
         "0.7702376551871342",
         "[('CVVNRRDDMRF', '10.1016/j.immuni.2020.11.004'), ('CVVNRRDDMRF', '10.1101/2021.07.12.21260227')]",
         "Spike/surface glycoprotein (S)",
         "SARS-CoV-2",
         "TRAV12-1_CVVNRRDDMRF_TRAJ43"
        ]
       ],
       "shape": {
        "columns": 9,
        "rows": 5
       }
      },
      "text/html": [
       "<div>\n",
       "<style scoped>\n",
       "    .dataframe tbody tr th:only-of-type {\n",
       "        vertical-align: middle;\n",
       "    }\n",
       "\n",
       "    .dataframe tbody tr th {\n",
       "        vertical-align: top;\n",
       "    }\n",
       "\n",
       "    .dataframe thead th {\n",
       "        text-align: right;\n",
       "    }\n",
       "</style>\n",
       "<table border=\"1\" class=\"dataframe\">\n",
       "  <thead>\n",
       "    <tr style=\"text-align: right;\">\n",
       "      <th></th>\n",
       "      <th>junction_aa</th>\n",
       "      <th>v_call</th>\n",
       "      <th>j_call</th>\n",
       "      <th>Epitope</th>\n",
       "      <th>Score</th>\n",
       "      <th>Reference TCRs</th>\n",
       "      <th>Antigen</th>\n",
       "      <th>Species</th>\n",
       "      <th>clonotype</th>\n",
       "    </tr>\n",
       "  </thead>\n",
       "  <tbody>\n",
       "    <tr>\n",
       "      <th>0</th>\n",
       "      <td>CVVNNQDDMRF</td>\n",
       "      <td>TRAV12-1</td>\n",
       "      <td>TRAJ43</td>\n",
       "      <td>YLQPRTFLL</td>\n",
       "      <td>0.855679</td>\n",
       "      <td>[('CVVNNQDDMRF', '10.1016/j.immuni.2020.11.004')]</td>\n",
       "      <td>Spike/surface glycoprotein (S)</td>\n",
       "      <td>SARS-CoV-2</td>\n",
       "      <td>TRAV12-1_CVVNNQDDMRF_TRAJ43</td>\n",
       "    </tr>\n",
       "    <tr>\n",
       "      <th>1</th>\n",
       "      <td>CVVNDADKLIF</td>\n",
       "      <td>TRAV12-1</td>\n",
       "      <td>TRAJ34</td>\n",
       "      <td>YLQPRTFLL</td>\n",
       "      <td>0.854991</td>\n",
       "      <td>[('CVVNDADKLIF', '10.1016/j.cell.2022.07.002')]</td>\n",
       "      <td>Spike/surface glycoprotein (S)</td>\n",
       "      <td>SARS-CoV-2</td>\n",
       "      <td>TRAV12-1_CVVNDADKLIF_TRAJ34</td>\n",
       "    </tr>\n",
       "    <tr>\n",
       "      <th>2</th>\n",
       "      <td>CVVNNLDDMRF</td>\n",
       "      <td>TRAV12-1</td>\n",
       "      <td>TRAJ43</td>\n",
       "      <td>YLQPRTFLL</td>\n",
       "      <td>0.840085</td>\n",
       "      <td>[('CVVNNLDDMRF', '10.1016/j.immuni.2020.11.004')]</td>\n",
       "      <td>Spike/surface glycoprotein (S)</td>\n",
       "      <td>SARS-CoV-2</td>\n",
       "      <td>TRAV12-1_CVVNNLDDMRF_TRAJ43</td>\n",
       "    </tr>\n",
       "    <tr>\n",
       "      <th>3</th>\n",
       "      <td>CVVNTLDDMRF</td>\n",
       "      <td>TRAV12-1</td>\n",
       "      <td>TRAJ43</td>\n",
       "      <td>YLQPRTFLL</td>\n",
       "      <td>0.812081</td>\n",
       "      <td>[('CVVNTLDDMRF', '10.1016/j.immuni.2020.11.004')]</td>\n",
       "      <td>Spike/surface glycoprotein (S)</td>\n",
       "      <td>SARS-CoV-2</td>\n",
       "      <td>TRAV12-1_CVVNTLDDMRF_TRAJ43</td>\n",
       "    </tr>\n",
       "    <tr>\n",
       "      <th>4</th>\n",
       "      <td>CVVNRRDDMRF</td>\n",
       "      <td>TRAV12-1</td>\n",
       "      <td>TRAJ43</td>\n",
       "      <td>YLQPRTFLL</td>\n",
       "      <td>0.770238</td>\n",
       "      <td>[('CVVNRRDDMRF', '10.1016/j.immuni.2020.11.004...</td>\n",
       "      <td>Spike/surface glycoprotein (S)</td>\n",
       "      <td>SARS-CoV-2</td>\n",
       "      <td>TRAV12-1_CVVNRRDDMRF_TRAJ43</td>\n",
       "    </tr>\n",
       "  </tbody>\n",
       "</table>\n",
       "</div>"
      ],
      "text/plain": [
       "   junction_aa    v_call  j_call    Epitope     Score  \\\n",
       "0  CVVNNQDDMRF  TRAV12-1  TRAJ43  YLQPRTFLL  0.855679   \n",
       "1  CVVNDADKLIF  TRAV12-1  TRAJ34  YLQPRTFLL  0.854991   \n",
       "2  CVVNNLDDMRF  TRAV12-1  TRAJ43  YLQPRTFLL  0.840085   \n",
       "3  CVVNTLDDMRF  TRAV12-1  TRAJ43  YLQPRTFLL  0.812081   \n",
       "4  CVVNRRDDMRF  TRAV12-1  TRAJ43  YLQPRTFLL  0.770238   \n",
       "\n",
       "                                      Reference TCRs  \\\n",
       "0  [('CVVNNQDDMRF', '10.1016/j.immuni.2020.11.004')]   \n",
       "1    [('CVVNDADKLIF', '10.1016/j.cell.2022.07.002')]   \n",
       "2  [('CVVNNLDDMRF', '10.1016/j.immuni.2020.11.004')]   \n",
       "3  [('CVVNTLDDMRF', '10.1016/j.immuni.2020.11.004')]   \n",
       "4  [('CVVNRRDDMRF', '10.1016/j.immuni.2020.11.004...   \n",
       "\n",
       "                          Antigen     Species                    clonotype  \n",
       "0  Spike/surface glycoprotein (S)  SARS-CoV-2  TRAV12-1_CVVNNQDDMRF_TRAJ43  \n",
       "1  Spike/surface glycoprotein (S)  SARS-CoV-2  TRAV12-1_CVVNDADKLIF_TRAJ34  \n",
       "2  Spike/surface glycoprotein (S)  SARS-CoV-2  TRAV12-1_CVVNNLDDMRF_TRAJ43  \n",
       "3  Spike/surface glycoprotein (S)  SARS-CoV-2  TRAV12-1_CVVNTLDDMRF_TRAJ43  \n",
       "4  Spike/surface glycoprotein (S)  SARS-CoV-2  TRAV12-1_CVVNRRDDMRF_TRAJ43  "
      ]
     },
     "execution_count": 9,
     "metadata": {},
     "output_type": "execute_result"
    }
   ],
   "source": [
    "DETECT_predictions.head()"
   ]
  },
  {
   "cell_type": "markdown",
   "metadata": {},
   "source": [
    "## Unique clonotypes calculation"
   ]
  },
  {
   "cell_type": "code",
   "execution_count": null,
   "metadata": {},
   "outputs": [],
   "source": [
    "uniques = (\n",
    "    data.query('TCR_Chain in [\"TRA\", \"TRB\"]')\n",
    "    .groupby(['sample_id', 'TCR_Chain'])['clonotype']\n",
    "    .nunique()\n",
    "    .reset_index(name='countUniqueCDR3')\n",
    "    .merge(metadata, on='sample_id', how='left')\n",
    ")\n",
    "\n",
    "# group by sample_id and sum cloneCount\n",
    "library_size = data.groupby(['sample_id','TCR_Chain']).agg({'cloneCount': 'sum'}).reset_index()\n",
    "\n",
    "uniques = (\n",
    "    uniques.merge(\n",
    "        library_size,\n",
    "        on=['sample_id', 'TCR_Chain'],\n",
    "        how='left'\n",
    "    )\n",
    "    .assign(normalizedUniqueCDR3=lambda df: df['countUniqueCDR3'] / df['cloneCount'])\n",
    ")"
   ]
  },
  {
   "cell_type": "markdown",
   "metadata": {},
   "source": [
    "## Proportion of TCR sequences that recognize COVID-19 spike protein\n"
   ]
  },
  {
   "cell_type": "code",
   "execution_count": null,
   "metadata": {},
   "outputs": [],
   "source": [
    "uniques_covid = pd.DataFrame({'countUniqueClonotypes': data \\\n",
    "                .groupby(['sample_id'])['clonotype'].nunique()}).reset_index()\n",
    "uniques_covid = pd.merge(uniques_covid, metadata, on = 'sample_id', how='left')\n",
    "\n",
    "covid_data = ( pd.merge(data[['clonotype','sample_id','SAMPLE','TIMEPOINTS','CONDITION']], \\\n",
    "                    DETECT_predictions.drop_duplicates(subset=['junction_aa','v_call', 'j_call']) \\\n",
    "                    [['clonotype','Score','Species']], \\\n",
    "                    on = ['clonotype'], how='left', indicator=True).query('_merge == \"both\"') )\n",
    "\n",
    "\n",
    "# Add a column for detected clonotypes and aggregate by sample and condition\n",
    "covid_data['NClonotypes_detected'] = 1\n",
    "covid_data = ( covid_data\n",
    "                    .groupby(['sample_id', 'SAMPLE', 'TIMEPOINTS', 'CONDITION'], as_index=False)\n",
    "                    .agg(NClonotypes_detected=('NClonotypes_detected', 'sum')) )\n",
    "\n",
    "covid_data = pd.merge(uniques_covid, covid_data)\n",
    "covid_data['viral_ratio'] = covid_data['NClonotypes_detected']/covid_data['countUniqueClonotypes']\n",
    "covid_data[['sample_id', 'countUniqueClonotypes', 'NClonotypes_detected', 'viral_ratio', 'CONDITION', 'TIMEPOINTS', 'SAMPLE']] \\\n",
    "    .to_csv(PROCESSEDDIR + 'covid_viral_data.csv')"
   ]
  },
  {
   "cell_type": "code",
   "execution_count": null,
   "metadata": {},
   "outputs": [
    {
     "data": {
      "application/vnd.plotly.v1+json": {
       "config": {
        "plotlyServerURL": "https://plot.ly"
       },
       "data": [
        {
         "marker": {
          "color": "#004D40",
          "line": {
           "width": 0.5
          }
         },
         "name": "baseline",
         "showlegend": true,
         "type": "bar",
         "x": [
          "s_4",
          "s_2",
          "s_3",
          "s_5",
          "s_7",
          "s_6",
          "s_1"
         ],
         "xaxis": "x",
         "y": [
          0.001518626742493271,
          0.0015306503397297096,
          0.001358594598346878,
          0.0013281297889295273,
          0.0013792658953949277,
          0.0014272865913267899,
          0.0015327551410025636
         ],
         "yaxis": "y"
        },
        {
         "marker": {
          "color": "#1E88E5",
          "line": {
           "width": 0.5
          }
         },
         "name": "V1 (50 days)",
         "showlegend": true,
         "type": "bar",
         "x": [
          "s_1",
          "s_2",
          "s_3",
          "s_4",
          "s_5",
          "s_6",
          "s_7"
         ],
         "xaxis": "x",
         "y": [
          0.0015685489253771192,
          0.0018529548011382436,
          0.0016403137797516096,
          0.0015869701399039465,
          0.0016358942462532057,
          0.001725398099665704,
          0.0014161486879573778
         ],
         "yaxis": "y"
        },
        {
         "marker": {
          "color": "#FFC107",
          "line": {
           "width": 0.5
          }
         },
         "name": "V3 (6 months)",
         "showlegend": true,
         "type": "bar",
         "x": [
          "s_3",
          "s_4",
          "s_5",
          "s_1",
          "s_2",
          "s_6",
          "s_7"
         ],
         "xaxis": "x",
         "y": [
          0.0013496935593526487,
          0.0014031263045595807,
          0.0014168869055786566,
          0.0013868164662512068,
          0.0015486704168974127,
          0.0013840229319280772,
          0.00140956700930363
         ],
         "yaxis": "y"
        },
        {
         "marker": {
          "color": "#004D40",
          "line": {
           "width": 0.5
          }
         },
         "name": "baseline",
         "showlegend": false,
         "type": "bar",
         "x": [
          "s_11",
          "s_12",
          "s_13",
          "s_14",
          "s_8",
          "s_15",
          "s_16",
          "s_17",
          "s_9",
          "s_10"
         ],
         "xaxis": "x2",
         "y": [
          0.001164963182767337,
          0.0014386484082646457,
          0.0016632016632016633,
          0.0013732726804566132,
          0.0016340306983472182,
          0.00121520745327238,
          0.001488995638242459,
          0.0013751655291840686,
          0.0014781966001478197,
          0.001472600136809303
         ],
         "yaxis": "y2"
        },
        {
         "marker": {
          "color": "#1E88E5",
          "line": {
           "width": 0.5
          }
         },
         "name": "V1 (50 days)",
         "showlegend": false,
         "type": "bar",
         "x": [
          "s_11",
          "s_12",
          "s_13",
          "s_14",
          "s_15",
          "s_16",
          "s_17",
          "s_8",
          "s_9",
          "s_10"
         ],
         "xaxis": "x2",
         "y": [
          0.0015600624024961,
          0.0013729468680042593,
          0.002237521514629948,
          0.001689572731765303,
          0.0015972276000929297,
          0.0016299365003905055,
          0.0014335897744558379,
          0.0015325670498084292,
          0.0015839579353026667,
          0.0013817142677699445
         ],
         "yaxis": "y2"
        },
        {
         "marker": {
          "color": "#FFC107",
          "line": {
           "width": 0.5
          }
         },
         "name": "V3 (6 months)",
         "showlegend": false,
         "type": "bar",
         "x": [
          "s_11",
          "s_12",
          "s_13",
          "s_14",
          "s_15",
          "s_16",
          "s_17",
          "s_8",
          "s_9",
          "s_10"
         ],
         "xaxis": "x2",
         "y": [
          0.001542468652741494,
          0.0014326152996409832,
          0.002038656055200533,
          0.0015391169316604598,
          0.0015319267460483254,
          0.001591085576510581,
          0.0013595720821300624,
          0.0013941088709348683,
          0.0012768351800554016,
          0.001071423400466214
         ],
         "yaxis": "y2"
        }
       ],
       "layout": {
        "annotations": [
         {
          "font": {
           "size": 16
          },
          "showarrow": false,
          "text": "Healthy controls",
          "x": 0.225,
          "xanchor": "center",
          "xref": "paper",
          "y": 1,
          "yanchor": "bottom",
          "yref": "paper"
         },
         {
          "font": {
           "size": 16
          },
          "showarrow": false,
          "text": "Lymphoma patients",
          "x": 0.775,
          "xanchor": "center",
          "xref": "paper",
          "y": 1,
          "yanchor": "bottom",
          "yref": "paper"
         }
        ],
        "bargap": 0.1,
        "barmode": "group",
        "font": {
         "family": "JetBrains Mono",
         "size": 12
        },
        "height": 600,
        "legend": {
         "title": {
          "text": "Timepoints"
         }
        },
        "template": {
         "data": {
          "bar": [
           {
            "error_x": {
             "color": "#2a3f5f"
            },
            "error_y": {
             "color": "#2a3f5f"
            },
            "marker": {
             "line": {
              "color": "white",
              "width": 0.5
             },
             "pattern": {
              "fillmode": "overlay",
              "size": 10,
              "solidity": 0.2
             }
            },
            "type": "bar"
           }
          ],
          "barpolar": [
           {
            "marker": {
             "line": {
              "color": "white",
              "width": 0.5
             },
             "pattern": {
              "fillmode": "overlay",
              "size": 10,
              "solidity": 0.2
             }
            },
            "type": "barpolar"
           }
          ],
          "carpet": [
           {
            "aaxis": {
             "endlinecolor": "#2a3f5f",
             "gridcolor": "#C8D4E3",
             "linecolor": "#C8D4E3",
             "minorgridcolor": "#C8D4E3",
             "startlinecolor": "#2a3f5f"
            },
            "baxis": {
             "endlinecolor": "#2a3f5f",
             "gridcolor": "#C8D4E3",
             "linecolor": "#C8D4E3",
             "minorgridcolor": "#C8D4E3",
             "startlinecolor": "#2a3f5f"
            },
            "type": "carpet"
           }
          ],
          "choropleth": [
           {
            "colorbar": {
             "outlinewidth": 0,
             "ticks": ""
            },
            "type": "choropleth"
           }
          ],
          "contour": [
           {
            "colorbar": {
             "outlinewidth": 0,
             "ticks": ""
            },
            "colorscale": [
             [
              0,
              "#0d0887"
             ],
             [
              0.1111111111111111,
              "#46039f"
             ],
             [
              0.2222222222222222,
              "#7201a8"
             ],
             [
              0.3333333333333333,
              "#9c179e"
             ],
             [
              0.4444444444444444,
              "#bd3786"
             ],
             [
              0.5555555555555556,
              "#d8576b"
             ],
             [
              0.6666666666666666,
              "#ed7953"
             ],
             [
              0.7777777777777778,
              "#fb9f3a"
             ],
             [
              0.8888888888888888,
              "#fdca26"
             ],
             [
              1,
              "#f0f921"
             ]
            ],
            "type": "contour"
           }
          ],
          "contourcarpet": [
           {
            "colorbar": {
             "outlinewidth": 0,
             "ticks": ""
            },
            "type": "contourcarpet"
           }
          ],
          "heatmap": [
           {
            "colorbar": {
             "outlinewidth": 0,
             "ticks": ""
            },
            "colorscale": [
             [
              0,
              "#0d0887"
             ],
             [
              0.1111111111111111,
              "#46039f"
             ],
             [
              0.2222222222222222,
              "#7201a8"
             ],
             [
              0.3333333333333333,
              "#9c179e"
             ],
             [
              0.4444444444444444,
              "#bd3786"
             ],
             [
              0.5555555555555556,
              "#d8576b"
             ],
             [
              0.6666666666666666,
              "#ed7953"
             ],
             [
              0.7777777777777778,
              "#fb9f3a"
             ],
             [
              0.8888888888888888,
              "#fdca26"
             ],
             [
              1,
              "#f0f921"
             ]
            ],
            "type": "heatmap"
           }
          ],
          "heatmapgl": [
           {
            "colorbar": {
             "outlinewidth": 0,
             "ticks": ""
            },
            "colorscale": [
             [
              0,
              "#0d0887"
             ],
             [
              0.1111111111111111,
              "#46039f"
             ],
             [
              0.2222222222222222,
              "#7201a8"
             ],
             [
              0.3333333333333333,
              "#9c179e"
             ],
             [
              0.4444444444444444,
              "#bd3786"
             ],
             [
              0.5555555555555556,
              "#d8576b"
             ],
             [
              0.6666666666666666,
              "#ed7953"
             ],
             [
              0.7777777777777778,
              "#fb9f3a"
             ],
             [
              0.8888888888888888,
              "#fdca26"
             ],
             [
              1,
              "#f0f921"
             ]
            ],
            "type": "heatmapgl"
           }
          ],
          "histogram": [
           {
            "marker": {
             "pattern": {
              "fillmode": "overlay",
              "size": 10,
              "solidity": 0.2
             }
            },
            "type": "histogram"
           }
          ],
          "histogram2d": [
           {
            "colorbar": {
             "outlinewidth": 0,
             "ticks": ""
            },
            "colorscale": [
             [
              0,
              "#0d0887"
             ],
             [
              0.1111111111111111,
              "#46039f"
             ],
             [
              0.2222222222222222,
              "#7201a8"
             ],
             [
              0.3333333333333333,
              "#9c179e"
             ],
             [
              0.4444444444444444,
              "#bd3786"
             ],
             [
              0.5555555555555556,
              "#d8576b"
             ],
             [
              0.6666666666666666,
              "#ed7953"
             ],
             [
              0.7777777777777778,
              "#fb9f3a"
             ],
             [
              0.8888888888888888,
              "#fdca26"
             ],
             [
              1,
              "#f0f921"
             ]
            ],
            "type": "histogram2d"
           }
          ],
          "histogram2dcontour": [
           {
            "colorbar": {
             "outlinewidth": 0,
             "ticks": ""
            },
            "colorscale": [
             [
              0,
              "#0d0887"
             ],
             [
              0.1111111111111111,
              "#46039f"
             ],
             [
              0.2222222222222222,
              "#7201a8"
             ],
             [
              0.3333333333333333,
              "#9c179e"
             ],
             [
              0.4444444444444444,
              "#bd3786"
             ],
             [
              0.5555555555555556,
              "#d8576b"
             ],
             [
              0.6666666666666666,
              "#ed7953"
             ],
             [
              0.7777777777777778,
              "#fb9f3a"
             ],
             [
              0.8888888888888888,
              "#fdca26"
             ],
             [
              1,
              "#f0f921"
             ]
            ],
            "type": "histogram2dcontour"
           }
          ],
          "mesh3d": [
           {
            "colorbar": {
             "outlinewidth": 0,
             "ticks": ""
            },
            "type": "mesh3d"
           }
          ],
          "parcoords": [
           {
            "line": {
             "colorbar": {
              "outlinewidth": 0,
              "ticks": ""
             }
            },
            "type": "parcoords"
           }
          ],
          "pie": [
           {
            "automargin": true,
            "type": "pie"
           }
          ],
          "scatter": [
           {
            "fillpattern": {
             "fillmode": "overlay",
             "size": 10,
             "solidity": 0.2
            },
            "type": "scatter"
           }
          ],
          "scatter3d": [
           {
            "line": {
             "colorbar": {
              "outlinewidth": 0,
              "ticks": ""
             }
            },
            "marker": {
             "colorbar": {
              "outlinewidth": 0,
              "ticks": ""
             }
            },
            "type": "scatter3d"
           }
          ],
          "scattercarpet": [
           {
            "marker": {
             "colorbar": {
              "outlinewidth": 0,
              "ticks": ""
             }
            },
            "type": "scattercarpet"
           }
          ],
          "scattergeo": [
           {
            "marker": {
             "colorbar": {
              "outlinewidth": 0,
              "ticks": ""
             }
            },
            "type": "scattergeo"
           }
          ],
          "scattergl": [
           {
            "marker": {
             "colorbar": {
              "outlinewidth": 0,
              "ticks": ""
             }
            },
            "type": "scattergl"
           }
          ],
          "scattermapbox": [
           {
            "marker": {
             "colorbar": {
              "outlinewidth": 0,
              "ticks": ""
             }
            },
            "type": "scattermapbox"
           }
          ],
          "scatterpolar": [
           {
            "marker": {
             "colorbar": {
              "outlinewidth": 0,
              "ticks": ""
             }
            },
            "type": "scatterpolar"
           }
          ],
          "scatterpolargl": [
           {
            "marker": {
             "colorbar": {
              "outlinewidth": 0,
              "ticks": ""
             }
            },
            "type": "scatterpolargl"
           }
          ],
          "scatterternary": [
           {
            "marker": {
             "colorbar": {
              "outlinewidth": 0,
              "ticks": ""
             }
            },
            "type": "scatterternary"
           }
          ],
          "surface": [
           {
            "colorbar": {
             "outlinewidth": 0,
             "ticks": ""
            },
            "colorscale": [
             [
              0,
              "#0d0887"
             ],
             [
              0.1111111111111111,
              "#46039f"
             ],
             [
              0.2222222222222222,
              "#7201a8"
             ],
             [
              0.3333333333333333,
              "#9c179e"
             ],
             [
              0.4444444444444444,
              "#bd3786"
             ],
             [
              0.5555555555555556,
              "#d8576b"
             ],
             [
              0.6666666666666666,
              "#ed7953"
             ],
             [
              0.7777777777777778,
              "#fb9f3a"
             ],
             [
              0.8888888888888888,
              "#fdca26"
             ],
             [
              1,
              "#f0f921"
             ]
            ],
            "type": "surface"
           }
          ],
          "table": [
           {
            "cells": {
             "fill": {
              "color": "#EBF0F8"
             },
             "line": {
              "color": "white"
             }
            },
            "header": {
             "fill": {
              "color": "#C8D4E3"
             },
             "line": {
              "color": "white"
             }
            },
            "type": "table"
           }
          ]
         },
         "layout": {
          "annotationdefaults": {
           "arrowcolor": "#2a3f5f",
           "arrowhead": 0,
           "arrowwidth": 1
          },
          "autotypenumbers": "strict",
          "coloraxis": {
           "colorbar": {
            "outlinewidth": 0,
            "ticks": ""
           }
          },
          "colorscale": {
           "diverging": [
            [
             0,
             "#8e0152"
            ],
            [
             0.1,
             "#c51b7d"
            ],
            [
             0.2,
             "#de77ae"
            ],
            [
             0.3,
             "#f1b6da"
            ],
            [
             0.4,
             "#fde0ef"
            ],
            [
             0.5,
             "#f7f7f7"
            ],
            [
             0.6,
             "#e6f5d0"
            ],
            [
             0.7,
             "#b8e186"
            ],
            [
             0.8,
             "#7fbc41"
            ],
            [
             0.9,
             "#4d9221"
            ],
            [
             1,
             "#276419"
            ]
           ],
           "sequential": [
            [
             0,
             "#0d0887"
            ],
            [
             0.1111111111111111,
             "#46039f"
            ],
            [
             0.2222222222222222,
             "#7201a8"
            ],
            [
             0.3333333333333333,
             "#9c179e"
            ],
            [
             0.4444444444444444,
             "#bd3786"
            ],
            [
             0.5555555555555556,
             "#d8576b"
            ],
            [
             0.6666666666666666,
             "#ed7953"
            ],
            [
             0.7777777777777778,
             "#fb9f3a"
            ],
            [
             0.8888888888888888,
             "#fdca26"
            ],
            [
             1,
             "#f0f921"
            ]
           ],
           "sequentialminus": [
            [
             0,
             "#0d0887"
            ],
            [
             0.1111111111111111,
             "#46039f"
            ],
            [
             0.2222222222222222,
             "#7201a8"
            ],
            [
             0.3333333333333333,
             "#9c179e"
            ],
            [
             0.4444444444444444,
             "#bd3786"
            ],
            [
             0.5555555555555556,
             "#d8576b"
            ],
            [
             0.6666666666666666,
             "#ed7953"
            ],
            [
             0.7777777777777778,
             "#fb9f3a"
            ],
            [
             0.8888888888888888,
             "#fdca26"
            ],
            [
             1,
             "#f0f921"
            ]
           ]
          },
          "colorway": [
           "#636efa",
           "#EF553B",
           "#00cc96",
           "#ab63fa",
           "#FFA15A",
           "#19d3f3",
           "#FF6692",
           "#B6E880",
           "#FF97FF",
           "#FECB52"
          ],
          "font": {
           "color": "#2a3f5f"
          },
          "geo": {
           "bgcolor": "white",
           "lakecolor": "white",
           "landcolor": "white",
           "showlakes": true,
           "showland": true,
           "subunitcolor": "#C8D4E3"
          },
          "hoverlabel": {
           "align": "left"
          },
          "hovermode": "closest",
          "mapbox": {
           "style": "light"
          },
          "paper_bgcolor": "white",
          "plot_bgcolor": "white",
          "polar": {
           "angularaxis": {
            "gridcolor": "#EBF0F8",
            "linecolor": "#EBF0F8",
            "ticks": ""
           },
           "bgcolor": "white",
           "radialaxis": {
            "gridcolor": "#EBF0F8",
            "linecolor": "#EBF0F8",
            "ticks": ""
           }
          },
          "scene": {
           "xaxis": {
            "backgroundcolor": "white",
            "gridcolor": "#DFE8F3",
            "gridwidth": 2,
            "linecolor": "#EBF0F8",
            "showbackground": true,
            "ticks": "",
            "zerolinecolor": "#EBF0F8"
           },
           "yaxis": {
            "backgroundcolor": "white",
            "gridcolor": "#DFE8F3",
            "gridwidth": 2,
            "linecolor": "#EBF0F8",
            "showbackground": true,
            "ticks": "",
            "zerolinecolor": "#EBF0F8"
           },
           "zaxis": {
            "backgroundcolor": "white",
            "gridcolor": "#DFE8F3",
            "gridwidth": 2,
            "linecolor": "#EBF0F8",
            "showbackground": true,
            "ticks": "",
            "zerolinecolor": "#EBF0F8"
           }
          },
          "shapedefaults": {
           "line": {
            "color": "#2a3f5f"
           }
          },
          "ternary": {
           "aaxis": {
            "gridcolor": "#DFE8F3",
            "linecolor": "#A2B1C6",
            "ticks": ""
           },
           "baxis": {
            "gridcolor": "#DFE8F3",
            "linecolor": "#A2B1C6",
            "ticks": ""
           },
           "bgcolor": "white",
           "caxis": {
            "gridcolor": "#DFE8F3",
            "linecolor": "#A2B1C6",
            "ticks": ""
           }
          },
          "title": {
           "x": 0.05
          },
          "xaxis": {
           "automargin": true,
           "gridcolor": "#EBF0F8",
           "linecolor": "#EBF0F8",
           "ticks": "",
           "title": {
            "standoff": 15
           },
           "zerolinecolor": "#EBF0F8",
           "zerolinewidth": 2
          },
          "yaxis": {
           "automargin": true,
           "gridcolor": "#EBF0F8",
           "linecolor": "#EBF0F8",
           "ticks": "",
           "title": {
            "standoff": 15
           },
           "zerolinecolor": "#EBF0F8",
           "zerolinewidth": 2
          }
         }
        },
        "title": {
         "text": "Ratio of clonotypes predicted to be specific to SARS-CoV-2 spike"
        },
        "width": 1200,
        "xaxis": {
         "anchor": "y",
         "domain": [
          0,
          0.45
         ],
         "showgrid": true,
         "tickangle": 45,
         "title": {
          "text": "Sample"
         }
        },
        "xaxis2": {
         "anchor": "y2",
         "domain": [
          0.55,
          1
         ],
         "showgrid": true,
         "tickangle": 45,
         "title": {
          "text": "Sample"
         }
        },
        "yaxis": {
         "anchor": "x",
         "domain": [
          0,
          1
         ],
         "showgrid": false,
         "tickangle": 45,
         "title": {
          "text": "Viral Ratio"
         }
        },
        "yaxis2": {
         "anchor": "x2",
         "domain": [
          0,
          1
         ],
         "matches": "y",
         "showgrid": false,
         "showticklabels": false,
         "tickangle": 45,
         "title": {
          "text": "Viral Ratio"
         }
        }
       }
      }
     },
     "metadata": {},
     "output_type": "display_data"
    }
   ],
   "source": [
    "plotting.plot_covid_ratio(covid_data, PLOTSDIR)"
   ]
  },
  {
   "cell_type": "markdown",
   "metadata": {},
   "source": [
    "## Proportion of TCR sequences that recognize different antigens in COVID-19 patients "
   ]
  },
  {
   "cell_type": "code",
   "execution_count": null,
   "metadata": {},
   "outputs": [
    {
     "data": {
      "application/vnd.microsoft.datawrangler.viewer.v0+json": {
       "columns": [
        {
         "name": "index",
         "rawType": "int64",
         "type": "integer"
        },
        {
         "name": "sample_id",
         "rawType": "object",
         "type": "string"
        },
        {
         "name": "countUniqueClonotypes",
         "rawType": "int64",
         "type": "integer"
        },
        {
         "name": "CODICE",
         "rawType": "float64",
         "type": "float"
        },
        {
         "name": "CONDITION",
         "rawType": "object",
         "type": "string"
        },
        {
         "name": "TIMEPOINTS",
         "rawType": "object",
         "type": "string"
        },
        {
         "name": "SAMPLE",
         "rawType": "object",
         "type": "string"
        },
        {
         "name": "SEX",
         "rawType": "object",
         "type": "string"
        },
        {
         "name": "AGE",
         "rawType": "int64",
         "type": "integer"
        },
        {
         "name": "AB_TITER",
         "rawType": "float64",
         "type": "float"
        },
        {
         "name": "Tipo di linfoma",
         "rawType": "object",
         "type": "string"
        },
        {
         "name": "Grado",
         "rawType": "object",
         "type": "string"
        },
        {
         "name": "Stadio",
         "rawType": "object",
         "type": "unknown"
        },
        {
         "name": "Data di morte",
         "rawType": "object",
         "type": "unknown"
        },
        {
         "name": "Data di progressione di malattia",
         "rawType": "object",
         "type": "unknown"
        },
        {
         "name": "Trattamento al momento della vaccinazione",
         "rawType": "object",
         "type": "string"
        },
        {
         "name": "Tipo di mutazione",
         "rawType": "object",
         "type": "string"
        }
       ],
       "ref": "a8c4a62b-2408-4b0c-804a-c36a66ce0a89",
       "rows": [
        [
         "0",
         "10L",
         "45495",
         "676.0",
         "Lymphoma patients",
         "baseline",
         "s_11",
         "F",
         "80",
         "3.8",
         "LNH",
         "-",
         "4",
         "45108",
         "44883",
         "Non in trattamento alla vaccinazione prima rituximab dal 2020 al 02/2021 poi rituximab-bendamustina dal 21/11/22 ",
         "-"
        ],
        [
         "1",
         "11L",
         "121149",
         null,
         "Lymphoma patients",
         "V1 (50 days)",
         "s_11",
         "F",
         "80",
         "5.1",
         "LNH",
         "-",
         "4",
         "45108",
         "44883",
         "Non in trattamento alla vaccinazione prima rituximab dal 2020 al 02/2021 poi rituximab-bendamustina dal 21/11/22 ",
         "-"
        ],
        [
         "2",
         "12L",
         "256083",
         null,
         "Lymphoma patients",
         "V3 (6 months)",
         "s_11",
         "F",
         "80",
         "3.8",
         "LNH",
         "-",
         "4",
         "45108",
         "44883",
         "Non in trattamento alla vaccinazione prima rituximab dal 2020 al 02/2021 poi rituximab-bendamustina dal 21/11/22 ",
         "-"
        ],
        [
         "3",
         "13L",
         "243979",
         "674.0",
         "Lymphoma patients",
         "baseline",
         "s_12",
         "F",
         "68",
         "3.8",
         "LNH",
         "G3A",
         "-",
         "-",
         "-",
         "rituximab",
         "Positivo il riarrangiamento con IgH"
        ],
        [
         "4",
         "14L",
         "477076",
         null,
         "Lymphoma patients",
         "V1 (50 days)",
         "s_12",
         "F",
         "68",
         "3.8",
         "LNH",
         "G3A",
         "-",
         "-",
         "-",
         "rituximab",
         "Positivo il riarrangiamento con IgH"
        ],
        [
         "5",
         "15L",
         "231744",
         null,
         "Lymphoma patients",
         "V3 (6 months)",
         "s_12",
         "F",
         "68",
         "3.8",
         "LNH",
         "G3A",
         "-",
         "-",
         "-",
         "rituximab",
         "Positivo il riarrangiamento con IgH"
        ],
        [
         "6",
         "16L",
         "19240",
         "678.0",
         "Lymphoma patients",
         "baseline",
         "s_13",
         "F",
         "55",
         "3.8",
         "LNH",
         "-",
         "-",
         "-",
         "-",
         "R-bendamustin prima nel 2020",
         "-"
        ],
        [
         "7",
         "17L",
         "34860",
         null,
         "Lymphoma patients",
         "V1 (50 days)",
         "s_13",
         "F",
         "55",
         "3.8",
         "LNH",
         "-",
         "-",
         "-",
         "-",
         "R-bendamustin prima nel 2020",
         "-"
        ],
        [
         "8",
         "18L",
         "25507",
         null,
         "Lymphoma patients",
         "V3 (6 months)",
         "s_13",
         "F",
         "55",
         "3.8",
         "LNH",
         "-",
         "-",
         "-",
         "-",
         "R-bendamustin prima nel 2020",
         "-"
        ],
        [
         "9",
         "19L",
         "11651",
         "683.0",
         "Lymphoma patients",
         "baseline",
         "s_14",
         "F",
         "75",
         "3.8",
         "LNH (DLBCL)",
         "-",
         "4",
         "-",
         "-",
         "R-COMP prima del vaccino",
         "-"
        ],
        [
         "10",
         "1L",
         "111993",
         "633.0",
         "Lymphoma patients",
         "baseline",
         "s_8",
         "F",
         "61",
         "3.8",
         "LNH",
         "G3A",
         "4",
         "-",
         "45124",
         "R-CHOP",
         "-"
        ],
        [
         "11",
         "20L",
         "149742",
         null,
         "Lymphoma patients",
         "V1 (50 days)",
         "s_14",
         "F",
         "75",
         "3.8",
         "LNH (DLBCL)",
         "-",
         "4",
         "-",
         "-",
         "R-COMP prima del vaccino",
         "-"
        ],
        [
         "12",
         "21L",
         "145538",
         null,
         "Lymphoma patients",
         "V3 (6 months)",
         "s_14",
         "F",
         "75",
         "3.8",
         "LNH (DLBCL)",
         "-",
         "4",
         "-",
         "-",
         "R-COMP prima del vaccino",
         "-"
        ],
        [
         "13",
         "22L",
         "51843",
         "687.0",
         "Lymphoma patients",
         "baseline",
         "s_15",
         "F",
         "74",
         "3.8",
         "LNH",
         "G1-2",
         "4",
         "-",
         "-",
         "R-bendamustina",
         "-"
        ],
        [
         "14",
         "23L",
         "103304",
         null,
         "Lymphoma patients",
         "V1 (50 days)",
         "s_15",
         "F",
         "74",
         "3.8",
         "LNH",
         "G1-2",
         "4",
         "-",
         "-",
         "R-bendamustina",
         "-"
        ],
        [
         "15",
         "24L",
         "43083",
         null,
         "Lymphoma patients",
         "V3 (6 months)",
         "s_15",
         "F",
         "74",
         "3.8",
         "LNH",
         "G1-2",
         "4",
         "-",
         "-",
         "R-bendamustina",
         "-"
        ],
        [
         "16",
         "25L",
         "190061",
         "670.0",
         "Lymphoma patients",
         "baseline",
         "s_16",
         "F",
         "60",
         "3.8",
         "LNH",
         "G3A",
         "2A",
         "-",
         "-",
         "Duvelisib",
         "-"
        ],
        [
         "17",
         "26L",
         "147245",
         null,
         "Lymphoma patients",
         "V1 (50 days)",
         "s_16",
         "F",
         "60",
         "3.8",
         "LNH",
         "G3A",
         "2A",
         "-",
         "-",
         "Duvelisib",
         "-"
        ],
        [
         "18",
         "27L",
         "184151",
         null,
         "Lymphoma patients",
         "V3 (6 months)",
         "s_16",
         "F",
         "60",
         "3.8",
         "LNH",
         "G3A",
         "2A",
         "-",
         "-",
         "Duvelisib",
         "-"
        ],
        [
         "19",
         "28L",
         "19634",
         "654.0",
         "Lymphoma patients",
         "baseline",
         "s_17",
         "M",
         "77",
         "3.8",
         "LNH",
         "G3A",
         "4",
         "-",
         "-",
         "R-COMP + R-bendamustina",
         "-"
        ],
        [
         "20",
         "29L",
         "91379",
         null,
         "Lymphoma patients",
         "V1 (50 days)",
         "s_17",
         "M",
         "77",
         "5.0",
         "LNH",
         "G3A",
         "4",
         "-",
         "-",
         "R-COMP + R-bendamustina",
         "-"
        ],
        [
         "21",
         "2L",
         "103095",
         null,
         "Lymphoma patients",
         "V1 (50 days)",
         "s_8",
         "F",
         "61",
         "3.8",
         "LNH",
         "G3A",
         "4",
         "-",
         "45124",
         "R-CHOP",
         "-"
        ],
        [
         "22",
         "30L",
         "100767",
         null,
         "Lymphoma patients",
         "V3 (6 months)",
         "s_17",
         "M",
         "77",
         "3.8",
         "LNH",
         "G3A",
         "4",
         "-",
         "-",
         "R-COMP + R-bendamustina",
         "-"
        ],
        [
         "23",
         "39465",
         "95481",
         null,
         "Healthy controls",
         "baseline",
         "s_4",
         "M",
         "36",
         "3.8",
         "-",
         "-",
         "-",
         "-",
         "-",
         "-",
         "-"
        ],
        [
         "24",
         "39498",
         "214288",
         null,
         "Healthy controls",
         "baseline",
         "s_2",
         "F",
         "37",
         "3.8",
         "-",
         "-",
         "-",
         "-",
         "-",
         "-",
         "-"
        ],
        [
         "25",
         "39521",
         "201679",
         null,
         "Healthy controls",
         "baseline",
         "s_3",
         "F",
         "31",
         "3.8",
         "-",
         "-",
         "-",
         "-",
         "-",
         "-",
         "-"
        ],
        [
         "26",
         "39617",
         "97882",
         null,
         "Healthy controls",
         "baseline",
         "s_5",
         "F",
         "55",
         "3.8",
         "-",
         "-",
         "-",
         "-",
         "-",
         "-",
         "-"
        ],
        [
         "27",
         "39670",
         "155155",
         null,
         "Healthy controls",
         "baseline",
         "s_7",
         "F",
         "39",
         "3.8",
         "-",
         "-",
         "-",
         "-",
         "-",
         "-",
         "-"
        ],
        [
         "28",
         "39678",
         "102292",
         null,
         "Healthy controls",
         "baseline",
         "s_6",
         "F",
         "40",
         "4.0",
         "-",
         "-",
         "-",
         "-",
         "-",
         "-",
         "-"
        ],
        [
         "29",
         "39700",
         "183330",
         null,
         "Healthy controls",
         "baseline",
         "s_1",
         "F",
         "46",
         "60.1",
         "-",
         "-",
         "-",
         "-",
         "-",
         "-",
         "-"
        ],
        [
         "30",
         "3L",
         "245318",
         null,
         "Lymphoma patients",
         "V3 (6 months)",
         "s_8",
         "F",
         "61",
         "3.8",
         "LNH",
         "G3A",
         "4",
         "-",
         "45124",
         "R-CHOP",
         "-"
        ],
        [
         "31",
         "4L",
         "18942",
         "667.0",
         "Lymphoma patients",
         "baseline",
         "s_9",
         "M",
         "56",
         "3.8",
         "LNH",
         "G3A",
         "4",
         "-",
         "-",
         "R-Bendamustina",
         "-"
        ],
        [
         "32",
         "5L",
         "61239",
         null,
         "Lymphoma patients",
         "V1 (50 days)",
         "s_9",
         "M",
         "56",
         "3.8",
         "LNH",
         "G3A",
         "4",
         "-",
         "-",
         "R-Bendamustina",
         "-"
        ],
        [
         "33",
         "6L",
         "46208",
         null,
         "Lymphoma patients",
         "V3 (6 months)",
         "s_9",
         "M",
         "56",
         "3.8",
         "LNH",
         "G3A",
         "4",
         "-",
         "-",
         "R-Bendamustina",
         "-"
        ],
        [
         "34",
         "7L",
         "105256",
         "668.0",
         "Lymphoma patients",
         "baseline",
         "s_10",
         "F",
         "76",
         "8.7",
         "LNH",
         "G2B",
         "4",
         "-",
         "-",
         "R-COMP",
         "MYC (8q24)"
        ],
        [
         "35",
         "8L",
         "63689",
         null,
         "Lymphoma patients",
         "V1 (50 days)",
         "s_10",
         "F",
         "76",
         "9.9",
         "LNH",
         "G2B",
         "4",
         "-",
         "-",
         "R-COMP",
         "MYC (8q24)"
        ],
        [
         "36",
         "9L",
         "69067",
         null,
         "Lymphoma patients",
         "V3 (6 months)",
         "s_10",
         "F",
         "76",
         "10.5",
         "LNH",
         "G2B",
         "4",
         "-",
         "-",
         "R-COMP",
         "MYC (8q24)"
        ],
        [
         "37",
         "A1",
         "89892",
         null,
         "Healthy controls",
         "V1 (50 days)",
         "s_1",
         "F",
         "46",
         "400.0",
         "-",
         "-",
         "-",
         "-",
         "-",
         "-",
         "-"
        ],
        [
         "38",
         "A10",
         "398609",
         null,
         "Healthy controls",
         "V3 (6 months)",
         "s_3",
         "F",
         "31",
         "288.0",
         "-",
         "-",
         "-",
         "-",
         "-",
         "-",
         "-"
        ],
        [
         "39",
         "A11",
         "431180",
         null,
         "Healthy controls",
         "V3 (6 months)",
         "s_4",
         "M",
         "36",
         "178.0",
         "-",
         "-",
         "-",
         "-",
         "-",
         "-",
         "-"
        ],
        [
         "40",
         "A12",
         "335242",
         null,
         "Healthy controls",
         "V3 (6 months)",
         "s_5",
         "F",
         "55",
         "337.0",
         "-",
         "-",
         "-",
         "-",
         "-",
         "-",
         "-"
        ],
        [
         "41",
         "A2",
         "75555",
         null,
         "Healthy controls",
         "V1 (50 days)",
         "s_2",
         "F",
         "37",
         "325.0",
         "-",
         "-",
         "-",
         "-",
         "-",
         "-",
         "-"
        ],
        [
         "42",
         "A3",
         "89617",
         null,
         "Healthy controls",
         "V1 (50 days)",
         "s_3",
         "F",
         "31",
         "304.0",
         "-",
         "-",
         "-",
         "-",
         "-",
         "-",
         "-"
        ],
        [
         "43",
         "A4",
         "95780",
         null,
         "Healthy controls",
         "V1 (50 days)",
         "s_4",
         "M",
         "36",
         "236.0",
         "-",
         "-",
         "-",
         "-",
         "-",
         "-",
         "-"
        ],
        [
         "44",
         "A5",
         "117367",
         null,
         "Healthy controls",
         "V1 (50 days)",
         "s_5",
         "F",
         "55",
         "368.0",
         "-",
         "-",
         "-",
         "-",
         "-",
         "-",
         "-"
        ],
        [
         "45",
         "A6",
         "83459",
         null,
         "Healthy controls",
         "V1 (50 days)",
         "s_6",
         "F",
         "40",
         "338.0",
         "-",
         "-",
         "-",
         "-",
         "-",
         "-",
         "-"
        ],
        [
         "46",
         "A7",
         "130636",
         null,
         "Healthy controls",
         "V1 (50 days)",
         "s_7",
         "F",
         "39",
         "251.0",
         "-",
         "-",
         "-",
         "-",
         "-",
         "-",
         "-"
        ],
        [
         "47",
         "A8",
         "227860",
         null,
         "Healthy controls",
         "V3 (6 months)",
         "s_1",
         "F",
         "46",
         "330.0",
         "-",
         "-",
         "-",
         "-",
         "-",
         "-",
         "-"
        ],
        [
         "48",
         "A9",
         "514635",
         null,
         "Healthy controls",
         "V3 (6 months)",
         "s_2",
         "F",
         "37",
         "147.0",
         "-",
         "-",
         "-",
         "-",
         "-",
         "-",
         "-"
        ],
        [
         "49",
         "B1",
         "345370",
         null,
         "Healthy controls",
         "V3 (6 months)",
         "s_6",
         "F",
         "40",
         "129.0",
         "-",
         "-",
         "-",
         "-",
         "-",
         "-",
         "-"
        ]
       ],
       "shape": {
        "columns": 16,
        "rows": 51
       }
      },
      "text/html": [
       "<div>\n",
       "<style scoped>\n",
       "    .dataframe tbody tr th:only-of-type {\n",
       "        vertical-align: middle;\n",
       "    }\n",
       "\n",
       "    .dataframe tbody tr th {\n",
       "        vertical-align: top;\n",
       "    }\n",
       "\n",
       "    .dataframe thead th {\n",
       "        text-align: right;\n",
       "    }\n",
       "</style>\n",
       "<table border=\"1\" class=\"dataframe\">\n",
       "  <thead>\n",
       "    <tr style=\"text-align: right;\">\n",
       "      <th></th>\n",
       "      <th>sample_id</th>\n",
       "      <th>countUniqueClonotypes</th>\n",
       "      <th>CODICE</th>\n",
       "      <th>CONDITION</th>\n",
       "      <th>TIMEPOINTS</th>\n",
       "      <th>SAMPLE</th>\n",
       "      <th>SEX</th>\n",
       "      <th>AGE</th>\n",
       "      <th>AB_TITER</th>\n",
       "      <th>Tipo di linfoma</th>\n",
       "      <th>Grado</th>\n",
       "      <th>Stadio</th>\n",
       "      <th>Data di morte</th>\n",
       "      <th>Data di progressione di malattia</th>\n",
       "      <th>Trattamento al momento della vaccinazione</th>\n",
       "      <th>Tipo di mutazione</th>\n",
       "    </tr>\n",
       "  </thead>\n",
       "  <tbody>\n",
       "    <tr>\n",
       "      <th>0</th>\n",
       "      <td>10L</td>\n",
       "      <td>45495</td>\n",
       "      <td>676.0</td>\n",
       "      <td>Lymphoma patients</td>\n",
       "      <td>baseline</td>\n",
       "      <td>s_11</td>\n",
       "      <td>F</td>\n",
       "      <td>80</td>\n",
       "      <td>3.8</td>\n",
       "      <td>LNH</td>\n",
       "      <td>-</td>\n",
       "      <td>4</td>\n",
       "      <td>45108</td>\n",
       "      <td>44883</td>\n",
       "      <td>Non in trattamento alla vaccinazione prima rit...</td>\n",
       "      <td>-</td>\n",
       "    </tr>\n",
       "    <tr>\n",
       "      <th>1</th>\n",
       "      <td>11L</td>\n",
       "      <td>121149</td>\n",
       "      <td>NaN</td>\n",
       "      <td>Lymphoma patients</td>\n",
       "      <td>V1 (50 days)</td>\n",
       "      <td>s_11</td>\n",
       "      <td>F</td>\n",
       "      <td>80</td>\n",
       "      <td>5.1</td>\n",
       "      <td>LNH</td>\n",
       "      <td>-</td>\n",
       "      <td>4</td>\n",
       "      <td>45108</td>\n",
       "      <td>44883</td>\n",
       "      <td>Non in trattamento alla vaccinazione prima rit...</td>\n",
       "      <td>-</td>\n",
       "    </tr>\n",
       "    <tr>\n",
       "      <th>2</th>\n",
       "      <td>12L</td>\n",
       "      <td>256083</td>\n",
       "      <td>NaN</td>\n",
       "      <td>Lymphoma patients</td>\n",
       "      <td>V3 (6 months)</td>\n",
       "      <td>s_11</td>\n",
       "      <td>F</td>\n",
       "      <td>80</td>\n",
       "      <td>3.8</td>\n",
       "      <td>LNH</td>\n",
       "      <td>-</td>\n",
       "      <td>4</td>\n",
       "      <td>45108</td>\n",
       "      <td>44883</td>\n",
       "      <td>Non in trattamento alla vaccinazione prima rit...</td>\n",
       "      <td>-</td>\n",
       "    </tr>\n",
       "    <tr>\n",
       "      <th>3</th>\n",
       "      <td>13L</td>\n",
       "      <td>243979</td>\n",
       "      <td>674.0</td>\n",
       "      <td>Lymphoma patients</td>\n",
       "      <td>baseline</td>\n",
       "      <td>s_12</td>\n",
       "      <td>F</td>\n",
       "      <td>68</td>\n",
       "      <td>3.8</td>\n",
       "      <td>LNH</td>\n",
       "      <td>G3A</td>\n",
       "      <td>-</td>\n",
       "      <td>-</td>\n",
       "      <td>-</td>\n",
       "      <td>rituximab</td>\n",
       "      <td>Positivo il riarrangiamento con IgH</td>\n",
       "    </tr>\n",
       "    <tr>\n",
       "      <th>4</th>\n",
       "      <td>14L</td>\n",
       "      <td>477076</td>\n",
       "      <td>NaN</td>\n",
       "      <td>Lymphoma patients</td>\n",
       "      <td>V1 (50 days)</td>\n",
       "      <td>s_12</td>\n",
       "      <td>F</td>\n",
       "      <td>68</td>\n",
       "      <td>3.8</td>\n",
       "      <td>LNH</td>\n",
       "      <td>G3A</td>\n",
       "      <td>-</td>\n",
       "      <td>-</td>\n",
       "      <td>-</td>\n",
       "      <td>rituximab</td>\n",
       "      <td>Positivo il riarrangiamento con IgH</td>\n",
       "    </tr>\n",
       "    <tr>\n",
       "      <th>5</th>\n",
       "      <td>15L</td>\n",
       "      <td>231744</td>\n",
       "      <td>NaN</td>\n",
       "      <td>Lymphoma patients</td>\n",
       "      <td>V3 (6 months)</td>\n",
       "      <td>s_12</td>\n",
       "      <td>F</td>\n",
       "      <td>68</td>\n",
       "      <td>3.8</td>\n",
       "      <td>LNH</td>\n",
       "      <td>G3A</td>\n",
       "      <td>-</td>\n",
       "      <td>-</td>\n",
       "      <td>-</td>\n",
       "      <td>rituximab</td>\n",
       "      <td>Positivo il riarrangiamento con IgH</td>\n",
       "    </tr>\n",
       "    <tr>\n",
       "      <th>6</th>\n",
       "      <td>16L</td>\n",
       "      <td>19240</td>\n",
       "      <td>678.0</td>\n",
       "      <td>Lymphoma patients</td>\n",
       "      <td>baseline</td>\n",
       "      <td>s_13</td>\n",
       "      <td>F</td>\n",
       "      <td>55</td>\n",
       "      <td>3.8</td>\n",
       "      <td>LNH</td>\n",
       "      <td>-</td>\n",
       "      <td>-</td>\n",
       "      <td>-</td>\n",
       "      <td>-</td>\n",
       "      <td>R-bendamustin prima nel 2020</td>\n",
       "      <td>-</td>\n",
       "    </tr>\n",
       "    <tr>\n",
       "      <th>7</th>\n",
       "      <td>17L</td>\n",
       "      <td>34860</td>\n",
       "      <td>NaN</td>\n",
       "      <td>Lymphoma patients</td>\n",
       "      <td>V1 (50 days)</td>\n",
       "      <td>s_13</td>\n",
       "      <td>F</td>\n",
       "      <td>55</td>\n",
       "      <td>3.8</td>\n",
       "      <td>LNH</td>\n",
       "      <td>-</td>\n",
       "      <td>-</td>\n",
       "      <td>-</td>\n",
       "      <td>-</td>\n",
       "      <td>R-bendamustin prima nel 2020</td>\n",
       "      <td>-</td>\n",
       "    </tr>\n",
       "    <tr>\n",
       "      <th>8</th>\n",
       "      <td>18L</td>\n",
       "      <td>25507</td>\n",
       "      <td>NaN</td>\n",
       "      <td>Lymphoma patients</td>\n",
       "      <td>V3 (6 months)</td>\n",
       "      <td>s_13</td>\n",
       "      <td>F</td>\n",
       "      <td>55</td>\n",
       "      <td>3.8</td>\n",
       "      <td>LNH</td>\n",
       "      <td>-</td>\n",
       "      <td>-</td>\n",
       "      <td>-</td>\n",
       "      <td>-</td>\n",
       "      <td>R-bendamustin prima nel 2020</td>\n",
       "      <td>-</td>\n",
       "    </tr>\n",
       "    <tr>\n",
       "      <th>9</th>\n",
       "      <td>19L</td>\n",
       "      <td>11651</td>\n",
       "      <td>683.0</td>\n",
       "      <td>Lymphoma patients</td>\n",
       "      <td>baseline</td>\n",
       "      <td>s_14</td>\n",
       "      <td>F</td>\n",
       "      <td>75</td>\n",
       "      <td>3.8</td>\n",
       "      <td>LNH (DLBCL)</td>\n",
       "      <td>-</td>\n",
       "      <td>4</td>\n",
       "      <td>-</td>\n",
       "      <td>-</td>\n",
       "      <td>R-COMP prima del vaccino</td>\n",
       "      <td>-</td>\n",
       "    </tr>\n",
       "    <tr>\n",
       "      <th>10</th>\n",
       "      <td>1L</td>\n",
       "      <td>111993</td>\n",
       "      <td>633.0</td>\n",
       "      <td>Lymphoma patients</td>\n",
       "      <td>baseline</td>\n",
       "      <td>s_8</td>\n",
       "      <td>F</td>\n",
       "      <td>61</td>\n",
       "      <td>3.8</td>\n",
       "      <td>LNH</td>\n",
       "      <td>G3A</td>\n",
       "      <td>4</td>\n",
       "      <td>-</td>\n",
       "      <td>45124</td>\n",
       "      <td>R-CHOP</td>\n",
       "      <td>-</td>\n",
       "    </tr>\n",
       "    <tr>\n",
       "      <th>11</th>\n",
       "      <td>20L</td>\n",
       "      <td>149742</td>\n",
       "      <td>NaN</td>\n",
       "      <td>Lymphoma patients</td>\n",
       "      <td>V1 (50 days)</td>\n",
       "      <td>s_14</td>\n",
       "      <td>F</td>\n",
       "      <td>75</td>\n",
       "      <td>3.8</td>\n",
       "      <td>LNH (DLBCL)</td>\n",
       "      <td>-</td>\n",
       "      <td>4</td>\n",
       "      <td>-</td>\n",
       "      <td>-</td>\n",
       "      <td>R-COMP prima del vaccino</td>\n",
       "      <td>-</td>\n",
       "    </tr>\n",
       "    <tr>\n",
       "      <th>12</th>\n",
       "      <td>21L</td>\n",
       "      <td>145538</td>\n",
       "      <td>NaN</td>\n",
       "      <td>Lymphoma patients</td>\n",
       "      <td>V3 (6 months)</td>\n",
       "      <td>s_14</td>\n",
       "      <td>F</td>\n",
       "      <td>75</td>\n",
       "      <td>3.8</td>\n",
       "      <td>LNH (DLBCL)</td>\n",
       "      <td>-</td>\n",
       "      <td>4</td>\n",
       "      <td>-</td>\n",
       "      <td>-</td>\n",
       "      <td>R-COMP prima del vaccino</td>\n",
       "      <td>-</td>\n",
       "    </tr>\n",
       "    <tr>\n",
       "      <th>13</th>\n",
       "      <td>22L</td>\n",
       "      <td>51843</td>\n",
       "      <td>687.0</td>\n",
       "      <td>Lymphoma patients</td>\n",
       "      <td>baseline</td>\n",
       "      <td>s_15</td>\n",
       "      <td>F</td>\n",
       "      <td>74</td>\n",
       "      <td>3.8</td>\n",
       "      <td>LNH</td>\n",
       "      <td>G1-2</td>\n",
       "      <td>4</td>\n",
       "      <td>-</td>\n",
       "      <td>-</td>\n",
       "      <td>R-bendamustina</td>\n",
       "      <td>-</td>\n",
       "    </tr>\n",
       "    <tr>\n",
       "      <th>14</th>\n",
       "      <td>23L</td>\n",
       "      <td>103304</td>\n",
       "      <td>NaN</td>\n",
       "      <td>Lymphoma patients</td>\n",
       "      <td>V1 (50 days)</td>\n",
       "      <td>s_15</td>\n",
       "      <td>F</td>\n",
       "      <td>74</td>\n",
       "      <td>3.8</td>\n",
       "      <td>LNH</td>\n",
       "      <td>G1-2</td>\n",
       "      <td>4</td>\n",
       "      <td>-</td>\n",
       "      <td>-</td>\n",
       "      <td>R-bendamustina</td>\n",
       "      <td>-</td>\n",
       "    </tr>\n",
       "    <tr>\n",
       "      <th>15</th>\n",
       "      <td>24L</td>\n",
       "      <td>43083</td>\n",
       "      <td>NaN</td>\n",
       "      <td>Lymphoma patients</td>\n",
       "      <td>V3 (6 months)</td>\n",
       "      <td>s_15</td>\n",
       "      <td>F</td>\n",
       "      <td>74</td>\n",
       "      <td>3.8</td>\n",
       "      <td>LNH</td>\n",
       "      <td>G1-2</td>\n",
       "      <td>4</td>\n",
       "      <td>-</td>\n",
       "      <td>-</td>\n",
       "      <td>R-bendamustina</td>\n",
       "      <td>-</td>\n",
       "    </tr>\n",
       "    <tr>\n",
       "      <th>16</th>\n",
       "      <td>25L</td>\n",
       "      <td>190061</td>\n",
       "      <td>670.0</td>\n",
       "      <td>Lymphoma patients</td>\n",
       "      <td>baseline</td>\n",
       "      <td>s_16</td>\n",
       "      <td>F</td>\n",
       "      <td>60</td>\n",
       "      <td>3.8</td>\n",
       "      <td>LNH</td>\n",
       "      <td>G3A</td>\n",
       "      <td>2A</td>\n",
       "      <td>-</td>\n",
       "      <td>-</td>\n",
       "      <td>Duvelisib</td>\n",
       "      <td>-</td>\n",
       "    </tr>\n",
       "    <tr>\n",
       "      <th>17</th>\n",
       "      <td>26L</td>\n",
       "      <td>147245</td>\n",
       "      <td>NaN</td>\n",
       "      <td>Lymphoma patients</td>\n",
       "      <td>V1 (50 days)</td>\n",
       "      <td>s_16</td>\n",
       "      <td>F</td>\n",
       "      <td>60</td>\n",
       "      <td>3.8</td>\n",
       "      <td>LNH</td>\n",
       "      <td>G3A</td>\n",
       "      <td>2A</td>\n",
       "      <td>-</td>\n",
       "      <td>-</td>\n",
       "      <td>Duvelisib</td>\n",
       "      <td>-</td>\n",
       "    </tr>\n",
       "    <tr>\n",
       "      <th>18</th>\n",
       "      <td>27L</td>\n",
       "      <td>184151</td>\n",
       "      <td>NaN</td>\n",
       "      <td>Lymphoma patients</td>\n",
       "      <td>V3 (6 months)</td>\n",
       "      <td>s_16</td>\n",
       "      <td>F</td>\n",
       "      <td>60</td>\n",
       "      <td>3.8</td>\n",
       "      <td>LNH</td>\n",
       "      <td>G3A</td>\n",
       "      <td>2A</td>\n",
       "      <td>-</td>\n",
       "      <td>-</td>\n",
       "      <td>Duvelisib</td>\n",
       "      <td>-</td>\n",
       "    </tr>\n",
       "    <tr>\n",
       "      <th>19</th>\n",
       "      <td>28L</td>\n",
       "      <td>19634</td>\n",
       "      <td>654.0</td>\n",
       "      <td>Lymphoma patients</td>\n",
       "      <td>baseline</td>\n",
       "      <td>s_17</td>\n",
       "      <td>M</td>\n",
       "      <td>77</td>\n",
       "      <td>3.8</td>\n",
       "      <td>LNH</td>\n",
       "      <td>G3A</td>\n",
       "      <td>4</td>\n",
       "      <td>-</td>\n",
       "      <td>-</td>\n",
       "      <td>R-COMP + R-bendamustina</td>\n",
       "      <td>-</td>\n",
       "    </tr>\n",
       "    <tr>\n",
       "      <th>20</th>\n",
       "      <td>29L</td>\n",
       "      <td>91379</td>\n",
       "      <td>NaN</td>\n",
       "      <td>Lymphoma patients</td>\n",
       "      <td>V1 (50 days)</td>\n",
       "      <td>s_17</td>\n",
       "      <td>M</td>\n",
       "      <td>77</td>\n",
       "      <td>5.0</td>\n",
       "      <td>LNH</td>\n",
       "      <td>G3A</td>\n",
       "      <td>4</td>\n",
       "      <td>-</td>\n",
       "      <td>-</td>\n",
       "      <td>R-COMP + R-bendamustina</td>\n",
       "      <td>-</td>\n",
       "    </tr>\n",
       "    <tr>\n",
       "      <th>21</th>\n",
       "      <td>2L</td>\n",
       "      <td>103095</td>\n",
       "      <td>NaN</td>\n",
       "      <td>Lymphoma patients</td>\n",
       "      <td>V1 (50 days)</td>\n",
       "      <td>s_8</td>\n",
       "      <td>F</td>\n",
       "      <td>61</td>\n",
       "      <td>3.8</td>\n",
       "      <td>LNH</td>\n",
       "      <td>G3A</td>\n",
       "      <td>4</td>\n",
       "      <td>-</td>\n",
       "      <td>45124</td>\n",
       "      <td>R-CHOP</td>\n",
       "      <td>-</td>\n",
       "    </tr>\n",
       "    <tr>\n",
       "      <th>22</th>\n",
       "      <td>30L</td>\n",
       "      <td>100767</td>\n",
       "      <td>NaN</td>\n",
       "      <td>Lymphoma patients</td>\n",
       "      <td>V3 (6 months)</td>\n",
       "      <td>s_17</td>\n",
       "      <td>M</td>\n",
       "      <td>77</td>\n",
       "      <td>3.8</td>\n",
       "      <td>LNH</td>\n",
       "      <td>G3A</td>\n",
       "      <td>4</td>\n",
       "      <td>-</td>\n",
       "      <td>-</td>\n",
       "      <td>R-COMP + R-bendamustina</td>\n",
       "      <td>-</td>\n",
       "    </tr>\n",
       "    <tr>\n",
       "      <th>23</th>\n",
       "      <td>39465</td>\n",
       "      <td>95481</td>\n",
       "      <td>NaN</td>\n",
       "      <td>Healthy controls</td>\n",
       "      <td>baseline</td>\n",
       "      <td>s_4</td>\n",
       "      <td>M</td>\n",
       "      <td>36</td>\n",
       "      <td>3.8</td>\n",
       "      <td>-</td>\n",
       "      <td>-</td>\n",
       "      <td>-</td>\n",
       "      <td>-</td>\n",
       "      <td>-</td>\n",
       "      <td>-</td>\n",
       "      <td>-</td>\n",
       "    </tr>\n",
       "    <tr>\n",
       "      <th>24</th>\n",
       "      <td>39498</td>\n",
       "      <td>214288</td>\n",
       "      <td>NaN</td>\n",
       "      <td>Healthy controls</td>\n",
       "      <td>baseline</td>\n",
       "      <td>s_2</td>\n",
       "      <td>F</td>\n",
       "      <td>37</td>\n",
       "      <td>3.8</td>\n",
       "      <td>-</td>\n",
       "      <td>-</td>\n",
       "      <td>-</td>\n",
       "      <td>-</td>\n",
       "      <td>-</td>\n",
       "      <td>-</td>\n",
       "      <td>-</td>\n",
       "    </tr>\n",
       "    <tr>\n",
       "      <th>25</th>\n",
       "      <td>39521</td>\n",
       "      <td>201679</td>\n",
       "      <td>NaN</td>\n",
       "      <td>Healthy controls</td>\n",
       "      <td>baseline</td>\n",
       "      <td>s_3</td>\n",
       "      <td>F</td>\n",
       "      <td>31</td>\n",
       "      <td>3.8</td>\n",
       "      <td>-</td>\n",
       "      <td>-</td>\n",
       "      <td>-</td>\n",
       "      <td>-</td>\n",
       "      <td>-</td>\n",
       "      <td>-</td>\n",
       "      <td>-</td>\n",
       "    </tr>\n",
       "    <tr>\n",
       "      <th>26</th>\n",
       "      <td>39617</td>\n",
       "      <td>97882</td>\n",
       "      <td>NaN</td>\n",
       "      <td>Healthy controls</td>\n",
       "      <td>baseline</td>\n",
       "      <td>s_5</td>\n",
       "      <td>F</td>\n",
       "      <td>55</td>\n",
       "      <td>3.8</td>\n",
       "      <td>-</td>\n",
       "      <td>-</td>\n",
       "      <td>-</td>\n",
       "      <td>-</td>\n",
       "      <td>-</td>\n",
       "      <td>-</td>\n",
       "      <td>-</td>\n",
       "    </tr>\n",
       "    <tr>\n",
       "      <th>27</th>\n",
       "      <td>39670</td>\n",
       "      <td>155155</td>\n",
       "      <td>NaN</td>\n",
       "      <td>Healthy controls</td>\n",
       "      <td>baseline</td>\n",
       "      <td>s_7</td>\n",
       "      <td>F</td>\n",
       "      <td>39</td>\n",
       "      <td>3.8</td>\n",
       "      <td>-</td>\n",
       "      <td>-</td>\n",
       "      <td>-</td>\n",
       "      <td>-</td>\n",
       "      <td>-</td>\n",
       "      <td>-</td>\n",
       "      <td>-</td>\n",
       "    </tr>\n",
       "    <tr>\n",
       "      <th>28</th>\n",
       "      <td>39678</td>\n",
       "      <td>102292</td>\n",
       "      <td>NaN</td>\n",
       "      <td>Healthy controls</td>\n",
       "      <td>baseline</td>\n",
       "      <td>s_6</td>\n",
       "      <td>F</td>\n",
       "      <td>40</td>\n",
       "      <td>4.0</td>\n",
       "      <td>-</td>\n",
       "      <td>-</td>\n",
       "      <td>-</td>\n",
       "      <td>-</td>\n",
       "      <td>-</td>\n",
       "      <td>-</td>\n",
       "      <td>-</td>\n",
       "    </tr>\n",
       "    <tr>\n",
       "      <th>29</th>\n",
       "      <td>39700</td>\n",
       "      <td>183330</td>\n",
       "      <td>NaN</td>\n",
       "      <td>Healthy controls</td>\n",
       "      <td>baseline</td>\n",
       "      <td>s_1</td>\n",
       "      <td>F</td>\n",
       "      <td>46</td>\n",
       "      <td>60.1</td>\n",
       "      <td>-</td>\n",
       "      <td>-</td>\n",
       "      <td>-</td>\n",
       "      <td>-</td>\n",
       "      <td>-</td>\n",
       "      <td>-</td>\n",
       "      <td>-</td>\n",
       "    </tr>\n",
       "    <tr>\n",
       "      <th>30</th>\n",
       "      <td>3L</td>\n",
       "      <td>245318</td>\n",
       "      <td>NaN</td>\n",
       "      <td>Lymphoma patients</td>\n",
       "      <td>V3 (6 months)</td>\n",
       "      <td>s_8</td>\n",
       "      <td>F</td>\n",
       "      <td>61</td>\n",
       "      <td>3.8</td>\n",
       "      <td>LNH</td>\n",
       "      <td>G3A</td>\n",
       "      <td>4</td>\n",
       "      <td>-</td>\n",
       "      <td>45124</td>\n",
       "      <td>R-CHOP</td>\n",
       "      <td>-</td>\n",
       "    </tr>\n",
       "    <tr>\n",
       "      <th>31</th>\n",
       "      <td>4L</td>\n",
       "      <td>18942</td>\n",
       "      <td>667.0</td>\n",
       "      <td>Lymphoma patients</td>\n",
       "      <td>baseline</td>\n",
       "      <td>s_9</td>\n",
       "      <td>M</td>\n",
       "      <td>56</td>\n",
       "      <td>3.8</td>\n",
       "      <td>LNH</td>\n",
       "      <td>G3A</td>\n",
       "      <td>4</td>\n",
       "      <td>-</td>\n",
       "      <td>-</td>\n",
       "      <td>R-Bendamustina</td>\n",
       "      <td>-</td>\n",
       "    </tr>\n",
       "    <tr>\n",
       "      <th>32</th>\n",
       "      <td>5L</td>\n",
       "      <td>61239</td>\n",
       "      <td>NaN</td>\n",
       "      <td>Lymphoma patients</td>\n",
       "      <td>V1 (50 days)</td>\n",
       "      <td>s_9</td>\n",
       "      <td>M</td>\n",
       "      <td>56</td>\n",
       "      <td>3.8</td>\n",
       "      <td>LNH</td>\n",
       "      <td>G3A</td>\n",
       "      <td>4</td>\n",
       "      <td>-</td>\n",
       "      <td>-</td>\n",
       "      <td>R-Bendamustina</td>\n",
       "      <td>-</td>\n",
       "    </tr>\n",
       "    <tr>\n",
       "      <th>33</th>\n",
       "      <td>6L</td>\n",
       "      <td>46208</td>\n",
       "      <td>NaN</td>\n",
       "      <td>Lymphoma patients</td>\n",
       "      <td>V3 (6 months)</td>\n",
       "      <td>s_9</td>\n",
       "      <td>M</td>\n",
       "      <td>56</td>\n",
       "      <td>3.8</td>\n",
       "      <td>LNH</td>\n",
       "      <td>G3A</td>\n",
       "      <td>4</td>\n",
       "      <td>-</td>\n",
       "      <td>-</td>\n",
       "      <td>R-Bendamustina</td>\n",
       "      <td>-</td>\n",
       "    </tr>\n",
       "    <tr>\n",
       "      <th>34</th>\n",
       "      <td>7L</td>\n",
       "      <td>105256</td>\n",
       "      <td>668.0</td>\n",
       "      <td>Lymphoma patients</td>\n",
       "      <td>baseline</td>\n",
       "      <td>s_10</td>\n",
       "      <td>F</td>\n",
       "      <td>76</td>\n",
       "      <td>8.7</td>\n",
       "      <td>LNH</td>\n",
       "      <td>G2B</td>\n",
       "      <td>4</td>\n",
       "      <td>-</td>\n",
       "      <td>-</td>\n",
       "      <td>R-COMP</td>\n",
       "      <td>MYC (8q24)</td>\n",
       "    </tr>\n",
       "    <tr>\n",
       "      <th>35</th>\n",
       "      <td>8L</td>\n",
       "      <td>63689</td>\n",
       "      <td>NaN</td>\n",
       "      <td>Lymphoma patients</td>\n",
       "      <td>V1 (50 days)</td>\n",
       "      <td>s_10</td>\n",
       "      <td>F</td>\n",
       "      <td>76</td>\n",
       "      <td>9.9</td>\n",
       "      <td>LNH</td>\n",
       "      <td>G2B</td>\n",
       "      <td>4</td>\n",
       "      <td>-</td>\n",
       "      <td>-</td>\n",
       "      <td>R-COMP</td>\n",
       "      <td>MYC (8q24)</td>\n",
       "    </tr>\n",
       "    <tr>\n",
       "      <th>36</th>\n",
       "      <td>9L</td>\n",
       "      <td>69067</td>\n",
       "      <td>NaN</td>\n",
       "      <td>Lymphoma patients</td>\n",
       "      <td>V3 (6 months)</td>\n",
       "      <td>s_10</td>\n",
       "      <td>F</td>\n",
       "      <td>76</td>\n",
       "      <td>10.5</td>\n",
       "      <td>LNH</td>\n",
       "      <td>G2B</td>\n",
       "      <td>4</td>\n",
       "      <td>-</td>\n",
       "      <td>-</td>\n",
       "      <td>R-COMP</td>\n",
       "      <td>MYC (8q24)</td>\n",
       "    </tr>\n",
       "    <tr>\n",
       "      <th>37</th>\n",
       "      <td>A1</td>\n",
       "      <td>89892</td>\n",
       "      <td>NaN</td>\n",
       "      <td>Healthy controls</td>\n",
       "      <td>V1 (50 days)</td>\n",
       "      <td>s_1</td>\n",
       "      <td>F</td>\n",
       "      <td>46</td>\n",
       "      <td>400.0</td>\n",
       "      <td>-</td>\n",
       "      <td>-</td>\n",
       "      <td>-</td>\n",
       "      <td>-</td>\n",
       "      <td>-</td>\n",
       "      <td>-</td>\n",
       "      <td>-</td>\n",
       "    </tr>\n",
       "    <tr>\n",
       "      <th>38</th>\n",
       "      <td>A10</td>\n",
       "      <td>398609</td>\n",
       "      <td>NaN</td>\n",
       "      <td>Healthy controls</td>\n",
       "      <td>V3 (6 months)</td>\n",
       "      <td>s_3</td>\n",
       "      <td>F</td>\n",
       "      <td>31</td>\n",
       "      <td>288.0</td>\n",
       "      <td>-</td>\n",
       "      <td>-</td>\n",
       "      <td>-</td>\n",
       "      <td>-</td>\n",
       "      <td>-</td>\n",
       "      <td>-</td>\n",
       "      <td>-</td>\n",
       "    </tr>\n",
       "    <tr>\n",
       "      <th>39</th>\n",
       "      <td>A11</td>\n",
       "      <td>431180</td>\n",
       "      <td>NaN</td>\n",
       "      <td>Healthy controls</td>\n",
       "      <td>V3 (6 months)</td>\n",
       "      <td>s_4</td>\n",
       "      <td>M</td>\n",
       "      <td>36</td>\n",
       "      <td>178.0</td>\n",
       "      <td>-</td>\n",
       "      <td>-</td>\n",
       "      <td>-</td>\n",
       "      <td>-</td>\n",
       "      <td>-</td>\n",
       "      <td>-</td>\n",
       "      <td>-</td>\n",
       "    </tr>\n",
       "    <tr>\n",
       "      <th>40</th>\n",
       "      <td>A12</td>\n",
       "      <td>335242</td>\n",
       "      <td>NaN</td>\n",
       "      <td>Healthy controls</td>\n",
       "      <td>V3 (6 months)</td>\n",
       "      <td>s_5</td>\n",
       "      <td>F</td>\n",
       "      <td>55</td>\n",
       "      <td>337.0</td>\n",
       "      <td>-</td>\n",
       "      <td>-</td>\n",
       "      <td>-</td>\n",
       "      <td>-</td>\n",
       "      <td>-</td>\n",
       "      <td>-</td>\n",
       "      <td>-</td>\n",
       "    </tr>\n",
       "    <tr>\n",
       "      <th>41</th>\n",
       "      <td>A2</td>\n",
       "      <td>75555</td>\n",
       "      <td>NaN</td>\n",
       "      <td>Healthy controls</td>\n",
       "      <td>V1 (50 days)</td>\n",
       "      <td>s_2</td>\n",
       "      <td>F</td>\n",
       "      <td>37</td>\n",
       "      <td>325.0</td>\n",
       "      <td>-</td>\n",
       "      <td>-</td>\n",
       "      <td>-</td>\n",
       "      <td>-</td>\n",
       "      <td>-</td>\n",
       "      <td>-</td>\n",
       "      <td>-</td>\n",
       "    </tr>\n",
       "    <tr>\n",
       "      <th>42</th>\n",
       "      <td>A3</td>\n",
       "      <td>89617</td>\n",
       "      <td>NaN</td>\n",
       "      <td>Healthy controls</td>\n",
       "      <td>V1 (50 days)</td>\n",
       "      <td>s_3</td>\n",
       "      <td>F</td>\n",
       "      <td>31</td>\n",
       "      <td>304.0</td>\n",
       "      <td>-</td>\n",
       "      <td>-</td>\n",
       "      <td>-</td>\n",
       "      <td>-</td>\n",
       "      <td>-</td>\n",
       "      <td>-</td>\n",
       "      <td>-</td>\n",
       "    </tr>\n",
       "    <tr>\n",
       "      <th>43</th>\n",
       "      <td>A4</td>\n",
       "      <td>95780</td>\n",
       "      <td>NaN</td>\n",
       "      <td>Healthy controls</td>\n",
       "      <td>V1 (50 days)</td>\n",
       "      <td>s_4</td>\n",
       "      <td>M</td>\n",
       "      <td>36</td>\n",
       "      <td>236.0</td>\n",
       "      <td>-</td>\n",
       "      <td>-</td>\n",
       "      <td>-</td>\n",
       "      <td>-</td>\n",
       "      <td>-</td>\n",
       "      <td>-</td>\n",
       "      <td>-</td>\n",
       "    </tr>\n",
       "    <tr>\n",
       "      <th>44</th>\n",
       "      <td>A5</td>\n",
       "      <td>117367</td>\n",
       "      <td>NaN</td>\n",
       "      <td>Healthy controls</td>\n",
       "      <td>V1 (50 days)</td>\n",
       "      <td>s_5</td>\n",
       "      <td>F</td>\n",
       "      <td>55</td>\n",
       "      <td>368.0</td>\n",
       "      <td>-</td>\n",
       "      <td>-</td>\n",
       "      <td>-</td>\n",
       "      <td>-</td>\n",
       "      <td>-</td>\n",
       "      <td>-</td>\n",
       "      <td>-</td>\n",
       "    </tr>\n",
       "    <tr>\n",
       "      <th>45</th>\n",
       "      <td>A6</td>\n",
       "      <td>83459</td>\n",
       "      <td>NaN</td>\n",
       "      <td>Healthy controls</td>\n",
       "      <td>V1 (50 days)</td>\n",
       "      <td>s_6</td>\n",
       "      <td>F</td>\n",
       "      <td>40</td>\n",
       "      <td>338.0</td>\n",
       "      <td>-</td>\n",
       "      <td>-</td>\n",
       "      <td>-</td>\n",
       "      <td>-</td>\n",
       "      <td>-</td>\n",
       "      <td>-</td>\n",
       "      <td>-</td>\n",
       "    </tr>\n",
       "    <tr>\n",
       "      <th>46</th>\n",
       "      <td>A7</td>\n",
       "      <td>130636</td>\n",
       "      <td>NaN</td>\n",
       "      <td>Healthy controls</td>\n",
       "      <td>V1 (50 days)</td>\n",
       "      <td>s_7</td>\n",
       "      <td>F</td>\n",
       "      <td>39</td>\n",
       "      <td>251.0</td>\n",
       "      <td>-</td>\n",
       "      <td>-</td>\n",
       "      <td>-</td>\n",
       "      <td>-</td>\n",
       "      <td>-</td>\n",
       "      <td>-</td>\n",
       "      <td>-</td>\n",
       "    </tr>\n",
       "    <tr>\n",
       "      <th>47</th>\n",
       "      <td>A8</td>\n",
       "      <td>227860</td>\n",
       "      <td>NaN</td>\n",
       "      <td>Healthy controls</td>\n",
       "      <td>V3 (6 months)</td>\n",
       "      <td>s_1</td>\n",
       "      <td>F</td>\n",
       "      <td>46</td>\n",
       "      <td>330.0</td>\n",
       "      <td>-</td>\n",
       "      <td>-</td>\n",
       "      <td>-</td>\n",
       "      <td>-</td>\n",
       "      <td>-</td>\n",
       "      <td>-</td>\n",
       "      <td>-</td>\n",
       "    </tr>\n",
       "    <tr>\n",
       "      <th>48</th>\n",
       "      <td>A9</td>\n",
       "      <td>514635</td>\n",
       "      <td>NaN</td>\n",
       "      <td>Healthy controls</td>\n",
       "      <td>V3 (6 months)</td>\n",
       "      <td>s_2</td>\n",
       "      <td>F</td>\n",
       "      <td>37</td>\n",
       "      <td>147.0</td>\n",
       "      <td>-</td>\n",
       "      <td>-</td>\n",
       "      <td>-</td>\n",
       "      <td>-</td>\n",
       "      <td>-</td>\n",
       "      <td>-</td>\n",
       "      <td>-</td>\n",
       "    </tr>\n",
       "    <tr>\n",
       "      <th>49</th>\n",
       "      <td>B1</td>\n",
       "      <td>345370</td>\n",
       "      <td>NaN</td>\n",
       "      <td>Healthy controls</td>\n",
       "      <td>V3 (6 months)</td>\n",
       "      <td>s_6</td>\n",
       "      <td>F</td>\n",
       "      <td>40</td>\n",
       "      <td>129.0</td>\n",
       "      <td>-</td>\n",
       "      <td>-</td>\n",
       "      <td>-</td>\n",
       "      <td>-</td>\n",
       "      <td>-</td>\n",
       "      <td>-</td>\n",
       "      <td>-</td>\n",
       "    </tr>\n",
       "    <tr>\n",
       "      <th>50</th>\n",
       "      <td>B2</td>\n",
       "      <td>410055</td>\n",
       "      <td>NaN</td>\n",
       "      <td>Healthy controls</td>\n",
       "      <td>V3 (6 months)</td>\n",
       "      <td>s_7</td>\n",
       "      <td>F</td>\n",
       "      <td>39</td>\n",
       "      <td>179.0</td>\n",
       "      <td>-</td>\n",
       "      <td>-</td>\n",
       "      <td>-</td>\n",
       "      <td>-</td>\n",
       "      <td>-</td>\n",
       "      <td>-</td>\n",
       "      <td>-</td>\n",
       "    </tr>\n",
       "  </tbody>\n",
       "</table>\n",
       "</div>"
      ],
      "text/plain": [
       "   sample_id  countUniqueClonotypes  CODICE          CONDITION     TIMEPOINTS  \\\n",
       "0        10L                  45495   676.0  Lymphoma patients       baseline   \n",
       "1        11L                 121149     NaN  Lymphoma patients   V1 (50 days)   \n",
       "2        12L                 256083     NaN  Lymphoma patients  V3 (6 months)   \n",
       "3        13L                 243979   674.0  Lymphoma patients       baseline   \n",
       "4        14L                 477076     NaN  Lymphoma patients   V1 (50 days)   \n",
       "5        15L                 231744     NaN  Lymphoma patients  V3 (6 months)   \n",
       "6        16L                  19240   678.0  Lymphoma patients       baseline   \n",
       "7        17L                  34860     NaN  Lymphoma patients   V1 (50 days)   \n",
       "8        18L                  25507     NaN  Lymphoma patients  V3 (6 months)   \n",
       "9        19L                  11651   683.0  Lymphoma patients       baseline   \n",
       "10        1L                 111993   633.0  Lymphoma patients       baseline   \n",
       "11       20L                 149742     NaN  Lymphoma patients   V1 (50 days)   \n",
       "12       21L                 145538     NaN  Lymphoma patients  V3 (6 months)   \n",
       "13       22L                  51843   687.0  Lymphoma patients       baseline   \n",
       "14       23L                 103304     NaN  Lymphoma patients   V1 (50 days)   \n",
       "15       24L                  43083     NaN  Lymphoma patients  V3 (6 months)   \n",
       "16       25L                 190061   670.0  Lymphoma patients       baseline   \n",
       "17       26L                 147245     NaN  Lymphoma patients   V1 (50 days)   \n",
       "18       27L                 184151     NaN  Lymphoma patients  V3 (6 months)   \n",
       "19       28L                  19634   654.0  Lymphoma patients       baseline   \n",
       "20       29L                  91379     NaN  Lymphoma patients   V1 (50 days)   \n",
       "21        2L                 103095     NaN  Lymphoma patients   V1 (50 days)   \n",
       "22       30L                 100767     NaN  Lymphoma patients  V3 (6 months)   \n",
       "23     39465                  95481     NaN   Healthy controls       baseline   \n",
       "24     39498                 214288     NaN   Healthy controls       baseline   \n",
       "25     39521                 201679     NaN   Healthy controls       baseline   \n",
       "26     39617                  97882     NaN   Healthy controls       baseline   \n",
       "27     39670                 155155     NaN   Healthy controls       baseline   \n",
       "28     39678                 102292     NaN   Healthy controls       baseline   \n",
       "29     39700                 183330     NaN   Healthy controls       baseline   \n",
       "30        3L                 245318     NaN  Lymphoma patients  V3 (6 months)   \n",
       "31        4L                  18942   667.0  Lymphoma patients       baseline   \n",
       "32        5L                  61239     NaN  Lymphoma patients   V1 (50 days)   \n",
       "33        6L                  46208     NaN  Lymphoma patients  V3 (6 months)   \n",
       "34        7L                 105256   668.0  Lymphoma patients       baseline   \n",
       "35        8L                  63689     NaN  Lymphoma patients   V1 (50 days)   \n",
       "36        9L                  69067     NaN  Lymphoma patients  V3 (6 months)   \n",
       "37        A1                  89892     NaN   Healthy controls   V1 (50 days)   \n",
       "38       A10                 398609     NaN   Healthy controls  V3 (6 months)   \n",
       "39       A11                 431180     NaN   Healthy controls  V3 (6 months)   \n",
       "40       A12                 335242     NaN   Healthy controls  V3 (6 months)   \n",
       "41        A2                  75555     NaN   Healthy controls   V1 (50 days)   \n",
       "42        A3                  89617     NaN   Healthy controls   V1 (50 days)   \n",
       "43        A4                  95780     NaN   Healthy controls   V1 (50 days)   \n",
       "44        A5                 117367     NaN   Healthy controls   V1 (50 days)   \n",
       "45        A6                  83459     NaN   Healthy controls   V1 (50 days)   \n",
       "46        A7                 130636     NaN   Healthy controls   V1 (50 days)   \n",
       "47        A8                 227860     NaN   Healthy controls  V3 (6 months)   \n",
       "48        A9                 514635     NaN   Healthy controls  V3 (6 months)   \n",
       "49        B1                 345370     NaN   Healthy controls  V3 (6 months)   \n",
       "50        B2                 410055     NaN   Healthy controls  V3 (6 months)   \n",
       "\n",
       "   SAMPLE SEX  AGE  AB_TITER Tipo di linfoma Grado Stadio Data di morte  \\\n",
       "0    s_11   F   80       3.8             LNH     -      4         45108   \n",
       "1    s_11   F   80       5.1             LNH     -      4         45108   \n",
       "2    s_11   F   80       3.8             LNH     -      4         45108   \n",
       "3    s_12   F   68       3.8             LNH   G3A      -             -   \n",
       "4    s_12   F   68       3.8             LNH   G3A      -             -   \n",
       "5    s_12   F   68       3.8             LNH   G3A      -             -   \n",
       "6    s_13   F   55       3.8             LNH     -      -             -   \n",
       "7    s_13   F   55       3.8             LNH     -      -             -   \n",
       "8    s_13   F   55       3.8             LNH     -      -             -   \n",
       "9    s_14   F   75       3.8     LNH (DLBCL)     -      4             -   \n",
       "10    s_8   F   61       3.8             LNH   G3A      4             -   \n",
       "11   s_14   F   75       3.8     LNH (DLBCL)     -      4             -   \n",
       "12   s_14   F   75       3.8     LNH (DLBCL)     -      4             -   \n",
       "13   s_15   F   74       3.8             LNH  G1-2      4             -   \n",
       "14   s_15   F   74       3.8             LNH  G1-2      4             -   \n",
       "15   s_15   F   74       3.8             LNH  G1-2      4             -   \n",
       "16   s_16   F   60       3.8             LNH   G3A     2A             -   \n",
       "17   s_16   F   60       3.8             LNH   G3A     2A             -   \n",
       "18   s_16   F   60       3.8             LNH   G3A     2A             -   \n",
       "19   s_17   M   77       3.8             LNH   G3A      4             -   \n",
       "20   s_17   M   77       5.0             LNH   G3A      4             -   \n",
       "21    s_8   F   61       3.8             LNH   G3A      4             -   \n",
       "22   s_17   M   77       3.8             LNH   G3A      4             -   \n",
       "23    s_4   M   36       3.8               -     -      -             -   \n",
       "24    s_2   F   37       3.8               -     -      -             -   \n",
       "25    s_3   F   31       3.8               -     -      -             -   \n",
       "26    s_5   F   55       3.8               -     -      -             -   \n",
       "27    s_7   F   39       3.8               -     -      -             -   \n",
       "28    s_6   F   40       4.0               -     -      -             -   \n",
       "29    s_1   F   46      60.1               -     -      -             -   \n",
       "30    s_8   F   61       3.8             LNH   G3A      4             -   \n",
       "31    s_9   M   56       3.8             LNH   G3A      4             -   \n",
       "32    s_9   M   56       3.8             LNH   G3A      4             -   \n",
       "33    s_9   M   56       3.8             LNH   G3A      4             -   \n",
       "34   s_10   F   76       8.7             LNH   G2B      4             -   \n",
       "35   s_10   F   76       9.9             LNH   G2B      4             -   \n",
       "36   s_10   F   76      10.5             LNH   G2B      4             -   \n",
       "37    s_1   F   46     400.0               -     -      -             -   \n",
       "38    s_3   F   31     288.0               -     -      -             -   \n",
       "39    s_4   M   36     178.0               -     -      -             -   \n",
       "40    s_5   F   55     337.0               -     -      -             -   \n",
       "41    s_2   F   37     325.0               -     -      -             -   \n",
       "42    s_3   F   31     304.0               -     -      -             -   \n",
       "43    s_4   M   36     236.0               -     -      -             -   \n",
       "44    s_5   F   55     368.0               -     -      -             -   \n",
       "45    s_6   F   40     338.0               -     -      -             -   \n",
       "46    s_7   F   39     251.0               -     -      -             -   \n",
       "47    s_1   F   46     330.0               -     -      -             -   \n",
       "48    s_2   F   37     147.0               -     -      -             -   \n",
       "49    s_6   F   40     129.0               -     -      -             -   \n",
       "50    s_7   F   39     179.0               -     -      -             -   \n",
       "\n",
       "   Data di progressione di malattia  \\\n",
       "0                             44883   \n",
       "1                             44883   \n",
       "2                             44883   \n",
       "3                                 -   \n",
       "4                                 -   \n",
       "5                                 -   \n",
       "6                                 -   \n",
       "7                                 -   \n",
       "8                                 -   \n",
       "9                                 -   \n",
       "10                            45124   \n",
       "11                                -   \n",
       "12                                -   \n",
       "13                                -   \n",
       "14                                -   \n",
       "15                                -   \n",
       "16                                -   \n",
       "17                                -   \n",
       "18                                -   \n",
       "19                                -   \n",
       "20                                -   \n",
       "21                            45124   \n",
       "22                                -   \n",
       "23                                -   \n",
       "24                                -   \n",
       "25                                -   \n",
       "26                                -   \n",
       "27                                -   \n",
       "28                                -   \n",
       "29                                -   \n",
       "30                            45124   \n",
       "31                                -   \n",
       "32                                -   \n",
       "33                                -   \n",
       "34                                -   \n",
       "35                                -   \n",
       "36                                -   \n",
       "37                                -   \n",
       "38                                -   \n",
       "39                                -   \n",
       "40                                -   \n",
       "41                                -   \n",
       "42                                -   \n",
       "43                                -   \n",
       "44                                -   \n",
       "45                                -   \n",
       "46                                -   \n",
       "47                                -   \n",
       "48                                -   \n",
       "49                                -   \n",
       "50                                -   \n",
       "\n",
       "            Trattamento al momento della vaccinazione  \\\n",
       "0   Non in trattamento alla vaccinazione prima rit...   \n",
       "1   Non in trattamento alla vaccinazione prima rit...   \n",
       "2   Non in trattamento alla vaccinazione prima rit...   \n",
       "3                                           rituximab   \n",
       "4                                           rituximab   \n",
       "5                                           rituximab   \n",
       "6                        R-bendamustin prima nel 2020   \n",
       "7                        R-bendamustin prima nel 2020   \n",
       "8                        R-bendamustin prima nel 2020   \n",
       "9                            R-COMP prima del vaccino   \n",
       "10                                             R-CHOP   \n",
       "11                           R-COMP prima del vaccino   \n",
       "12                           R-COMP prima del vaccino   \n",
       "13                                     R-bendamustina   \n",
       "14                                     R-bendamustina   \n",
       "15                                     R-bendamustina   \n",
       "16                                          Duvelisib   \n",
       "17                                          Duvelisib   \n",
       "18                                          Duvelisib   \n",
       "19                            R-COMP + R-bendamustina   \n",
       "20                            R-COMP + R-bendamustina   \n",
       "21                                             R-CHOP   \n",
       "22                            R-COMP + R-bendamustina   \n",
       "23                                                  -   \n",
       "24                                                  -   \n",
       "25                                                  -   \n",
       "26                                                  -   \n",
       "27                                                  -   \n",
       "28                                                  -   \n",
       "29                                                  -   \n",
       "30                                             R-CHOP   \n",
       "31                                     R-Bendamustina   \n",
       "32                                     R-Bendamustina   \n",
       "33                                     R-Bendamustina   \n",
       "34                                             R-COMP   \n",
       "35                                             R-COMP   \n",
       "36                                             R-COMP   \n",
       "37                                                  -   \n",
       "38                                                  -   \n",
       "39                                                  -   \n",
       "40                                                  -   \n",
       "41                                                  -   \n",
       "42                                                  -   \n",
       "43                                                  -   \n",
       "44                                                  -   \n",
       "45                                                  -   \n",
       "46                                                  -   \n",
       "47                                                  -   \n",
       "48                                                  -   \n",
       "49                                                  -   \n",
       "50                                                  -   \n",
       "\n",
       "                      Tipo di mutazione  \n",
       "0                                     -  \n",
       "1                                     -  \n",
       "2                                     -  \n",
       "3   Positivo il riarrangiamento con IgH  \n",
       "4   Positivo il riarrangiamento con IgH  \n",
       "5   Positivo il riarrangiamento con IgH  \n",
       "6                                     -  \n",
       "7                                     -  \n",
       "8                                     -  \n",
       "9                                     -  \n",
       "10                                    -  \n",
       "11                                    -  \n",
       "12                                    -  \n",
       "13                                    -  \n",
       "14                                    -  \n",
       "15                                    -  \n",
       "16                                    -  \n",
       "17                                    -  \n",
       "18                                    -  \n",
       "19                                    -  \n",
       "20                                    -  \n",
       "21                                    -  \n",
       "22                                    -  \n",
       "23                                    -  \n",
       "24                                    -  \n",
       "25                                    -  \n",
       "26                                    -  \n",
       "27                                    -  \n",
       "28                                    -  \n",
       "29                                    -  \n",
       "30                                    -  \n",
       "31                                    -  \n",
       "32                                    -  \n",
       "33                                    -  \n",
       "34                           MYC (8q24)  \n",
       "35                           MYC (8q24)  \n",
       "36                           MYC (8q24)  \n",
       "37                                    -  \n",
       "38                                    -  \n",
       "39                                    -  \n",
       "40                                    -  \n",
       "41                                    -  \n",
       "42                                    -  \n",
       "43                                    -  \n",
       "44                                    -  \n",
       "45                                    -  \n",
       "46                                    -  \n",
       "47                                    -  \n",
       "48                                    -  \n",
       "49                                    -  \n",
       "50                                    -  "
      ]
     },
     "execution_count": 18,
     "metadata": {},
     "output_type": "execute_result"
    }
   ],
   "source": [
    "uniques_other = pd.DataFrame({'countUniqueClonotypes': data \\\n",
    "                .groupby(['sample_id'])['clonotype'].nunique()}).reset_index()\n",
    "uniques_other = pd.merge(uniques_other, metadata, on = 'sample_id', how='left')\n",
    "uniques_other"
   ]
  },
  {
   "cell_type": "code",
   "execution_count": null,
   "metadata": {},
   "outputs": [],
   "source": [
    "DETECT_predictions_other_viruses = pd.read_csv(PROCESSEDDIR + 'DETECT_predictions.tsv', sep = '\\t', low_memory=False)\n",
    "# filter out SARS-CoV-2, we could choose a higher score threshold here to further remove false positives\n",
    "DETECT_predictions_other_viruses = DETECT_predictions_other_viruses \\\n",
    "                                    .query('Score >= 0.2 and Species != \"SARS-CoV-2\" \\\n",
    "                                    and Species != \"SARS-CoV-2,SARS-CoV\"')\n",
    "\n",
    "# Reset index and create a unique clonotype identifier\n",
    "DETECT_predictions_other_viruses = (\n",
    "    DETECT_predictions_other_viruses\n",
    "    .assign(clonotype=lambda df: df['v_call'] + '_' + df['junction_aa'] + '_' + df['j_call'])\n",
    "    .drop_duplicates(subset=['clonotype'])\n",
    "    .reset_index(drop=True)\n",
    ")"
   ]
  },
  {
   "cell_type": "code",
   "execution_count": null,
   "metadata": {},
   "outputs": [],
   "source": [
    "# remove those rows that have Home sapiens in Species\n",
    "DETECT_predictions_other_viruses = DETECT_predictions_other_viruses.query('Species != \"SARS-CoV-2,SARS-CoV\" \\\n",
    "                                and Species != \"Homo sapiens\" \\\n",
    "                                and Species != \"Synthetic\" \\\n",
    "                                and Species != \"Hepatitis C virus,Synthetic\" \\\n",
    "                                and Species != \"Homo sapiens,Synthetic\" \\\n",
    "                                and Species != \"HTLV-1,Homo sapiens\"')"
   ]
  },
  {
   "cell_type": "code",
   "execution_count": null,
   "metadata": {},
   "outputs": [
    {
     "name": "stdout",
     "output_type": "stream",
     "text": [
      "['Human betaherpesvirus 5' 'HIV' 'Yellow fever virus'\n",
      " 'Human gammaherpesvirus 4' 'Hepatitis C virus' 'HPV' 'HIV,HIV-1'\n",
      " 'Influenza A virus' 'Mycobacterium' 'Influenza B virus'\n",
      " 'Hepatitis B virus' 'Influenza A virus,Influenza B virus' 'Bacteria'\n",
      " 'Triticum aestivum' 'Human mastadenovirus C' 'Dengue Virus 1' 'HTLV-1'\n",
      " 'Chrysanthemum virus B' 'Human alphaherpesvirus 2' 'HIV-1,HIV'\n",
      " 'Rotavirus' 'Plasmodium falciparum' 'Pseudomonas aeruginosa'\n",
      " 'Dengue Virus 3,Dengue Virus 4' 'Human alphaherpesvirus 1']\n"
     ]
    }
   ],
   "source": [
    "print(DETECT_predictions_other_viruses['Species'].unique())"
   ]
  },
  {
   "cell_type": "code",
   "execution_count": null,
   "metadata": {},
   "outputs": [],
   "source": [
    "other_virus_data = ( pd.merge(data[['clonotype','sample_id','SAMPLE','TIMEPOINTS','CONDITION']], \\\n",
    "                    DETECT_predictions_other_viruses.drop_duplicates(subset=['junction_aa','v_call', 'j_call']) \\\n",
    "                    [['clonotype','Score','Species']], \\\n",
    "                    on = ['clonotype'], how='left', indicator=True).query('_merge == \"both\"') )\n",
    "\n",
    "\n",
    "# Add a column for detected clonotypes and aggregate by sample and condition\n",
    "other_virus_data['NClonotypes_detected'] = 1\n",
    "other_virus_data = ( other_virus_data\n",
    "                    .groupby(['sample_id', 'SAMPLE', 'TIMEPOINTS', 'CONDITION'], as_index=False)\n",
    "                    .agg(NClonotypes_detected=('NClonotypes_detected', 'sum')) )"
   ]
  },
  {
   "cell_type": "code",
   "execution_count": null,
   "metadata": {},
   "outputs": [],
   "source": [
    "other_virus_data = pd.merge(uniques_other, other_virus_data)\n",
    "other_virus_data['viral_ratio'] = other_virus_data['NClonotypes_detected']/other_virus_data['countUniqueClonotypes']\n",
    "other_virus_data[['sample_id', 'countUniqueClonotypes', 'NClonotypes_detected', 'viral_ratio', 'CONDITION', 'TIMEPOINTS', 'SAMPLE']] \\\n",
    "    .to_csv(PROCESSEDDIR + 'other_viral_data.csv')"
   ]
  },
  {
   "cell_type": "code",
   "execution_count": null,
   "metadata": {},
   "outputs": [
    {
     "data": {
      "application/vnd.plotly.v1+json": {
       "config": {
        "plotlyServerURL": "https://plot.ly"
       },
       "data": [
        {
         "marker": {
          "color": "#004D40",
          "line": {
           "width": 0.5
          }
         },
         "name": "baseline",
         "showlegend": true,
         "type": "bar",
         "x": [
          "s_4",
          "s_2",
          "s_3",
          "s_5",
          "s_7",
          "s_6",
          "s_1"
         ],
         "xaxis": "x",
         "y": [
          0.009624951561043558,
          0.010714552378107967,
          0.00874161414921732,
          0.010573956396477392,
          0.0093841642228739,
          0.009824815234817971,
          0.011007472863142966
         ],
         "yaxis": "y"
        },
        {
         "marker": {
          "color": "#1E88E5",
          "line": {
           "width": 0.5
          }
         },
         "name": "V1 (50 days)",
         "showlegend": true,
         "type": "bar",
         "x": [
          "s_1",
          "s_2",
          "s_3",
          "s_4",
          "s_5",
          "s_6",
          "s_7"
         ],
         "xaxis": "x",
         "y": [
          0.00983402304988208,
          0.010879491760968831,
          0.00961871073568631,
          0.00992900396742535,
          0.009747203217258684,
          0.010004912591811549,
          0.009254723047245781
         ],
         "yaxis": "y"
        },
        {
         "marker": {
          "color": "#FFC107",
          "line": {
           "width": 0.5
          }
         },
         "name": "V3 (6 months)",
         "showlegend": true,
         "type": "bar",
         "x": [
          "s_3",
          "s_4",
          "s_5",
          "s_1",
          "s_2",
          "s_6",
          "s_7"
         ],
         "xaxis": "x",
         "y": [
          0.008840743686168651,
          0.009467043925970592,
          0.009584121321314155,
          0.01091898534187659,
          0.00866245008598327,
          0.009447838549960912,
          0.009527990147663118
         ],
         "yaxis": "y"
        },
        {
         "marker": {
          "color": "#004D40",
          "line": {
           "width": 0.5
          }
         },
         "name": "baseline",
         "showlegend": false,
         "type": "bar",
         "x": [
          "s_11",
          "s_12",
          "s_13",
          "s_14",
          "s_8",
          "s_15",
          "s_16",
          "s_17",
          "s_9",
          "s_10"
         ],
         "xaxis": "x2",
         "y": [
          0.010836355643477305,
          0.009246697461666783,
          0.011902286902286903,
          0.01579263582525105,
          0.008938058628664291,
          0.00983739366934784,
          0.009439074823346189,
          0.010492003667108079,
          0.010980889029669517,
          0.008911605989207266
         ],
         "yaxis": "y2"
        },
        {
         "marker": {
          "color": "#1E88E5",
          "line": {
           "width": 0.5
          }
         },
         "name": "V1 (50 days)",
         "showlegend": false,
         "type": "bar",
         "x": [
          "s_11",
          "s_12",
          "s_13",
          "s_14",
          "s_15",
          "s_16",
          "s_17",
          "s_8",
          "s_9",
          "s_10"
         ],
         "xaxis": "x2",
         "y": [
          0.009054965373218104,
          0.008487117356563734,
          0.010499139414802065,
          0.010584872647620574,
          0.009534964764191125,
          0.009440048898095011,
          0.01112947176047013,
          0.008952907512488482,
          0.009307794052809484,
          0.008400194696101367
         ],
         "yaxis": "y2"
        },
        {
         "marker": {
          "color": "#FFC107",
          "line": {
           "width": 0.5
          }
         },
         "name": "V3 (6 months)",
         "showlegend": false,
         "type": "bar",
         "x": [
          "s_11",
          "s_12",
          "s_13",
          "s_14",
          "s_15",
          "s_16",
          "s_17",
          "s_8",
          "s_9",
          "s_10"
         ],
         "xaxis": "x2",
         "y": [
          0.009219667061070044,
          0.008103769676884838,
          0.010350099972556552,
          0.010650139482471932,
          0.010444955086693127,
          0.00930214878007722,
          0.010052894300713527,
          0.00881712715740386,
          0.009760214681440444,
          0.007847452473684973
         ],
         "yaxis": "y2"
        }
       ],
       "layout": {
        "annotations": [
         {
          "font": {
           "size": 16
          },
          "showarrow": false,
          "text": "Healthy controls",
          "x": 0.225,
          "xanchor": "center",
          "xref": "paper",
          "y": 1,
          "yanchor": "bottom",
          "yref": "paper"
         },
         {
          "font": {
           "size": 16
          },
          "showarrow": false,
          "text": "Lymphoma patients",
          "x": 0.775,
          "xanchor": "center",
          "xref": "paper",
          "y": 1,
          "yanchor": "bottom",
          "yref": "paper"
         }
        ],
        "bargap": 0.1,
        "barmode": "group",
        "font": {
         "family": "JetBrains Mono",
         "size": 12
        },
        "height": 600,
        "legend": {
         "title": {
          "text": "Timepoints"
         }
        },
        "template": {
         "data": {
          "bar": [
           {
            "error_x": {
             "color": "#2a3f5f"
            },
            "error_y": {
             "color": "#2a3f5f"
            },
            "marker": {
             "line": {
              "color": "white",
              "width": 0.5
             },
             "pattern": {
              "fillmode": "overlay",
              "size": 10,
              "solidity": 0.2
             }
            },
            "type": "bar"
           }
          ],
          "barpolar": [
           {
            "marker": {
             "line": {
              "color": "white",
              "width": 0.5
             },
             "pattern": {
              "fillmode": "overlay",
              "size": 10,
              "solidity": 0.2
             }
            },
            "type": "barpolar"
           }
          ],
          "carpet": [
           {
            "aaxis": {
             "endlinecolor": "#2a3f5f",
             "gridcolor": "#C8D4E3",
             "linecolor": "#C8D4E3",
             "minorgridcolor": "#C8D4E3",
             "startlinecolor": "#2a3f5f"
            },
            "baxis": {
             "endlinecolor": "#2a3f5f",
             "gridcolor": "#C8D4E3",
             "linecolor": "#C8D4E3",
             "minorgridcolor": "#C8D4E3",
             "startlinecolor": "#2a3f5f"
            },
            "type": "carpet"
           }
          ],
          "choropleth": [
           {
            "colorbar": {
             "outlinewidth": 0,
             "ticks": ""
            },
            "type": "choropleth"
           }
          ],
          "contour": [
           {
            "colorbar": {
             "outlinewidth": 0,
             "ticks": ""
            },
            "colorscale": [
             [
              0,
              "#0d0887"
             ],
             [
              0.1111111111111111,
              "#46039f"
             ],
             [
              0.2222222222222222,
              "#7201a8"
             ],
             [
              0.3333333333333333,
              "#9c179e"
             ],
             [
              0.4444444444444444,
              "#bd3786"
             ],
             [
              0.5555555555555556,
              "#d8576b"
             ],
             [
              0.6666666666666666,
              "#ed7953"
             ],
             [
              0.7777777777777778,
              "#fb9f3a"
             ],
             [
              0.8888888888888888,
              "#fdca26"
             ],
             [
              1,
              "#f0f921"
             ]
            ],
            "type": "contour"
           }
          ],
          "contourcarpet": [
           {
            "colorbar": {
             "outlinewidth": 0,
             "ticks": ""
            },
            "type": "contourcarpet"
           }
          ],
          "heatmap": [
           {
            "colorbar": {
             "outlinewidth": 0,
             "ticks": ""
            },
            "colorscale": [
             [
              0,
              "#0d0887"
             ],
             [
              0.1111111111111111,
              "#46039f"
             ],
             [
              0.2222222222222222,
              "#7201a8"
             ],
             [
              0.3333333333333333,
              "#9c179e"
             ],
             [
              0.4444444444444444,
              "#bd3786"
             ],
             [
              0.5555555555555556,
              "#d8576b"
             ],
             [
              0.6666666666666666,
              "#ed7953"
             ],
             [
              0.7777777777777778,
              "#fb9f3a"
             ],
             [
              0.8888888888888888,
              "#fdca26"
             ],
             [
              1,
              "#f0f921"
             ]
            ],
            "type": "heatmap"
           }
          ],
          "heatmapgl": [
           {
            "colorbar": {
             "outlinewidth": 0,
             "ticks": ""
            },
            "colorscale": [
             [
              0,
              "#0d0887"
             ],
             [
              0.1111111111111111,
              "#46039f"
             ],
             [
              0.2222222222222222,
              "#7201a8"
             ],
             [
              0.3333333333333333,
              "#9c179e"
             ],
             [
              0.4444444444444444,
              "#bd3786"
             ],
             [
              0.5555555555555556,
              "#d8576b"
             ],
             [
              0.6666666666666666,
              "#ed7953"
             ],
             [
              0.7777777777777778,
              "#fb9f3a"
             ],
             [
              0.8888888888888888,
              "#fdca26"
             ],
             [
              1,
              "#f0f921"
             ]
            ],
            "type": "heatmapgl"
           }
          ],
          "histogram": [
           {
            "marker": {
             "pattern": {
              "fillmode": "overlay",
              "size": 10,
              "solidity": 0.2
             }
            },
            "type": "histogram"
           }
          ],
          "histogram2d": [
           {
            "colorbar": {
             "outlinewidth": 0,
             "ticks": ""
            },
            "colorscale": [
             [
              0,
              "#0d0887"
             ],
             [
              0.1111111111111111,
              "#46039f"
             ],
             [
              0.2222222222222222,
              "#7201a8"
             ],
             [
              0.3333333333333333,
              "#9c179e"
             ],
             [
              0.4444444444444444,
              "#bd3786"
             ],
             [
              0.5555555555555556,
              "#d8576b"
             ],
             [
              0.6666666666666666,
              "#ed7953"
             ],
             [
              0.7777777777777778,
              "#fb9f3a"
             ],
             [
              0.8888888888888888,
              "#fdca26"
             ],
             [
              1,
              "#f0f921"
             ]
            ],
            "type": "histogram2d"
           }
          ],
          "histogram2dcontour": [
           {
            "colorbar": {
             "outlinewidth": 0,
             "ticks": ""
            },
            "colorscale": [
             [
              0,
              "#0d0887"
             ],
             [
              0.1111111111111111,
              "#46039f"
             ],
             [
              0.2222222222222222,
              "#7201a8"
             ],
             [
              0.3333333333333333,
              "#9c179e"
             ],
             [
              0.4444444444444444,
              "#bd3786"
             ],
             [
              0.5555555555555556,
              "#d8576b"
             ],
             [
              0.6666666666666666,
              "#ed7953"
             ],
             [
              0.7777777777777778,
              "#fb9f3a"
             ],
             [
              0.8888888888888888,
              "#fdca26"
             ],
             [
              1,
              "#f0f921"
             ]
            ],
            "type": "histogram2dcontour"
           }
          ],
          "mesh3d": [
           {
            "colorbar": {
             "outlinewidth": 0,
             "ticks": ""
            },
            "type": "mesh3d"
           }
          ],
          "parcoords": [
           {
            "line": {
             "colorbar": {
              "outlinewidth": 0,
              "ticks": ""
             }
            },
            "type": "parcoords"
           }
          ],
          "pie": [
           {
            "automargin": true,
            "type": "pie"
           }
          ],
          "scatter": [
           {
            "fillpattern": {
             "fillmode": "overlay",
             "size": 10,
             "solidity": 0.2
            },
            "type": "scatter"
           }
          ],
          "scatter3d": [
           {
            "line": {
             "colorbar": {
              "outlinewidth": 0,
              "ticks": ""
             }
            },
            "marker": {
             "colorbar": {
              "outlinewidth": 0,
              "ticks": ""
             }
            },
            "type": "scatter3d"
           }
          ],
          "scattercarpet": [
           {
            "marker": {
             "colorbar": {
              "outlinewidth": 0,
              "ticks": ""
             }
            },
            "type": "scattercarpet"
           }
          ],
          "scattergeo": [
           {
            "marker": {
             "colorbar": {
              "outlinewidth": 0,
              "ticks": ""
             }
            },
            "type": "scattergeo"
           }
          ],
          "scattergl": [
           {
            "marker": {
             "colorbar": {
              "outlinewidth": 0,
              "ticks": ""
             }
            },
            "type": "scattergl"
           }
          ],
          "scattermapbox": [
           {
            "marker": {
             "colorbar": {
              "outlinewidth": 0,
              "ticks": ""
             }
            },
            "type": "scattermapbox"
           }
          ],
          "scatterpolar": [
           {
            "marker": {
             "colorbar": {
              "outlinewidth": 0,
              "ticks": ""
             }
            },
            "type": "scatterpolar"
           }
          ],
          "scatterpolargl": [
           {
            "marker": {
             "colorbar": {
              "outlinewidth": 0,
              "ticks": ""
             }
            },
            "type": "scatterpolargl"
           }
          ],
          "scatterternary": [
           {
            "marker": {
             "colorbar": {
              "outlinewidth": 0,
              "ticks": ""
             }
            },
            "type": "scatterternary"
           }
          ],
          "surface": [
           {
            "colorbar": {
             "outlinewidth": 0,
             "ticks": ""
            },
            "colorscale": [
             [
              0,
              "#0d0887"
             ],
             [
              0.1111111111111111,
              "#46039f"
             ],
             [
              0.2222222222222222,
              "#7201a8"
             ],
             [
              0.3333333333333333,
              "#9c179e"
             ],
             [
              0.4444444444444444,
              "#bd3786"
             ],
             [
              0.5555555555555556,
              "#d8576b"
             ],
             [
              0.6666666666666666,
              "#ed7953"
             ],
             [
              0.7777777777777778,
              "#fb9f3a"
             ],
             [
              0.8888888888888888,
              "#fdca26"
             ],
             [
              1,
              "#f0f921"
             ]
            ],
            "type": "surface"
           }
          ],
          "table": [
           {
            "cells": {
             "fill": {
              "color": "#EBF0F8"
             },
             "line": {
              "color": "white"
             }
            },
            "header": {
             "fill": {
              "color": "#C8D4E3"
             },
             "line": {
              "color": "white"
             }
            },
            "type": "table"
           }
          ]
         },
         "layout": {
          "annotationdefaults": {
           "arrowcolor": "#2a3f5f",
           "arrowhead": 0,
           "arrowwidth": 1
          },
          "autotypenumbers": "strict",
          "coloraxis": {
           "colorbar": {
            "outlinewidth": 0,
            "ticks": ""
           }
          },
          "colorscale": {
           "diverging": [
            [
             0,
             "#8e0152"
            ],
            [
             0.1,
             "#c51b7d"
            ],
            [
             0.2,
             "#de77ae"
            ],
            [
             0.3,
             "#f1b6da"
            ],
            [
             0.4,
             "#fde0ef"
            ],
            [
             0.5,
             "#f7f7f7"
            ],
            [
             0.6,
             "#e6f5d0"
            ],
            [
             0.7,
             "#b8e186"
            ],
            [
             0.8,
             "#7fbc41"
            ],
            [
             0.9,
             "#4d9221"
            ],
            [
             1,
             "#276419"
            ]
           ],
           "sequential": [
            [
             0,
             "#0d0887"
            ],
            [
             0.1111111111111111,
             "#46039f"
            ],
            [
             0.2222222222222222,
             "#7201a8"
            ],
            [
             0.3333333333333333,
             "#9c179e"
            ],
            [
             0.4444444444444444,
             "#bd3786"
            ],
            [
             0.5555555555555556,
             "#d8576b"
            ],
            [
             0.6666666666666666,
             "#ed7953"
            ],
            [
             0.7777777777777778,
             "#fb9f3a"
            ],
            [
             0.8888888888888888,
             "#fdca26"
            ],
            [
             1,
             "#f0f921"
            ]
           ],
           "sequentialminus": [
            [
             0,
             "#0d0887"
            ],
            [
             0.1111111111111111,
             "#46039f"
            ],
            [
             0.2222222222222222,
             "#7201a8"
            ],
            [
             0.3333333333333333,
             "#9c179e"
            ],
            [
             0.4444444444444444,
             "#bd3786"
            ],
            [
             0.5555555555555556,
             "#d8576b"
            ],
            [
             0.6666666666666666,
             "#ed7953"
            ],
            [
             0.7777777777777778,
             "#fb9f3a"
            ],
            [
             0.8888888888888888,
             "#fdca26"
            ],
            [
             1,
             "#f0f921"
            ]
           ]
          },
          "colorway": [
           "#636efa",
           "#EF553B",
           "#00cc96",
           "#ab63fa",
           "#FFA15A",
           "#19d3f3",
           "#FF6692",
           "#B6E880",
           "#FF97FF",
           "#FECB52"
          ],
          "font": {
           "color": "#2a3f5f"
          },
          "geo": {
           "bgcolor": "white",
           "lakecolor": "white",
           "landcolor": "white",
           "showlakes": true,
           "showland": true,
           "subunitcolor": "#C8D4E3"
          },
          "hoverlabel": {
           "align": "left"
          },
          "hovermode": "closest",
          "mapbox": {
           "style": "light"
          },
          "paper_bgcolor": "white",
          "plot_bgcolor": "white",
          "polar": {
           "angularaxis": {
            "gridcolor": "#EBF0F8",
            "linecolor": "#EBF0F8",
            "ticks": ""
           },
           "bgcolor": "white",
           "radialaxis": {
            "gridcolor": "#EBF0F8",
            "linecolor": "#EBF0F8",
            "ticks": ""
           }
          },
          "scene": {
           "xaxis": {
            "backgroundcolor": "white",
            "gridcolor": "#DFE8F3",
            "gridwidth": 2,
            "linecolor": "#EBF0F8",
            "showbackground": true,
            "ticks": "",
            "zerolinecolor": "#EBF0F8"
           },
           "yaxis": {
            "backgroundcolor": "white",
            "gridcolor": "#DFE8F3",
            "gridwidth": 2,
            "linecolor": "#EBF0F8",
            "showbackground": true,
            "ticks": "",
            "zerolinecolor": "#EBF0F8"
           },
           "zaxis": {
            "backgroundcolor": "white",
            "gridcolor": "#DFE8F3",
            "gridwidth": 2,
            "linecolor": "#EBF0F8",
            "showbackground": true,
            "ticks": "",
            "zerolinecolor": "#EBF0F8"
           }
          },
          "shapedefaults": {
           "line": {
            "color": "#2a3f5f"
           }
          },
          "ternary": {
           "aaxis": {
            "gridcolor": "#DFE8F3",
            "linecolor": "#A2B1C6",
            "ticks": ""
           },
           "baxis": {
            "gridcolor": "#DFE8F3",
            "linecolor": "#A2B1C6",
            "ticks": ""
           },
           "bgcolor": "white",
           "caxis": {
            "gridcolor": "#DFE8F3",
            "linecolor": "#A2B1C6",
            "ticks": ""
           }
          },
          "title": {
           "x": 0.05
          },
          "xaxis": {
           "automargin": true,
           "gridcolor": "#EBF0F8",
           "linecolor": "#EBF0F8",
           "ticks": "",
           "title": {
            "standoff": 15
           },
           "zerolinecolor": "#EBF0F8",
           "zerolinewidth": 2
          },
          "yaxis": {
           "automargin": true,
           "gridcolor": "#EBF0F8",
           "linecolor": "#EBF0F8",
           "ticks": "",
           "title": {
            "standoff": 15
           },
           "zerolinecolor": "#EBF0F8",
           "zerolinewidth": 2
          }
         }
        },
        "title": {
         "text": "Ratio of clonotypes predicted to be specific to other pathogens"
        },
        "width": 1200,
        "xaxis": {
         "anchor": "y",
         "domain": [
          0,
          0.45
         ],
         "showgrid": true,
         "tickangle": 45,
         "title": {
          "text": "Sample"
         }
        },
        "xaxis2": {
         "anchor": "y2",
         "domain": [
          0.55,
          1
         ],
         "showgrid": true,
         "tickangle": 45,
         "title": {
          "text": "Sample"
         }
        },
        "yaxis": {
         "anchor": "x",
         "domain": [
          0,
          1
         ],
         "showgrid": false,
         "tickangle": 45,
         "title": {
          "text": "Viral Ratio"
         }
        },
        "yaxis2": {
         "anchor": "x2",
         "domain": [
          0,
          1
         ],
         "matches": "y",
         "showgrid": false,
         "showticklabels": false,
         "tickangle": 45,
         "title": {
          "text": "Viral Ratio"
         }
        }
       }
      }
     },
     "metadata": {},
     "output_type": "display_data"
    }
   ],
   "source": [
    "plotting.plot_viral_ratio(other_virus_data, PLOTSDIR)"
   ]
  },
  {
   "cell_type": "markdown",
   "metadata": {},
   "source": [
    "## HLA prediction data for HLA-Guessr (no need to execute if predictions already available)"
   ]
  },
  {
   "cell_type": "code",
   "execution_count": null,
   "metadata": {},
   "outputs": [],
   "source": [
    "hla_data = data.copy()\n",
    "\n",
    "selected = [\n",
    "    \"junction_aa\",\n",
    "    \"v_call\",\n",
    "    \"SAMPLE\",   \n",
    "    \"TCR_Chain\" \n",
    "]\n",
    "renamed = [\n",
    "    \"cdr3aa\",\n",
    "    \"v_gene\",\n",
    "    \"Patient\",\n",
    "    \"TCR_Chain\"\n",
    "]\n",
    "\n",
    "hla_data = hla_data[selected].rename(columns=dict(zip(selected, renamed))).drop_duplicates()\n",
    "hla_data_beta = hla_data.query('TCR_Chain == \"TRB\"').drop(columns=['TCR_Chain'])\n",
    "hla_data_alpha = hla_data.query('TCR_Chain == \"TRA\"').drop(columns=['TCR_Chain'])\n",
    "\n",
    "hla_data_alpha.to_csv('/Users/fabioaffaticati/Desktop/Work/HLA-guessr/alpha_chains/hla_data_alpha_lucia.tsv', sep='\\t', index=False)\n",
    "hla_data_beta.to_csv('/Users/fabioaffaticati/Desktop/Work/HLA-guessr/beta_chains/hla_data_beta_lucia.tsv', sep='\\t', index=False)"
   ]
  },
  {
   "cell_type": "markdown",
   "metadata": {},
   "source": [
    "## HLA prediction data for HLA3 (no need to execute if predictions already available)"
   ]
  },
  {
   "cell_type": "code",
   "execution_count": 14,
   "metadata": {},
   "outputs": [
    {
     "name": "stderr",
     "output_type": "stream",
     "text": [
      "/var/folders/br/mxlpyjk52nz_ksh4b5vpy4340000gn/T/ipykernel_31034/1173232041.py:31: SettingWithCopyWarning:\n",
      "\n",
      "\n",
      "A value is trying to be set on a copy of a slice from a DataFrame.\n",
      "Try using .loc[row_indexer,col_indexer] = value instead\n",
      "\n",
      "See the caveats in the documentation: https://pandas.pydata.org/pandas-docs/stable/user_guide/indexing.html#returning-a-view-versus-a-copy\n",
      "\n",
      "/var/folders/br/mxlpyjk52nz_ksh4b5vpy4340000gn/T/ipykernel_31034/1173232041.py:31: SettingWithCopyWarning:\n",
      "\n",
      "\n",
      "A value is trying to be set on a copy of a slice from a DataFrame.\n",
      "Try using .loc[row_indexer,col_indexer] = value instead\n",
      "\n",
      "See the caveats in the documentation: https://pandas.pydata.org/pandas-docs/stable/user_guide/indexing.html#returning-a-view-versus-a-copy\n",
      "\n",
      "/var/folders/br/mxlpyjk52nz_ksh4b5vpy4340000gn/T/ipykernel_31034/1173232041.py:31: SettingWithCopyWarning:\n",
      "\n",
      "\n",
      "A value is trying to be set on a copy of a slice from a DataFrame.\n",
      "Try using .loc[row_indexer,col_indexer] = value instead\n",
      "\n",
      "See the caveats in the documentation: https://pandas.pydata.org/pandas-docs/stable/user_guide/indexing.html#returning-a-view-versus-a-copy\n",
      "\n",
      "/var/folders/br/mxlpyjk52nz_ksh4b5vpy4340000gn/T/ipykernel_31034/1173232041.py:31: SettingWithCopyWarning:\n",
      "\n",
      "\n",
      "A value is trying to be set on a copy of a slice from a DataFrame.\n",
      "Try using .loc[row_indexer,col_indexer] = value instead\n",
      "\n",
      "See the caveats in the documentation: https://pandas.pydata.org/pandas-docs/stable/user_guide/indexing.html#returning-a-view-versus-a-copy\n",
      "\n",
      "/var/folders/br/mxlpyjk52nz_ksh4b5vpy4340000gn/T/ipykernel_31034/1173232041.py:31: SettingWithCopyWarning:\n",
      "\n",
      "\n",
      "A value is trying to be set on a copy of a slice from a DataFrame.\n",
      "Try using .loc[row_indexer,col_indexer] = value instead\n",
      "\n",
      "See the caveats in the documentation: https://pandas.pydata.org/pandas-docs/stable/user_guide/indexing.html#returning-a-view-versus-a-copy\n",
      "\n",
      "/var/folders/br/mxlpyjk52nz_ksh4b5vpy4340000gn/T/ipykernel_31034/1173232041.py:31: SettingWithCopyWarning:\n",
      "\n",
      "\n",
      "A value is trying to be set on a copy of a slice from a DataFrame.\n",
      "Try using .loc[row_indexer,col_indexer] = value instead\n",
      "\n",
      "See the caveats in the documentation: https://pandas.pydata.org/pandas-docs/stable/user_guide/indexing.html#returning-a-view-versus-a-copy\n",
      "\n",
      "/var/folders/br/mxlpyjk52nz_ksh4b5vpy4340000gn/T/ipykernel_31034/1173232041.py:31: SettingWithCopyWarning:\n",
      "\n",
      "\n",
      "A value is trying to be set on a copy of a slice from a DataFrame.\n",
      "Try using .loc[row_indexer,col_indexer] = value instead\n",
      "\n",
      "See the caveats in the documentation: https://pandas.pydata.org/pandas-docs/stable/user_guide/indexing.html#returning-a-view-versus-a-copy\n",
      "\n",
      "/var/folders/br/mxlpyjk52nz_ksh4b5vpy4340000gn/T/ipykernel_31034/1173232041.py:31: SettingWithCopyWarning:\n",
      "\n",
      "\n",
      "A value is trying to be set on a copy of a slice from a DataFrame.\n",
      "Try using .loc[row_indexer,col_indexer] = value instead\n",
      "\n",
      "See the caveats in the documentation: https://pandas.pydata.org/pandas-docs/stable/user_guide/indexing.html#returning-a-view-versus-a-copy\n",
      "\n",
      "/var/folders/br/mxlpyjk52nz_ksh4b5vpy4340000gn/T/ipykernel_31034/1173232041.py:31: SettingWithCopyWarning:\n",
      "\n",
      "\n",
      "A value is trying to be set on a copy of a slice from a DataFrame.\n",
      "Try using .loc[row_indexer,col_indexer] = value instead\n",
      "\n",
      "See the caveats in the documentation: https://pandas.pydata.org/pandas-docs/stable/user_guide/indexing.html#returning-a-view-versus-a-copy\n",
      "\n",
      "/var/folders/br/mxlpyjk52nz_ksh4b5vpy4340000gn/T/ipykernel_31034/1173232041.py:31: SettingWithCopyWarning:\n",
      "\n",
      "\n",
      "A value is trying to be set on a copy of a slice from a DataFrame.\n",
      "Try using .loc[row_indexer,col_indexer] = value instead\n",
      "\n",
      "See the caveats in the documentation: https://pandas.pydata.org/pandas-docs/stable/user_guide/indexing.html#returning-a-view-versus-a-copy\n",
      "\n",
      "/var/folders/br/mxlpyjk52nz_ksh4b5vpy4340000gn/T/ipykernel_31034/1173232041.py:31: SettingWithCopyWarning:\n",
      "\n",
      "\n",
      "A value is trying to be set on a copy of a slice from a DataFrame.\n",
      "Try using .loc[row_indexer,col_indexer] = value instead\n",
      "\n",
      "See the caveats in the documentation: https://pandas.pydata.org/pandas-docs/stable/user_guide/indexing.html#returning-a-view-versus-a-copy\n",
      "\n",
      "/var/folders/br/mxlpyjk52nz_ksh4b5vpy4340000gn/T/ipykernel_31034/1173232041.py:31: SettingWithCopyWarning:\n",
      "\n",
      "\n",
      "A value is trying to be set on a copy of a slice from a DataFrame.\n",
      "Try using .loc[row_indexer,col_indexer] = value instead\n",
      "\n",
      "See the caveats in the documentation: https://pandas.pydata.org/pandas-docs/stable/user_guide/indexing.html#returning-a-view-versus-a-copy\n",
      "\n",
      "/var/folders/br/mxlpyjk52nz_ksh4b5vpy4340000gn/T/ipykernel_31034/1173232041.py:31: SettingWithCopyWarning:\n",
      "\n",
      "\n",
      "A value is trying to be set on a copy of a slice from a DataFrame.\n",
      "Try using .loc[row_indexer,col_indexer] = value instead\n",
      "\n",
      "See the caveats in the documentation: https://pandas.pydata.org/pandas-docs/stable/user_guide/indexing.html#returning-a-view-versus-a-copy\n",
      "\n",
      "/var/folders/br/mxlpyjk52nz_ksh4b5vpy4340000gn/T/ipykernel_31034/1173232041.py:31: SettingWithCopyWarning:\n",
      "\n",
      "\n",
      "A value is trying to be set on a copy of a slice from a DataFrame.\n",
      "Try using .loc[row_indexer,col_indexer] = value instead\n",
      "\n",
      "See the caveats in the documentation: https://pandas.pydata.org/pandas-docs/stable/user_guide/indexing.html#returning-a-view-versus-a-copy\n",
      "\n",
      "/var/folders/br/mxlpyjk52nz_ksh4b5vpy4340000gn/T/ipykernel_31034/1173232041.py:31: SettingWithCopyWarning:\n",
      "\n",
      "\n",
      "A value is trying to be set on a copy of a slice from a DataFrame.\n",
      "Try using .loc[row_indexer,col_indexer] = value instead\n",
      "\n",
      "See the caveats in the documentation: https://pandas.pydata.org/pandas-docs/stable/user_guide/indexing.html#returning-a-view-versus-a-copy\n",
      "\n",
      "/var/folders/br/mxlpyjk52nz_ksh4b5vpy4340000gn/T/ipykernel_31034/1173232041.py:31: SettingWithCopyWarning:\n",
      "\n",
      "\n",
      "A value is trying to be set on a copy of a slice from a DataFrame.\n",
      "Try using .loc[row_indexer,col_indexer] = value instead\n",
      "\n",
      "See the caveats in the documentation: https://pandas.pydata.org/pandas-docs/stable/user_guide/indexing.html#returning-a-view-versus-a-copy\n",
      "\n",
      "/var/folders/br/mxlpyjk52nz_ksh4b5vpy4340000gn/T/ipykernel_31034/1173232041.py:31: SettingWithCopyWarning:\n",
      "\n",
      "\n",
      "A value is trying to be set on a copy of a slice from a DataFrame.\n",
      "Try using .loc[row_indexer,col_indexer] = value instead\n",
      "\n",
      "See the caveats in the documentation: https://pandas.pydata.org/pandas-docs/stable/user_guide/indexing.html#returning-a-view-versus-a-copy\n",
      "\n"
     ]
    }
   ],
   "source": [
    "hla3_data = data.copy()\n",
    "hla3_data = hla3_data.query('TCR_Chain == \"TRB\"')\n",
    "\n",
    "hla3_data = hla3_data.groupby(['clonotype', 'SAMPLE', 'v_call','j_call','junction_aa'], as_index=False) \\\n",
    "                            .agg({'cloneFraction': 'sum', 'cloneCount': 'sum'}) \n",
    "                            \n",
    "hla3_data[['v_call', 'j_call']] += '*01'\n",
    "\n",
    "selected = [\n",
    "    \"junction_aa\",\n",
    "    \"v_call\",\n",
    "    \"j_call\",\n",
    "    \"SAMPLE\",   \n",
    "    \"cloneCount\",\n",
    "    \"cloneFraction\"\n",
    "]\n",
    "renamed = [\n",
    "    \"cdr3_b_aa\",\n",
    "    \"v_b_gene\",\n",
    "    \"j_b_gene\",\n",
    "    \"subject\",\n",
    "    \"count\",\n",
    "    \"productive_frequency\"\n",
    "]\n",
    "\n",
    "\n",
    "hla3_data = hla3_data[selected].rename(columns=dict(zip(selected, renamed)))\n",
    "\n",
    "for patient in hla3_data['subject'].unique():\n",
    "    patient_data = hla3_data.query('subject == @patient')\n",
    "    patient_data['sum_productive_templates_calc'] = patient_data['count'].sum()\n",
    "    patient_data.to_csv( ( os.path.join(\"/Users/fabioaffaticati/Desktop/Work/HLA3/hla3-main/input_data/lucia_data/\",\n",
    "                                    patient+'.hla3_data.tsv') ), sep='\\t', index=False)\n"
   ]
  },
  {
   "cell_type": "markdown",
   "metadata": {},
   "source": [
    "## Load and combine HLA predictions"
   ]
  },
  {
   "cell_type": "code",
   "execution_count": null,
   "metadata": {},
   "outputs": [],
   "source": [
    "hla3_predictions = pd.read_csv(PROCESSEDDIR + 'hla3_predictions.tsv', sep='\\t')[['sample', 'hla_1', 'hla_2', 'locus']]\n",
    "hla_guessr_predictions = pd.read_csv(PROCESSEDDIR + 'HLA-Guessr_predictions.tsv', sep='\\t')[['Individual_ID', 'hla_1', 'hla_2', 'locus']]\n",
    "\n",
    "renamed = [\n",
    "    \"sample\",\n",
    "    \"guessr_hla_1\",\n",
    "    \"guessr_hla_2\",\n",
    "    'locus'\n",
    "]\n",
    "hla_guessr_predictions.columns = renamed\n"
   ]
  },
  {
   "cell_type": "code",
   "execution_count": null,
   "metadata": {},
   "outputs": [],
   "source": [
    "combined_predictions = pd.merge(hla3_predictions, hla_guessr_predictions,\n",
    "                            on=['sample','locus'],how='outer')\n",
    "\n",
    "# for each row, if there is a match between hla_1 and guessr_hla_1\n",
    "# or guessr_hla_2 put the value in the column match\n",
    "combined_predictions['match'] = np.nan\n",
    "combined_predictions['match'] = combined_predictions.apply(\n",
    "    lambda row: row['hla_1'] if row['hla_1'] in [row['guessr_hla_1'], row['guessr_hla_2']] else \n",
    "                (row['hla_2'] if row['hla_2'] in [row['guessr_hla_1'], row['guessr_hla_2']] else row['hla_1']), axis=1)\n",
    "\n",
    "\n",
    "# save as excel file\n",
    "combined_predictions.to_excel(PROCESSEDDIR + 'combined_hla_predictions.xlsx', index=False)\n",
    "# save as csv\n",
    "combined_predictions.to_csv(PROCESSEDDIR + 'combined_hla_predictions.csv')\n",
    "combined_predictions.rename(columns={'sample': 'SAMPLE'}, inplace=True)"
   ]
  },
  {
   "cell_type": "code",
   "execution_count": null,
   "metadata": {},
   "outputs": [
    {
     "name": "stdout",
     "output_type": "stream",
     "text": [
      "Accordance ratio: 68.63% (35 matches out of 51 HLA predictions)\n"
     ]
    }
   ],
   "source": [
    "# Count how many times hla_1 or hla_2 appear in guessr_hla_1 or guessr_hla_2 in total, in combined_predictions\n",
    "def count_hla_matches(row):\n",
    "    matches = 0\n",
    "    guessr_hlas = [row['guessr_hla_1'], row['guessr_hla_2']]\n",
    "    if row['hla_1'] in guessr_hlas:\n",
    "        matches += 1\n",
    "    elif row['hla_2'] in guessr_hlas:\n",
    "        matches += 1\n",
    "    return matches\n",
    "\n",
    "matches = sum(combined_predictions.apply(count_hla_matches, axis=1))\n",
    "concordance_ratio = matches / len(combined_predictions)\n",
    "concordance_ratio = round(concordance_ratio, 4)\n",
    "\n",
    "print(f'Concordance ratio: {concordance_ratio*100}% ({matches} matches out of {len(combined_predictions)} HLA predictions)')\n"
   ]
  },
  {
   "cell_type": "markdown",
   "metadata": {},
   "source": [
    "## CDR3 length distributions"
   ]
  },
  {
   "cell_type": "code",
   "execution_count": null,
   "metadata": {},
   "outputs": [],
   "source": [
    "kolmogorov_data = (\n",
    "    pd.merge(data, DETECT_predictions.drop_duplicates(subset=['junction_aa', 'v_call', 'j_call'])[['junction_aa', 'v_call', 'j_call']], \n",
    "             how='left', indicator=True)\n",
    "    .query('_merge == \"both\"')\n",
    "    .query('SAMPLE != \"s_1\" and SAMPLE != \"s_10\" and TCR_Chain == \"TRB\"')\n",
    "    .assign(junction_aa=lambda df: df['clonotype'].str.split('_').str[1],\n",
    "            CDR3_length=lambda df: df['junction_aa'].str.len())\n",
    "    .drop_duplicates(subset=['SAMPLE', 'TIMEPOINTS', 'CONDITION', 'junction_aa', 'CDR3_length'])\n",
    "    .reset_index(drop=True)\n",
    ")\n"
   ]
  },
  {
   "cell_type": "code",
   "execution_count": null,
   "metadata": {},
   "outputs": [
    {
     "name": "stdout",
     "output_type": "stream",
     "text": [
      "baseline - KS test statistic: 0.017985067097164766, p-value: 0.9999996645501722\n",
      "V1 (50 days) - KS test statistic: 0.02608275230291618, p-value: 0.9930944633812997\n",
      "V3 (6 months) - KS test statistic: 0.03717666543180283, p-value: 0.5740014124009726\n"
     ]
    }
   ],
   "source": [
    "plotting.plot_cdr3_length_distribution(kolmogorov_data,\n",
    "                                       ['baseline', 'V1 (50 days)', 'V3 (6 months)'],\n",
    "                                       PLOTSDIR)"
   ]
  },
  {
   "cell_type": "code",
   "execution_count": null,
   "metadata": {},
   "outputs": [
    {
     "data": {
      "application/vnd.plotly.v1+json": {
       "config": {
        "plotlyServerURL": "https://plot.ly"
       },
       "data": [
        {
         "cliponaxis": false,
         "marker": {
          "color": "#004D40",
          "line": {
           "width": 2
          }
         },
         "name": "baseline",
         "showlegend": true,
         "textangle": 0,
         "textfont": {
          "size": 12
         },
         "textposition": "outside",
         "type": "bar",
         "x": [
          "s_4",
          "s_2",
          "s_3",
          "s_5",
          "s_7",
          "s_6",
          "s_1"
         ],
         "xaxis": "x",
         "y": [
          0.027510080181519923,
          0.10014343156117209,
          0.07078463269965912,
          0.06958978869581478,
          0.06940712963402478,
          0.050691040565552646,
          0.08297764455940591
         ],
         "yaxis": "y"
        },
        {
         "cliponaxis": false,
         "marker": {
          "color": "#1E88E5",
          "line": {
           "width": 2
          }
         },
         "name": "V1 (50 days)",
         "showlegend": true,
         "textangle": 0,
         "textfont": {
          "size": 12
         },
         "textposition": "outside",
         "type": "bar",
         "x": [
          "s_1",
          "s_2",
          "s_3",
          "s_4",
          "s_5",
          "s_6",
          "s_7"
         ],
         "xaxis": "x",
         "y": [
          0.03132373654684227,
          0.08391653290529695,
          0.03192627506677899,
          0.02491588251129288,
          0.0590308614257125,
          0.03412239693642498,
          0.031949131833594026
         ],
         "yaxis": "y"
        },
        {
         "cliponaxis": false,
         "marker": {
          "color": "#FFC107",
          "line": {
           "width": 2
          }
         },
         "name": "V3 (6 months)",
         "showlegend": true,
         "textangle": 0,
         "textfont": {
          "size": 12
         },
         "textposition": "outside",
         "type": "bar",
         "x": [
          "s_3",
          "s_4",
          "s_5",
          "s_1",
          "s_2",
          "s_6",
          "s_7"
         ],
         "xaxis": "x",
         "y": [
          0.1340429235233334,
          0.17301692762272594,
          0.14387695788916452,
          0.10653188321099208,
          0.1809434536808627,
          0.14770882812913577,
          0.17208082736564362
         ],
         "yaxis": "y"
        },
        {
         "cliponaxis": false,
         "marker": {
          "color": "#004D40",
          "line": {
           "width": 2
          }
         },
         "name": "baseline",
         "showlegend": false,
         "textangle": 0,
         "textfont": {
          "size": 12
         },
         "textposition": "outside",
         "type": "bar",
         "x": [
          "s_11",
          "s_12",
          "s_13",
          "s_14",
          "s_8",
          "s_15",
          "s_16",
          "s_17",
          "s_9",
          "s_10"
         ],
         "xaxis": "x2",
         "y": [
          0.028523487619554474,
          0.13117999745376938,
          0.01515621509289008,
          0.014379920087492285,
          0.025106593493139862,
          0.020328023521341054,
          0.08117367085959361,
          0.02950118293736807,
          0.006923774567986901,
          0.02351877806108569
         ],
         "yaxis": "y2"
        },
        {
         "cliponaxis": false,
         "marker": {
          "color": "#1E88E5",
          "line": {
           "width": 2
          }
         },
         "name": "V1 (50 days)",
         "showlegend": false,
         "textangle": 0,
         "textfont": {
          "size": 12
         },
         "textposition": "outside",
         "type": "bar",
         "x": [
          "s_11",
          "s_12",
          "s_13",
          "s_14",
          "s_15",
          "s_16",
          "s_17",
          "s_8",
          "s_9",
          "s_10"
         ],
         "xaxis": "x2",
         "y": [
          0.07163568331278901,
          0.22268808592829886,
          0.017397656241847456,
          0.052903156733456996,
          0.023183164816913737,
          0.03673984006988058,
          0.03397509774946441,
          0.019534820380747154,
          0.01896928591464274,
          0.026950962667511603
         ],
         "yaxis": "y2"
        },
        {
         "cliponaxis": false,
         "marker": {
          "color": "#FFC107",
          "line": {
           "width": 2
          }
         },
         "name": "V3 (6 months)",
         "showlegend": false,
         "textangle": 0,
         "textfont": {
          "size": 12
         },
         "textposition": "outside",
         "type": "bar",
         "x": [
          "s_11",
          "s_12",
          "s_13",
          "s_14",
          "s_15",
          "s_16",
          "s_17",
          "s_8",
          "s_9",
          "s_10"
         ],
         "xaxis": "x2",
         "y": [
          0.12654752740238673,
          0.08293138140748531,
          0.012268166073115544,
          0.047975252610523364,
          0.01761310698028946,
          0.07592245843002189,
          0.04545336993346215,
          0.1022301694375612,
          0.013557070927328232,
          0.015615391700138594
         ],
         "yaxis": "y2"
        },
        {
         "cliponaxis": false,
         "marker": {
          "color": "#004D40",
          "line": {
           "width": 2
          }
         },
         "name": "baseline",
         "showlegend": false,
         "textangle": 0,
         "textfont": {
          "size": 12
         },
         "textposition": "outside",
         "type": "bar",
         "x": [
          "s_4",
          "s_2",
          "s_3",
          "s_5",
          "s_7",
          "s_6",
          "s_1"
         ],
         "xaxis": "x3",
         "y": [
          0.024931411378567046,
          0.08851393138545331,
          0.07754072737004539,
          0.04641185205919855,
          0.06914981834283898,
          0.043244921238858834,
          0.08777647861249148
         ],
         "yaxis": "y3"
        },
        {
         "cliponaxis": false,
         "marker": {
          "color": "#1E88E5",
          "line": {
           "width": 2
          }
         },
         "name": "V1 (50 days)",
         "showlegend": false,
         "textangle": 0,
         "textfont": {
          "size": 12
         },
         "textposition": "outside",
         "type": "bar",
         "x": [
          "s_1",
          "s_2",
          "s_3",
          "s_4",
          "s_5",
          "s_6",
          "s_7"
         ],
         "xaxis": "x3",
         "y": [
          0.02938041923576232,
          0.08086135045167946,
          0.030613152504211632,
          0.022990001177117036,
          0.0528932748386383,
          0.03085692621230751,
          0.032049086992531395
         ],
         "yaxis": "y3"
        },
        {
         "cliponaxis": false,
         "marker": {
          "color": "#FFC107",
          "line": {
           "width": 2
          }
         },
         "name": "V3 (6 months)",
         "showlegend": false,
         "textangle": 0,
         "textfont": {
          "size": 12
         },
         "textposition": "outside",
         "type": "bar",
         "x": [
          "s_3",
          "s_4",
          "s_5",
          "s_1",
          "s_2",
          "s_6",
          "s_7"
         ],
         "xaxis": "x3",
         "y": [
          0.16927756253476897,
          0.21021761491716334,
          0.14691028774364145,
          0.11176450109033134,
          0.22563557458656555,
          0.156672350225013,
          0.19050768449629688
         ],
         "yaxis": "y3"
        },
        {
         "cliponaxis": false,
         "marker": {
          "color": "#004D40",
          "line": {
           "width": 2
          }
         },
         "name": "baseline",
         "showlegend": false,
         "textangle": 0,
         "textfont": {
          "size": 12
         },
         "textposition": "outside",
         "type": "bar",
         "x": [
          "s_11",
          "s_12",
          "s_13",
          "s_14",
          "s_8",
          "s_15",
          "s_16",
          "s_17",
          "s_9",
          "s_10"
         ],
         "xaxis": "x4",
         "y": [
          0.02770032219494163,
          0.1478489786124835,
          0.01565973644030285,
          0.018608164136818924,
          0.023911622804330995,
          0.0185746156181554,
          0.09000209906615964,
          0.02548874752428287,
          0.0065090001753682555,
          0.02287460696811123
         ],
         "yaxis": "y4"
        },
        {
         "cliponaxis": false,
         "marker": {
          "color": "#1E88E5",
          "line": {
           "width": 2
          }
         },
         "name": "V1 (50 days)",
         "showlegend": false,
         "textangle": 0,
         "textfont": {
          "size": 12
         },
         "textposition": "outside",
         "type": "bar",
         "x": [
          "s_11",
          "s_12",
          "s_13",
          "s_14",
          "s_15",
          "s_16",
          "s_17",
          "s_8",
          "s_9",
          "s_10"
         ],
         "xaxis": "x4",
         "y": [
          0.07489485255460498,
          0.27149943998295006,
          0.01689458133357828,
          0.05812473858153605,
          0.022867082976653307,
          0.036641478910165476,
          0.039648038894403166,
          0.019407622126837245,
          0.01896963264167115,
          0.02636452813052337
         ],
         "yaxis": "y4"
        },
        {
         "cliponaxis": false,
         "marker": {
          "color": "#FFC107",
          "line": {
           "width": 2
          }
         },
         "name": "V3 (6 months)",
         "showlegend": false,
         "textangle": 0,
         "textfont": {
          "size": 12
         },
         "textposition": "outside",
         "type": "bar",
         "x": [
          "s_11",
          "s_12",
          "s_13",
          "s_14",
          "s_15",
          "s_16",
          "s_17",
          "s_8",
          "s_9",
          "s_10"
         ],
         "xaxis": "x4",
         "y": [
          0.1402454789152118,
          0.08566414359800671,
          0.013473573981140933,
          0.05764822859963783,
          0.015961419066138745,
          0.0887379543700655,
          0.04679818491460713,
          0.10180577734686894,
          0.015084023289221957,
          0.016210517174138978
         ],
         "yaxis": "y4"
        }
       ],
       "layout": {
        "annotations": [
         {
          "font": {
           "size": 16
          },
          "showarrow": false,
          "text": "Healthy controls TRA",
          "x": 0.225,
          "xanchor": "center",
          "xref": "paper",
          "y": 1,
          "yanchor": "bottom",
          "yref": "paper"
         },
         {
          "font": {
           "size": 16
          },
          "showarrow": false,
          "text": "Lymphoma patients TRA",
          "x": 0.775,
          "xanchor": "center",
          "xref": "paper",
          "y": 1,
          "yanchor": "bottom",
          "yref": "paper"
         },
         {
          "font": {
           "size": 16
          },
          "showarrow": false,
          "text": "Healthy controls TRB",
          "x": 0.225,
          "xanchor": "center",
          "xref": "paper",
          "y": 0.375,
          "yanchor": "bottom",
          "yref": "paper"
         },
         {
          "font": {
           "size": 16
          },
          "showarrow": false,
          "text": "Lymphoma patients TRB",
          "x": 0.775,
          "xanchor": "center",
          "xref": "paper",
          "y": 0.375,
          "yanchor": "bottom",
          "yref": "paper"
         }
        ],
        "bargap": 0.1,
        "barmode": "group",
        "font": {
         "family": "JetBrains Mono",
         "size": 12
        },
        "height": 1000,
        "legend": {
         "title": {
          "text": "Timepoints"
         }
        },
        "template": {
         "data": {
          "bar": [
           {
            "error_x": {
             "color": "#2a3f5f"
            },
            "error_y": {
             "color": "#2a3f5f"
            },
            "marker": {
             "line": {
              "color": "white",
              "width": 0.5
             },
             "pattern": {
              "fillmode": "overlay",
              "size": 10,
              "solidity": 0.2
             }
            },
            "type": "bar"
           }
          ],
          "barpolar": [
           {
            "marker": {
             "line": {
              "color": "white",
              "width": 0.5
             },
             "pattern": {
              "fillmode": "overlay",
              "size": 10,
              "solidity": 0.2
             }
            },
            "type": "barpolar"
           }
          ],
          "carpet": [
           {
            "aaxis": {
             "endlinecolor": "#2a3f5f",
             "gridcolor": "#C8D4E3",
             "linecolor": "#C8D4E3",
             "minorgridcolor": "#C8D4E3",
             "startlinecolor": "#2a3f5f"
            },
            "baxis": {
             "endlinecolor": "#2a3f5f",
             "gridcolor": "#C8D4E3",
             "linecolor": "#C8D4E3",
             "minorgridcolor": "#C8D4E3",
             "startlinecolor": "#2a3f5f"
            },
            "type": "carpet"
           }
          ],
          "choropleth": [
           {
            "colorbar": {
             "outlinewidth": 0,
             "ticks": ""
            },
            "type": "choropleth"
           }
          ],
          "contour": [
           {
            "colorbar": {
             "outlinewidth": 0,
             "ticks": ""
            },
            "colorscale": [
             [
              0,
              "#0d0887"
             ],
             [
              0.1111111111111111,
              "#46039f"
             ],
             [
              0.2222222222222222,
              "#7201a8"
             ],
             [
              0.3333333333333333,
              "#9c179e"
             ],
             [
              0.4444444444444444,
              "#bd3786"
             ],
             [
              0.5555555555555556,
              "#d8576b"
             ],
             [
              0.6666666666666666,
              "#ed7953"
             ],
             [
              0.7777777777777778,
              "#fb9f3a"
             ],
             [
              0.8888888888888888,
              "#fdca26"
             ],
             [
              1,
              "#f0f921"
             ]
            ],
            "type": "contour"
           }
          ],
          "contourcarpet": [
           {
            "colorbar": {
             "outlinewidth": 0,
             "ticks": ""
            },
            "type": "contourcarpet"
           }
          ],
          "heatmap": [
           {
            "colorbar": {
             "outlinewidth": 0,
             "ticks": ""
            },
            "colorscale": [
             [
              0,
              "#0d0887"
             ],
             [
              0.1111111111111111,
              "#46039f"
             ],
             [
              0.2222222222222222,
              "#7201a8"
             ],
             [
              0.3333333333333333,
              "#9c179e"
             ],
             [
              0.4444444444444444,
              "#bd3786"
             ],
             [
              0.5555555555555556,
              "#d8576b"
             ],
             [
              0.6666666666666666,
              "#ed7953"
             ],
             [
              0.7777777777777778,
              "#fb9f3a"
             ],
             [
              0.8888888888888888,
              "#fdca26"
             ],
             [
              1,
              "#f0f921"
             ]
            ],
            "type": "heatmap"
           }
          ],
          "heatmapgl": [
           {
            "colorbar": {
             "outlinewidth": 0,
             "ticks": ""
            },
            "colorscale": [
             [
              0,
              "#0d0887"
             ],
             [
              0.1111111111111111,
              "#46039f"
             ],
             [
              0.2222222222222222,
              "#7201a8"
             ],
             [
              0.3333333333333333,
              "#9c179e"
             ],
             [
              0.4444444444444444,
              "#bd3786"
             ],
             [
              0.5555555555555556,
              "#d8576b"
             ],
             [
              0.6666666666666666,
              "#ed7953"
             ],
             [
              0.7777777777777778,
              "#fb9f3a"
             ],
             [
              0.8888888888888888,
              "#fdca26"
             ],
             [
              1,
              "#f0f921"
             ]
            ],
            "type": "heatmapgl"
           }
          ],
          "histogram": [
           {
            "marker": {
             "pattern": {
              "fillmode": "overlay",
              "size": 10,
              "solidity": 0.2
             }
            },
            "type": "histogram"
           }
          ],
          "histogram2d": [
           {
            "colorbar": {
             "outlinewidth": 0,
             "ticks": ""
            },
            "colorscale": [
             [
              0,
              "#0d0887"
             ],
             [
              0.1111111111111111,
              "#46039f"
             ],
             [
              0.2222222222222222,
              "#7201a8"
             ],
             [
              0.3333333333333333,
              "#9c179e"
             ],
             [
              0.4444444444444444,
              "#bd3786"
             ],
             [
              0.5555555555555556,
              "#d8576b"
             ],
             [
              0.6666666666666666,
              "#ed7953"
             ],
             [
              0.7777777777777778,
              "#fb9f3a"
             ],
             [
              0.8888888888888888,
              "#fdca26"
             ],
             [
              1,
              "#f0f921"
             ]
            ],
            "type": "histogram2d"
           }
          ],
          "histogram2dcontour": [
           {
            "colorbar": {
             "outlinewidth": 0,
             "ticks": ""
            },
            "colorscale": [
             [
              0,
              "#0d0887"
             ],
             [
              0.1111111111111111,
              "#46039f"
             ],
             [
              0.2222222222222222,
              "#7201a8"
             ],
             [
              0.3333333333333333,
              "#9c179e"
             ],
             [
              0.4444444444444444,
              "#bd3786"
             ],
             [
              0.5555555555555556,
              "#d8576b"
             ],
             [
              0.6666666666666666,
              "#ed7953"
             ],
             [
              0.7777777777777778,
              "#fb9f3a"
             ],
             [
              0.8888888888888888,
              "#fdca26"
             ],
             [
              1,
              "#f0f921"
             ]
            ],
            "type": "histogram2dcontour"
           }
          ],
          "mesh3d": [
           {
            "colorbar": {
             "outlinewidth": 0,
             "ticks": ""
            },
            "type": "mesh3d"
           }
          ],
          "parcoords": [
           {
            "line": {
             "colorbar": {
              "outlinewidth": 0,
              "ticks": ""
             }
            },
            "type": "parcoords"
           }
          ],
          "pie": [
           {
            "automargin": true,
            "type": "pie"
           }
          ],
          "scatter": [
           {
            "fillpattern": {
             "fillmode": "overlay",
             "size": 10,
             "solidity": 0.2
            },
            "type": "scatter"
           }
          ],
          "scatter3d": [
           {
            "line": {
             "colorbar": {
              "outlinewidth": 0,
              "ticks": ""
             }
            },
            "marker": {
             "colorbar": {
              "outlinewidth": 0,
              "ticks": ""
             }
            },
            "type": "scatter3d"
           }
          ],
          "scattercarpet": [
           {
            "marker": {
             "colorbar": {
              "outlinewidth": 0,
              "ticks": ""
             }
            },
            "type": "scattercarpet"
           }
          ],
          "scattergeo": [
           {
            "marker": {
             "colorbar": {
              "outlinewidth": 0,
              "ticks": ""
             }
            },
            "type": "scattergeo"
           }
          ],
          "scattergl": [
           {
            "marker": {
             "colorbar": {
              "outlinewidth": 0,
              "ticks": ""
             }
            },
            "type": "scattergl"
           }
          ],
          "scattermapbox": [
           {
            "marker": {
             "colorbar": {
              "outlinewidth": 0,
              "ticks": ""
             }
            },
            "type": "scattermapbox"
           }
          ],
          "scatterpolar": [
           {
            "marker": {
             "colorbar": {
              "outlinewidth": 0,
              "ticks": ""
             }
            },
            "type": "scatterpolar"
           }
          ],
          "scatterpolargl": [
           {
            "marker": {
             "colorbar": {
              "outlinewidth": 0,
              "ticks": ""
             }
            },
            "type": "scatterpolargl"
           }
          ],
          "scatterternary": [
           {
            "marker": {
             "colorbar": {
              "outlinewidth": 0,
              "ticks": ""
             }
            },
            "type": "scatterternary"
           }
          ],
          "surface": [
           {
            "colorbar": {
             "outlinewidth": 0,
             "ticks": ""
            },
            "colorscale": [
             [
              0,
              "#0d0887"
             ],
             [
              0.1111111111111111,
              "#46039f"
             ],
             [
              0.2222222222222222,
              "#7201a8"
             ],
             [
              0.3333333333333333,
              "#9c179e"
             ],
             [
              0.4444444444444444,
              "#bd3786"
             ],
             [
              0.5555555555555556,
              "#d8576b"
             ],
             [
              0.6666666666666666,
              "#ed7953"
             ],
             [
              0.7777777777777778,
              "#fb9f3a"
             ],
             [
              0.8888888888888888,
              "#fdca26"
             ],
             [
              1,
              "#f0f921"
             ]
            ],
            "type": "surface"
           }
          ],
          "table": [
           {
            "cells": {
             "fill": {
              "color": "#EBF0F8"
             },
             "line": {
              "color": "white"
             }
            },
            "header": {
             "fill": {
              "color": "#C8D4E3"
             },
             "line": {
              "color": "white"
             }
            },
            "type": "table"
           }
          ]
         },
         "layout": {
          "annotationdefaults": {
           "arrowcolor": "#2a3f5f",
           "arrowhead": 0,
           "arrowwidth": 1
          },
          "autotypenumbers": "strict",
          "coloraxis": {
           "colorbar": {
            "outlinewidth": 0,
            "ticks": ""
           }
          },
          "colorscale": {
           "diverging": [
            [
             0,
             "#8e0152"
            ],
            [
             0.1,
             "#c51b7d"
            ],
            [
             0.2,
             "#de77ae"
            ],
            [
             0.3,
             "#f1b6da"
            ],
            [
             0.4,
             "#fde0ef"
            ],
            [
             0.5,
             "#f7f7f7"
            ],
            [
             0.6,
             "#e6f5d0"
            ],
            [
             0.7,
             "#b8e186"
            ],
            [
             0.8,
             "#7fbc41"
            ],
            [
             0.9,
             "#4d9221"
            ],
            [
             1,
             "#276419"
            ]
           ],
           "sequential": [
            [
             0,
             "#0d0887"
            ],
            [
             0.1111111111111111,
             "#46039f"
            ],
            [
             0.2222222222222222,
             "#7201a8"
            ],
            [
             0.3333333333333333,
             "#9c179e"
            ],
            [
             0.4444444444444444,
             "#bd3786"
            ],
            [
             0.5555555555555556,
             "#d8576b"
            ],
            [
             0.6666666666666666,
             "#ed7953"
            ],
            [
             0.7777777777777778,
             "#fb9f3a"
            ],
            [
             0.8888888888888888,
             "#fdca26"
            ],
            [
             1,
             "#f0f921"
            ]
           ],
           "sequentialminus": [
            [
             0,
             "#0d0887"
            ],
            [
             0.1111111111111111,
             "#46039f"
            ],
            [
             0.2222222222222222,
             "#7201a8"
            ],
            [
             0.3333333333333333,
             "#9c179e"
            ],
            [
             0.4444444444444444,
             "#bd3786"
            ],
            [
             0.5555555555555556,
             "#d8576b"
            ],
            [
             0.6666666666666666,
             "#ed7953"
            ],
            [
             0.7777777777777778,
             "#fb9f3a"
            ],
            [
             0.8888888888888888,
             "#fdca26"
            ],
            [
             1,
             "#f0f921"
            ]
           ]
          },
          "colorway": [
           "#636efa",
           "#EF553B",
           "#00cc96",
           "#ab63fa",
           "#FFA15A",
           "#19d3f3",
           "#FF6692",
           "#B6E880",
           "#FF97FF",
           "#FECB52"
          ],
          "font": {
           "color": "#2a3f5f"
          },
          "geo": {
           "bgcolor": "white",
           "lakecolor": "white",
           "landcolor": "white",
           "showlakes": true,
           "showland": true,
           "subunitcolor": "#C8D4E3"
          },
          "hoverlabel": {
           "align": "left"
          },
          "hovermode": "closest",
          "mapbox": {
           "style": "light"
          },
          "paper_bgcolor": "white",
          "plot_bgcolor": "white",
          "polar": {
           "angularaxis": {
            "gridcolor": "#EBF0F8",
            "linecolor": "#EBF0F8",
            "ticks": ""
           },
           "bgcolor": "white",
           "radialaxis": {
            "gridcolor": "#EBF0F8",
            "linecolor": "#EBF0F8",
            "ticks": ""
           }
          },
          "scene": {
           "xaxis": {
            "backgroundcolor": "white",
            "gridcolor": "#DFE8F3",
            "gridwidth": 2,
            "linecolor": "#EBF0F8",
            "showbackground": true,
            "ticks": "",
            "zerolinecolor": "#EBF0F8"
           },
           "yaxis": {
            "backgroundcolor": "white",
            "gridcolor": "#DFE8F3",
            "gridwidth": 2,
            "linecolor": "#EBF0F8",
            "showbackground": true,
            "ticks": "",
            "zerolinecolor": "#EBF0F8"
           },
           "zaxis": {
            "backgroundcolor": "white",
            "gridcolor": "#DFE8F3",
            "gridwidth": 2,
            "linecolor": "#EBF0F8",
            "showbackground": true,
            "ticks": "",
            "zerolinecolor": "#EBF0F8"
           }
          },
          "shapedefaults": {
           "line": {
            "color": "#2a3f5f"
           }
          },
          "ternary": {
           "aaxis": {
            "gridcolor": "#DFE8F3",
            "linecolor": "#A2B1C6",
            "ticks": ""
           },
           "baxis": {
            "gridcolor": "#DFE8F3",
            "linecolor": "#A2B1C6",
            "ticks": ""
           },
           "bgcolor": "white",
           "caxis": {
            "gridcolor": "#DFE8F3",
            "linecolor": "#A2B1C6",
            "ticks": ""
           }
          },
          "title": {
           "x": 0.05
          },
          "xaxis": {
           "automargin": true,
           "gridcolor": "#EBF0F8",
           "linecolor": "#EBF0F8",
           "ticks": "",
           "title": {
            "standoff": 15
           },
           "zerolinecolor": "#EBF0F8",
           "zerolinewidth": 2
          },
          "yaxis": {
           "automargin": true,
           "gridcolor": "#EBF0F8",
           "linecolor": "#EBF0F8",
           "ticks": "",
           "title": {
            "standoff": 15
           },
           "zerolinecolor": "#EBF0F8",
           "zerolinewidth": 2
          }
         }
        },
        "title": {
         "text": "Comparison of Unique CDR3 Ratios"
        },
        "width": 1800,
        "xaxis": {
         "anchor": "y",
         "domain": [
          0,
          0.45
         ],
         "showgrid": true,
         "tickangle": 45,
         "title": {
          "text": "Sample"
         }
        },
        "xaxis2": {
         "anchor": "y2",
         "domain": [
          0.55,
          1
         ],
         "showgrid": true,
         "tickangle": 45,
         "title": {
          "text": "Sample"
         }
        },
        "xaxis3": {
         "anchor": "y3",
         "domain": [
          0,
          0.45
         ],
         "showgrid": true,
         "tickangle": 45,
         "title": {
          "text": "Sample"
         }
        },
        "xaxis4": {
         "anchor": "y4",
         "domain": [
          0.55,
          1
         ],
         "showgrid": true,
         "tickangle": 45,
         "title": {
          "text": "Sample"
         }
        },
        "yaxis": {
         "anchor": "x",
         "domain": [
          0.625,
          1
         ],
         "showgrid": false,
         "tickangle": 45,
         "tickmode": "array",
         "title": {
          "text": "Normalised unique CDR3"
         }
        },
        "yaxis2": {
         "anchor": "x2",
         "domain": [
          0.625,
          1
         ],
         "matches": "y",
         "showgrid": false,
         "showticklabels": false,
         "tickangle": 45,
         "tickmode": "array"
        },
        "yaxis3": {
         "anchor": "x3",
         "domain": [
          0,
          0.375
         ],
         "showgrid": false,
         "tickangle": 45,
         "tickmode": "array",
         "title": {
          "text": "Normalised unique CDR3"
         }
        },
        "yaxis4": {
         "anchor": "x4",
         "domain": [
          0,
          0.375
         ],
         "matches": "y3",
         "showgrid": false,
         "showticklabels": false,
         "tickangle": 45,
         "tickmode": "array"
        }
       }
      }
     },
     "metadata": {},
     "output_type": "display_data"
    }
   ],
   "source": [
    "plotting.plot_repertoire_sizes(uniques, 'before_resampling_', PLOTSDIR)"
   ]
  },
  {
   "cell_type": "code",
   "execution_count": null,
   "metadata": {},
   "outputs": [],
   "source": [
    "tcra_size_resample = round(uniques.query('not(CONDITION == \"Healthy controls\" \\\n",
    "                                        and TIMEPOINTS == \"V3 (6 months)\") \\\n",
    "                                        and TCR_Chain == \"TRA\"')['countUniqueCDR3'].mean())\n",
    "tcrb_size_resample = round(uniques.query('not(CONDITION == \"Healthy controls\" \\\n",
    "                                        and TIMEPOINTS == \"V3 (6 months)\") \\\n",
    "                                        and TCR_Chain == \"TRB\"')['countUniqueCDR3'].mean())"
   ]
  },
  {
   "cell_type": "code",
   "execution_count": null,
   "metadata": {},
   "outputs": [
    {
     "data": {
      "text/plain": [
       "59749"
      ]
     },
     "execution_count": 26,
     "metadata": {},
     "output_type": "execute_result"
    }
   ],
   "source": [
    "tcrb_size_resample"
   ]
  },
  {
   "cell_type": "code",
   "execution_count": null,
   "metadata": {},
   "outputs": [],
   "source": [
    "# resample data to get a distribution of unique CDR3s\n",
    "# the probability that a row will be selected is proportional to the cloneFraction\n",
    "# the number of unique rows to select is equal to the a value given\n",
    "def resample(data, size, random_state = 42):\n",
    "    return data.sample(n=size, replace=False, weights=data['cloneFraction'], random_state=random_state)"
   ]
  },
  {
   "cell_type": "markdown",
   "metadata": {},
   "source": [
    "## 1000 fold resampling"
   ]
  },
  {
   "cell_type": "code",
   "execution_count": null,
   "metadata": {},
   "outputs": [],
   "source": [
    "def resampling_test(data, uniques):\n",
    "    \n",
    "    meanFractions = []\n",
    "\n",
    "    for perm in tqdm(range(1000)):\n",
    "        \n",
    "        \n",
    "        res = []\n",
    "        \n",
    "        for sample_id in uniques.query('CONDITION == \"Healthy\" and TIMEPOINTS == \"V3\"')['sample_id'].unique():\n",
    "            \n",
    "            resampled = resample(data.query('sample_id == @sample_id and TCR_Chain == \"TRB\"'), tcrb_size_resample, random_state = perm)\n",
    "            \n",
    "            res.append(resampled)\n",
    "            \n",
    "        res = pd.concat(res)\n",
    "                \n",
    "        res = pd.merge(res, DETECT_predictions.drop_duplicates(subset=['junction_aa','v_call', 'j_call'])\n",
    "                    [['junction_aa','v_call', 'j_call']], how='left', indicator=True)\n",
    "\n",
    "        res = res.query('_merge == \"both\"')\n",
    "        \n",
    "        res = res.groupby(\n",
    "            ['sample_id', 'CONDITION', 'TIMEPOINTS', 'SAMPLE'], as_index=False).agg({'cloneFraction': 'sum'})\n",
    "\n",
    "        meanFractions.append(np.mean(res['cloneFraction']))\n",
    "        \n",
    "    return meanFractions\n"
   ]
  },
  {
   "cell_type": "code",
   "execution_count": null,
   "metadata": {},
   "outputs": [],
   "source": [
    "#meanFractions = resampling_test(data, uniques)\n",
    "\n",
    "### Long code, save the results to not execute it every time\n",
    "#meanFractions = resampling_test(data, uniques)\n",
    "## save the mean fractions to a csv file\n",
    "#df = pd.DataFrame([x.round(7) for x in meanFractions], columns=['Value']).value_counts().reset_index(name='Frequency')\n",
    "#df.to_csv(PROCESSEDDIR + 'resampling_test.csv', index=False)"
   ]
  },
  {
   "cell_type": "code",
   "execution_count": null,
   "metadata": {},
   "outputs": [
    {
     "data": {
      "application/vnd.microsoft.datawrangler.viewer.v0+json": {
       "columns": [
        {
         "name": "index",
         "rawType": "int64",
         "type": "integer"
        },
        {
         "name": "Value",
         "rawType": "float64",
         "type": "float"
        },
        {
         "name": "Frequency",
         "rawType": "int64",
         "type": "integer"
        }
       ],
       "conversionMethod": "pd.DataFrame",
       "ref": "76cd6529-4a43-447d-921b-9f47023f020d",
       "rows": [
        [
         "0",
         "0.0001534",
         "17"
        ],
        [
         "1",
         "0.0001531",
         "16"
        ],
        [
         "2",
         "0.0001548",
         "15"
        ],
        [
         "3",
         "0.0001532",
         "15"
        ],
        [
         "4",
         "0.0001535",
         "14"
        ]
       ],
       "shape": {
        "columns": 2,
        "rows": 5
       }
      },
      "text/html": [
       "<div>\n",
       "<style scoped>\n",
       "    .dataframe tbody tr th:only-of-type {\n",
       "        vertical-align: middle;\n",
       "    }\n",
       "\n",
       "    .dataframe tbody tr th {\n",
       "        vertical-align: top;\n",
       "    }\n",
       "\n",
       "    .dataframe thead th {\n",
       "        text-align: right;\n",
       "    }\n",
       "</style>\n",
       "<table border=\"1\" class=\"dataframe\">\n",
       "  <thead>\n",
       "    <tr style=\"text-align: right;\">\n",
       "      <th></th>\n",
       "      <th>Value</th>\n",
       "      <th>Frequency</th>\n",
       "    </tr>\n",
       "  </thead>\n",
       "  <tbody>\n",
       "    <tr>\n",
       "      <th>0</th>\n",
       "      <td>0.000153</td>\n",
       "      <td>17</td>\n",
       "    </tr>\n",
       "    <tr>\n",
       "      <th>1</th>\n",
       "      <td>0.000153</td>\n",
       "      <td>16</td>\n",
       "    </tr>\n",
       "    <tr>\n",
       "      <th>2</th>\n",
       "      <td>0.000155</td>\n",
       "      <td>15</td>\n",
       "    </tr>\n",
       "    <tr>\n",
       "      <th>3</th>\n",
       "      <td>0.000153</td>\n",
       "      <td>15</td>\n",
       "    </tr>\n",
       "    <tr>\n",
       "      <th>4</th>\n",
       "      <td>0.000153</td>\n",
       "      <td>14</td>\n",
       "    </tr>\n",
       "  </tbody>\n",
       "</table>\n",
       "</div>"
      ],
      "text/plain": [
       "      Value  Frequency\n",
       "0  0.000153         17\n",
       "1  0.000153         16\n",
       "2  0.000155         15\n",
       "3  0.000153         15\n",
       "4  0.000153         14"
      ]
     },
     "execution_count": 28,
     "metadata": {},
     "output_type": "execute_result"
    }
   ],
   "source": [
    "resampling_test = pd.read_csv(PROCESSEDDIR + 'resampling_test.csv')\n",
    "resampling_test.head()"
   ]
  },
  {
   "cell_type": "code",
   "execution_count": null,
   "metadata": {},
   "outputs": [],
   "source": [
    "resampled_data = pd.DataFrame()\n",
    "for sample_id in uniques.query('CONDITION == \"Healthy controls\" and TIMEPOINTS == \"V3 (6 months)\"')['sample_id'].unique():\n",
    "    \n",
    "    for chain in ['TRA', 'TRB']:\n",
    "        \n",
    "        if chain == 'TRA':\n",
    "            resampled = resample(data.query('sample_id == @sample_id and TCR_Chain == @chain'), tcra_size_resample, random_state = 42)\n",
    "        else:\n",
    "            resampled = resample(data.query('sample_id == @sample_id and TCR_Chain == @chain'), tcrb_size_resample, random_state = 42)\n",
    "            \n",
    "        if resampled_data.empty:\n",
    "            resampled_data = resampled\n",
    "        else:\n",
    "            resampled_data = pd.concat([resampled, resampled_data])"
   ]
  },
  {
   "cell_type": "code",
   "execution_count": null,
   "metadata": {},
   "outputs": [],
   "source": [
    "selected_resampling_covid = resampled_data.query('TCR_Chain == \"TRB\"')\n",
    "selected_resampling_covid = pd.merge(selected_resampling_covid, DETECT_predictions.drop_duplicates(subset=['junction_aa','v_call', 'j_call'])\n",
    "                    [['junction_aa','v_call', 'j_call']], how='left', indicator=True)\n",
    "\n",
    "selected_resampling_covid = selected_resampling_covid.query('_merge == \"both\"')\n",
    "selected_resampling_covid = selected_resampling_covid.groupby(['sample_id', 'CONDITION', 'TIMEPOINTS', 'SAMPLE'],\n",
    "                                                              as_index=False).agg({'cloneFraction': 'sum'})['cloneFraction'].mean()"
   ]
  },
  {
   "cell_type": "code",
   "execution_count": null,
   "metadata": {},
   "outputs": [
    {
     "ename": "NameError",
     "evalue": "name 'resampling_test' is not defined",
     "output_type": "error",
     "traceback": [
      "\u001b[0;31m---------------------------------------------------------------------------\u001b[0m",
      "\u001b[0;31mNameError\u001b[0m                                 Traceback (most recent call last)",
      "Cell \u001b[0;32mIn[30], line 6\u001b[0m\n\u001b[1;32m      2\u001b[0m ro\u001b[38;5;241m.\u001b[39mr(\u001b[38;5;124m'''\u001b[39m\n\u001b[1;32m      3\u001b[0m \u001b[38;5;124m    source(\u001b[39m\u001b[38;5;124m'\u001b[39m\u001b[38;5;124msrc/utils/plotting.R\u001b[39m\u001b[38;5;124m'\u001b[39m\u001b[38;5;124m)\u001b[39m\n\u001b[1;32m      4\u001b[0m \u001b[38;5;124m'''\u001b[39m)\n\u001b[1;32m      5\u001b[0m mean_clone_dist \u001b[38;5;241m=\u001b[39m ro\u001b[38;5;241m.\u001b[39mglobalenv[\u001b[38;5;124m'\u001b[39m\u001b[38;5;124mmean_clone_dist\u001b[39m\u001b[38;5;124m'\u001b[39m]\n\u001b[0;32m----> 6\u001b[0m mean_clone_dist(\u001b[43mresampling_test\u001b[49m, selected_resampling_covid\u001b[38;5;241m.\u001b[39mround(\u001b[38;5;241m7\u001b[39m), PLOTSDIR)\n",
      "\u001b[0;31mNameError\u001b[0m: name 'resampling_test' is not defined"
     ]
    }
   ],
   "source": [
    "pandas2ri.activate()\n",
    "ro.r('''\n",
    "    source('src/utils/plotting.R')\n",
    "''')\n",
    "mean_clone_dist = ro.globalenv['mean_clone_dist']\n",
    "mean_clone_dist(resampling_test, selected_resampling_covid.round(7), PLOTSDIR)"
   ]
  },
  {
   "cell_type": "markdown",
   "metadata": {},
   "source": [
    "## From now on we will use the resampled data"
   ]
  },
  {
   "cell_type": "code",
   "execution_count": null,
   "metadata": {},
   "outputs": [],
   "source": [
    "# select if the sample is not Healthy V3\n",
    "resampling_data = data.query('not(CONDITION == \"Healthy controls\" and TIMEPOINTS == \"V3 (6 months)\")')\n",
    "resampling_data = pd.concat([resampling_data, resampled_data])\n",
    "resampling_data.reset_index(drop=True, inplace=True)"
   ]
  },
  {
   "cell_type": "code",
   "execution_count": null,
   "metadata": {},
   "outputs": [],
   "source": [
    "uniques = pd.DataFrame({'countUniqueCDR3': resampling_data.query('TCR_Chain == \"TRA\" \\\n",
    "                        or TCR_Chain == \"TRB\"').groupby(['sample_id', 'TCR_Chain'])['clonotype'].nunique()}).reset_index()\n",
    "uniques = pd.merge(uniques, metadata, on = 'sample_id', how='left')\n",
    "\n",
    "# group by sample_id and sum cloneCount\n",
    "library_size = data.groupby(['sample_id','TCR_Chain']).agg({'cloneCount': 'sum'}).reset_index()\n",
    "uniques = pd.merge(uniques, library_size, on = ['sample_id', 'TCR_Chain'], how='left')\n",
    "uniques['normalizedUniqueCDR3'] = uniques['countUniqueCDR3'] / uniques['cloneCount']"
   ]
  },
  {
   "cell_type": "code",
   "execution_count": null,
   "metadata": {},
   "outputs": [
    {
     "data": {
      "application/vnd.plotly.v1+json": {
       "config": {
        "plotlyServerURL": "https://plot.ly"
       },
       "data": [
        {
         "cliponaxis": false,
         "marker": {
          "color": "#004D40",
          "line": {
           "width": 2
          }
         },
         "name": "baseline",
         "showlegend": true,
         "textangle": 0,
         "textfont": {
          "size": 12
         },
         "textposition": "outside",
         "type": "bar",
         "x": [
          "s_4",
          "s_2",
          "s_3",
          "s_5",
          "s_7",
          "s_6",
          "s_1"
         ],
         "xaxis": "x",
         "y": [
          0.027510080181519923,
          0.10014343156117209,
          0.07078463269965912,
          0.06958978869581478,
          0.06940712963402478,
          0.050691040565552646,
          0.08297764455940591
         ],
         "yaxis": "y"
        },
        {
         "cliponaxis": false,
         "marker": {
          "color": "#1E88E5",
          "line": {
           "width": 2
          }
         },
         "name": "V1 (50 days)",
         "showlegend": true,
         "textangle": 0,
         "textfont": {
          "size": 12
         },
         "textposition": "outside",
         "type": "bar",
         "x": [
          "s_1",
          "s_2",
          "s_3",
          "s_4",
          "s_5",
          "s_6",
          "s_7"
         ],
         "xaxis": "x",
         "y": [
          0.03132373654684227,
          0.08391653290529695,
          0.03192627506677899,
          0.02491588251129288,
          0.0590308614257125,
          0.03412239693642498,
          0.031949131833594026
         ],
         "yaxis": "y"
        },
        {
         "cliponaxis": false,
         "marker": {
          "color": "#FFC107",
          "line": {
           "width": 2
          }
         },
         "name": "V3 (6 months)",
         "showlegend": true,
         "textangle": 0,
         "textfont": {
          "size": 12
         },
         "textposition": "outside",
         "type": "bar",
         "x": [
          "s_3",
          "s_4",
          "s_5",
          "s_1",
          "s_2",
          "s_6",
          "s_7"
         ],
         "xaxis": "x",
         "y": [
          0.041934268535308024,
          0.05064981030382435,
          0.04938966795030153,
          0.05165563273377976,
          0.04390690650048906,
          0.05123205837147392,
          0.049461586904490686
         ],
         "yaxis": "y"
        },
        {
         "cliponaxis": false,
         "marker": {
          "color": "#004D40",
          "line": {
           "width": 2
          }
         },
         "name": "baseline",
         "showlegend": false,
         "textangle": 0,
         "textfont": {
          "size": 12
         },
         "textposition": "outside",
         "type": "bar",
         "x": [
          "s_11",
          "s_12",
          "s_13",
          "s_14",
          "s_8",
          "s_15",
          "s_16",
          "s_17",
          "s_9",
          "s_10"
         ],
         "xaxis": "x2",
         "y": [
          0.028523487619554474,
          0.13117999745376938,
          0.01515621509289008,
          0.014379920087492285,
          0.025106593493139862,
          0.020328023521341054,
          0.08117367085959361,
          0.02950118293736807,
          0.006923774567986901,
          0.02351877806108569
         ],
         "yaxis": "y2"
        },
        {
         "cliponaxis": false,
         "marker": {
          "color": "#1E88E5",
          "line": {
           "width": 2
          }
         },
         "name": "V1 (50 days)",
         "showlegend": false,
         "textangle": 0,
         "textfont": {
          "size": 12
         },
         "textposition": "outside",
         "type": "bar",
         "x": [
          "s_11",
          "s_12",
          "s_13",
          "s_14",
          "s_15",
          "s_16",
          "s_17",
          "s_8",
          "s_9",
          "s_10"
         ],
         "xaxis": "x2",
         "y": [
          0.07163568331278901,
          0.22268808592829886,
          0.017397656241847456,
          0.052903156733456996,
          0.023183164816913737,
          0.03673984006988058,
          0.03397509774946441,
          0.019534820380747154,
          0.01896928591464274,
          0.026950962667511603
         ],
         "yaxis": "y2"
        },
        {
         "cliponaxis": false,
         "marker": {
          "color": "#FFC107",
          "line": {
           "width": 2
          }
         },
         "name": "V3 (6 months)",
         "showlegend": false,
         "textangle": 0,
         "textfont": {
          "size": 12
         },
         "textposition": "outside",
         "type": "bar",
         "x": [
          "s_11",
          "s_12",
          "s_13",
          "s_14",
          "s_15",
          "s_16",
          "s_17",
          "s_8",
          "s_9",
          "s_10"
         ],
         "xaxis": "x2",
         "y": [
          0.12654752740238673,
          0.08293138140748531,
          0.012268166073115544,
          0.047975252610523364,
          0.01761310698028946,
          0.07592245843002189,
          0.04545336993346215,
          0.1022301694375612,
          0.013557070927328232,
          0.015615391700138594
         ],
         "yaxis": "y2"
        },
        {
         "cliponaxis": false,
         "marker": {
          "color": "#004D40",
          "line": {
           "width": 2
          }
         },
         "name": "baseline",
         "showlegend": false,
         "textangle": 0,
         "textfont": {
          "size": 12
         },
         "textposition": "outside",
         "type": "bar",
         "x": [
          "s_4",
          "s_2",
          "s_3",
          "s_5",
          "s_7",
          "s_6",
          "s_1"
         ],
         "xaxis": "x3",
         "y": [
          0.024931411378567046,
          0.08851393138545331,
          0.07754072737004539,
          0.04641185205919855,
          0.06914981834283898,
          0.043244921238858834,
          0.08777647861249148
         ],
         "yaxis": "y3"
        },
        {
         "cliponaxis": false,
         "marker": {
          "color": "#1E88E5",
          "line": {
           "width": 2
          }
         },
         "name": "V1 (50 days)",
         "showlegend": false,
         "textangle": 0,
         "textfont": {
          "size": 12
         },
         "textposition": "outside",
         "type": "bar",
         "x": [
          "s_1",
          "s_2",
          "s_3",
          "s_4",
          "s_5",
          "s_6",
          "s_7"
         ],
         "xaxis": "x3",
         "y": [
          0.02938041923576232,
          0.08086135045167946,
          0.030613152504211632,
          0.022990001177117036,
          0.0528932748386383,
          0.03085692621230751,
          0.032049086992531395
         ],
         "yaxis": "y3"
        },
        {
         "cliponaxis": false,
         "marker": {
          "color": "#FFC107",
          "line": {
           "width": 2
          }
         },
         "name": "V3 (6 months)",
         "showlegend": false,
         "textangle": 0,
         "textfont": {
          "size": 12
         },
         "textposition": "outside",
         "type": "bar",
         "x": [
          "s_3",
          "s_4",
          "s_5",
          "s_1",
          "s_2",
          "s_6",
          "s_7"
         ],
         "xaxis": "x3",
         "y": [
          0.04916949481716048,
          0.05448488805561837,
          0.05414415908409204,
          0.06303454984138238,
          0.0500477031698526,
          0.05387418206802778,
          0.05597232344769053
         ],
         "yaxis": "y3"
        },
        {
         "cliponaxis": false,
         "marker": {
          "color": "#004D40",
          "line": {
           "width": 2
          }
         },
         "name": "baseline",
         "showlegend": false,
         "textangle": 0,
         "textfont": {
          "size": 12
         },
         "textposition": "outside",
         "type": "bar",
         "x": [
          "s_11",
          "s_12",
          "s_13",
          "s_14",
          "s_8",
          "s_15",
          "s_16",
          "s_17",
          "s_9",
          "s_10"
         ],
         "xaxis": "x4",
         "y": [
          0.02770032219494163,
          0.1478489786124835,
          0.01565973644030285,
          0.018608164136818924,
          0.023911622804330995,
          0.0185746156181554,
          0.09000209906615964,
          0.02548874752428287,
          0.0065090001753682555,
          0.02287460696811123
         ],
         "yaxis": "y4"
        },
        {
         "cliponaxis": false,
         "marker": {
          "color": "#1E88E5",
          "line": {
           "width": 2
          }
         },
         "name": "V1 (50 days)",
         "showlegend": false,
         "textangle": 0,
         "textfont": {
          "size": 12
         },
         "textposition": "outside",
         "type": "bar",
         "x": [
          "s_11",
          "s_12",
          "s_13",
          "s_14",
          "s_15",
          "s_16",
          "s_17",
          "s_8",
          "s_9",
          "s_10"
         ],
         "xaxis": "x4",
         "y": [
          0.07489485255460498,
          0.27149943998295006,
          0.01689458133357828,
          0.05812473858153605,
          0.022867082976653307,
          0.036641478910165476,
          0.039648038894403166,
          0.019407622126837245,
          0.01896963264167115,
          0.02636452813052337
         ],
         "yaxis": "y4"
        },
        {
         "cliponaxis": false,
         "marker": {
          "color": "#FFC107",
          "line": {
           "width": 2
          }
         },
         "name": "V3 (6 months)",
         "showlegend": false,
         "textangle": 0,
         "textfont": {
          "size": 12
         },
         "textposition": "outside",
         "type": "bar",
         "x": [
          "s_11",
          "s_12",
          "s_13",
          "s_14",
          "s_15",
          "s_16",
          "s_17",
          "s_8",
          "s_9",
          "s_10"
         ],
         "xaxis": "x4",
         "y": [
          0.1402454789152118,
          0.08566414359800671,
          0.013473573981140933,
          0.05764822859963783,
          0.015961419066138745,
          0.0887379543700655,
          0.04679818491460713,
          0.10180577734686894,
          0.015084023289221957,
          0.016210517174138978
         ],
         "yaxis": "y4"
        }
       ],
       "layout": {
        "annotations": [
         {
          "font": {
           "size": 16
          },
          "showarrow": false,
          "text": "Healthy controls TRA",
          "x": 0.225,
          "xanchor": "center",
          "xref": "paper",
          "y": 1,
          "yanchor": "bottom",
          "yref": "paper"
         },
         {
          "font": {
           "size": 16
          },
          "showarrow": false,
          "text": "Lymphoma patients TRA",
          "x": 0.775,
          "xanchor": "center",
          "xref": "paper",
          "y": 1,
          "yanchor": "bottom",
          "yref": "paper"
         },
         {
          "font": {
           "size": 16
          },
          "showarrow": false,
          "text": "Healthy controls TRB",
          "x": 0.225,
          "xanchor": "center",
          "xref": "paper",
          "y": 0.375,
          "yanchor": "bottom",
          "yref": "paper"
         },
         {
          "font": {
           "size": 16
          },
          "showarrow": false,
          "text": "Lymphoma patients TRB",
          "x": 0.775,
          "xanchor": "center",
          "xref": "paper",
          "y": 0.375,
          "yanchor": "bottom",
          "yref": "paper"
         }
        ],
        "bargap": 0.1,
        "barmode": "group",
        "font": {
         "family": "JetBrains Mono",
         "size": 12
        },
        "height": 1000,
        "legend": {
         "title": {
          "text": "Timepoints"
         }
        },
        "template": {
         "data": {
          "bar": [
           {
            "error_x": {
             "color": "#2a3f5f"
            },
            "error_y": {
             "color": "#2a3f5f"
            },
            "marker": {
             "line": {
              "color": "white",
              "width": 0.5
             },
             "pattern": {
              "fillmode": "overlay",
              "size": 10,
              "solidity": 0.2
             }
            },
            "type": "bar"
           }
          ],
          "barpolar": [
           {
            "marker": {
             "line": {
              "color": "white",
              "width": 0.5
             },
             "pattern": {
              "fillmode": "overlay",
              "size": 10,
              "solidity": 0.2
             }
            },
            "type": "barpolar"
           }
          ],
          "carpet": [
           {
            "aaxis": {
             "endlinecolor": "#2a3f5f",
             "gridcolor": "#C8D4E3",
             "linecolor": "#C8D4E3",
             "minorgridcolor": "#C8D4E3",
             "startlinecolor": "#2a3f5f"
            },
            "baxis": {
             "endlinecolor": "#2a3f5f",
             "gridcolor": "#C8D4E3",
             "linecolor": "#C8D4E3",
             "minorgridcolor": "#C8D4E3",
             "startlinecolor": "#2a3f5f"
            },
            "type": "carpet"
           }
          ],
          "choropleth": [
           {
            "colorbar": {
             "outlinewidth": 0,
             "ticks": ""
            },
            "type": "choropleth"
           }
          ],
          "contour": [
           {
            "colorbar": {
             "outlinewidth": 0,
             "ticks": ""
            },
            "colorscale": [
             [
              0,
              "#0d0887"
             ],
             [
              0.1111111111111111,
              "#46039f"
             ],
             [
              0.2222222222222222,
              "#7201a8"
             ],
             [
              0.3333333333333333,
              "#9c179e"
             ],
             [
              0.4444444444444444,
              "#bd3786"
             ],
             [
              0.5555555555555556,
              "#d8576b"
             ],
             [
              0.6666666666666666,
              "#ed7953"
             ],
             [
              0.7777777777777778,
              "#fb9f3a"
             ],
             [
              0.8888888888888888,
              "#fdca26"
             ],
             [
              1,
              "#f0f921"
             ]
            ],
            "type": "contour"
           }
          ],
          "contourcarpet": [
           {
            "colorbar": {
             "outlinewidth": 0,
             "ticks": ""
            },
            "type": "contourcarpet"
           }
          ],
          "heatmap": [
           {
            "colorbar": {
             "outlinewidth": 0,
             "ticks": ""
            },
            "colorscale": [
             [
              0,
              "#0d0887"
             ],
             [
              0.1111111111111111,
              "#46039f"
             ],
             [
              0.2222222222222222,
              "#7201a8"
             ],
             [
              0.3333333333333333,
              "#9c179e"
             ],
             [
              0.4444444444444444,
              "#bd3786"
             ],
             [
              0.5555555555555556,
              "#d8576b"
             ],
             [
              0.6666666666666666,
              "#ed7953"
             ],
             [
              0.7777777777777778,
              "#fb9f3a"
             ],
             [
              0.8888888888888888,
              "#fdca26"
             ],
             [
              1,
              "#f0f921"
             ]
            ],
            "type": "heatmap"
           }
          ],
          "heatmapgl": [
           {
            "colorbar": {
             "outlinewidth": 0,
             "ticks": ""
            },
            "colorscale": [
             [
              0,
              "#0d0887"
             ],
             [
              0.1111111111111111,
              "#46039f"
             ],
             [
              0.2222222222222222,
              "#7201a8"
             ],
             [
              0.3333333333333333,
              "#9c179e"
             ],
             [
              0.4444444444444444,
              "#bd3786"
             ],
             [
              0.5555555555555556,
              "#d8576b"
             ],
             [
              0.6666666666666666,
              "#ed7953"
             ],
             [
              0.7777777777777778,
              "#fb9f3a"
             ],
             [
              0.8888888888888888,
              "#fdca26"
             ],
             [
              1,
              "#f0f921"
             ]
            ],
            "type": "heatmapgl"
           }
          ],
          "histogram": [
           {
            "marker": {
             "pattern": {
              "fillmode": "overlay",
              "size": 10,
              "solidity": 0.2
             }
            },
            "type": "histogram"
           }
          ],
          "histogram2d": [
           {
            "colorbar": {
             "outlinewidth": 0,
             "ticks": ""
            },
            "colorscale": [
             [
              0,
              "#0d0887"
             ],
             [
              0.1111111111111111,
              "#46039f"
             ],
             [
              0.2222222222222222,
              "#7201a8"
             ],
             [
              0.3333333333333333,
              "#9c179e"
             ],
             [
              0.4444444444444444,
              "#bd3786"
             ],
             [
              0.5555555555555556,
              "#d8576b"
             ],
             [
              0.6666666666666666,
              "#ed7953"
             ],
             [
              0.7777777777777778,
              "#fb9f3a"
             ],
             [
              0.8888888888888888,
              "#fdca26"
             ],
             [
              1,
              "#f0f921"
             ]
            ],
            "type": "histogram2d"
           }
          ],
          "histogram2dcontour": [
           {
            "colorbar": {
             "outlinewidth": 0,
             "ticks": ""
            },
            "colorscale": [
             [
              0,
              "#0d0887"
             ],
             [
              0.1111111111111111,
              "#46039f"
             ],
             [
              0.2222222222222222,
              "#7201a8"
             ],
             [
              0.3333333333333333,
              "#9c179e"
             ],
             [
              0.4444444444444444,
              "#bd3786"
             ],
             [
              0.5555555555555556,
              "#d8576b"
             ],
             [
              0.6666666666666666,
              "#ed7953"
             ],
             [
              0.7777777777777778,
              "#fb9f3a"
             ],
             [
              0.8888888888888888,
              "#fdca26"
             ],
             [
              1,
              "#f0f921"
             ]
            ],
            "type": "histogram2dcontour"
           }
          ],
          "mesh3d": [
           {
            "colorbar": {
             "outlinewidth": 0,
             "ticks": ""
            },
            "type": "mesh3d"
           }
          ],
          "parcoords": [
           {
            "line": {
             "colorbar": {
              "outlinewidth": 0,
              "ticks": ""
             }
            },
            "type": "parcoords"
           }
          ],
          "pie": [
           {
            "automargin": true,
            "type": "pie"
           }
          ],
          "scatter": [
           {
            "fillpattern": {
             "fillmode": "overlay",
             "size": 10,
             "solidity": 0.2
            },
            "type": "scatter"
           }
          ],
          "scatter3d": [
           {
            "line": {
             "colorbar": {
              "outlinewidth": 0,
              "ticks": ""
             }
            },
            "marker": {
             "colorbar": {
              "outlinewidth": 0,
              "ticks": ""
             }
            },
            "type": "scatter3d"
           }
          ],
          "scattercarpet": [
           {
            "marker": {
             "colorbar": {
              "outlinewidth": 0,
              "ticks": ""
             }
            },
            "type": "scattercarpet"
           }
          ],
          "scattergeo": [
           {
            "marker": {
             "colorbar": {
              "outlinewidth": 0,
              "ticks": ""
             }
            },
            "type": "scattergeo"
           }
          ],
          "scattergl": [
           {
            "marker": {
             "colorbar": {
              "outlinewidth": 0,
              "ticks": ""
             }
            },
            "type": "scattergl"
           }
          ],
          "scattermapbox": [
           {
            "marker": {
             "colorbar": {
              "outlinewidth": 0,
              "ticks": ""
             }
            },
            "type": "scattermapbox"
           }
          ],
          "scatterpolar": [
           {
            "marker": {
             "colorbar": {
              "outlinewidth": 0,
              "ticks": ""
             }
            },
            "type": "scatterpolar"
           }
          ],
          "scatterpolargl": [
           {
            "marker": {
             "colorbar": {
              "outlinewidth": 0,
              "ticks": ""
             }
            },
            "type": "scatterpolargl"
           }
          ],
          "scatterternary": [
           {
            "marker": {
             "colorbar": {
              "outlinewidth": 0,
              "ticks": ""
             }
            },
            "type": "scatterternary"
           }
          ],
          "surface": [
           {
            "colorbar": {
             "outlinewidth": 0,
             "ticks": ""
            },
            "colorscale": [
             [
              0,
              "#0d0887"
             ],
             [
              0.1111111111111111,
              "#46039f"
             ],
             [
              0.2222222222222222,
              "#7201a8"
             ],
             [
              0.3333333333333333,
              "#9c179e"
             ],
             [
              0.4444444444444444,
              "#bd3786"
             ],
             [
              0.5555555555555556,
              "#d8576b"
             ],
             [
              0.6666666666666666,
              "#ed7953"
             ],
             [
              0.7777777777777778,
              "#fb9f3a"
             ],
             [
              0.8888888888888888,
              "#fdca26"
             ],
             [
              1,
              "#f0f921"
             ]
            ],
            "type": "surface"
           }
          ],
          "table": [
           {
            "cells": {
             "fill": {
              "color": "#EBF0F8"
             },
             "line": {
              "color": "white"
             }
            },
            "header": {
             "fill": {
              "color": "#C8D4E3"
             },
             "line": {
              "color": "white"
             }
            },
            "type": "table"
           }
          ]
         },
         "layout": {
          "annotationdefaults": {
           "arrowcolor": "#2a3f5f",
           "arrowhead": 0,
           "arrowwidth": 1
          },
          "autotypenumbers": "strict",
          "coloraxis": {
           "colorbar": {
            "outlinewidth": 0,
            "ticks": ""
           }
          },
          "colorscale": {
           "diverging": [
            [
             0,
             "#8e0152"
            ],
            [
             0.1,
             "#c51b7d"
            ],
            [
             0.2,
             "#de77ae"
            ],
            [
             0.3,
             "#f1b6da"
            ],
            [
             0.4,
             "#fde0ef"
            ],
            [
             0.5,
             "#f7f7f7"
            ],
            [
             0.6,
             "#e6f5d0"
            ],
            [
             0.7,
             "#b8e186"
            ],
            [
             0.8,
             "#7fbc41"
            ],
            [
             0.9,
             "#4d9221"
            ],
            [
             1,
             "#276419"
            ]
           ],
           "sequential": [
            [
             0,
             "#0d0887"
            ],
            [
             0.1111111111111111,
             "#46039f"
            ],
            [
             0.2222222222222222,
             "#7201a8"
            ],
            [
             0.3333333333333333,
             "#9c179e"
            ],
            [
             0.4444444444444444,
             "#bd3786"
            ],
            [
             0.5555555555555556,
             "#d8576b"
            ],
            [
             0.6666666666666666,
             "#ed7953"
            ],
            [
             0.7777777777777778,
             "#fb9f3a"
            ],
            [
             0.8888888888888888,
             "#fdca26"
            ],
            [
             1,
             "#f0f921"
            ]
           ],
           "sequentialminus": [
            [
             0,
             "#0d0887"
            ],
            [
             0.1111111111111111,
             "#46039f"
            ],
            [
             0.2222222222222222,
             "#7201a8"
            ],
            [
             0.3333333333333333,
             "#9c179e"
            ],
            [
             0.4444444444444444,
             "#bd3786"
            ],
            [
             0.5555555555555556,
             "#d8576b"
            ],
            [
             0.6666666666666666,
             "#ed7953"
            ],
            [
             0.7777777777777778,
             "#fb9f3a"
            ],
            [
             0.8888888888888888,
             "#fdca26"
            ],
            [
             1,
             "#f0f921"
            ]
           ]
          },
          "colorway": [
           "#636efa",
           "#EF553B",
           "#00cc96",
           "#ab63fa",
           "#FFA15A",
           "#19d3f3",
           "#FF6692",
           "#B6E880",
           "#FF97FF",
           "#FECB52"
          ],
          "font": {
           "color": "#2a3f5f"
          },
          "geo": {
           "bgcolor": "white",
           "lakecolor": "white",
           "landcolor": "white",
           "showlakes": true,
           "showland": true,
           "subunitcolor": "#C8D4E3"
          },
          "hoverlabel": {
           "align": "left"
          },
          "hovermode": "closest",
          "mapbox": {
           "style": "light"
          },
          "paper_bgcolor": "white",
          "plot_bgcolor": "white",
          "polar": {
           "angularaxis": {
            "gridcolor": "#EBF0F8",
            "linecolor": "#EBF0F8",
            "ticks": ""
           },
           "bgcolor": "white",
           "radialaxis": {
            "gridcolor": "#EBF0F8",
            "linecolor": "#EBF0F8",
            "ticks": ""
           }
          },
          "scene": {
           "xaxis": {
            "backgroundcolor": "white",
            "gridcolor": "#DFE8F3",
            "gridwidth": 2,
            "linecolor": "#EBF0F8",
            "showbackground": true,
            "ticks": "",
            "zerolinecolor": "#EBF0F8"
           },
           "yaxis": {
            "backgroundcolor": "white",
            "gridcolor": "#DFE8F3",
            "gridwidth": 2,
            "linecolor": "#EBF0F8",
            "showbackground": true,
            "ticks": "",
            "zerolinecolor": "#EBF0F8"
           },
           "zaxis": {
            "backgroundcolor": "white",
            "gridcolor": "#DFE8F3",
            "gridwidth": 2,
            "linecolor": "#EBF0F8",
            "showbackground": true,
            "ticks": "",
            "zerolinecolor": "#EBF0F8"
           }
          },
          "shapedefaults": {
           "line": {
            "color": "#2a3f5f"
           }
          },
          "ternary": {
           "aaxis": {
            "gridcolor": "#DFE8F3",
            "linecolor": "#A2B1C6",
            "ticks": ""
           },
           "baxis": {
            "gridcolor": "#DFE8F3",
            "linecolor": "#A2B1C6",
            "ticks": ""
           },
           "bgcolor": "white",
           "caxis": {
            "gridcolor": "#DFE8F3",
            "linecolor": "#A2B1C6",
            "ticks": ""
           }
          },
          "title": {
           "x": 0.05
          },
          "xaxis": {
           "automargin": true,
           "gridcolor": "#EBF0F8",
           "linecolor": "#EBF0F8",
           "ticks": "",
           "title": {
            "standoff": 15
           },
           "zerolinecolor": "#EBF0F8",
           "zerolinewidth": 2
          },
          "yaxis": {
           "automargin": true,
           "gridcolor": "#EBF0F8",
           "linecolor": "#EBF0F8",
           "ticks": "",
           "title": {
            "standoff": 15
           },
           "zerolinecolor": "#EBF0F8",
           "zerolinewidth": 2
          }
         }
        },
        "title": {
         "text": "Comparison of Unique CDR3 Ratios"
        },
        "width": 1800,
        "xaxis": {
         "anchor": "y",
         "domain": [
          0,
          0.45
         ],
         "showgrid": true,
         "tickangle": 45,
         "title": {
          "text": "Sample"
         }
        },
        "xaxis2": {
         "anchor": "y2",
         "domain": [
          0.55,
          1
         ],
         "showgrid": true,
         "tickangle": 45,
         "title": {
          "text": "Sample"
         }
        },
        "xaxis3": {
         "anchor": "y3",
         "domain": [
          0,
          0.45
         ],
         "showgrid": true,
         "tickangle": 45,
         "title": {
          "text": "Sample"
         }
        },
        "xaxis4": {
         "anchor": "y4",
         "domain": [
          0.55,
          1
         ],
         "showgrid": true,
         "tickangle": 45,
         "title": {
          "text": "Sample"
         }
        },
        "yaxis": {
         "anchor": "x",
         "domain": [
          0.625,
          1
         ],
         "showgrid": false,
         "tickangle": 45,
         "tickmode": "array",
         "title": {
          "text": "Normalised unique CDR3"
         }
        },
        "yaxis2": {
         "anchor": "x2",
         "domain": [
          0.625,
          1
         ],
         "matches": "y",
         "showgrid": false,
         "showticklabels": false,
         "tickangle": 45,
         "tickmode": "array"
        },
        "yaxis3": {
         "anchor": "x3",
         "domain": [
          0,
          0.375
         ],
         "showgrid": false,
         "tickangle": 45,
         "tickmode": "array",
         "title": {
          "text": "Normalised unique CDR3"
         }
        },
        "yaxis4": {
         "anchor": "x4",
         "domain": [
          0,
          0.375
         ],
         "matches": "y3",
         "showgrid": false,
         "showticklabels": false,
         "tickangle": 45,
         "tickmode": "array"
        }
       }
      }
     },
     "metadata": {},
     "output_type": "display_data"
    }
   ],
   "source": [
    "plotting.plot_repertoire_sizes(uniques, 'after_resampling_', PLOTSDIR)"
   ]
  },
  {
   "cell_type": "code",
   "execution_count": null,
   "metadata": {},
   "outputs": [],
   "source": [
    "resampling_data = resampling_data.query('TCR_Chain == \"TRB\"') ### Using only TRB"
   ]
  },
  {
   "cell_type": "code",
   "execution_count": null,
   "metadata": {},
   "outputs": [],
   "source": [
    "# sum the cloneCount for each sample_id and recaluclate the cloneFraction for each clonotype\n",
    "resampling_data['cloneFraction'] =  resampling_data['cloneCount'] / resampling_data.groupby('sample_id')['cloneCount'].transform('sum')"
   ]
  },
  {
   "cell_type": "code",
   "execution_count": null,
   "metadata": {},
   "outputs": [],
   "source": [
    "data = resampling_data"
   ]
  },
  {
   "cell_type": "markdown",
   "metadata": {},
   "source": [
    "## Sample 9 outlier clonotype (will be removed from the depth analysis)"
   ]
  },
  {
   "cell_type": "code",
   "execution_count": null,
   "metadata": {},
   "outputs": [
    {
     "data": {
      "application/vnd.microsoft.datawrangler.viewer.v0+json": {
       "columns": [
        {
         "name": "index",
         "rawType": "int64",
         "type": "integer"
        },
        {
         "name": "clonotype",
         "rawType": "object",
         "type": "string"
        },
        {
         "name": "sample_id",
         "rawType": "object",
         "type": "string"
        },
        {
         "name": "SAMPLE",
         "rawType": "object",
         "type": "string"
        },
        {
         "name": "TIMEPOINTS",
         "rawType": "object",
         "type": "string"
        },
        {
         "name": "CONDITION",
         "rawType": "object",
         "type": "string"
        },
        {
         "name": "TCR_Chain",
         "rawType": "object",
         "type": "string"
        },
        {
         "name": "v_call",
         "rawType": "object",
         "type": "string"
        },
        {
         "name": "j_call",
         "rawType": "object",
         "type": "string"
        },
        {
         "name": "junction_aa",
         "rawType": "object",
         "type": "string"
        },
        {
         "name": "cloneFraction",
         "rawType": "float64",
         "type": "float"
        },
        {
         "name": "cloneCount",
         "rawType": "float64",
         "type": "float"
        },
        {
         "name": "_merge",
         "rawType": "category",
         "type": "unknown"
        }
       ],
       "conversionMethod": "pd.DataFrame",
       "ref": "1bd5b98f-1c88-4179-b543-5298e171f498",
       "rows": [
        [
         "2352129",
         "TRBV7-3_CASSPPNTGELFF_TRBJ2-2",
         "6L",
         "s_9",
         "V3 (6 months)",
         "Lymphoma patients",
         "TRB",
         "TRBV7-3",
         "TRBJ2-2",
         "CASSPPNTGELFF",
         "7.427199518717471e-05",
         "120.0",
         "both"
        ],
        [
         "2187320",
         "TRBV6-6_CASTQRNTGELFF_TRBJ2-2",
         "5L",
         "s_9",
         "V1 (50 days)",
         "Lymphoma patients",
         "TRB",
         "TRBV6-6",
         "TRBJ2-2",
         "CASTQRNTGELFF",
         "5.107735852817477e-05",
         "82.0",
         "both"
        ],
        [
         "2187319",
         "TRBV6-6_CASTQRNTGELFF_TRBJ2-2",
         "4L",
         "s_9",
         "baseline",
         "Lymphoma patients",
         "TRB",
         "TRBV6-6",
         "TRBJ2-2",
         "CASTQRNTGELFF",
         "4.657082294282486e-05",
         "64.0",
         "both"
        ],
        [
         "1786540",
         "TRBV5-1_CASSPGQGGNTGELFF_TRBJ2-2",
         "4L",
         "s_9",
         "baseline",
         "Lymphoma patients",
         "TRB",
         "TRBV5-1",
         "TRBJ2-2",
         "CASSPGQGGNTGELFF",
         "4.36601465088983e-05",
         "60.0",
         "both"
        ],
        [
         "2352128",
         "TRBV7-3_CASSPPNTGELFF_TRBJ2-2",
         "5L",
         "s_9",
         "V1 (50 days)",
         "Lymphoma patients",
         "TRB",
         "TRBV7-3",
         "TRBJ2-2",
         "CASSPPNTGELFF",
         "4.360262313380773e-05",
         "70.0",
         "both"
        ]
       ],
       "shape": {
        "columns": 12,
        "rows": 5
       }
      },
      "text/html": [
       "<div>\n",
       "<style scoped>\n",
       "    .dataframe tbody tr th:only-of-type {\n",
       "        vertical-align: middle;\n",
       "    }\n",
       "\n",
       "    .dataframe tbody tr th {\n",
       "        vertical-align: top;\n",
       "    }\n",
       "\n",
       "    .dataframe thead th {\n",
       "        text-align: right;\n",
       "    }\n",
       "</style>\n",
       "<table border=\"1\" class=\"dataframe\">\n",
       "  <thead>\n",
       "    <tr style=\"text-align: right;\">\n",
       "      <th></th>\n",
       "      <th>clonotype</th>\n",
       "      <th>sample_id</th>\n",
       "      <th>SAMPLE</th>\n",
       "      <th>TIMEPOINTS</th>\n",
       "      <th>CONDITION</th>\n",
       "      <th>TCR_Chain</th>\n",
       "      <th>v_call</th>\n",
       "      <th>j_call</th>\n",
       "      <th>junction_aa</th>\n",
       "      <th>cloneFraction</th>\n",
       "      <th>cloneCount</th>\n",
       "      <th>_merge</th>\n",
       "    </tr>\n",
       "  </thead>\n",
       "  <tbody>\n",
       "    <tr>\n",
       "      <th>2352129</th>\n",
       "      <td>TRBV7-3_CASSPPNTGELFF_TRBJ2-2</td>\n",
       "      <td>6L</td>\n",
       "      <td>s_9</td>\n",
       "      <td>V3 (6 months)</td>\n",
       "      <td>Lymphoma patients</td>\n",
       "      <td>TRB</td>\n",
       "      <td>TRBV7-3</td>\n",
       "      <td>TRBJ2-2</td>\n",
       "      <td>CASSPPNTGELFF</td>\n",
       "      <td>0.000074</td>\n",
       "      <td>120.0</td>\n",
       "      <td>both</td>\n",
       "    </tr>\n",
       "    <tr>\n",
       "      <th>2187320</th>\n",
       "      <td>TRBV6-6_CASTQRNTGELFF_TRBJ2-2</td>\n",
       "      <td>5L</td>\n",
       "      <td>s_9</td>\n",
       "      <td>V1 (50 days)</td>\n",
       "      <td>Lymphoma patients</td>\n",
       "      <td>TRB</td>\n",
       "      <td>TRBV6-6</td>\n",
       "      <td>TRBJ2-2</td>\n",
       "      <td>CASTQRNTGELFF</td>\n",
       "      <td>0.000051</td>\n",
       "      <td>82.0</td>\n",
       "      <td>both</td>\n",
       "    </tr>\n",
       "    <tr>\n",
       "      <th>2187319</th>\n",
       "      <td>TRBV6-6_CASTQRNTGELFF_TRBJ2-2</td>\n",
       "      <td>4L</td>\n",
       "      <td>s_9</td>\n",
       "      <td>baseline</td>\n",
       "      <td>Lymphoma patients</td>\n",
       "      <td>TRB</td>\n",
       "      <td>TRBV6-6</td>\n",
       "      <td>TRBJ2-2</td>\n",
       "      <td>CASTQRNTGELFF</td>\n",
       "      <td>0.000047</td>\n",
       "      <td>64.0</td>\n",
       "      <td>both</td>\n",
       "    </tr>\n",
       "    <tr>\n",
       "      <th>1786540</th>\n",
       "      <td>TRBV5-1_CASSPGQGGNTGELFF_TRBJ2-2</td>\n",
       "      <td>4L</td>\n",
       "      <td>s_9</td>\n",
       "      <td>baseline</td>\n",
       "      <td>Lymphoma patients</td>\n",
       "      <td>TRB</td>\n",
       "      <td>TRBV5-1</td>\n",
       "      <td>TRBJ2-2</td>\n",
       "      <td>CASSPGQGGNTGELFF</td>\n",
       "      <td>0.000044</td>\n",
       "      <td>60.0</td>\n",
       "      <td>both</td>\n",
       "    </tr>\n",
       "    <tr>\n",
       "      <th>2352128</th>\n",
       "      <td>TRBV7-3_CASSPPNTGELFF_TRBJ2-2</td>\n",
       "      <td>5L</td>\n",
       "      <td>s_9</td>\n",
       "      <td>V1 (50 days)</td>\n",
       "      <td>Lymphoma patients</td>\n",
       "      <td>TRB</td>\n",
       "      <td>TRBV7-3</td>\n",
       "      <td>TRBJ2-2</td>\n",
       "      <td>CASSPPNTGELFF</td>\n",
       "      <td>0.000044</td>\n",
       "      <td>70.0</td>\n",
       "      <td>both</td>\n",
       "    </tr>\n",
       "  </tbody>\n",
       "</table>\n",
       "</div>"
      ],
      "text/plain": [
       "                                clonotype sample_id SAMPLE     TIMEPOINTS  \\\n",
       "2352129     TRBV7-3_CASSPPNTGELFF_TRBJ2-2        6L    s_9  V3 (6 months)   \n",
       "2187320     TRBV6-6_CASTQRNTGELFF_TRBJ2-2        5L    s_9   V1 (50 days)   \n",
       "2187319     TRBV6-6_CASTQRNTGELFF_TRBJ2-2        4L    s_9       baseline   \n",
       "1786540  TRBV5-1_CASSPGQGGNTGELFF_TRBJ2-2        4L    s_9       baseline   \n",
       "2352128     TRBV7-3_CASSPPNTGELFF_TRBJ2-2        5L    s_9   V1 (50 days)   \n",
       "\n",
       "                 CONDITION TCR_Chain   v_call   j_call       junction_aa  \\\n",
       "2352129  Lymphoma patients       TRB  TRBV7-3  TRBJ2-2     CASSPPNTGELFF   \n",
       "2187320  Lymphoma patients       TRB  TRBV6-6  TRBJ2-2     CASTQRNTGELFF   \n",
       "2187319  Lymphoma patients       TRB  TRBV6-6  TRBJ2-2     CASTQRNTGELFF   \n",
       "1786540  Lymphoma patients       TRB  TRBV5-1  TRBJ2-2  CASSPGQGGNTGELFF   \n",
       "2352128  Lymphoma patients       TRB  TRBV7-3  TRBJ2-2     CASSPPNTGELFF   \n",
       "\n",
       "         cloneFraction  cloneCount _merge  \n",
       "2352129       0.000074       120.0   both  \n",
       "2187320       0.000051        82.0   both  \n",
       "2187319       0.000047        64.0   both  \n",
       "1786540       0.000044        60.0   both  \n",
       "2352128       0.000044        70.0   both  "
      ]
     },
     "execution_count": 37,
     "metadata": {},
     "output_type": "execute_result"
    }
   ],
   "source": [
    "s_9_data = pd.merge(data, DETECT_predictions.drop_duplicates(subset=['junction_aa','v_call', 'j_call'])[['junction_aa','v_call', 'j_call']], how='left', indicator=True)\n",
    "s_9_data = s_9_data.query('SAMPLE == \"s_9\" and _merge == \"both\"')\n",
    "s_9_data.sort_values(by=['cloneFraction'], ascending=False, inplace=True)\n",
    "s_9_data.head()"
   ]
  },
  {
   "cell_type": "markdown",
   "metadata": {},
   "source": [
    "## Prepare data for breadth and depth analysis"
   ]
  },
  {
   "cell_type": "code",
   "execution_count": 38,
   "metadata": {},
   "outputs": [],
   "source": [
    "# take only beta chains\n",
    "#data = data.query('TCR_Chain == \"TRB\"')\n",
    "#data.reset_index(drop=True, inplace=True)\n",
    "\n",
    "# group rows that have the same sample_id and junction_aa\n",
    "breadth_depth_grouped_data = data.groupby(['junction_aa', 'sample_id', 'SAMPLE',\n",
    "                                    'TIMEPOINTS', 'CONDITION', 'TCR_Chain', 'j_call', 'v_call'],\n",
    "                                     as_index=False).agg({'cloneFraction': 'sum', 'cloneCount': 'sum',})\n",
    "                                    \n",
    "breadth_depth_grouped_data.to_csv(PROCESSEDDIR + 'breadth-depth_grouped_data.csv', index=False)"
   ]
  },
  {
   "cell_type": "code",
   "execution_count": 39,
   "metadata": {},
   "outputs": [
    {
     "data": {
      "application/vnd.microsoft.datawrangler.viewer.v0+json": {
       "columns": [
        {
         "name": "index",
         "rawType": "int64",
         "type": "integer"
        },
        {
         "name": "junction_aa",
         "rawType": "object",
         "type": "string"
        },
        {
         "name": "sample_id",
         "rawType": "object",
         "type": "string"
        },
        {
         "name": "SAMPLE",
         "rawType": "object",
         "type": "string"
        },
        {
         "name": "TIMEPOINTS",
         "rawType": "object",
         "type": "string"
        },
        {
         "name": "CONDITION",
         "rawType": "object",
         "type": "string"
        },
        {
         "name": "TCR_Chain",
         "rawType": "object",
         "type": "string"
        },
        {
         "name": "j_call",
         "rawType": "object",
         "type": "string"
        },
        {
         "name": "v_call",
         "rawType": "object",
         "type": "string"
        },
        {
         "name": "cloneFraction",
         "rawType": "float64",
         "type": "float"
        },
        {
         "name": "cloneCount",
         "rawType": "float64",
         "type": "float"
        }
       ],
       "conversionMethod": "pd.DataFrame",
       "ref": "ae409211-a772-4843-96a0-e5bab3e6e1f4",
       "rows": [
        [
         "0",
         "CAAAAANTGELFF",
         "12L",
         "s_11",
         "V3 (6 months)",
         "Lymphoma patients",
         "TRB",
         "TRBJ2-2",
         "TRBV19",
         "5.66978277928216e-06",
         "5.0"
        ],
        [
         "1",
         "CAAAADSTGELFF",
         "13L",
         "s_12",
         "baseline",
         "Lymphoma patients",
         "TRB",
         "TRBJ2-2",
         "TRBV7-2",
         "6.816521065776702e-06",
         "5.0"
        ],
        [
         "2",
         "CAAAAFYGYTF",
         "39465",
         "s_4",
         "baseline",
         "Healthy controls",
         "TRB",
         "TRBJ1-2",
         "TRBV19",
         "1.0279298828468313e-06",
         "2.0"
        ],
        [
         "3",
         "CAAAAGLGLSTDTQYF",
         "11L",
         "s_11",
         "V1 (50 days)",
         "Lymphoma patients",
         "TRB",
         "TRBJ2-3",
         "TRBV2",
         "4.779429336137265e-06",
         "4.0"
        ],
        [
         "4",
         "CAAAAGPNSPLHF",
         "20L",
         "s_14",
         "V1 (50 days)",
         "Lymphoma patients",
         "TRB",
         "TRBJ1-6",
         "TRBV20-1",
         "7.363900392937725e-07",
         "1.0"
        ],
        [
         "5",
         "CAAAAGTEARETQYF",
         "39521",
         "s_3",
         "baseline",
         "Healthy controls",
         "TRB",
         "TRBJ2-5",
         "TRBV19",
         "2.8470723554968424e-06",
         "4.0"
        ],
        [
         "6",
         "CAAAAGTWTGELFF",
         "A12",
         "s_5",
         "V3 (6 months)",
         "Healthy controls",
         "TRB",
         "TRBJ2-2",
         "TRBV11-2",
         "1.1547824158971966e-06",
         "1.0"
        ],
        [
         "7",
         "CAAAALAGIQYF",
         "3L",
         "s_8",
         "V3 (6 months)",
         "Lymphoma patients",
         "TRB",
         "TRBJ2-4",
         "TRBV7-9",
         "2.6733774381202234e-06",
         "3.0"
        ],
        [
         "8",
         "CAAAALDTQYF",
         "26L",
         "s_16",
         "V1 (50 days)",
         "Lymphoma patients",
         "TRB",
         "TRBJ2-3",
         "TRBV3-1",
         "1.524272515537418e-06",
         "3.0"
        ],
        [
         "9",
         "CAAAANSPLHF",
         "14L",
         "s_12",
         "V1 (50 days)",
         "Lymphoma patients",
         "TRB",
         "TRBJ1-6",
         "TRBV28",
         "4.534551011431603e-06",
         "4.0"
        ],
        [
         "10",
         "CAAAAPESVYGYTF",
         "A12",
         "s_5",
         "V3 (6 months)",
         "Healthy controls",
         "TRB",
         "TRBJ1-2",
         "TRBV7-9",
         "3.46434724769159e-06",
         "3.0"
        ],
        [
         "11",
         "CAAAAQGAYGYTF",
         "3L",
         "s_8",
         "V3 (6 months)",
         "Lymphoma patients",
         "TRB",
         "TRBJ1-2",
         "TRBV2",
         "8.020132314360671e-06",
         "9.0"
        ],
        [
         "12",
         "CAAAATNEKLFF",
         "25L",
         "s_16",
         "baseline",
         "Lymphoma patients",
         "TRB",
         "TRBJ1-4",
         "TRBV4-1",
         "1.9526196833827184e-06",
         "2.0"
        ],
        [
         "13",
         "CAAACSQPQHF",
         "39498",
         "s_2",
         "baseline",
         "Healthy controls",
         "TRB",
         "TRBJ1-5",
         "TRBV5-1",
         "2.6764471693225627e-05",
         "28.0"
        ],
        [
         "14",
         "CAAADGTDTQYF",
         "14L",
         "s_12",
         "V1 (50 days)",
         "Lymphoma patients",
         "TRB",
         "TRBJ2-3",
         "TRBV28",
         "1.1336377528579008e-06",
         "1.0"
        ],
        [
         "15",
         "CAAADGTDTQYF",
         "39670",
         "s_7",
         "baseline",
         "Healthy controls",
         "TRB",
         "TRBJ2-3",
         "TRBV19",
         "8.169874567915759e-07",
         "1.0"
        ],
        [
         "16",
         "CAAADRNSPLHF",
         "3L",
         "s_8",
         "V3 (6 months)",
         "Lymphoma patients",
         "TRB",
         "TRBJ1-6",
         "TRBV5-4",
         "2.6733774381202234e-06",
         "3.0"
        ],
        [
         "17",
         "CAAADRYNEQFF",
         "20L",
         "s_14",
         "V1 (50 days)",
         "Lymphoma patients",
         "TRB",
         "TRBJ2-1",
         "TRBV12-3",
         "7.363900392937725e-07",
         "1.0"
        ],
        [
         "18",
         "CAAADSYEQYF",
         "12L",
         "s_11",
         "V3 (6 months)",
         "Lymphoma patients",
         "TRB",
         "TRBJ2-7",
         "TRBV7-8",
         "4.535826223425728e-06",
         "4.0"
        ],
        [
         "19",
         "CAAADYEQYF",
         "A7",
         "s_7",
         "V1 (50 days)",
         "Healthy controls",
         "TRB",
         "TRBJ2-7",
         "TRBV6-1",
         "7.761727742332554e-06",
         "17.0"
        ],
        [
         "20",
         "CAAAEGGAYEQYF",
         "26L",
         "s_16",
         "V1 (50 days)",
         "Lymphoma patients",
         "TRB",
         "TRBJ2-7",
         "TRBV27",
         "1.524272515537418e-06",
         "3.0"
        ],
        [
         "21",
         "CAAAEGLAEIQYF",
         "1L",
         "s_8",
         "baseline",
         "Lymphoma patients",
         "TRB",
         "TRBJ2-4",
         "TRBV6-5",
         "4.224369797952617e-07",
         "1.0"
        ],
        [
         "22",
         "CAAAEGLAEIQYF",
         "3L",
         "s_8",
         "V3 (6 months)",
         "Lymphoma patients",
         "TRB",
         "TRBJ2-4",
         "TRBV6-5",
         "1.6040264628721343e-05",
         "18.0"
        ],
        [
         "23",
         "CAAAEGNAKNIQYF",
         "25L",
         "s_16",
         "baseline",
         "Lymphoma patients",
         "TRB",
         "TRBJ2-4",
         "TRBV18",
         "3.905239366765437e-06",
         "4.0"
        ],
        [
         "24",
         "CAAAEGNAKNIQYF",
         "27L",
         "s_16",
         "V3 (6 months)",
         "Lymphoma patients",
         "TRB",
         "TRBJ2-4",
         "TRBV18",
         "6.925618853513267e-06",
         "7.0"
        ],
        [
         "25",
         "CAAAEGNLRNYGYTF",
         "14L",
         "s_12",
         "V1 (50 days)",
         "Lymphoma patients",
         "TRB",
         "TRBJ1-2",
         "TRBV3-1",
         "1.1336377528579008e-06",
         "1.0"
        ],
        [
         "26",
         "CAAAEGRAYEQYF",
         "A12",
         "s_5",
         "V3 (6 months)",
         "Healthy controls",
         "TRB",
         "TRBJ2-7",
         "TRBV4-1",
         "4.619129663588786e-06",
         "4.0"
        ],
        [
         "27",
         "CAAAEGSNQPQHF",
         "39521",
         "s_3",
         "baseline",
         "Healthy controls",
         "TRB",
         "TRBJ1-5",
         "TRBV10-3",
         "8.541217066490528e-06",
         "12.0"
        ],
        [
         "28",
         "CAAAEGSNQPQHF",
         "A10",
         "s_3",
         "V3 (6 months)",
         "Healthy controls",
         "TRB",
         "TRBJ1-5",
         "TRBV10-3",
         "1.2256499566008492e-05",
         "11.0"
        ],
        [
         "29",
         "CAAAENNEQFF",
         "8L",
         "s_10",
         "V1 (50 days)",
         "Lymphoma patients",
         "TRB",
         "TRBJ2-1",
         "TRBV28",
         "1.4840296152950028e-06",
         "2.0"
        ],
        [
         "30",
         "CAAAEQGPYGYTF",
         "A12",
         "s_5",
         "V3 (6 months)",
         "Healthy controls",
         "TRB",
         "TRBJ1-2",
         "TRBV30",
         "3.46434724769159e-06",
         "3.0"
        ],
        [
         "31",
         "CAAAEWGPAGYTF",
         "39700",
         "s_1",
         "baseline",
         "Healthy controls",
         "TRB",
         "TRBJ1-2",
         "TRBV19",
         "4.871869823638312e-06",
         "5.0"
        ],
        [
         "32",
         "CAAAGADLTDTQYF",
         "25L",
         "s_16",
         "baseline",
         "Lymphoma patients",
         "TRB",
         "TRBJ2-3",
         "TRBV2",
         "1.5620957467061747e-05",
         "16.0"
        ],
        [
         "33",
         "CAAAGAHQPQHF",
         "B2",
         "s_7",
         "V3 (6 months)",
         "Healthy controls",
         "TRB",
         "TRBJ1-5",
         "TRBV28",
         "5.48621588259498e-06",
         "4.0"
        ],
        [
         "34",
         "CAAAGAKGSYEQYF",
         "39521",
         "s_3",
         "baseline",
         "Healthy controls",
         "TRB",
         "TRBJ2-7",
         "TRBV28",
         "2.135304266622632e-06",
         "3.0"
        ],
        [
         "35",
         "CAAAGALNQPQHF",
         "2L",
         "s_8",
         "V1 (50 days)",
         "Lymphoma patients",
         "TRB",
         "TRBJ1-5",
         "TRBV12-3",
         "1.1148893472322873e-06",
         "3.0"
        ],
        [
         "36",
         "CAAAGALNTGELFF",
         "25L",
         "s_16",
         "baseline",
         "Lymphoma patients",
         "TRB",
         "TRBJ2-2",
         "TRBV5-4",
         "2.0502506675518542e-05",
         "21.0"
        ],
        [
         "37",
         "CAAAGALNTGELFF",
         "27L",
         "s_16",
         "V3 (6 months)",
         "Lymphoma patients",
         "TRB",
         "TRBJ2-2",
         "TRBV5-4",
         "8.904367097374202e-06",
         "9.0"
        ],
        [
         "38",
         "CAAAGANTGELFF",
         "14L",
         "s_12",
         "V1 (50 days)",
         "Lymphoma patients",
         "TRB",
         "TRBJ2-2",
         "TRBV7-8",
         "3.400913258573702e-06",
         "3.0"
        ],
        [
         "39",
         "CAAAGANYGYTF",
         "15L",
         "s_12",
         "V3 (6 months)",
         "Lymphoma patients",
         "TRB",
         "TRBJ1-2",
         "TRBV7-2",
         "3.5212160308289507e-06",
         "5.0"
        ],
        [
         "40",
         "CAAAGAPNQPQHF",
         "23L",
         "s_15",
         "V1 (50 days)",
         "Lymphoma patients",
         "TRB",
         "TRBJ1-5",
         "TRBV12-3",
         "2.657109339606473e-06",
         "6.0"
        ],
        [
         "41",
         "CAAAGAPNQPQHF",
         "2L",
         "s_8",
         "V1 (50 days)",
         "Lymphoma patients",
         "TRB",
         "TRBJ1-5",
         "TRBV12-3",
         "3.3446680416968616e-06",
         "9.0"
        ],
        [
         "42",
         "CAAAGDPDTQYF",
         "29L",
         "s_17",
         "V1 (50 days)",
         "Lymphoma patients",
         "TRB",
         "TRBJ2-3",
         "TRBV6-6",
         "1.8888113426898752e-06",
         "2.0"
        ],
        [
         "43",
         "CAAAGDPDTQYF",
         "30L",
         "s_17",
         "V3 (6 months)",
         "Lymphoma patients",
         "TRB",
         "TRBJ2-3",
         "TRBV6-6",
         "3.710313558598837e-06",
         "4.0"
        ],
        [
         "44",
         "CAAAGDRGHEKLFF",
         "27L",
         "s_16",
         "V3 (6 months)",
         "Lymphoma patients",
         "TRB",
         "TRBJ1-4",
         "TRBV2",
         "1.9787482438609336e-06",
         "2.0"
        ],
        [
         "45",
         "CAAAGESSYEQYF",
         "A10",
         "s_3",
         "V3 (6 months)",
         "Healthy controls",
         "TRB",
         "TRBJ2-7",
         "TRBV7-9",
         "2.2284544665469988e-06",
         "2.0"
        ],
        [
         "46",
         "CAAAGGAGELFF",
         "1L",
         "s_8",
         "baseline",
         "Lymphoma patients",
         "TRB",
         "TRBJ2-2",
         "TRBV10-3",
         "3.3794958383620934e-06",
         "8.0"
        ],
        [
         "47",
         "CAAAGGAGELFF",
         "3L",
         "s_8",
         "V3 (6 months)",
         "Lymphoma patients",
         "TRB",
         "TRBJ2-2",
         "TRBV10-3",
         "5.346754876240447e-05",
         "60.0"
        ],
        [
         "48",
         "CAAAGGFYEQYF",
         "12L",
         "s_11",
         "V3 (6 months)",
         "Lymphoma patients",
         "TRB",
         "TRBJ2-7",
         "TRBV10-3",
         "5.66978277928216e-06",
         "5.0"
        ],
        [
         "49",
         "CAAAGGGQPQHF",
         "A7",
         "s_7",
         "V1 (50 days)",
         "Healthy controls",
         "TRB",
         "TRBJ1-5",
         "TRBV28",
         "7.761727742332554e-06",
         "17.0"
        ]
       ],
       "shape": {
        "columns": 10,
        "rows": 3047217
       }
      },
      "text/html": [
       "<div>\n",
       "<style scoped>\n",
       "    .dataframe tbody tr th:only-of-type {\n",
       "        vertical-align: middle;\n",
       "    }\n",
       "\n",
       "    .dataframe tbody tr th {\n",
       "        vertical-align: top;\n",
       "    }\n",
       "\n",
       "    .dataframe thead th {\n",
       "        text-align: right;\n",
       "    }\n",
       "</style>\n",
       "<table border=\"1\" class=\"dataframe\">\n",
       "  <thead>\n",
       "    <tr style=\"text-align: right;\">\n",
       "      <th></th>\n",
       "      <th>junction_aa</th>\n",
       "      <th>sample_id</th>\n",
       "      <th>SAMPLE</th>\n",
       "      <th>TIMEPOINTS</th>\n",
       "      <th>CONDITION</th>\n",
       "      <th>TCR_Chain</th>\n",
       "      <th>j_call</th>\n",
       "      <th>v_call</th>\n",
       "      <th>cloneFraction</th>\n",
       "      <th>cloneCount</th>\n",
       "    </tr>\n",
       "  </thead>\n",
       "  <tbody>\n",
       "    <tr>\n",
       "      <th>0</th>\n",
       "      <td>CAAAAANTGELFF</td>\n",
       "      <td>12L</td>\n",
       "      <td>s_11</td>\n",
       "      <td>V3 (6 months)</td>\n",
       "      <td>Lymphoma patients</td>\n",
       "      <td>TRB</td>\n",
       "      <td>TRBJ2-2</td>\n",
       "      <td>TRBV19</td>\n",
       "      <td>5.669783e-06</td>\n",
       "      <td>5.0</td>\n",
       "    </tr>\n",
       "    <tr>\n",
       "      <th>1</th>\n",
       "      <td>CAAAADSTGELFF</td>\n",
       "      <td>13L</td>\n",
       "      <td>s_12</td>\n",
       "      <td>baseline</td>\n",
       "      <td>Lymphoma patients</td>\n",
       "      <td>TRB</td>\n",
       "      <td>TRBJ2-2</td>\n",
       "      <td>TRBV7-2</td>\n",
       "      <td>6.816521e-06</td>\n",
       "      <td>5.0</td>\n",
       "    </tr>\n",
       "    <tr>\n",
       "      <th>2</th>\n",
       "      <td>CAAAAFYGYTF</td>\n",
       "      <td>39465</td>\n",
       "      <td>s_4</td>\n",
       "      <td>baseline</td>\n",
       "      <td>Healthy controls</td>\n",
       "      <td>TRB</td>\n",
       "      <td>TRBJ1-2</td>\n",
       "      <td>TRBV19</td>\n",
       "      <td>1.027930e-06</td>\n",
       "      <td>2.0</td>\n",
       "    </tr>\n",
       "    <tr>\n",
       "      <th>3</th>\n",
       "      <td>CAAAAGLGLSTDTQYF</td>\n",
       "      <td>11L</td>\n",
       "      <td>s_11</td>\n",
       "      <td>V1 (50 days)</td>\n",
       "      <td>Lymphoma patients</td>\n",
       "      <td>TRB</td>\n",
       "      <td>TRBJ2-3</td>\n",
       "      <td>TRBV2</td>\n",
       "      <td>4.779429e-06</td>\n",
       "      <td>4.0</td>\n",
       "    </tr>\n",
       "    <tr>\n",
       "      <th>4</th>\n",
       "      <td>CAAAAGPNSPLHF</td>\n",
       "      <td>20L</td>\n",
       "      <td>s_14</td>\n",
       "      <td>V1 (50 days)</td>\n",
       "      <td>Lymphoma patients</td>\n",
       "      <td>TRB</td>\n",
       "      <td>TRBJ1-6</td>\n",
       "      <td>TRBV20-1</td>\n",
       "      <td>7.363900e-07</td>\n",
       "      <td>1.0</td>\n",
       "    </tr>\n",
       "    <tr>\n",
       "      <th>...</th>\n",
       "      <td>...</td>\n",
       "      <td>...</td>\n",
       "      <td>...</td>\n",
       "      <td>...</td>\n",
       "      <td>...</td>\n",
       "      <td>...</td>\n",
       "      <td>...</td>\n",
       "      <td>...</td>\n",
       "      <td>...</td>\n",
       "      <td>...</td>\n",
       "    </tr>\n",
       "    <tr>\n",
       "      <th>3047212</th>\n",
       "      <td>CYYEQYF</td>\n",
       "      <td>39670</td>\n",
       "      <td>s_7</td>\n",
       "      <td>baseline</td>\n",
       "      <td>Healthy controls</td>\n",
       "      <td>TRB</td>\n",
       "      <td>TRBJ2-7</td>\n",
       "      <td>TRBV11-3</td>\n",
       "      <td>4.575130e-05</td>\n",
       "      <td>56.0</td>\n",
       "    </tr>\n",
       "    <tr>\n",
       "      <th>3047213</th>\n",
       "      <td>CYYEQYF</td>\n",
       "      <td>A7</td>\n",
       "      <td>s_7</td>\n",
       "      <td>V1 (50 days)</td>\n",
       "      <td>Healthy controls</td>\n",
       "      <td>TRB</td>\n",
       "      <td>TRBJ2-7</td>\n",
       "      <td>TRBV11-3</td>\n",
       "      <td>5.478867e-06</td>\n",
       "      <td>12.0</td>\n",
       "    </tr>\n",
       "    <tr>\n",
       "      <th>3047214</th>\n",
       "      <td>CYYEQYF</td>\n",
       "      <td>B2</td>\n",
       "      <td>s_7</td>\n",
       "      <td>V3 (6 months)</td>\n",
       "      <td>Healthy controls</td>\n",
       "      <td>TRB</td>\n",
       "      <td>TRBJ2-7</td>\n",
       "      <td>TRBV11-3</td>\n",
       "      <td>7.955013e-05</td>\n",
       "      <td>58.0</td>\n",
       "    </tr>\n",
       "    <tr>\n",
       "      <th>3047215</th>\n",
       "      <td>CYYLGVGELFF</td>\n",
       "      <td>3L</td>\n",
       "      <td>s_8</td>\n",
       "      <td>V3 (6 months)</td>\n",
       "      <td>Lymphoma patients</td>\n",
       "      <td>TRB</td>\n",
       "      <td>TRBJ2-2</td>\n",
       "      <td>TRBV28</td>\n",
       "      <td>4.455629e-06</td>\n",
       "      <td>5.0</td>\n",
       "    </tr>\n",
       "    <tr>\n",
       "      <th>3047216</th>\n",
       "      <td>CYYRPFPEAFF</td>\n",
       "      <td>27L</td>\n",
       "      <td>s_16</td>\n",
       "      <td>V3 (6 months)</td>\n",
       "      <td>Lymphoma patients</td>\n",
       "      <td>TRB</td>\n",
       "      <td>TRBJ1-1</td>\n",
       "      <td>TRBV20-1</td>\n",
       "      <td>9.893741e-07</td>\n",
       "      <td>1.0</td>\n",
       "    </tr>\n",
       "  </tbody>\n",
       "</table>\n",
       "<p>3047217 rows × 10 columns</p>\n",
       "</div>"
      ],
      "text/plain": [
       "              junction_aa sample_id SAMPLE     TIMEPOINTS          CONDITION  \\\n",
       "0           CAAAAANTGELFF       12L   s_11  V3 (6 months)  Lymphoma patients   \n",
       "1           CAAAADSTGELFF       13L   s_12       baseline  Lymphoma patients   \n",
       "2             CAAAAFYGYTF     39465    s_4       baseline   Healthy controls   \n",
       "3        CAAAAGLGLSTDTQYF       11L   s_11   V1 (50 days)  Lymphoma patients   \n",
       "4           CAAAAGPNSPLHF       20L   s_14   V1 (50 days)  Lymphoma patients   \n",
       "...                   ...       ...    ...            ...                ...   \n",
       "3047212           CYYEQYF     39670    s_7       baseline   Healthy controls   \n",
       "3047213           CYYEQYF        A7    s_7   V1 (50 days)   Healthy controls   \n",
       "3047214           CYYEQYF        B2    s_7  V3 (6 months)   Healthy controls   \n",
       "3047215       CYYLGVGELFF        3L    s_8  V3 (6 months)  Lymphoma patients   \n",
       "3047216       CYYRPFPEAFF       27L   s_16  V3 (6 months)  Lymphoma patients   \n",
       "\n",
       "        TCR_Chain   j_call    v_call  cloneFraction  cloneCount  \n",
       "0             TRB  TRBJ2-2    TRBV19   5.669783e-06         5.0  \n",
       "1             TRB  TRBJ2-2   TRBV7-2   6.816521e-06         5.0  \n",
       "2             TRB  TRBJ1-2    TRBV19   1.027930e-06         2.0  \n",
       "3             TRB  TRBJ2-3     TRBV2   4.779429e-06         4.0  \n",
       "4             TRB  TRBJ1-6  TRBV20-1   7.363900e-07         1.0  \n",
       "...           ...      ...       ...            ...         ...  \n",
       "3047212       TRB  TRBJ2-7  TRBV11-3   4.575130e-05        56.0  \n",
       "3047213       TRB  TRBJ2-7  TRBV11-3   5.478867e-06        12.0  \n",
       "3047214       TRB  TRBJ2-7  TRBV11-3   7.955013e-05        58.0  \n",
       "3047215       TRB  TRBJ2-2    TRBV28   4.455629e-06         5.0  \n",
       "3047216       TRB  TRBJ1-1  TRBV20-1   9.893741e-07         1.0  \n",
       "\n",
       "[3047217 rows x 10 columns]"
      ]
     },
     "execution_count": 39,
     "metadata": {},
     "output_type": "execute_result"
    }
   ],
   "source": [
    "breadth_depth_grouped_data"
   ]
  },
  {
   "cell_type": "markdown",
   "metadata": {},
   "source": [
    "## Clonal breadth"
   ]
  },
  {
   "cell_type": "code",
   "execution_count": 40,
   "metadata": {},
   "outputs": [
    {
     "name": "stderr",
     "output_type": "stream",
     "text": [
      "/var/folders/br/mxlpyjk52nz_ksh4b5vpy4340000gn/T/ipykernel_92249/2267812464.py:9: DeprecationWarning:\n",
      "\n",
      "DataFrameGroupBy.apply operated on the grouping columns. This behavior is deprecated, and in a future version of pandas the grouping columns will be excluded from the operation. Either pass `include_groups=False` to exclude the groupings or explicitly select the grouping columns after groupby to silence this warning.\n",
      "\n"
     ]
    }
   ],
   "source": [
    "clonal_breadth_data = pd.read_csv(PROCESSEDDIR + 'breadth-depth_grouped_data.csv')\n",
    "\n",
    "# Remove patients positive to SARS-CoV-2 at baseline\n",
    "clonal_breadth_data = clonal_breadth_data.query('SAMPLE != \"s_1\" and SAMPLE != \"s_10\"')\n",
    "\n",
    "clonal_breadth_data = pd.merge(clonal_breadth_data,\n",
    "                        DETECT_predictions.drop_duplicates(subset=['junction_aa','v_call', 'j_call'])[['junction_aa','v_call', 'j_call']], how='left', indicator=True)\n",
    "\n",
    "clonal_breadth_data = clonal_breadth_data.groupby(['sample_id', 'CONDITION', 'TIMEPOINTS', 'SAMPLE'], as_index=False).apply(lambda x: x['_merge'].value_counts())\n",
    "clonal_breadth_data['total'] = clonal_breadth_data['left_only'] + clonal_breadth_data['both']\n",
    "clonal_breadth_data['fraction_sequences'] = clonal_breadth_data['both']/clonal_breadth_data['total']\n",
    "\n",
    "clonal_breadth_data = clonal_breadth_data.sort_values(by=['SAMPLE', 'TIMEPOINTS'], ascending=[True, False])\n",
    "\n",
    "clonal_breadth_data.rename(columns={'fraction_sequences': 'Covid_clonal_breadth'}).reset_index(drop=True).to_csv(PROCESSEDDIR + 'share_clonal_breadth.csv', index=False)"
   ]
  },
  {
   "cell_type": "markdown",
   "metadata": {},
   "source": [
    "### Clonal breadth correlation with AB titers"
   ]
  },
  {
   "cell_type": "code",
   "execution_count": null,
   "metadata": {},
   "outputs": [
    {
     "data": {
      "image/png": "[encoded data removed]",
      "text/plain": [
       "<Figure size 1000x600 with 1 Axes>"
      ]
     },
     "metadata": {},
     "output_type": "display_data"
    }
   ],
   "source": [
    "sns.scatterplot(pd.merge(clonal_breadth_data, metadata, how='inner').query('TIMEPOINTS != \"baseline\"'),\n",
    "                x='AB_TITER', y='fraction_sequences', hue='CONDITION', style='TIMEPOINTS',\n",
    "                palette={'Lymphoma patients': 'red', 'Healthy controls': 'blue'})\n",
    "\n",
    "\n",
    "# remove grid\n",
    "plt.grid(False)\n",
    "# change y axis title\n",
    "plt.ylabel('Clonal breadth specific to SARS-CoV-2')\n",
    "plt.xlabel('Antibody Titer (UA/ml)')\n",
    "\n",
    "# link dots that have the same sample_id with an arrow\n",
    "for sample in pd.merge(clonal_breadth_data, metadata, how='inner').query('TIMEPOINTS != \"baseline\" and CONDITION == \"Healthy controls\"')['SAMPLE'].unique():\n",
    "    sample_data = pd.merge(clonal_breadth_data, metadata, how='inner').query('TIMEPOINTS != \"baseline\" and SAMPLE == @sample')\n",
    "    \n",
    "    # add arrow between the two points\n",
    "    plt.annotate('', xy=(sample_data['AB_TITER'].values[0], sample_data['fraction_sequences'].values[0]),\n",
    "                 xytext=(sample_data['AB_TITER'].values[1], sample_data['fraction_sequences'].values[1]),\n",
    "                 arrowprops=dict(arrowstyle='->', color='black', lw=1))\n",
    "    \n",
    "# change dimensions\n",
    "plt.gcf().set_size_inches(10, 6)\n",
    "\n",
    "# hide legend\n",
    "plt.legend().set_visible(False)\n",
    "# save the plot at 600 dpi\n",
    "plt.savefig(PLOTSDIR + 'clonal_breadth_ab_titers.png', dpi=600, bbox_inches='tight')"
   ]
  },
  {
   "cell_type": "code",
   "execution_count": 44,
   "metadata": {},
   "outputs": [
    {
     "data": {
      "image/png": "[encoded data removed]",
      "text/plain": [
       "<Figure size 1000x600 with 1 Axes>"
      ]
     },
     "metadata": {},
     "output_type": "display_data"
    }
   ],
   "source": [
    "healthy_data = (pd.merge(clonal_breadth_data, metadata, how='inner')\n",
    "                .query('TIMEPOINTS != \"baseline\" and CONDITION == \"Healthy controls\"'))\n",
    "\n",
    "\n",
    "sns.lmplot(x=\"AB_TITER\", y=\"fraction_sequences\", hue=\"TIMEPOINTS\", data=healthy_data, markers=[\"o\", \"x\"], palette=\"Set1\")\n",
    "# change size of the plot\n",
    "plt.gcf().set_size_inches(10, 6)\n",
    "plt.ylabel('Clonal breadth specific to SARS-CoV-2')\n",
    "plt.xlabel('Antibody Titer (UA/ml)')\n",
    "\n",
    "# add R^2 value to the plot for each timepoint\n",
    "for i,timepoint in enumerate(healthy_data['TIMEPOINTS'].unique()):\n",
    "    timepoint_data = healthy_data.query('TIMEPOINTS == @timepoint')\n",
    "    r, p = pearsonr(timepoint_data['AB_TITER'], timepoint_data['fraction_sequences'])\n",
    "    plt.text(0.3+i*0.5, .95, f'{timepoint} Pearson R = {r:.2f}', ha='center', va='center', transform=plt.gca().transAxes)\n",
    "    \n",
    "    # save the plot at 600 dpi\n",
    "plt.savefig(PLOTSDIR + 'clonal_breadth_ab_titers_correlation.png', dpi=600, bbox_inches='tight')"
   ]
  },
  {
   "cell_type": "code",
   "execution_count": 50,
   "metadata": {},
   "outputs": [
    {
     "name": "stderr",
     "output_type": "stream",
     "text": [
      "R[write to console]: In aggiunta: \n",
      "R[write to console]: Messaggio di avvertimento:\n",
      "\n",
      "R[write to console]: No shared levels found between `names(values)` of the manual scale and the\n",
      "data's fill values. \n",
      "\n",
      "R[write to console]: Caricamento del pacchetto richiesto: tidyverse\n",
      "\n"
     ]
    },
    {
     "name": "stdout",
     "output_type": "stream",
     "text": [
      "── Attaching core tidyverse packages ──────────────────────── tidyverse 2.0.0 ──\n",
      "✔ dplyr     1.1.4     ✔ readr     2.1.5\n",
      "✔ forcats   1.0.0     ✔ stringr   1.5.1\n",
      "✔ lubridate 1.9.3     ✔ tibble    3.2.1\n",
      "✔ purrr     1.0.2     ✔ tidyr     1.3.1\n",
      "── Conflicts ────────────────────────────────────────── tidyverse_conflicts() ──\n",
      "✖ dplyr::filter() masks stats::filter()\n",
      "✖ dplyr::lag()    masks stats::lag()\n",
      "ℹ Use the conflicted package (<http://conflicted.r-lib.org/>) to force all conflicts to become errors\n"
     ]
    },
    {
     "name": "stderr",
     "output_type": "stream",
     "text": [
      "R[write to console]: Caricamento del pacchetto richiesto: scales\n",
      "\n",
      "R[write to console]: \n",
      "Caricamento pacchetto: ‘scales’\n",
      "\n",
      "\n",
      "R[write to console]: Il seguente oggetto è mascherato da ‘package:purrr’:\n",
      "\n",
      "    discard\n",
      "\n",
      "\n",
      "R[write to console]: Il seguente oggetto è mascherato da ‘package:readr’:\n",
      "\n",
      "    col_factor\n",
      "\n",
      "\n"
     ]
    },
    {
     "name": "stdout",
     "output_type": "stream",
     "text": [
      "Saving 7 x 7 in image\n"
     ]
    },
    {
     "data": {
      "text/plain": [
       "array(['/Users/fabioaffaticati/Desktop/Work/lymphoma_covid/results/plots/scatteratio_breadth_R.png'],\n",
       "      dtype='<U90')"
      ]
     },
     "execution_count": 50,
     "metadata": {},
     "output_type": "execute_result"
    }
   ],
   "source": [
    "pandas2ri.activate()\n",
    "ro.r('''\n",
    "    source('src/utils/plotting.R')\n",
    "''')\n",
    "plot_scatteratio_breadth = ro.globalenv['plot_scatteratio_breadth']\n",
    "plot_scatteratio_breadth(clonal_breadth_data[['fraction_sequences', 'CONDITION', 'TIMEPOINTS', 'SAMPLE']], PLOTSDIR)"
   ]
  },
  {
   "cell_type": "code",
   "execution_count": 51,
   "metadata": {},
   "outputs": [
    {
     "name": "stderr",
     "output_type": "stream",
     "text": [
      "R[write to console]: Caricamento del pacchetto richiesto: lme4\n",
      "\n",
      "R[write to console]: Caricamento del pacchetto richiesto: Matrix\n",
      "\n",
      "R[write to console]: \n",
      "Caricamento pacchetto: ‘Matrix’\n",
      "\n",
      "\n",
      "R[write to console]: I seguenti oggetti sono mascherati da ‘package:tidyr’:\n",
      "\n",
      "    expand, pack, unpack\n",
      "\n",
      "\n",
      "R[write to console]: Caricamento del pacchetto richiesto: lmerTest\n",
      "\n",
      "R[write to console]: \n",
      "Caricamento pacchetto: ‘lmerTest’\n",
      "\n",
      "\n",
      "R[write to console]: Il seguente oggetto è mascherato da ‘package:lme4’:\n",
      "\n",
      "    lmer\n",
      "\n",
      "\n",
      "R[write to console]: Il seguente oggetto è mascherato da ‘package:stats’:\n",
      "\n",
      "    step\n",
      "\n",
      "\n",
      "R[write to console]: Welcome to emmeans.\n",
      "Caution: You lose important information if you filter this package's results.\n",
      "See '? untidy'\n",
      "\n"
     ]
    },
    {
     "name": "stdout",
     "output_type": "stream",
     "text": [
      "Linear mixed model fit by REML. t-tests use Satterthwaite's method [\n",
      "lmerModLmerTest]\n",
      "Formula: fraction_sequences ~ CONDITION * TIMEPOINTS + (1 | SAMPLE)\n",
      "   Data: df\n",
      "\n",
      "REML criterion at convergence: -556,7\n",
      "\n",
      "Scaled residuals: \n",
      "     Min       1Q   Median       3Q      Max \n",
      "-1,99108 -0,46814 -0,04896  0,50419  2,22172 \n",
      "\n",
      "Random effects:\n",
      " Groups   Name        Variance  Std.Dev. \n",
      " SAMPLE   (Intercept) 7,487e-09 8,653e-05\n",
      " Residual             2,142e-08 1,464e-04\n",
      "Number of obs: 45, groups:  SAMPLE, 15\n",
      "\n",
      "Fixed effects:\n",
      "                                                     Estimate Std. Error\n",
      "(Intercept)                                         1,020e-03  6,941e-05\n",
      "CONDITIONLymphoma patients                          7,744e-05  8,961e-05\n",
      "TIMEPOINTSV1 (50 days)                              3,387e-04  8,450e-05\n",
      "TIMEPOINTSV3 (6 months)                             1,044e-04  8,450e-05\n",
      "CONDITIONLymphoma patients:TIMEPOINTSV1 (50 days)  -2,350e-04  1,091e-04\n",
      "CONDITIONLymphoma patients:TIMEPOINTSV3 (6 months) -5,741e-05  1,091e-04\n",
      "                                                           df t value Pr(>|t|)\n",
      "(Intercept)                                         3,439e+01  14,691  < 2e-16\n",
      "CONDITIONLymphoma patients                          3,439e+01   0,864 0,393465\n",
      "TIMEPOINTSV1 (50 days)                              2,600e+01   4,008 0,000458\n",
      "TIMEPOINTSV3 (6 months)                             2,600e+01   1,235 0,227699\n",
      "CONDITIONLymphoma patients:TIMEPOINTSV1 (50 days)   2,600e+01  -2,154 0,040660\n",
      "CONDITIONLymphoma patients:TIMEPOINTSV3 (6 months)  2,600e+01  -0,526 0,603148\n",
      "                                                      \n",
      "(Intercept)                                        ***\n",
      "CONDITIONLymphoma patients                            \n",
      "TIMEPOINTSV1 (50 days)                             ***\n",
      "TIMEPOINTSV3 (6 months)                               \n",
      "CONDITIONLymphoma patients:TIMEPOINTSV1 (50 days)  *  \n",
      "CONDITIONLymphoma patients:TIMEPOINTSV3 (6 months)    \n",
      "---\n",
      "Signif. codes:  0 ‘***’ 0,001 ‘**’ 0,01 ‘*’ 0,05 ‘.’ 0,1 ‘ ’ 1\n",
      "\n",
      "Correlation of Fixed Effects:\n",
      "            (Intr) CONDIp TIME(d TIME(m CONp(d\n",
      "CONDITIONLp -0,775                            \n",
      "TIMEPOINT(d -0,609  0,471                     \n",
      "TIMEPOINT(m -0,609  0,471  0,500              \n",
      "CONDITIOp(d  0,471 -0,609 -0,775 -0,387       \n",
      "CONDITIOp(m  0,471 -0,609 -0,387 -0,775  0,500\n",
      "CONDITION = Healthy controls:\n",
      " contrast                      estimate       SE df t.ratio p.value\n",
      " baseline - V1 (50 days)      -3,39e-04 8,45e-05 26  -4,008  0,0013\n",
      " baseline - V3 (6 months)     -1,04e-04 8,45e-05 26  -1,235  0,4436\n",
      " V1 (50 days) - V3 (6 months)  2,34e-04 8,45e-05 26   2,772  0,0265\n",
      "\n",
      "CONDITION = Lymphoma patients:\n",
      " contrast                      estimate       SE df t.ratio p.value\n",
      " baseline - V1 (50 days)      -1,04e-04 6,90e-05 26  -1,502  0,3062\n",
      " baseline - V3 (6 months)     -4,70e-05 6,90e-05 26  -0,681  0,7765\n",
      " V1 (50 days) - V3 (6 months)  5,67e-05 6,90e-05 26   0,821  0,6933\n",
      "\n",
      "Degrees-of-freedom method: kenward-roger \n",
      "P value adjustment: tukey method for comparing a family of 3 estimates \n",
      "Saving 10 x 7 in image\n"
     ]
    },
    {
     "name": "stderr",
     "output_type": "stream",
     "text": [
      "R[write to console]: Note: adjust = \"tukey\" was changed to \"sidak\"\n",
      "because \"tukey\" is only appropriate for one set of pairwise comparisons\n",
      "\n"
     ]
    },
    {
     "name": "stdout",
     "output_type": "stream",
     "text": [
      "Saving 10 x 7 in image\n"
     ]
    },
    {
     "data": {
      "text/plain": [
       "array(['/Users/fabioaffaticati/Desktop/Work/lymphoma_covid/results/models/lmm_model_breadth_pwpp.png'],\n",
       "      dtype='<U92')"
      ]
     },
     "execution_count": 51,
     "metadata": {},
     "output_type": "execute_result"
    }
   ],
   "source": [
    "pandas2ri.activate()\n",
    "ro.r('''\n",
    "    source('src/utils/plotting.R')\n",
    "''')\n",
    "linear_mixed_model = ro.globalenv['linear_mixed_model']\n",
    "linear_mixed_model(clonal_breadth_data[['fraction_sequences', 'CONDITION', 'TIMEPOINTS', 'SAMPLE']], MODELSDIR)"
   ]
  },
  {
   "cell_type": "markdown",
   "metadata": {},
   "source": [
    "## Clonal depth"
   ]
  },
  {
   "cell_type": "code",
   "execution_count": 45,
   "metadata": {},
   "outputs": [],
   "source": [
    "clonal_depth_data = pd.read_csv(PROCESSEDDIR + 'breadth-depth_grouped_data.csv')\n",
    "\n",
    "clonal_depth_data = clonal_depth_data.query('SAMPLE != \"s_1\" and SAMPLE != \"s_10\"')\n",
    "\n",
    "clonal_depth_data = pd.merge(clonal_depth_data, DETECT_predictions.drop_duplicates(subset=['junction_aa','v_call', 'j_call'])[['junction_aa','v_call', 'j_call']], how='left', indicator=True)\n",
    "clonal_depth_data = clonal_depth_data.query('_merge == \"both\"')\n",
    "clonal_depth_data.reset_index(drop=True, inplace=True)\n",
    "\n",
    "clonal_depth_data = clonal_depth_data.groupby(['sample_id', 'CONDITION', 'TIMEPOINTS', 'SAMPLE'], as_index=False).agg({'cloneFraction': 'sum'})\n",
    "clonal_depth_data = pd.merge(clonal_depth_data, metadata, on=['sample_id', 'CONDITION', 'TIMEPOINTS', 'SAMPLE'], how='left') \n",
    "clonal_depth_data = clonal_depth_data.sort_values(by=['SAMPLE', 'TIMEPOINTS'], ascending=[True, False])\n",
    "\n",
    "clonal_depth_data[['sample_id', 'CONDITION', 'TIMEPOINTS', 'SAMPLE', 'cloneFraction']].rename(columns={'cloneFraction': 'Covid_clonal_depth'}).reset_index(drop=True).to_csv(PROCESSEDDIR + 'share_clonal_depth.csv', index=False)\n",
    "\n",
    "clonal_breadth_data.rename(columns={'fraction_sequences': 'Covid_clonal_breadth'}).reset_index(drop=True).to_csv(PROCESSEDDIR + 'share_clonal_breadth.csv', index=False)"
   ]
  },
  {
   "cell_type": "markdown",
   "metadata": {},
   "source": [
    "### Clonal depth correlation with AB titers"
   ]
  },
  {
   "cell_type": "code",
   "execution_count": 46,
   "metadata": {},
   "outputs": [
    {
     "data": {
      "image/png": "[encoded data removed]",
      "text/plain": [
       "<Figure size 1000x600 with 1 Axes>"
      ]
     },
     "metadata": {},
     "output_type": "display_data"
    }
   ],
   "source": [
    "sns.scatterplot(pd.merge(clonal_depth_data, metadata, how='inner').query('TIMEPOINTS != \"baseline\"'),\n",
    "                x='AB_TITER', y='cloneFraction', hue='CONDITION', style='TIMEPOINTS',\n",
    "                palette={'Lymphoma patients': 'red', 'Healthy controls': 'blue'})\n",
    "# remove grid\n",
    "plt.grid(False)\n",
    "# change y axis title\n",
    "plt.ylabel('Clonal depth specific to SARS-CoV-2')\n",
    "plt.xlabel('Antibody Titers')\n",
    "\n",
    "# link dots that have the same sample_id with an arrow\n",
    "for sample in pd.merge(clonal_depth_data, metadata, how='inner').query('TIMEPOINTS != \"baseline\" and CONDITION == \"Healthy controls\"')['SAMPLE'].unique():\n",
    "    sample_data = pd.merge(clonal_depth_data, metadata, how='inner').query('TIMEPOINTS != \"baseline\" and SAMPLE == @sample')\n",
    "    \n",
    "    # add arrow between the two points\n",
    "    plt.annotate('', xy=(sample_data['AB_TITER'].values[0], sample_data['cloneFraction'].values[0]),\n",
    "                 xytext=(sample_data['AB_TITER'].values[1], sample_data['cloneFraction'].values[1]),\n",
    "                 arrowprops=dict(arrowstyle='->', color='black', lw=1))\n",
    "    \n",
    "# change dimensions\n",
    "plt.gcf().set_size_inches(10, 6)\n",
    "\n",
    "# hide legend\n",
    "plt.legend().set_visible(False)\n",
    "# save the plot at 600 dpi\n",
    "plt.savefig(PLOTSDIR + 'clonal_depth_ab_titers.png', dpi=600, bbox_inches='tight')"
   ]
  },
  {
   "cell_type": "code",
   "execution_count": 55,
   "metadata": {},
   "outputs": [
    {
     "data": {
      "image/png": "[encoded data removed]",
      "text/plain": [
       "<Figure size 1000x600 with 1 Axes>"
      ]
     },
     "metadata": {},
     "output_type": "display_data"
    }
   ],
   "source": [
    "healthy_data = (pd.merge(clonal_depth_data, metadata, how='inner')\n",
    "                .query('TIMEPOINTS != \"baseline\" and CONDITION == \"Healthy controls\"'))\n",
    "\n",
    "\n",
    "sns.lmplot(x=\"AB_TITER\", y=\"cloneFraction\", hue=\"TIMEPOINTS\", data=healthy_data, markers=[\"o\", \"x\"], palette=\"Set1\")\n",
    "# change size of the plot\n",
    "plt.gcf().set_size_inches(10, 6)\n",
    "plt.ylabel('Clonal depth specific to SARS-CoV-2')\n",
    "plt.xlabel('Antibody Titers')\n",
    "\n",
    "# add R^2 value to the plot for each timepoint\n",
    "for i,timepoint in enumerate(healthy_data['TIMEPOINTS'].unique()):\n",
    "    timepoint_data = healthy_data.query('TIMEPOINTS == @timepoint')\n",
    "    r, p = pearsonr(timepoint_data['AB_TITER'], timepoint_data['cloneFraction'])\n",
    "    plt.text(0.3+i*0.5, .95, f'{timepoint} Pearson R = {r:.2f}', ha='center', va='center', transform=plt.gca().transAxes)\n",
    "    \n",
    "    # save the plot at 600 dpi\n",
    "plt.savefig(PLOTSDIR + 'clonal_depth_ab_titers_correlation.png', dpi=600, bbox_inches='tight')"
   ]
  },
  {
   "cell_type": "code",
   "execution_count": 56,
   "metadata": {},
   "outputs": [
    {
     "name": "stderr",
     "output_type": "stream",
     "text": [
      "R[write to console]: In aggiunta: \n",
      "R[write to console]: Messaggi di avvertimento:\n",
      "\n",
      "R[write to console]: 1: \n",
      "R[write to console]: In printCoefmat(x$coefficients, digits = digits, signif.stars = signif.stars) :\n",
      "R[write to console]: \n",
      " \n",
      "R[write to console]:  NA introdotti per coercizione\n",
      "\n",
      "R[write to console]: 2: Using `size` aesthetic for lines was deprecated in ggplot2 3.4.0.\n",
      "ℹ Please use `linewidth` instead.\n",
      "This warning is displayed once every 8 hours.\n",
      "Call `lifecycle::last_lifecycle_warnings()` to see where this warning was\n",
      "generated. \n",
      "\n"
     ]
    },
    {
     "name": "stdout",
     "output_type": "stream",
     "text": [
      "Scale for y is already present.\n",
      "Adding another scale for y, which will replace the existing scale.\n",
      "Saving 7 x 7 in image\n"
     ]
    },
    {
     "data": {
      "text/plain": [
       "array(['/Users/fabioaffaticati/Desktop/Work/lymphoma_covid/results/plots/scatteratio_depth.png'],\n",
       "      dtype='<U86')"
      ]
     },
     "execution_count": 56,
     "metadata": {},
     "output_type": "execute_result"
    }
   ],
   "source": [
    "pandas2ri.activate()\n",
    "ro.r('''\n",
    "    source('src/utils/plotting.R')\n",
    "''')\n",
    "plot_clonal_depth = ro.globalenv['plot_clonal_depth']\n",
    "plot_clonal_depth(clonal_depth_data[['cloneFraction', 'CONDITION', 'TIMEPOINTS', 'SAMPLE']], PLOTSDIR)"
   ]
  },
  {
   "cell_type": "code",
   "execution_count": 57,
   "metadata": {},
   "outputs": [
    {
     "name": "stdout",
     "output_type": "stream",
     "text": [
      "Linear mixed model fit by REML. t-tests use Satterthwaite's method [\n",
      "lmerModLmerTest]\n",
      "Formula: cloneFraction ~ CONDITION * TIMEPOINTS + (1 | SAMPLE)\n",
      "   Data: df\n",
      "\n",
      "REML criterion at convergence: -512,1\n",
      "\n",
      "Scaled residuals: \n",
      "     Min       1Q   Median       3Q      Max \n",
      "-1,64673 -0,50343 -0,06227  0,48475  2,74165 \n",
      "\n",
      "Random effects:\n",
      " Groups   Name        Variance  Std.Dev. \n",
      " SAMPLE   (Intercept) 3,649e-08 0,0001910\n",
      " Residual             6,058e-08 0,0002461\n",
      "Number of obs: 45, groups:  SAMPLE, 15\n",
      "\n",
      "Fixed effects:\n",
      "                                                     Estimate Std. Error\n",
      "(Intercept)                                         0,0007409  0,0001272\n",
      "CONDITIONLymphoma patients                         -0,0001027  0,0001642\n",
      "TIMEPOINTSV1 (50 days)                              0,0003696  0,0001421\n",
      "TIMEPOINTSV3 (6 months)                            -0,0001810  0,0001421\n",
      "CONDITIONLymphoma patients:TIMEPOINTSV1 (50 days)  -0,0001277  0,0001835\n",
      "CONDITIONLymphoma patients:TIMEPOINTSV3 (6 months)  0,0002752  0,0001835\n",
      "                                                           df t value Pr(>|t|)\n",
      "(Intercept)                                        30,4064937   5,825 2,17e-06\n",
      "CONDITIONLymphoma patients                         30,4064937  -0,625   0,5365\n",
      "TIMEPOINTSV1 (50 days)                             26,0000002   2,601   0,0151\n",
      "TIMEPOINTSV3 (6 months)                            26,0000002  -1,274   0,2139\n",
      "CONDITIONLymphoma patients:TIMEPOINTSV1 (50 days)  26,0000002  -0,696   0,4925\n",
      "CONDITIONLymphoma patients:TIMEPOINTSV3 (6 months) 26,0000002   1,500   0,1456\n",
      "                                                      \n",
      "(Intercept)                                        ***\n",
      "CONDITIONLymphoma patients                            \n",
      "TIMEPOINTSV1 (50 days)                             *  \n",
      "TIMEPOINTSV3 (6 months)                               \n",
      "CONDITIONLymphoma patients:TIMEPOINTSV1 (50 days)     \n",
      "CONDITIONLymphoma patients:TIMEPOINTSV3 (6 months)    \n",
      "---\n",
      "Signif. codes:  0 ‘***’ 0,001 ‘**’ 0,01 ‘*’ 0,05 ‘.’ 0,1 ‘ ’ 1\n",
      "\n",
      "Correlation of Fixed Effects:\n",
      "            (Intr) CONDIp TIME(d TIME(m CONp(d\n",
      "CONDITIONLp -0,775                            \n",
      "TIMEPOINT(d -0,559  0,433                     \n",
      "TIMEPOINT(m -0,559  0,433  0,500              \n",
      "CONDITIOp(d  0,433 -0,559 -0,775 -0,387       \n",
      "CONDITIOp(m  0,433 -0,559 -0,387 -0,775  0,500\n",
      "CONDITION = Healthy controls:\n",
      " contrast                      estimate       SE df t.ratio p.value\n",
      " baseline - V1 (50 days)      -3,70e-04 0,000142 26  -2,601  0,0389\n",
      " baseline - V3 (6 months)      1,81e-04 0,000142 26   1,274  0,4221\n",
      " V1 (50 days) - V3 (6 months)  5,51e-04 0,000142 26   3,875  0,0018\n",
      "\n",
      "CONDITION = Lymphoma patients:\n",
      " contrast                      estimate       SE df t.ratio p.value\n",
      " baseline - V1 (50 days)      -2,42e-04 0,000116 26  -2,085  0,1127\n",
      " baseline - V3 (6 months)     -9,42e-05 0,000116 26  -0,812  0,6992\n",
      " V1 (50 days) - V3 (6 months)  1,48e-04 0,000116 26   1,273  0,4228\n",
      "\n",
      "Degrees-of-freedom method: kenward-roger \n",
      "P value adjustment: tukey method for comparing a family of 3 estimates \n",
      "Saving 10 x 7 in image\n"
     ]
    },
    {
     "name": "stderr",
     "output_type": "stream",
     "text": [
      "R[write to console]: Note: adjust = \"tukey\" was changed to \"sidak\"\n",
      "because \"tukey\" is only appropriate for one set of pairwise comparisons\n",
      "\n"
     ]
    },
    {
     "name": "stdout",
     "output_type": "stream",
     "text": [
      "Saving 10 x 7 in image\n"
     ]
    },
    {
     "data": {
      "text/plain": [
       "array(['/Users/fabioaffaticati/Desktop/Work/lymphoma_covid/results/models/lmm_model_depth_pwpp.png'],\n",
       "      dtype='<U90')"
      ]
     },
     "execution_count": 57,
     "metadata": {},
     "output_type": "execute_result"
    }
   ],
   "source": [
    "pandas2ri.activate()\n",
    "ro.r('''\n",
    "    source('src/utils/plotting.R')\n",
    "''')\n",
    "linear_mixed_model = ro.globalenv['linear_mixed_model']\n",
    "linear_mixed_model(clonal_depth_data[['cloneFraction', 'CONDITION', 'TIMEPOINTS', 'SAMPLE']], MODELSDIR)"
   ]
  },
  {
   "cell_type": "markdown",
   "metadata": {},
   "source": [
    "## V Gene usage"
   ]
  },
  {
   "cell_type": "code",
   "execution_count": 164,
   "metadata": {},
   "outputs": [],
   "source": [
    "combined_predictions_hla_test = combined_predictions.query('SAMPLE != \"s_1\" and SAMPLE != \"s_10\"').pivot(index='SAMPLE', columns='locus', values='match')\n",
    "combined_predictions_hla_test['HLA_A'] = combined_predictions_hla_test['HLA-A'].str.split('*').str[1]\n",
    "combined_predictions_hla_test['HLA_B'] = combined_predictions_hla_test['HLA-B'].str.split('*').str[1]\n",
    "combined_predictions_hla_test['HLA_C'] = combined_predictions_hla_test['HLA-C'].str.split('*').str[1]\n",
    "metadata_test = pd.merge(metadata, combined_predictions_hla_test, on='SAMPLE', how='left')\n",
    "metadata_test = metadata_test[['sample_id', 'SAMPLE', 'CONDITION', 'TIMEPOINTS', 'HLA_A', 'HLA_B', 'HLA_C']].query('SAMPLE != \"s_1\" and SAMPLE != \"s_10\"')\n",
    "metadata_test = pd.merge(metadata_test, clonal_breadth_data[['sample_id', 'fraction_sequences']], on='sample_id', how='left')"
   ]
  },
  {
   "cell_type": "code",
   "execution_count": 165,
   "metadata": {},
   "outputs": [
    {
     "data": {
      "application/vnd.microsoft.datawrangler.viewer.v0+json": {
       "columns": [
        {
         "name": "('sample_id', 'CONDITION', 'TIMEPOINTS')",
         "rawType": "object",
         "type": "unknown"
        },
        {
         "name": "TRBV10-1",
         "rawType": "float64",
         "type": "float"
        },
        {
         "name": "TRBV10-2",
         "rawType": "float64",
         "type": "float"
        },
        {
         "name": "TRBV10-3",
         "rawType": "float64",
         "type": "float"
        },
        {
         "name": "TRBV11-1",
         "rawType": "float64",
         "type": "float"
        },
        {
         "name": "TRBV11-2",
         "rawType": "float64",
         "type": "float"
        },
        {
         "name": "TRBV11-3",
         "rawType": "float64",
         "type": "float"
        },
        {
         "name": "TRBV12-3",
         "rawType": "float64",
         "type": "float"
        },
        {
         "name": "TRBV12-4",
         "rawType": "float64",
         "type": "float"
        },
        {
         "name": "TRBV12-5",
         "rawType": "float64",
         "type": "float"
        },
        {
         "name": "TRBV13",
         "rawType": "float64",
         "type": "float"
        },
        {
         "name": "TRBV14",
         "rawType": "float64",
         "type": "float"
        },
        {
         "name": "TRBV15",
         "rawType": "float64",
         "type": "float"
        },
        {
         "name": "TRBV16",
         "rawType": "float64",
         "type": "float"
        },
        {
         "name": "TRBV18",
         "rawType": "float64",
         "type": "float"
        },
        {
         "name": "TRBV19",
         "rawType": "float64",
         "type": "float"
        },
        {
         "name": "TRBV2",
         "rawType": "float64",
         "type": "float"
        },
        {
         "name": "TRBV20-1",
         "rawType": "float64",
         "type": "float"
        },
        {
         "name": "TRBV24-1",
         "rawType": "float64",
         "type": "float"
        },
        {
         "name": "TRBV25-1",
         "rawType": "float64",
         "type": "float"
        },
        {
         "name": "TRBV27",
         "rawType": "float64",
         "type": "float"
        },
        {
         "name": "TRBV28",
         "rawType": "float64",
         "type": "float"
        },
        {
         "name": "TRBV29-1",
         "rawType": "float64",
         "type": "float"
        },
        {
         "name": "TRBV3-1",
         "rawType": "float64",
         "type": "float"
        },
        {
         "name": "TRBV30",
         "rawType": "float64",
         "type": "float"
        },
        {
         "name": "TRBV4-1",
         "rawType": "float64",
         "type": "float"
        },
        {
         "name": "TRBV4-2",
         "rawType": "float64",
         "type": "float"
        },
        {
         "name": "TRBV4-3",
         "rawType": "float64",
         "type": "float"
        },
        {
         "name": "TRBV5-1",
         "rawType": "float64",
         "type": "float"
        },
        {
         "name": "TRBV5-4",
         "rawType": "float64",
         "type": "float"
        },
        {
         "name": "TRBV5-5",
         "rawType": "float64",
         "type": "float"
        },
        {
         "name": "TRBV5-6",
         "rawType": "float64",
         "type": "float"
        },
        {
         "name": "TRBV5-8",
         "rawType": "float64",
         "type": "float"
        },
        {
         "name": "TRBV6-1",
         "rawType": "float64",
         "type": "float"
        },
        {
         "name": "TRBV6-2",
         "rawType": "float64",
         "type": "float"
        },
        {
         "name": "TRBV6-3",
         "rawType": "float64",
         "type": "float"
        },
        {
         "name": "TRBV6-4",
         "rawType": "float64",
         "type": "float"
        },
        {
         "name": "TRBV6-5",
         "rawType": "float64",
         "type": "float"
        },
        {
         "name": "TRBV6-6",
         "rawType": "float64",
         "type": "float"
        },
        {
         "name": "TRBV6-8",
         "rawType": "float64",
         "type": "float"
        },
        {
         "name": "TRBV6-9",
         "rawType": "float64",
         "type": "float"
        },
        {
         "name": "TRBV7-2",
         "rawType": "float64",
         "type": "float"
        },
        {
         "name": "TRBV7-3",
         "rawType": "float64",
         "type": "float"
        },
        {
         "name": "TRBV7-4",
         "rawType": "float64",
         "type": "float"
        },
        {
         "name": "TRBV7-6",
         "rawType": "float64",
         "type": "float"
        },
        {
         "name": "TRBV7-7",
         "rawType": "float64",
         "type": "float"
        },
        {
         "name": "TRBV7-8",
         "rawType": "float64",
         "type": "float"
        },
        {
         "name": "TRBV7-9",
         "rawType": "float64",
         "type": "float"
        },
        {
         "name": "TRBV9",
         "rawType": "float64",
         "type": "float"
        }
       ],
       "conversionMethod": "pd.DataFrame",
       "ref": "89e2dc77-8ae3-4653-8ab4-0b8c7af29a8a",
       "rows": [
        [
         "('10L', 'Lymphomas', 'baseline')",
         "5.469344061035756e-05",
         "0.0006972086167126162",
         "0.0074436179657862206",
         "0.001028024281763614",
         "0.0029258335705150728",
         "0.0004359545120495491",
         "0.012702684332824852",
         "0.0091555757573182",
         "0.0031286772046235085",
         "0.002735734039073347",
         "0.006616313301019775",
         "0.006112921245693222",
         "0.00025222703194096934",
         "0.007461672111230289",
         "0.017981928862418676",
         "0.011454824280063933",
         "0.0383969193255813",
         "0.004395122407106111",
         "0.008663865796102772",
         "0.009584096209478712",
         "0.041093890052376986",
         "0.03652300522932899",
         "0.006541441697854068",
         "0.00502489348054188",
         "0.0019859559988615024",
         "0.00530685675203792",
         "0.023629690360784727",
         "0.018319116578802967",
         "0.004802933692433826",
         "0.0020008241186391",
         "0.003974036014833872",
         "0.00040940429816102596",
         "0.003925183621279228",
         "0.01153394391745207",
         "0.0032837304537324365",
         "0.0004609117131047608",
         "0.026013899567974806",
         "0.004097229007276883",
         "9.29257486098308e-05",
         "5.68174577214394e-05",
         "0.02497897223059981",
         "0.007938513952668128",
         "0.00011310391116510835",
         "0.003881641270501719",
         "0.0023921742713557867",
         "0.010956742267515512",
         "0.05406951058397691",
         "0.010783634872962295"
        ],
        [
         "('11L', 'Lymphomas', 'V1')",
         "7.914920297269922e-05",
         "0.0006409533495632309",
         "0.007365014396877829",
         "0.0012420734401140576",
         "0.004653248893721681",
         "0.000687511704253054",
         "0.012212773750192639",
         "0.01223760487269373",
         "0.0024582811276226317",
         "0.0017862888749328027",
         "0.005664082505542967",
         "0.005090897427805904",
         "0.00026589993678410065",
         "0.009336502060465768",
         "0.016215240308360968",
         "0.010803090233195084",
         "0.03844064689212558",
         "0.004351654218341965",
         "0.005982748577642137",
         "0.0097001745420983",
         "0.042832134369479385",
         "0.038223891885292065",
         "0.005965159865870427",
         "0.004787750807270139",
         "0.0017578365470668753",
         "0.006690435568927306",
         "0.017677689960673183",
         "0.016708241553020885",
         "0.0048337918469078525",
         "0.002148926726461389",
         "0.003894347712277645",
         "0.0004976570801289977",
         "0.003614480269086584",
         "0.011755984559180324",
         "0.003129238750208069",
         "0.0005250747778907823",
         "0.018616099465199553",
         "0.003699319937632497",
         "3.621205364764016e-05",
         "6.052586109676999e-05",
         "0.023739587741288426",
         "0.006821833592163165",
         "6.98375320347346e-05",
         "0.0038591702887339095",
         "0.002394651376213156",
         "0.010276463510147932",
         "0.039550287678900266",
         "0.009570845779070808"
        ],
        [
         "('12L', 'Lymphomas', 'V3')",
         "4.4445403352823146e-05",
         "0.0005764957172754537",
         "0.0047768020885024486",
         "0.000813825541004121",
         "0.00349004293512259",
         "0.00043539234934950055",
         "0.010326004876049106",
         "0.012355822132084655",
         "0.0029571296036591064",
         "0.0014990614684243116",
         "0.00513883794688103",
         "0.003833955425143806",
         "0.0001514595784159313",
         "0.006414377872230239",
         "0.011246844592116308",
         "0.009900537228419016",
         "0.03133185181988785",
         "0.0032181924097607283",
         "0.007313210641006154",
         "0.007918617445899381",
         "0.03717059699238319",
         "0.03212712248376353",
         "0.005298927700705505",
         "0.0036043927592828325",
         "0.001210382101016203",
         "0.004085525038296255",
         "0.019334613476018253",
         "0.011831107467259157",
         "0.003597920127726596",
         "0.0018943235021251807",
         "0.0028212043409782304",
         "0.0003257891216638978",
         "0.002704696972965883",
         "0.009291246844592116",
         "0.0014084446266368759",
         "0.0005100433666314268",
         "0.024844117456687166",
         "0.0030257394981553",
         "1.4239789423720036e-05",
         "3.45207016332607e-05",
         "0.017002308571921573",
         "0.004314656195386993",
         "5.566463138363288e-05",
         "0.00250145634210009",
         "0.0021752357116658206",
         "0.00821118039224123",
         "0.04954713154544844",
         "0.007848281516321595"
        ],
        [
         "('13L', 'Lymphomas', 'baseline')",
         "0.0006032255601750485",
         "0.0011334042751725592",
         "0.008295293992344691",
         "0.0013181421029762584",
         "0.0067075854671651705",
         "0.000693238124232419",
         "0.01607784625854059",
         "0.014124432237504793",
         "0.0015250296193175445",
         "0.0010754380689995786",
         "0.0042249352710695895",
         "0.0035114325381752",
         "0.00020405989652796564",
         "0.007053497624328087",
         "0.025271380811583286",
         "0.010246351663535698",
         "0.029103748198570263",
         "0.004932311494368696",
         "0.0032663721543541102",
         "0.012526827042978743",
         "0.013908590591754541",
         "0.012534367362480847",
         "0.007593573008672159",
         "0.002613663247445952",
         "0.006818805179822482",
         "0.007330133096064436",
         "0.015542954843853785",
         "0.016464287633027645",
         "0.00364715828921461",
         "0.0020255183262752803",
         "0.009504101462539095",
         "0.0005198107756820926",
         "0.004623629664747901",
         "0.010308559299428916",
         "0.004750401286378506",
         "0.0012592333568653968",
         "0.007904611188137498",
         "0.004434179137255493",
         "6.173636592416512e-05",
         "5.560985632863729e-05",
         "0.02254461277160455",
         "0.007654366834658691",
         "0.0001055644730306335",
         "0.0032932345425805668",
         "0.0008332053049917858",
         "0.00963888467364075",
         "0.012253019191055613",
         "0.005563813252677049"
        ],
        [
         "('14L', 'Lymphomas', 'V1')",
         "0.000548627349095003",
         "0.0013115960855633018",
         "0.006287347362951407",
         "0.0011357928466268295",
         "0.008417337836667475",
         "0.000793279639733264",
         "0.02049276868450677",
         "0.011951156144452812",
         "0.0012362518403048412",
         "0.0013761150082272453",
         "0.004595998960768846",
         "0.0032882999913396885",
         "0.0001900926647614099",
         "0.006586559279466528",
         "0.026250108253225782",
         "0.010389278600502167",
         "0.0408924395946991",
         "0.00485017753529052",
         "0.004450073612193644",
         "0.01516584394214938",
         "0.013978955572876045",
         "0.01710271066077745",
         "0.009287260760370562",
         "0.003060102191045293",
         "0.007318351086862389",
         "0.007149909067289957",
         "0.015611414220143506",
         "0.017701567506711657",
         "0.003043647700701481",
         "0.002600675500129904",
         "0.010096994890447469",
         "0.00042391963280505757",
         "0.0050887676452758095",
         "0.012213128951242746",
         "0.004713345457694634",
         "0.0019087208798821793",
         "0.008933056205074836",
         "0.005184896509915995",
         "5.715770329955832e-05",
         "4.979648393522127e-05",
         "0.021620767298865362",
         "0.007671689616350454",
         "9.829392915908895e-05",
         "0.0031549320169740663",
         "0.00077855720100459",
         "0.010697150775093056",
         "0.01649519355676792",
         "0.005717502381570971"
        ]
       ],
       "shape": {
        "columns": 48,
        "rows": 5
       }
      },
      "text/html": [
       "<div>\n",
       "<style scoped>\n",
       "    .dataframe tbody tr th:only-of-type {\n",
       "        vertical-align: middle;\n",
       "    }\n",
       "\n",
       "    .dataframe tbody tr th {\n",
       "        vertical-align: top;\n",
       "    }\n",
       "\n",
       "    .dataframe thead th {\n",
       "        text-align: right;\n",
       "    }\n",
       "</style>\n",
       "<table border=\"1\" class=\"dataframe\">\n",
       "  <thead>\n",
       "    <tr style=\"text-align: right;\">\n",
       "      <th></th>\n",
       "      <th></th>\n",
       "      <th>v_call</th>\n",
       "      <th>TRBV10-1</th>\n",
       "      <th>TRBV10-2</th>\n",
       "      <th>TRBV10-3</th>\n",
       "      <th>TRBV11-1</th>\n",
       "      <th>TRBV11-2</th>\n",
       "      <th>TRBV11-3</th>\n",
       "      <th>TRBV12-3</th>\n",
       "      <th>TRBV12-4</th>\n",
       "      <th>TRBV12-5</th>\n",
       "      <th>TRBV13</th>\n",
       "      <th>...</th>\n",
       "      <th>TRBV6-8</th>\n",
       "      <th>TRBV6-9</th>\n",
       "      <th>TRBV7-2</th>\n",
       "      <th>TRBV7-3</th>\n",
       "      <th>TRBV7-4</th>\n",
       "      <th>TRBV7-6</th>\n",
       "      <th>TRBV7-7</th>\n",
       "      <th>TRBV7-8</th>\n",
       "      <th>TRBV7-9</th>\n",
       "      <th>TRBV9</th>\n",
       "    </tr>\n",
       "    <tr>\n",
       "      <th>sample_id</th>\n",
       "      <th>CONDITION</th>\n",
       "      <th>TIMEPOINTS</th>\n",
       "      <th></th>\n",
       "      <th></th>\n",
       "      <th></th>\n",
       "      <th></th>\n",
       "      <th></th>\n",
       "      <th></th>\n",
       "      <th></th>\n",
       "      <th></th>\n",
       "      <th></th>\n",
       "      <th></th>\n",
       "      <th></th>\n",
       "      <th></th>\n",
       "      <th></th>\n",
       "      <th></th>\n",
       "      <th></th>\n",
       "      <th></th>\n",
       "      <th></th>\n",
       "      <th></th>\n",
       "      <th></th>\n",
       "      <th></th>\n",
       "      <th></th>\n",
       "    </tr>\n",
       "  </thead>\n",
       "  <tbody>\n",
       "    <tr>\n",
       "      <th>10L</th>\n",
       "      <th>Lymphomas</th>\n",
       "      <th>baseline</th>\n",
       "      <td>0.000055</td>\n",
       "      <td>0.000697</td>\n",
       "      <td>0.007444</td>\n",
       "      <td>0.001028</td>\n",
       "      <td>0.002926</td>\n",
       "      <td>0.000436</td>\n",
       "      <td>0.012703</td>\n",
       "      <td>0.009156</td>\n",
       "      <td>0.003129</td>\n",
       "      <td>0.002736</td>\n",
       "      <td>...</td>\n",
       "      <td>0.000093</td>\n",
       "      <td>0.000057</td>\n",
       "      <td>0.024979</td>\n",
       "      <td>0.007939</td>\n",
       "      <td>0.000113</td>\n",
       "      <td>0.003882</td>\n",
       "      <td>0.002392</td>\n",
       "      <td>0.010957</td>\n",
       "      <td>0.054070</td>\n",
       "      <td>0.010784</td>\n",
       "    </tr>\n",
       "    <tr>\n",
       "      <th>11L</th>\n",
       "      <th>Lymphomas</th>\n",
       "      <th>V1</th>\n",
       "      <td>0.000079</td>\n",
       "      <td>0.000641</td>\n",
       "      <td>0.007365</td>\n",
       "      <td>0.001242</td>\n",
       "      <td>0.004653</td>\n",
       "      <td>0.000688</td>\n",
       "      <td>0.012213</td>\n",
       "      <td>0.012238</td>\n",
       "      <td>0.002458</td>\n",
       "      <td>0.001786</td>\n",
       "      <td>...</td>\n",
       "      <td>0.000036</td>\n",
       "      <td>0.000061</td>\n",
       "      <td>0.023740</td>\n",
       "      <td>0.006822</td>\n",
       "      <td>0.000070</td>\n",
       "      <td>0.003859</td>\n",
       "      <td>0.002395</td>\n",
       "      <td>0.010276</td>\n",
       "      <td>0.039550</td>\n",
       "      <td>0.009571</td>\n",
       "    </tr>\n",
       "    <tr>\n",
       "      <th>12L</th>\n",
       "      <th>Lymphomas</th>\n",
       "      <th>V3</th>\n",
       "      <td>0.000044</td>\n",
       "      <td>0.000576</td>\n",
       "      <td>0.004777</td>\n",
       "      <td>0.000814</td>\n",
       "      <td>0.003490</td>\n",
       "      <td>0.000435</td>\n",
       "      <td>0.010326</td>\n",
       "      <td>0.012356</td>\n",
       "      <td>0.002957</td>\n",
       "      <td>0.001499</td>\n",
       "      <td>...</td>\n",
       "      <td>0.000014</td>\n",
       "      <td>0.000035</td>\n",
       "      <td>0.017002</td>\n",
       "      <td>0.004315</td>\n",
       "      <td>0.000056</td>\n",
       "      <td>0.002501</td>\n",
       "      <td>0.002175</td>\n",
       "      <td>0.008211</td>\n",
       "      <td>0.049547</td>\n",
       "      <td>0.007848</td>\n",
       "    </tr>\n",
       "    <tr>\n",
       "      <th>13L</th>\n",
       "      <th>Lymphomas</th>\n",
       "      <th>baseline</th>\n",
       "      <td>0.000603</td>\n",
       "      <td>0.001133</td>\n",
       "      <td>0.008295</td>\n",
       "      <td>0.001318</td>\n",
       "      <td>0.006708</td>\n",
       "      <td>0.000693</td>\n",
       "      <td>0.016078</td>\n",
       "      <td>0.014124</td>\n",
       "      <td>0.001525</td>\n",
       "      <td>0.001075</td>\n",
       "      <td>...</td>\n",
       "      <td>0.000062</td>\n",
       "      <td>0.000056</td>\n",
       "      <td>0.022545</td>\n",
       "      <td>0.007654</td>\n",
       "      <td>0.000106</td>\n",
       "      <td>0.003293</td>\n",
       "      <td>0.000833</td>\n",
       "      <td>0.009639</td>\n",
       "      <td>0.012253</td>\n",
       "      <td>0.005564</td>\n",
       "    </tr>\n",
       "    <tr>\n",
       "      <th>14L</th>\n",
       "      <th>Lymphomas</th>\n",
       "      <th>V1</th>\n",
       "      <td>0.000549</td>\n",
       "      <td>0.001312</td>\n",
       "      <td>0.006287</td>\n",
       "      <td>0.001136</td>\n",
       "      <td>0.008417</td>\n",
       "      <td>0.000793</td>\n",
       "      <td>0.020493</td>\n",
       "      <td>0.011951</td>\n",
       "      <td>0.001236</td>\n",
       "      <td>0.001376</td>\n",
       "      <td>...</td>\n",
       "      <td>0.000057</td>\n",
       "      <td>0.000050</td>\n",
       "      <td>0.021621</td>\n",
       "      <td>0.007672</td>\n",
       "      <td>0.000098</td>\n",
       "      <td>0.003155</td>\n",
       "      <td>0.000779</td>\n",
       "      <td>0.010697</td>\n",
       "      <td>0.016495</td>\n",
       "      <td>0.005718</td>\n",
       "    </tr>\n",
       "  </tbody>\n",
       "</table>\n",
       "<p>5 rows × 48 columns</p>\n",
       "</div>"
      ],
      "text/plain": [
       "v_call                          TRBV10-1  TRBV10-2  TRBV10-3  TRBV11-1  \\\n",
       "sample_id CONDITION TIMEPOINTS                                           \n",
       "10L       Lymphomas baseline    0.000055  0.000697  0.007444  0.001028   \n",
       "11L       Lymphomas V1          0.000079  0.000641  0.007365  0.001242   \n",
       "12L       Lymphomas V3          0.000044  0.000576  0.004777  0.000814   \n",
       "13L       Lymphomas baseline    0.000603  0.001133  0.008295  0.001318   \n",
       "14L       Lymphomas V1          0.000549  0.001312  0.006287  0.001136   \n",
       "\n",
       "v_call                          TRBV11-2  TRBV11-3  TRBV12-3  TRBV12-4  \\\n",
       "sample_id CONDITION TIMEPOINTS                                           \n",
       "10L       Lymphomas baseline    0.002926  0.000436  0.012703  0.009156   \n",
       "11L       Lymphomas V1          0.004653  0.000688  0.012213  0.012238   \n",
       "12L       Lymphomas V3          0.003490  0.000435  0.010326  0.012356   \n",
       "13L       Lymphomas baseline    0.006708  0.000693  0.016078  0.014124   \n",
       "14L       Lymphomas V1          0.008417  0.000793  0.020493  0.011951   \n",
       "\n",
       "v_call                          TRBV12-5    TRBV13  ...   TRBV6-8   TRBV6-9  \\\n",
       "sample_id CONDITION TIMEPOINTS                      ...                       \n",
       "10L       Lymphomas baseline    0.003129  0.002736  ...  0.000093  0.000057   \n",
       "11L       Lymphomas V1          0.002458  0.001786  ...  0.000036  0.000061   \n",
       "12L       Lymphomas V3          0.002957  0.001499  ...  0.000014  0.000035   \n",
       "13L       Lymphomas baseline    0.001525  0.001075  ...  0.000062  0.000056   \n",
       "14L       Lymphomas V1          0.001236  0.001376  ...  0.000057  0.000050   \n",
       "\n",
       "v_call                           TRBV7-2   TRBV7-3   TRBV7-4   TRBV7-6  \\\n",
       "sample_id CONDITION TIMEPOINTS                                           \n",
       "10L       Lymphomas baseline    0.024979  0.007939  0.000113  0.003882   \n",
       "11L       Lymphomas V1          0.023740  0.006822  0.000070  0.003859   \n",
       "12L       Lymphomas V3          0.017002  0.004315  0.000056  0.002501   \n",
       "13L       Lymphomas baseline    0.022545  0.007654  0.000106  0.003293   \n",
       "14L       Lymphomas V1          0.021621  0.007672  0.000098  0.003155   \n",
       "\n",
       "v_call                           TRBV7-7   TRBV7-8   TRBV7-9     TRBV9  \n",
       "sample_id CONDITION TIMEPOINTS                                          \n",
       "10L       Lymphomas baseline    0.002392  0.010957  0.054070  0.010784  \n",
       "11L       Lymphomas V1          0.002395  0.010276  0.039550  0.009571  \n",
       "12L       Lymphomas V3          0.002175  0.008211  0.049547  0.007848  \n",
       "13L       Lymphomas baseline    0.000833  0.009639  0.012253  0.005564  \n",
       "14L       Lymphomas V1          0.000779  0.010697  0.016495  0.005718  \n",
       "\n",
       "[5 rows x 48 columns]"
      ]
     },
     "execution_count": 165,
     "metadata": {},
     "output_type": "execute_result"
    }
   ],
   "source": [
    "trbv_gene_usage = data.query('TCR_Chain == \"TRB\"').query('SAMPLE != \"s_1\" and SAMPLE != \"s_10\"')\n",
    "#trbv_gene_usage = trbv_gene_usage[trbv_gene_usage['clonotype'].isin(DETECT_predictions['clonotype'])]\n",
    "rows_to_remove = trbv_gene_usage.query('v_call == \"TRBV15\" and j_call == \"TRBJ2-2\" and junction_aa == \"CATSLANTGELFF\" and SAMPLE == \"s_9\"')\n",
    "trbv_gene_usage = trbv_gene_usage[~trbv_gene_usage.isin(rows_to_remove)].dropna()\n",
    "#trbv_gene_usage['Comparison_stat'] = trbv_gene_usage['CONDITION'] + ' ' + trbv_gene_usage['TIMEPOINTS']\n",
    "trbv_gene_usage = trbv_gene_usage.pivot_table(index=['sample_id', 'CONDITION', 'TIMEPOINTS'], columns='v_call', values='cloneFraction', fill_value=0, aggfunc='sum')\n",
    "trbv_gene_usage.head()\n"
   ]
  },
  {
   "cell_type": "code",
   "execution_count": 166,
   "metadata": {},
   "outputs": [
    {
     "name": "stderr",
     "output_type": "stream",
     "text": [
      "R[write to console]: In aggiunta: \n",
      "R[write to console]: Messaggio di avvertimento:\n",
      "\n",
      "R[write to console]: In printCoefmat(x$coefficients, digits = digits, signif.stars = signif.stars) :\n",
      "R[write to console]: \n",
      " \n",
      "R[write to console]:  NA introdotti per coercizione\n",
      "\n"
     ]
    },
    {
     "data": {
      "text/plain": [
       "<rpy2.robjects.functions.SignatureTranslatedFunction object at 0x3507ae390> [7]\n",
       "R classes: ('function',)"
      ]
     },
     "execution_count": 166,
     "metadata": {},
     "output_type": "execute_result"
    }
   ],
   "source": [
    "pandas2ri.activate()\n",
    "ro.r('''\n",
    "    source('src/utils/plotting.R')\n",
    "''')\n",
    "correlation_heatmap = ro.globalenv['correlation_heatmap']\n",
    "correlation_heatmap(pd.merge(trbv_gene_usage.reset_index(),\n",
    "                             metadata_test[['sample_id', 'SAMPLE', 'HLA_A', 'HLA_B', 'HLA_C']],\n",
    "                            on='sample_id', how='left'), PLOTSDIR)"
   ]
  },
  {
   "cell_type": "code",
   "execution_count": 167,
   "metadata": {},
   "outputs": [
    {
     "name": "stdout",
     "output_type": "stream",
     "text": [
      "Cluster Analysis for Timepoint baseline:\n",
      "Contingency Table for Cluster 1:\n",
      "       \n",
      "        Healthy Lymphomas\n",
      "  FALSE       4         4\n",
      "  TRUE        2         5\n",
      "Contingency Table for Cluster 2:\n",
      "       \n",
      "        Healthy Lymphomas\n",
      "  FALSE       3         7\n",
      "  TRUE        3         2\n",
      "Contingency Table for Cluster 3:\n",
      "       \n",
      "        Healthy Lymphomas\n",
      "  FALSE       5         8\n",
      "  TRUE        1         1\n",
      "Contingency Table for Cluster 4:\n",
      "       \n",
      "        Healthy Lymphomas\n",
      "  FALSE       6         8\n",
      "  TRUE        0         1\n",
      "[1] \"P-Values from Fisher Tests:\"\n",
      "[1] 0,6083916 0,3286713 1,0000000 1,0000000\n",
      "[1] \"Adjusted P-Values:\"\n",
      "[1] 1 1 1 1\n",
      "Cluster Analysis for Timepoint V1:\n",
      "Contingency Table for Cluster 1:\n",
      "       \n",
      "        Healthy Lymphomas\n",
      "  FALSE       3         6\n",
      "  TRUE        3         3\n",
      "Contingency Table for Cluster 2:\n",
      "       \n",
      "        Healthy Lymphomas\n",
      "  FALSE       3         5\n",
      "  TRUE        3         4\n",
      "Contingency Table for Cluster 3:\n",
      "       \n",
      "        Healthy Lymphomas\n",
      "  FALSE       6         8\n",
      "  TRUE        0         1\n",
      "Contingency Table for Cluster 4:\n",
      "       \n",
      "        Healthy Lymphomas\n",
      "  FALSE       6         8\n",
      "  TRUE        0         1\n",
      "[1] \"P-Values from Fisher Tests:\"\n",
      "[1] 0,6223776 1,0000000 1,0000000 1,0000000\n",
      "[1] \"Adjusted P-Values:\"\n",
      "[1] 1 1 1 1\n",
      "Cluster Analysis for Timepoint V3:\n",
      "Contingency Table for Cluster 1:\n",
      "       \n",
      "        Healthy Lymphomas\n",
      "  FALSE       1         3\n",
      "  TRUE        5         6\n",
      "Contingency Table for Cluster 2:\n",
      "       \n",
      "        Healthy Lymphomas\n",
      "  FALSE       5         8\n",
      "  TRUE        1         1\n",
      "Contingency Table for Cluster 3:\n",
      "       \n",
      "        Healthy Lymphomas\n",
      "  FALSE       6         8\n",
      "  TRUE        0         1\n",
      "Contingency Table for Cluster 4:\n",
      "       \n",
      "        Healthy Lymphomas\n",
      "  FALSE       6         8\n",
      "  TRUE        0         1\n",
      "[1] \"P-Values from Fisher Tests:\"\n",
      "[1] 0,6043956 1,0000000 1,0000000 1,0000000\n",
      "[1] \"Adjusted P-Values:\"\n",
      "[1] 1 1 1 1\n"
     ]
    }
   ],
   "source": [
    "pandas2ri.activate()\n",
    "ro.r('''\n",
    "    source('src/utils/plotting.R')\n",
    "''')\n",
    "correlation_heatmap_pertime = ro.globalenv['correlation_heatmap_pertime']\n",
    "\n",
    "for time in trbv_gene_usage.reset_index()['TIMEPOINTS'].unique():\n",
    "    correlation_heatmap_pertime(pd.merge(trbv_gene_usage.reset_index().query('TIMEPOINTS == @time').drop(columns=['TIMEPOINTS']),\n",
    "                            metadata_test[['sample_id', 'SAMPLE', 'HLA_A', 'HLA_B', 'HLA_C']],\n",
    "                            on='sample_id', how='left'), time, PLOTSDIR)    "
   ]
  },
  {
   "cell_type": "markdown",
   "metadata": {},
   "source": [
    "### Covid specific V  gene usage"
   ]
  },
  {
   "cell_type": "code",
   "execution_count": 169,
   "metadata": {},
   "outputs": [
    {
     "data": {
      "application/vnd.microsoft.datawrangler.viewer.v0+json": {
       "columns": [
        {
         "name": "('sample_id', 'CONDITION', 'TIMEPOINTS')",
         "rawType": "object",
         "type": "unknown"
        },
        {
         "name": "TRBV10-1",
         "rawType": "float64",
         "type": "float"
        },
        {
         "name": "TRBV10-2",
         "rawType": "float64",
         "type": "float"
        },
        {
         "name": "TRBV10-3",
         "rawType": "float64",
         "type": "float"
        },
        {
         "name": "TRBV11-1",
         "rawType": "float64",
         "type": "float"
        },
        {
         "name": "TRBV11-2",
         "rawType": "float64",
         "type": "float"
        },
        {
         "name": "TRBV11-3",
         "rawType": "float64",
         "type": "float"
        },
        {
         "name": "TRBV12-3",
         "rawType": "float64",
         "type": "float"
        },
        {
         "name": "TRBV12-4",
         "rawType": "float64",
         "type": "float"
        },
        {
         "name": "TRBV12-5",
         "rawType": "float64",
         "type": "float"
        },
        {
         "name": "TRBV13",
         "rawType": "float64",
         "type": "float"
        },
        {
         "name": "TRBV14",
         "rawType": "float64",
         "type": "float"
        },
        {
         "name": "TRBV15",
         "rawType": "float64",
         "type": "float"
        },
        {
         "name": "TRBV18",
         "rawType": "float64",
         "type": "float"
        },
        {
         "name": "TRBV19",
         "rawType": "float64",
         "type": "float"
        },
        {
         "name": "TRBV2",
         "rawType": "float64",
         "type": "float"
        },
        {
         "name": "TRBV20-1",
         "rawType": "float64",
         "type": "float"
        },
        {
         "name": "TRBV24-1",
         "rawType": "float64",
         "type": "float"
        },
        {
         "name": "TRBV25-1",
         "rawType": "float64",
         "type": "float"
        },
        {
         "name": "TRBV27",
         "rawType": "float64",
         "type": "float"
        },
        {
         "name": "TRBV28",
         "rawType": "float64",
         "type": "float"
        },
        {
         "name": "TRBV29-1",
         "rawType": "float64",
         "type": "float"
        },
        {
         "name": "TRBV3-1",
         "rawType": "float64",
         "type": "float"
        },
        {
         "name": "TRBV30",
         "rawType": "float64",
         "type": "float"
        },
        {
         "name": "TRBV4-1",
         "rawType": "float64",
         "type": "float"
        },
        {
         "name": "TRBV4-2",
         "rawType": "float64",
         "type": "float"
        },
        {
         "name": "TRBV4-3",
         "rawType": "float64",
         "type": "float"
        },
        {
         "name": "TRBV5-1",
         "rawType": "float64",
         "type": "float"
        },
        {
         "name": "TRBV5-4",
         "rawType": "float64",
         "type": "float"
        },
        {
         "name": "TRBV5-5",
         "rawType": "float64",
         "type": "float"
        },
        {
         "name": "TRBV5-6",
         "rawType": "float64",
         "type": "float"
        },
        {
         "name": "TRBV5-8",
         "rawType": "float64",
         "type": "float"
        },
        {
         "name": "TRBV6-1",
         "rawType": "float64",
         "type": "float"
        },
        {
         "name": "TRBV6-2",
         "rawType": "float64",
         "type": "float"
        },
        {
         "name": "TRBV6-3",
         "rawType": "float64",
         "type": "float"
        },
        {
         "name": "TRBV6-4",
         "rawType": "float64",
         "type": "float"
        },
        {
         "name": "TRBV6-5",
         "rawType": "float64",
         "type": "float"
        },
        {
         "name": "TRBV6-6",
         "rawType": "float64",
         "type": "float"
        },
        {
         "name": "TRBV7-2",
         "rawType": "float64",
         "type": "float"
        },
        {
         "name": "TRBV7-3",
         "rawType": "float64",
         "type": "float"
        },
        {
         "name": "TRBV7-4",
         "rawType": "float64",
         "type": "float"
        },
        {
         "name": "TRBV7-6",
         "rawType": "float64",
         "type": "float"
        },
        {
         "name": "TRBV7-7",
         "rawType": "float64",
         "type": "float"
        },
        {
         "name": "TRBV7-8",
         "rawType": "float64",
         "type": "float"
        },
        {
         "name": "TRBV7-9",
         "rawType": "float64",
         "type": "float"
        },
        {
         "name": "TRBV9",
         "rawType": "float64",
         "type": "float"
        }
       ],
       "conversionMethod": "pd.DataFrame",
       "ref": "5c2a36c5-8cc3-481b-8d55-d63039f73dbd",
       "rows": [
        [
         "('10L', 'Lymphomas', 'baseline')",
         "0.0",
         "0.0",
         "6.37205133324554e-06",
         "0.0",
         "0.0",
         "0.0",
         "1.593012833311385e-06",
         "0.0",
         "0.0",
         "0.0",
         "0.0",
         "0.0",
         "0.0",
         "1.80541454441957e-05",
         "1.593012833311385e-06",
         "2.8674230999604932e-05",
         "0.0",
         "0.0",
         "0.0",
         "0.0",
         "1.7523141166425237e-05",
         "1.274410266649108e-05",
         "0.0",
         "0.0",
         "0.0",
         "0.0",
         "3.717029944393232e-06",
         "1.0620085555409235e-05",
         "0.0",
         "1.1151089833179695e-05",
         "0.0",
         "2.124017111081847e-06",
         "0.0",
         "0.0",
         "0.0",
         "0.0",
         "1.0620085555409237e-06",
         "1.4868119777572928e-05",
         "2.0709166833048008e-05",
         "0.0",
         "0.0",
         "0.0",
         "2.6550213888523088e-06",
         "1.911615399973662e-05",
         "0.0"
        ],
        [
         "('11L', 'Lymphomas', 'V1')",
         "0.0",
         "0.0",
         "0.0",
         "0.0",
         "0.0",
         "0.0",
         "9.311670937964615e-06",
         "0.0",
         "0.0",
         "0.0",
         "5.173150521091452e-06",
         "8.794355885855468e-06",
         "1.5519451563274356e-06",
         "1.3967506406946921e-05",
         "1.6554081667492645e-05",
         "1.4484821459056067e-05",
         "0.0",
         "0.0",
         "8.277040833746324e-06",
         "1.8623341875929226e-05",
         "4.966224500247794e-05",
         "2.069260208436581e-06",
         "0.0",
         "0.0",
         "5.173150521091452e-06",
         "0.0",
         "1.4484821459056065e-05",
         "1.3967506406946921e-05",
         "0.0",
         "0.0",
         "0.0",
         "0.0",
         "1.5002136511165212e-05",
         "5.173150521091453e-07",
         "0.0",
         "0.0",
         "2.069260208436581e-06",
         "7.759725781637179e-06",
         "4.655835468982307e-06",
         "0.0",
         "0.0",
         "0.0",
         "5.690465573200597e-06",
         "3.517742354342187e-05",
         "0.0"
        ],
        [
         "('12L', 'Lymphomas', 'V3')",
         "0.0",
         "0.0",
         "8.630175408315175e-07",
         "0.0",
         "3.45207016332607e-06",
         "0.0",
         "1.639733327579883e-05",
         "0.0",
         "0.0",
         "0.0",
         "0.0",
         "0.0",
         "4.315087704157587e-07",
         "6.860989449610562e-05",
         "2.5027508684114002e-05",
         "6.904140326652139e-06",
         "0.0",
         "1.726035081663035e-06",
         "4.315087704157587e-06",
         "6.90414032665214e-06",
         "1.8554877127877626e-05",
         "0.0",
         "2.1575438520787935e-06",
         "0.0",
         "1.294526311247276e-06",
         "3.020561392910311e-06",
         "1.639733327579883e-05",
         "1.2945263112472762e-05",
         "0.0",
         "4.315087704157587e-07",
         "8.630175408315175e-07",
         "3.020561392910311e-06",
         "1.8986385898293383e-05",
         "0.0",
         "1.726035081663035e-06",
         "1.294526311247276e-06",
         "8.198666637899415e-06",
         "2.028091220954066e-05",
         "3.4520701633260694e-06",
         "0.0",
         "1.294526311247276e-06",
         "2.1575438520787935e-06",
         "5.1781052449891045e-06",
         "1.294526311247276e-05",
         "9.92470171956245e-06"
        ],
        [
         "('13L', 'Lymphomas', 'baseline')",
         "0.0",
         "0.0",
         "5.183969657754323e-06",
         "0.0",
         "0.0",
         "0.0",
         "1.6023178942149725e-05",
         "0.0",
         "0.0",
         "0.0",
         "5.183969657754323e-06",
         "6.597779564414593e-06",
         "4.24142971998081e-06",
         "1.41380990666027e-05",
         "3.534524766650675e-05",
         "6.032255601750485e-05",
         "0.0",
         "0.0",
         "0.0",
         "1.1310479253282157e-05",
         "3.770159751094053e-06",
         "2.8276198133205397e-06",
         "4.712699688867567e-06",
         "7.540319502188107e-06",
         "8.011589471074863e-06",
         "4.712699688867567e-07",
         "3.817286747982729e-05",
         "1.4609369035489455e-05",
         "3.7701597510940534e-06",
         "2.3563498444337835e-06",
         "0.0",
         "7.069049533301349e-06",
         "1.790825881769675e-05",
         "0.0",
         "1.41380990666027e-06",
         "0.0",
         "1.3195559128829185e-05",
         "2.120714859990405e-05",
         "2.3092228475451074e-05",
         "0.0",
         "0.0",
         "0.0",
         "1.41380990666027e-06",
         "2.356349844433783e-05",
         "7.06904953330135e-06"
        ],
        [
         "('14L', 'Lymphomas', 'V1')",
         "1.2990387113535982e-06",
         "4.330129037845328e-07",
         "4.763141941629861e-06",
         "0.0",
         "1.2990387113535982e-06",
         "0.0",
         "1.732051615138131e-05",
         "0.0",
         "1.7320516151381312e-06",
         "0.0",
         "0.0",
         "6.495193556767991e-06",
         "4.330129037845328e-06",
         "6.495193556767991e-06",
         "2.0784619381657572e-05",
         "9.612886464016628e-05",
         "8.660258075690656e-07",
         "4.76314194162986e-06",
         "7.361219364337057e-06",
         "3.897116134060795e-06",
         "4.3301290378453275e-06",
         "3.897116134060796e-06",
         "4.330129037845328e-07",
         "3.4641032302762624e-06",
         "9.959296787044253e-06",
         "5.629167749198926e-06",
         "4.027020005196155e-05",
         "4.76314194162986e-06",
         "3.897116134060796e-06",
         "1.7320516151381312e-06",
         "0.0",
         "3.0310903264917292e-06",
         "1.3423400017320517e-05",
         "0.0",
         "0.0",
         "4.3301290378453275e-06",
         "4.76314194162986e-06",
         "2.77128258422101e-05",
         "2.7279812938425565e-05",
         "0.0",
         "4.3301290378453275e-06",
         "3.0310903264917297e-06",
         "3.464103230276262e-06",
         "3.810513553303888e-05",
         "1.2124361305966917e-05"
        ]
       ],
       "shape": {
        "columns": 45,
        "rows": 5
       }
      },
      "text/html": [
       "<div>\n",
       "<style scoped>\n",
       "    .dataframe tbody tr th:only-of-type {\n",
       "        vertical-align: middle;\n",
       "    }\n",
       "\n",
       "    .dataframe tbody tr th {\n",
       "        vertical-align: top;\n",
       "    }\n",
       "\n",
       "    .dataframe thead th {\n",
       "        text-align: right;\n",
       "    }\n",
       "</style>\n",
       "<table border=\"1\" class=\"dataframe\">\n",
       "  <thead>\n",
       "    <tr style=\"text-align: right;\">\n",
       "      <th></th>\n",
       "      <th></th>\n",
       "      <th>v_call</th>\n",
       "      <th>TRBV10-1</th>\n",
       "      <th>TRBV10-2</th>\n",
       "      <th>TRBV10-3</th>\n",
       "      <th>TRBV11-1</th>\n",
       "      <th>TRBV11-2</th>\n",
       "      <th>TRBV11-3</th>\n",
       "      <th>TRBV12-3</th>\n",
       "      <th>TRBV12-4</th>\n",
       "      <th>TRBV12-5</th>\n",
       "      <th>TRBV13</th>\n",
       "      <th>...</th>\n",
       "      <th>TRBV6-5</th>\n",
       "      <th>TRBV6-6</th>\n",
       "      <th>TRBV7-2</th>\n",
       "      <th>TRBV7-3</th>\n",
       "      <th>TRBV7-4</th>\n",
       "      <th>TRBV7-6</th>\n",
       "      <th>TRBV7-7</th>\n",
       "      <th>TRBV7-8</th>\n",
       "      <th>TRBV7-9</th>\n",
       "      <th>TRBV9</th>\n",
       "    </tr>\n",
       "    <tr>\n",
       "      <th>sample_id</th>\n",
       "      <th>CONDITION</th>\n",
       "      <th>TIMEPOINTS</th>\n",
       "      <th></th>\n",
       "      <th></th>\n",
       "      <th></th>\n",
       "      <th></th>\n",
       "      <th></th>\n",
       "      <th></th>\n",
       "      <th></th>\n",
       "      <th></th>\n",
       "      <th></th>\n",
       "      <th></th>\n",
       "      <th></th>\n",
       "      <th></th>\n",
       "      <th></th>\n",
       "      <th></th>\n",
       "      <th></th>\n",
       "      <th></th>\n",
       "      <th></th>\n",
       "      <th></th>\n",
       "      <th></th>\n",
       "      <th></th>\n",
       "      <th></th>\n",
       "    </tr>\n",
       "  </thead>\n",
       "  <tbody>\n",
       "    <tr>\n",
       "      <th>10L</th>\n",
       "      <th>Lymphomas</th>\n",
       "      <th>baseline</th>\n",
       "      <td>0.000000</td>\n",
       "      <td>0.000000e+00</td>\n",
       "      <td>6.372051e-06</td>\n",
       "      <td>0.0</td>\n",
       "      <td>0.000000</td>\n",
       "      <td>0.0</td>\n",
       "      <td>0.000002</td>\n",
       "      <td>0.0</td>\n",
       "      <td>0.000000</td>\n",
       "      <td>0.0</td>\n",
       "      <td>...</td>\n",
       "      <td>0.000000</td>\n",
       "      <td>0.000001</td>\n",
       "      <td>0.000015</td>\n",
       "      <td>0.000021</td>\n",
       "      <td>0.0</td>\n",
       "      <td>0.000000</td>\n",
       "      <td>0.000000</td>\n",
       "      <td>0.000003</td>\n",
       "      <td>0.000019</td>\n",
       "      <td>0.000000</td>\n",
       "    </tr>\n",
       "    <tr>\n",
       "      <th>11L</th>\n",
       "      <th>Lymphomas</th>\n",
       "      <th>V1</th>\n",
       "      <td>0.000000</td>\n",
       "      <td>0.000000e+00</td>\n",
       "      <td>0.000000e+00</td>\n",
       "      <td>0.0</td>\n",
       "      <td>0.000000</td>\n",
       "      <td>0.0</td>\n",
       "      <td>0.000009</td>\n",
       "      <td>0.0</td>\n",
       "      <td>0.000000</td>\n",
       "      <td>0.0</td>\n",
       "      <td>...</td>\n",
       "      <td>0.000000</td>\n",
       "      <td>0.000002</td>\n",
       "      <td>0.000008</td>\n",
       "      <td>0.000005</td>\n",
       "      <td>0.0</td>\n",
       "      <td>0.000000</td>\n",
       "      <td>0.000000</td>\n",
       "      <td>0.000006</td>\n",
       "      <td>0.000035</td>\n",
       "      <td>0.000000</td>\n",
       "    </tr>\n",
       "    <tr>\n",
       "      <th>12L</th>\n",
       "      <th>Lymphomas</th>\n",
       "      <th>V3</th>\n",
       "      <td>0.000000</td>\n",
       "      <td>0.000000e+00</td>\n",
       "      <td>8.630175e-07</td>\n",
       "      <td>0.0</td>\n",
       "      <td>0.000003</td>\n",
       "      <td>0.0</td>\n",
       "      <td>0.000016</td>\n",
       "      <td>0.0</td>\n",
       "      <td>0.000000</td>\n",
       "      <td>0.0</td>\n",
       "      <td>...</td>\n",
       "      <td>0.000001</td>\n",
       "      <td>0.000008</td>\n",
       "      <td>0.000020</td>\n",
       "      <td>0.000003</td>\n",
       "      <td>0.0</td>\n",
       "      <td>0.000001</td>\n",
       "      <td>0.000002</td>\n",
       "      <td>0.000005</td>\n",
       "      <td>0.000013</td>\n",
       "      <td>0.000010</td>\n",
       "    </tr>\n",
       "    <tr>\n",
       "      <th>13L</th>\n",
       "      <th>Lymphomas</th>\n",
       "      <th>baseline</th>\n",
       "      <td>0.000000</td>\n",
       "      <td>0.000000e+00</td>\n",
       "      <td>5.183970e-06</td>\n",
       "      <td>0.0</td>\n",
       "      <td>0.000000</td>\n",
       "      <td>0.0</td>\n",
       "      <td>0.000016</td>\n",
       "      <td>0.0</td>\n",
       "      <td>0.000000</td>\n",
       "      <td>0.0</td>\n",
       "      <td>...</td>\n",
       "      <td>0.000000</td>\n",
       "      <td>0.000013</td>\n",
       "      <td>0.000021</td>\n",
       "      <td>0.000023</td>\n",
       "      <td>0.0</td>\n",
       "      <td>0.000000</td>\n",
       "      <td>0.000000</td>\n",
       "      <td>0.000001</td>\n",
       "      <td>0.000024</td>\n",
       "      <td>0.000007</td>\n",
       "    </tr>\n",
       "    <tr>\n",
       "      <th>14L</th>\n",
       "      <th>Lymphomas</th>\n",
       "      <th>V1</th>\n",
       "      <td>0.000001</td>\n",
       "      <td>4.330129e-07</td>\n",
       "      <td>4.763142e-06</td>\n",
       "      <td>0.0</td>\n",
       "      <td>0.000001</td>\n",
       "      <td>0.0</td>\n",
       "      <td>0.000017</td>\n",
       "      <td>0.0</td>\n",
       "      <td>0.000002</td>\n",
       "      <td>0.0</td>\n",
       "      <td>...</td>\n",
       "      <td>0.000004</td>\n",
       "      <td>0.000005</td>\n",
       "      <td>0.000028</td>\n",
       "      <td>0.000027</td>\n",
       "      <td>0.0</td>\n",
       "      <td>0.000004</td>\n",
       "      <td>0.000003</td>\n",
       "      <td>0.000003</td>\n",
       "      <td>0.000038</td>\n",
       "      <td>0.000012</td>\n",
       "    </tr>\n",
       "  </tbody>\n",
       "</table>\n",
       "<p>5 rows × 45 columns</p>\n",
       "</div>"
      ],
      "text/plain": [
       "v_call                          TRBV10-1      TRBV10-2      TRBV10-3  \\\n",
       "sample_id CONDITION TIMEPOINTS                                         \n",
       "10L       Lymphomas baseline    0.000000  0.000000e+00  6.372051e-06   \n",
       "11L       Lymphomas V1          0.000000  0.000000e+00  0.000000e+00   \n",
       "12L       Lymphomas V3          0.000000  0.000000e+00  8.630175e-07   \n",
       "13L       Lymphomas baseline    0.000000  0.000000e+00  5.183970e-06   \n",
       "14L       Lymphomas V1          0.000001  4.330129e-07  4.763142e-06   \n",
       "\n",
       "v_call                          TRBV11-1  TRBV11-2  TRBV11-3  TRBV12-3  \\\n",
       "sample_id CONDITION TIMEPOINTS                                           \n",
       "10L       Lymphomas baseline         0.0  0.000000       0.0  0.000002   \n",
       "11L       Lymphomas V1               0.0  0.000000       0.0  0.000009   \n",
       "12L       Lymphomas V3               0.0  0.000003       0.0  0.000016   \n",
       "13L       Lymphomas baseline         0.0  0.000000       0.0  0.000016   \n",
       "14L       Lymphomas V1               0.0  0.000001       0.0  0.000017   \n",
       "\n",
       "v_call                          TRBV12-4  TRBV12-5  TRBV13  ...   TRBV6-5  \\\n",
       "sample_id CONDITION TIMEPOINTS                              ...             \n",
       "10L       Lymphomas baseline         0.0  0.000000     0.0  ...  0.000000   \n",
       "11L       Lymphomas V1               0.0  0.000000     0.0  ...  0.000000   \n",
       "12L       Lymphomas V3               0.0  0.000000     0.0  ...  0.000001   \n",
       "13L       Lymphomas baseline         0.0  0.000000     0.0  ...  0.000000   \n",
       "14L       Lymphomas V1               0.0  0.000002     0.0  ...  0.000004   \n",
       "\n",
       "v_call                           TRBV6-6   TRBV7-2   TRBV7-3  TRBV7-4  \\\n",
       "sample_id CONDITION TIMEPOINTS                                          \n",
       "10L       Lymphomas baseline    0.000001  0.000015  0.000021      0.0   \n",
       "11L       Lymphomas V1          0.000002  0.000008  0.000005      0.0   \n",
       "12L       Lymphomas V3          0.000008  0.000020  0.000003      0.0   \n",
       "13L       Lymphomas baseline    0.000013  0.000021  0.000023      0.0   \n",
       "14L       Lymphomas V1          0.000005  0.000028  0.000027      0.0   \n",
       "\n",
       "v_call                           TRBV7-6   TRBV7-7   TRBV7-8   TRBV7-9  \\\n",
       "sample_id CONDITION TIMEPOINTS                                           \n",
       "10L       Lymphomas baseline    0.000000  0.000000  0.000003  0.000019   \n",
       "11L       Lymphomas V1          0.000000  0.000000  0.000006  0.000035   \n",
       "12L       Lymphomas V3          0.000001  0.000002  0.000005  0.000013   \n",
       "13L       Lymphomas baseline    0.000000  0.000000  0.000001  0.000024   \n",
       "14L       Lymphomas V1          0.000004  0.000003  0.000003  0.000038   \n",
       "\n",
       "v_call                             TRBV9  \n",
       "sample_id CONDITION TIMEPOINTS            \n",
       "10L       Lymphomas baseline    0.000000  \n",
       "11L       Lymphomas V1          0.000000  \n",
       "12L       Lymphomas V3          0.000010  \n",
       "13L       Lymphomas baseline    0.000007  \n",
       "14L       Lymphomas V1          0.000012  \n",
       "\n",
       "[5 rows x 45 columns]"
      ]
     },
     "execution_count": 169,
     "metadata": {},
     "output_type": "execute_result"
    }
   ],
   "source": [
    "trbv_gene_usage = data.query('TCR_Chain == \"TRB\"').query('SAMPLE != \"s_1\" and SAMPLE != \"s_10\"')\n",
    "trbv_gene_usage = trbv_gene_usage[trbv_gene_usage['clonotype'].isin(DETECT_predictions['clonotype'])]\n",
    "rows_to_remove = trbv_gene_usage.query('v_call == \"TRBV15\" and j_call == \"TRBJ2-2\" and junction_aa == \"CATSLANTGELFF\" and SAMPLE == \"s_9\"')\n",
    "trbv_gene_usage = trbv_gene_usage[~trbv_gene_usage.isin(rows_to_remove)].dropna()\n",
    "#trbv_gene_usage['Comparison_stat'] = trbv_gene_usage['CONDITION'] + ' ' + trbv_gene_usage['TIMEPOINTS']\n",
    "trbv_gene_usage = trbv_gene_usage.pivot_table(index=['sample_id', 'CONDITION', 'TIMEPOINTS'], columns='v_call', values='cloneFraction', fill_value=0, aggfunc='sum')\n",
    "trbv_gene_usage.head()\n"
   ]
  },
  {
   "cell_type": "code",
   "execution_count": 170,
   "metadata": {},
   "outputs": [
    {
     "data": {
      "text/plain": [
       "<rpy2.robjects.functions.SignatureTranslatedFunction object at 0x1077b9ed0> [7]\n",
       "R classes: ('function',)"
      ]
     },
     "execution_count": 170,
     "metadata": {},
     "output_type": "execute_result"
    }
   ],
   "source": [
    "pandas2ri.activate()\n",
    "ro.r('''\n",
    "    source('src/utils/plotting.R')\n",
    "''')\n",
    "correlation_heatmap = ro.globalenv['correlation_heatmap']\n",
    "correlation_heatmap(pd.merge(trbv_gene_usage.reset_index(),\n",
    "                             metadata_test[['sample_id', 'SAMPLE', 'HLA_A', 'HLA_B', 'HLA_C']],\n",
    "                            on='sample_id', how='left'), PLOTSDIR)"
   ]
  },
  {
   "cell_type": "code",
   "execution_count": 171,
   "metadata": {},
   "outputs": [
    {
     "name": "stdout",
     "output_type": "stream",
     "text": [
      "Cluster Analysis for Timepoint baseline:\n",
      "Contingency Table for Cluster 1:\n",
      "       \n",
      "        Healthy Lymphomas\n",
      "  FALSE       6         4\n",
      "  TRUE        0         5\n",
      "Contingency Table for Cluster 3:\n",
      "       \n",
      "        Healthy Lymphomas\n",
      "  FALSE       5         7\n",
      "  TRUE        1         2\n",
      "Contingency Table for Cluster 4:\n",
      "       \n",
      "        Healthy Lymphomas\n",
      "  FALSE       5         8\n",
      "  TRUE        1         1\n",
      "Contingency Table for Cluster 2:\n",
      "       \n",
      "        Healthy Lymphomas\n",
      "  FALSE       2         8\n",
      "  TRUE        4         1\n",
      "[1] \"P-Values from Fisher Tests:\"\n",
      "[1] 0,04395604 1,00000000 1,00000000 0,08891109\n",
      "[1] \"Adjusted P-Values:\"\n",
      "[1] 0,1758242 1,0000000 1,0000000 0,1778222\n",
      "Cluster Analysis for Timepoint V1:\n",
      "Contingency Table for Cluster 1:\n",
      "       \n",
      "        Healthy Lymphomas\n",
      "  FALSE       6         7\n",
      "  TRUE        0         2\n",
      "Contingency Table for Cluster 2:\n",
      "       \n",
      "        Healthy Lymphomas\n",
      "  FALSE       4         7\n",
      "  TRUE        2         2\n",
      "Contingency Table for Cluster 3:\n",
      "       \n",
      "        Healthy Lymphomas\n",
      "  FALSE       2         5\n",
      "  TRUE        4         4\n",
      "Contingency Table for Cluster 4:\n",
      "       \n",
      "        Healthy Lymphomas\n",
      "  FALSE       6         8\n",
      "  TRUE        0         1\n",
      "[1] \"P-Values from Fisher Tests:\"\n",
      "[1] 0,4857143 1,0000000 0,6083916 1,0000000\n",
      "[1] \"Adjusted P-Values:\"\n",
      "[1] 1 1 1 1\n",
      "Cluster Analysis for Timepoint V3:\n",
      "Contingency Table for Cluster 1:\n",
      "       \n",
      "        Healthy Lymphomas\n",
      "  FALSE       6         5\n",
      "  TRUE        0         4\n",
      "Contingency Table for Cluster 2:\n",
      "       \n",
      "        Healthy Lymphomas\n",
      "  FALSE       6         5\n",
      "  TRUE        0         4\n",
      "Contingency Table for Cluster 3:\n",
      "       \n",
      "        Healthy Lymphomas\n",
      "  FALSE       2         8\n",
      "  TRUE        4         1\n",
      "Contingency Table for Cluster 4:\n",
      "       \n",
      "        Healthy Lymphomas\n",
      "  FALSE       4         9\n",
      "  TRUE        2         0\n",
      "[1] \"P-Values from Fisher Tests:\"\n",
      "[1] 0,10329670 0,10329670 0,08891109 0,14285714\n",
      "[1] \"Adjusted P-Values:\"\n",
      "[1] 0,1377289 0,1377289 0,1377289 0,1428571\n"
     ]
    }
   ],
   "source": [
    "pandas2ri.activate()\n",
    "ro.r('''\n",
    "    source('src/utils/plotting.R')\n",
    "''')\n",
    "correlation_heatmap_pertime = ro.globalenv['correlation_heatmap_pertime']\n",
    "\n",
    "for time in trbv_gene_usage.reset_index()['TIMEPOINTS'].unique():\n",
    "    correlation_heatmap_pertime(pd.merge(trbv_gene_usage.reset_index().query('TIMEPOINTS == @time').drop(columns=['TIMEPOINTS']),\n",
    "                            metadata_test[['sample_id', 'SAMPLE', 'HLA_A', 'HLA_B', 'HLA_C']],\n",
    "                            on='sample_id', how='left'), time, PLOTSDIR)"
   ]
  },
  {
   "cell_type": "code",
   "execution_count": 177,
   "metadata": {},
   "outputs": [
    {
     "name": "stderr",
     "output_type": "stream",
     "text": [
      "R[write to console]: Caricamento del pacchetto richiesto: ggpubr\n",
      "\n",
      "R[write to console]: \n",
      "Caricamento pacchetto: ‘ggpubr’\n",
      "\n",
      "\n",
      "R[write to console]: Il seguente oggetto è mascherato da ‘package:cowplot’:\n",
      "\n",
      "    get_legend\n",
      "\n",
      "\n",
      "R[write to console]: Caricamento del pacchetto richiesto: limma\n",
      "\n",
      "R[write to console]: Caricamento del pacchetto richiesto: BiocParallel\n",
      "\n",
      "R[write to console]: \n",
      "Caricamento pacchetto: ‘variancePartition’\n",
      "\n",
      "\n",
      "R[write to console]: Il seguente oggetto è mascherato da ‘package:limma’:\n",
      "\n",
      "    topTable\n",
      "\n",
      "\n"
     ]
    },
    {
     "name": "stdout",
     "output_type": "stream",
     "text": [
      "[1] \"Dimensions of variance_input:\"\n",
      "[1] 45 45\n",
      "[1] \"Dimensions of metadata:\"\n",
      "[1] 45  9\n",
      "[1] \"Metadata summary:\"\n",
      "  sample_id             CONDITION     TIMEPOINTS     SAMPLE       HLA_A   \n",
      " Length:45          Healthy  :18   baseline:15   s_11   : 3   02:01  :18  \n",
      " Class :character   Lymphomas:27   V1      :15   s_12   : 3   03:01  : 6  \n",
      " Mode  :character                  V3      :15   s_13   : 3   26:01  : 6  \n",
      "                                                 s_14   : 3   01:01  : 3  \n",
      "                                                 s_15   : 3   23:01  : 3  \n",
      "                                                 s_16   : 3   (Other): 6  \n",
      "                                                 (Other):27   NA's   : 3  \n",
      "   HLA_B        HLA_C    fraction_sequences   CovidBreadth      \n",
      " 07:02: 9   06:02  :12   Min.   :0,0007317   Min.   :0,0007317  \n",
      " 14:02: 3   04:01  : 9   1st Qu.:0,0010515   1st Qu.:0,0010515  \n",
      " 18:01: 9   07:02  : 9   Median :0,0011214   Median :0,0011214  \n",
      " 35:01:15   01:02  : 3   Mean   :0,0011554   Mean   :0,0011554  \n",
      " 39:01: 3   05:01  : 3   3rd Qu.:0,0012418   3rd Qu.:0,0012418  \n",
      " 44:02: 6   07:01  : 3   Max.   :0,0018015   Max.   :0,0018015  \n",
      "            (Other): 6                                          \n",
      "[1] \"Fitting the model...\"\n"
     ]
    },
    {
     "name": "stderr",
     "output_type": "stream",
     "text": [
      "R[write to console]: Avvertimento:\n",
      "R[write to console]:  \n",
      "Variables contain NA's: HLA_A \n",
      "Samples with missing data will be dropped.\n",
      "\n",
      "\n"
     ]
    },
    {
     "name": "stdout",
     "output_type": "stream",
     "text": [
      "[1] \"Variance partitioning results:\"\n",
      "   CONDITION            HLA_A             HLA_B             HLA_C         \n",
      " Min.   :0,000000   Min.   :0,00000   Min.   :0,00000   Min.   :0,000000  \n",
      " 1st Qu.:0,000000   1st Qu.:0,00000   1st Qu.:0,00000   1st Qu.:0,000000  \n",
      " Median :0,000000   Median :0,00000   Median :0,00000   Median :0,000000  \n",
      " Mean   :0,001571   Mean   :0,03935   Mean   :0,02018   Mean   :0,006017  \n",
      " 3rd Qu.:0,000000   3rd Qu.:0,00000   3rd Qu.:0,00000   3rd Qu.:0,000000  \n",
      " Max.   :0,035783   Max.   :0,66553   Max.   :0,35533   Max.   :0,136796  \n",
      "     SAMPLE          TIMEPOINTS       Residuals     \n",
      " Min.   :0,00000   Min.   :0,0000   Min.   :0,3345  \n",
      " 1st Qu.:0,00000   1st Qu.:0,0000   1st Qu.:0,8592  \n",
      " Median :0,00000   Median :0,0000   Median :0,9406  \n",
      " Mean   :0,04663   Mean   :0,0146   Mean   :0,8717  \n",
      " 3rd Qu.:0,01196   3rd Qu.:0,0000   3rd Qu.:1,0000  \n",
      " Max.   :0,45423   Max.   :0,1993   Max.   :1,0000  \n",
      "[1] \"Sorted variance partitioning results:\"\n",
      "            HLA_C    CONDITION        HLA_A        HLA_B       SAMPLE\n",
      "PC1  7,418142e-11 3,336114e-02 0,000000e+00 3,553314e-01 6,622980e-10\n",
      "PC2  1,443224e-10 0,000000e+00 0,000000e+00 5,562963e-02 1,088790e-01\n",
      "PC3  1,860030e-12 0,000000e+00 6,655329e-01 1,119743e-10 0,000000e+00\n",
      "PC4  1,432384e-10 3,578302e-02 3,228138e-01 0,000000e+00 2,822151e-01\n",
      "PC5  6,913727e-11 0,000000e+00 5,746668e-01 8,310867e-09 6,675631e-02\n",
      "PC6  3,985566e-11 0,000000e+00 0,000000e+00 0,000000e+00 4,542309e-01\n",
      "PC7  2,070480e-12 0,000000e+00 0,000000e+00 7,087305e-02 4,783336e-02\n",
      "PC8  1,936565e-10 0,000000e+00 0,000000e+00 6,764835e-03 4,989833e-02\n",
      "PC9  3,815974e-10 0,000000e+00 2,555320e-02 6,424322e-02 8,822890e-10\n",
      "PC10 0,000000e+00 0,000000e+00 0,000000e+00 0,000000e+00 0,000000e+00\n",
      "PC11 1,688180e-09 0,000000e+00 0,000000e+00 0,000000e+00 0,000000e+00\n",
      "PC12 7,074742e-11 0,000000e+00 0,000000e+00 0,000000e+00 1,527649e-01\n",
      "PC13 2,737943e-10 0,000000e+00 1,091107e-01 1,746274e-08 4,539496e-08\n",
      "PC14 1,367956e-01 0,000000e+00 0,000000e+00 0,000000e+00 0,000000e+00\n",
      "PC15 6,281517e-12 0,000000e+00 0,000000e+00 3,225355e-01 0,000000e+00\n",
      "PC16 0,000000e+00 0,000000e+00 0,000000e+00 0,000000e+00 0,000000e+00\n",
      "PC17 4,852617e-12 0,000000e+00 1,407664e-11 0,000000e+00 0,000000e+00\n",
      "PC18 6,219681e-02 0,000000e+00 0,000000e+00 0,000000e+00 0,000000e+00\n",
      "PC19 3,282947e-12 0,000000e+00 0,000000e+00 0,000000e+00 4,182779e-01\n",
      "PC20 0,000000e+00 0,000000e+00 0,000000e+00 0,000000e+00 0,000000e+00\n",
      "PC21 6,141233e-12 0,000000e+00 0,000000e+00 0,000000e+00 2,665809e-01\n",
      "PC22 1,183671e-10 0,000000e+00 0,000000e+00 0,000000e+00 6,598688e-02\n",
      "PC23 0,000000e+00 0,000000e+00 0,000000e+00 0,000000e+00 0,000000e+00\n",
      "PC24 0,000000e+00 2,394232e-12 1,695121e-02 0,000000e+00 0,000000e+00\n",
      "PC25 0,000000e+00 0,000000e+00 0,000000e+00 0,000000e+00 0,000000e+00\n",
      "PC26 0,000000e+00 0,000000e+00 0,000000e+00 0,000000e+00 0,000000e+00\n",
      "PC27 6,678622e-13 0,000000e+00 0,000000e+00 0,000000e+00 0,000000e+00\n",
      "PC28 0,000000e+00 1,485267e-10 0,000000e+00 0,000000e+00 0,000000e+00\n",
      "PC29 0,000000e+00 0,000000e+00 1,665869e-11 0,000000e+00 1,503586e-09\n",
      "PC30 1,295377e-10 0,000000e+00 1,263876e-11 1,237703e-02 0,000000e+00\n",
      "PC31 1,206530e-11 0,000000e+00 1,668578e-02 0,000000e+00 1,384658e-01\n",
      "PC32 9,799018e-12 0,000000e+00 0,000000e+00 0,000000e+00 0,000000e+00\n",
      "PC33 0,000000e+00 0,000000e+00 0,000000e+00 0,000000e+00 0,000000e+00\n",
      "PC34 0,000000e+00 0,000000e+00 0,000000e+00 0,000000e+00 0,000000e+00\n",
      "PC35 6,573824e-02 0,000000e+00 0,000000e+00 0,000000e+00 0,000000e+00\n",
      "PC36 5,635217e-21 0,000000e+00 0,000000e+00 0,000000e+00 0,000000e+00\n",
      "PC37 0,000000e+00 0,000000e+00 0,000000e+00 0,000000e+00 0,000000e+00\n",
      "PC38 0,000000e+00 0,000000e+00 0,000000e+00 0,000000e+00 0,000000e+00\n",
      "PC39 0,000000e+00 0,000000e+00 0,000000e+00 0,000000e+00 0,000000e+00\n",
      "PC40 0,000000e+00 0,000000e+00 0,000000e+00 0,000000e+00 0,000000e+00\n",
      "PC41 0,000000e+00 0,000000e+00 0,000000e+00 0,000000e+00 0,000000e+00\n",
      "PC42 1,688180e-09 0,000000e+00 0,000000e+00 0,000000e+00 0,000000e+00\n",
      "PC43 0,000000e+00 0,000000e+00 0,000000e+00 0,000000e+00 0,000000e+00\n",
      "PC44 0,000000e+00 0,000000e+00 0,000000e+00 0,000000e+00 0,000000e+00\n",
      "       TIMEPOINTS Residuals\n",
      "PC1  0,000000e+00 0,6113074\n",
      "PC2  1,993075e-01 0,6361839\n",
      "PC3  0,000000e+00 0,3344671\n",
      "PC4  0,000000e+00 0,3591880\n",
      "PC5  0,000000e+00 0,3585769\n",
      "PC6  4,068124e-09 0,5457691\n",
      "PC7  0,000000e+00 0,8812936\n",
      "PC8  0,000000e+00 0,9433368\n",
      "PC9  0,000000e+00 0,9102036\n",
      "PC10 0,000000e+00 1,0000000\n",
      "PC11 0,000000e+00 1,0000000\n",
      "PC12 1,991323e-10 0,8472351\n",
      "PC13 0,000000e+00 0,8908893\n",
      "PC14 0,000000e+00 0,8632044\n",
      "PC15 3,185347e-02 0,6456111\n",
      "PC16 0,000000e+00 1,0000000\n",
      "PC17 1,047539e-01 0,8952461\n",
      "PC18 0,000000e+00 0,9378032\n",
      "PC19 0,000000e+00 0,5817221\n",
      "PC20 0,000000e+00 1,0000000\n",
      "PC21 0,000000e+00 0,7334191\n",
      "PC22 3,777695e-10 0,9340131\n",
      "PC23 0,000000e+00 1,0000000\n",
      "PC24 0,000000e+00 0,9830488\n",
      "PC25 0,000000e+00 1,0000000\n",
      "PC26 0,000000e+00 1,0000000\n",
      "PC27 7,180345e-02 0,9281966\n",
      "PC28 6,613980e-02 0,9338602\n",
      "PC29 4,527771e-02 0,9547223\n",
      "PC30 3,808326e-02 0,9495397\n",
      "PC31 9,384675e-12 0,8448485\n",
      "PC32 7,105762e-02 0,9289424\n",
      "PC33 0,000000e+00 1,0000000\n",
      "PC34 0,000000e+00 1,0000000\n",
      "PC35 0,000000e+00 0,9342618\n",
      "PC36 0,000000e+00 1,0000000\n",
      "PC37 0,000000e+00 1,0000000\n",
      "PC38 0,000000e+00 1,0000000\n",
      "PC39 1,390914e-02 0,9860909\n",
      "PC40 0,000000e+00 1,0000000\n",
      "PC41 0,000000e+00 1,0000000\n",
      "PC42 0,000000e+00 1,0000000\n",
      "PC43 0,000000e+00 1,0000000\n",
      "PC44 0,000000e+00 1,0000000\n"
     ]
    },
    {
     "data": {
      "text/html": [
       "\n",
       "        <span>IntVector with 1 elements.</span>\n",
       "        <table>\n",
       "        <tbody>\n",
       "          <tr>\n",
       "          \n",
       "            <td>\n",
       "            2\n",
       "            </td>\n",
       "          \n",
       "          </tr>\n",
       "        </tbody>\n",
       "        </table>\n",
       "        "
      ],
      "text/plain": [
       "<rpy2.robjects.vectors.IntVector object at 0x42f01c150> [13]\n",
       "R classes: ('integer',)\n",
       "[2]"
      ]
     },
     "execution_count": 177,
     "metadata": {},
     "output_type": "execute_result"
    }
   ],
   "source": [
    "pandas2ri.activate()\n",
    "ro.r('''\n",
    "    source('src/utils/plotting.R')\n",
    "''')\n",
    "pca_biplot_vgenes = ro.globalenv['pca_biplot_vgenes']\n",
    "pca_biplot_vgenes(trbv_gene_usage.reset_index(drop=True),\n",
    "                  pd.merge(trbv_gene_usage.reset_index()[['sample_id', 'CONDITION', 'TIMEPOINTS']], \n",
    "                  metadata_test, on = ['sample_id', 'CONDITION', 'TIMEPOINTS'],\n",
    "                  how='left')[['sample_id', 'CONDITION', 'TIMEPOINTS', 'SAMPLE', 'HLA_A', 'HLA_B', 'HLA_C', 'fraction_sequences']], PLOTSDIR)"
   ]
  },
  {
   "cell_type": "code",
   "execution_count": null,
   "metadata": {},
   "outputs": [
    {
     "name": "stdout",
     "output_type": "stream",
     "text": [
      "[1] \"Dimensions of variance_input:\"\n",
      "[1] 15 42\n",
      "[1] \"Dimensions of metadata:\"\n",
      "[1] 15  8\n",
      "[1] \"Metadata summary:\"\n",
      "  sample_id             CONDITION     SAMPLE      HLA_A     HLA_B       HLA_C  \n",
      " Length:15          Healthy  :6   s_11   :1   02:01  :6   07:02:3   06:02  :4  \n",
      " Class :character   Lymphomas:9   s_12   :1   03:01  :2   14:02:1   04:01  :3  \n",
      " Mode  :character                 s_13   :1   26:01  :2   18:01:3   07:02  :3  \n",
      "                                  s_14   :1   01:01  :1   35:01:5   01:02  :1  \n",
      "                                  s_15   :1   23:01  :1   39:01:1   05:01  :1  \n",
      "                                  s_16   :1   (Other):2   44:02:2   07:01  :1  \n",
      "                                  (Other):9   NA's   :1             (Other):2  \n",
      " fraction_sequences   CovidBreadth      \n",
      " Min.   :0,0007317   Min.   :0,0007317  \n",
      " 1st Qu.:0,0009803   1st Qu.:0,0009803  \n",
      " Median :0,0010512   Median :0,0010512  \n",
      " Mean   :0,0010662   Mean   :0,0010662  \n",
      " 3rd Qu.:0,0011829   3rd Qu.:0,0011829  \n",
      " Max.   :0,0013560   Max.   :0,0013560  \n",
      "                                        \n",
      "[1] \"Fitting the model...\"\n"
     ]
    },
    {
     "name": "stderr",
     "output_type": "stream",
     "text": [
      "R[write to console]: Avvertimento:\n",
      "R[write to console]:  \n",
      "Variables contain NA's: HLA_A \n",
      "Samples with missing data will be dropped.\n",
      "\n",
      "\n"
     ]
    },
    {
     "name": "stdout",
     "output_type": "stream",
     "text": [
      "[1] \"Variance partitioning results:\"\n",
      "   CONDITION           HLA_A            HLA_B            HLA_C        \n",
      " Min.   :0,00000   Min.   :0,0000   Min.   :0,0000   Min.   :0,00000  \n",
      " 1st Qu.:0,00000   1st Qu.:0,0000   1st Qu.:0,0000   1st Qu.:0,00000  \n",
      " Median :0,00000   Median :0,0950   Median :0,0000   Median :0,00000  \n",
      " Mean   :0,03786   Mean   :0,1510   Mean   :0,1068   Mean   :0,14363  \n",
      " 3rd Qu.:0,02172   3rd Qu.:0,2155   3rd Qu.:0,1641   3rd Qu.:0,08482  \n",
      " Max.   :0,21720   Max.   :0,6736   Max.   :0,6261   Max.   :0,73428  \n",
      "   Residuals       \n",
      " Min.   :0,001146  \n",
      " 1st Qu.:0,178702  \n",
      " Median :0,616467  \n",
      " Mean   :0,560694  \n",
      " 3rd Qu.:0,966910  \n",
      " Max.   :1,000000  \n",
      "[1] \"Sorted variance partitioning results:\"\n",
      "            HLA_A        HLA_B        HLA_C    CONDITION   Residuals\n",
      "PC1  0,000000e+00 0,000000e+00 0,000000e+00 0,000000e+00 1,000000000\n",
      "PC2  1,833608e-01 1,963470e-01 8,963621e-12 3,366207e-12 0,620292214\n",
      "PC3  2,215137e-01 0,000000e+00 2,875783e-12 1,658444e-01 0,612641831\n",
      "PC4  1,808552e-01 0,000000e+00 4,538888e-01 0,000000e+00 0,365255969\n",
      "PC5  2,898763e-10 7,591319e-12 4,272293e-11 2,896263e-02 0,971037366\n",
      "PC6  2,468326e-01 6,261327e-01 8,409010e-02 2,318014e-11 0,042944668\n",
      "PC7  6,735949e-01 2,802749e-01 4,209114e-02 0,000000e+00 0,004039025\n",
      "PC8  4,012150e-01 2,801515e-01 7,266995e-11 1,179812e-01 0,200652340\n",
      "PC9  1,974061e-01 6,716921e-02 7,342784e-01 3,798732e-10 0,001146285\n",
      "PC10 0,000000e+00 0,000000e+00 0,000000e+00 0,000000e+00 1,000000000\n",
      "PC11 9,150702e-03 1,526737e-10 1,374110e-11 0,000000e+00 0,990849298\n",
      "PC12 2,717666e-14 4,547266e-02 0,000000e+00 3,213991e-13 0,954527342\n",
      "PC13 2,610386e-09 1,542127e-11 6,114162e-01 2,171982e-01 0,171385632\n",
      "PC14 1,713030e-12 0,000000e+00 8,506210e-02 0,000000e+00 0,914937900\n",
      "[1] \"Dimensions of variance_input:\"\n",
      "[1] 15 43\n",
      "[1] \"Dimensions of metadata:\"\n",
      "[1] 15  8\n",
      "[1] \"Metadata summary:\"\n",
      "  sample_id             CONDITION     SAMPLE      HLA_A     HLA_B       HLA_C  \n",
      " Length:15          Healthy  :6   s_11   :1   02:01  :6   07:02:3   06:02  :4  \n",
      " Class :character   Lymphomas:9   s_12   :1   03:01  :2   14:02:1   04:01  :3  \n",
      " Mode  :character                 s_13   :1   26:01  :2   18:01:3   07:02  :3  \n",
      "                                  s_14   :1   01:01  :1   35:01:5   01:02  :1  \n",
      "                                  s_15   :1   23:01  :1   39:01:1   05:01  :1  \n",
      "                                  s_16   :1   (Other):2   44:02:2   07:01  :1  \n",
      "                                  (Other):9   NA's   :1             (Other):2  \n",
      " fraction_sequences   CovidBreadth      \n",
      " Min.   :0,0009572   Min.   :0,0009572  \n",
      " 1st Qu.:0,0010916   1st Qu.:0,0010916  \n",
      " Median :0,0012793   Median :0,0012793  \n",
      " Mean   :0,0012639   Mean   :0,0012639  \n",
      " 3rd Qu.:0,0013642   3rd Qu.:0,0013642  \n",
      " Max.   :0,0018015   Max.   :0,0018015  \n",
      "                                        \n",
      "[1] \"Fitting the model...\"\n"
     ]
    },
    {
     "name": "stderr",
     "output_type": "stream",
     "text": [
      "R[write to console]: Avvertimento:\n",
      "R[write to console]:  \n",
      "Variables contain NA's: HLA_A \n",
      "Samples with missing data will be dropped.\n",
      "\n",
      "\n"
     ]
    },
    {
     "name": "stdout",
     "output_type": "stream",
     "text": [
      "[1] \"Variance partitioning results:\"\n",
      "   CONDITION             HLA_A            HLA_B            HLA_C         \n",
      " Min.   :0,0000000   Min.   :0,0000   Min.   :0,0000   Min.   :0,000000  \n",
      " 1st Qu.:0,0000000   1st Qu.:0,0000   1st Qu.:0,0000   1st Qu.:0,000000  \n",
      " Median :0,0000000   Median :0,1273   Median :0,0000   Median :0,005489  \n",
      " Mean   :0,0380804   Mean   :0,2042   Mean   :0,1384   Mean   :0,130996  \n",
      " 3rd Qu.:0,0004543   3rd Qu.:0,4059   3rd Qu.:0,2339   3rd Qu.:0,092382  \n",
      " Max.   :0,4619440   Max.   :0,5303   Max.   :0,5966   Max.   :0,744757  \n",
      "   Residuals        \n",
      " Min.   :0,0000946  \n",
      " 1st Qu.:0,0541421  \n",
      " Median :0,4171759  \n",
      " Mean   :0,4883309  \n",
      " 3rd Qu.:0,9065003  \n",
      " Max.   :1,0000000  \n",
      "[1] \"Sorted variance partitioning results:\"\n",
      "            HLA_A        HLA_C        HLA_B    CONDITION    Residuals\n",
      "PC1  2,545427e-01 7,447571e-01 0,000000e+00 6,056966e-04 9,458304e-05\n",
      "PC2  2,792758e-01 9,136504e-02 5,965667e-01 0,000000e+00 3,279251e-02\n",
      "PC3  6,938605e-10 0,000000e+00 1,089657e-01 2,468316e-10 8,910343e-01\n",
      "PC4  9,988311e-14 0,000000e+00 4,839349e-01 0,000000e+00 5,160651e-01\n",
      "PC5  5,303321e-01 2,513653e-14 2,755033e-01 0,000000e+00 1,941646e-01\n",
      "PC6  5,146843e-01 0,000000e+00 3,671249e-01 0,000000e+00 1,181907e-01\n",
      "PC7  5,237118e-01 1,580016e-01 0,000000e+00 6,911700e-11 3,182866e-01\n",
      "PC8  7,118529e-12 8,972389e-02 0,000000e+00 0,000000e+00 9,102761e-01\n",
      "PC9  0,000000e+00 0,000000e+00 0,000000e+00 0,000000e+00 1,000000e+00\n",
      "PC10 0,000000e+00 1,097854e-02 0,000000e+00 4,533444e-02 9,436870e-01\n",
      "PC11 1,006451e-15 0,000000e+00 1,048270e-01 0,000000e+00 8,951730e-01\n",
      "PC12 0,000000e+00 0,000000e+00 0,000000e+00 2,067607e-16 1,000000e+00\n",
      "PC13 4,334779e-01 9,272027e-02 2,180878e-12 4,619440e-01 1,185777e-02\n",
      "PC14 3,233488e-01 6,463995e-01 0,000000e+00 2,524190e-02 5,009862e-03\n",
      "[1] \"Dimensions of variance_input:\"\n",
      "[1] 15 44\n",
      "[1] \"Dimensions of metadata:\"\n",
      "[1] 15  8\n",
      "[1] \"Metadata summary:\"\n",
      "  sample_id             CONDITION     SAMPLE      HLA_A     HLA_B       HLA_C  \n",
      " Length:15          Healthy  :6   s_11   :1   02:01  :6   07:02:3   06:02  :4  \n",
      " Class :character   Lymphomas:9   s_12   :1   03:01  :2   14:02:1   04:01  :3  \n",
      " Mode  :character                 s_13   :1   26:01  :2   18:01:3   07:02  :3  \n",
      "                                  s_14   :1   01:01  :1   35:01:5   01:02  :1  \n",
      "                                  s_15   :1   23:01  :1   39:01:1   05:01  :1  \n",
      "                                  s_16   :1   (Other):2   44:02:2   07:01  :1  \n",
      "                                  (Other):9   NA's   :1             (Other):2  \n",
      " fraction_sequences   CovidBreadth      \n",
      " Min.   :0,0009278   Min.   :0,0009278  \n",
      " 1st Qu.:0,0010606   1st Qu.:0,0010606  \n",
      " Median :0,0011214   Median :0,0011214  \n",
      " Mean   :0,0011362   Mean   :0,0011362  \n",
      " 3rd Qu.:0,0012154   3rd Qu.:0,0012154  \n",
      " Max.   :0,0013379   Max.   :0,0013379  \n",
      "                                        \n",
      "[1] \"Fitting the model...\"\n"
     ]
    },
    {
     "name": "stderr",
     "output_type": "stream",
     "text": [
      "R[write to console]: Avvertimento:\n",
      "R[write to console]:  \n",
      "Variables contain NA's: HLA_A \n",
      "Samples with missing data will be dropped.\n",
      "\n",
      "\n"
     ]
    },
    {
     "name": "stdout",
     "output_type": "stream",
     "text": [
      "[1] \"Variance partitioning results:\"\n",
      "   CONDITION            HLA_A              HLA_B             HLA_C          \n",
      " Min.   :0,000000   Min.   :0,000000   Min.   :0,00000   Min.   :0,0000000  \n",
      " 1st Qu.:0,000000   1st Qu.:0,000000   1st Qu.:0,00000   1st Qu.:0,0000000  \n",
      " Median :0,000000   Median :0,005075   Median :0,02245   Median :0,0009473  \n",
      " Mean   :0,035328   Mean   :0,124647   Mean   :0,20873   Mean   :0,1420591  \n",
      " 3rd Qu.:0,003641   3rd Qu.:0,189589   3rd Qu.:0,26197   3rd Qu.:0,1045986  \n",
      " Max.   :0,221101   Max.   :0,720671   Max.   :0,97455   Max.   :0,7428134  \n",
      "   Residuals       \n",
      " Min.   :0,000005  \n",
      " 1st Qu.:0,088299  \n",
      " Median :0,483643  \n",
      " Mean   :0,489238  \n",
      " 3rd Qu.:0,855990  \n",
      " Max.   :1,000000  \n",
      "[1] \"Sorted variance partitioning results:\"\n",
      "          HLA_B      HLA_A        HLA_C    CONDITION    Residuals\n",
      "PC1  0,81664472 0,09997308 0,000000e+00 6,169226e-02 2,168993e-02\n",
      "PC2  0,97455020 0,01014902 1,894503e-03 0,000000e+00 1,340628e-02\n",
      "PC3  0,00000000 0,00000000 0,000000e+00 0,000000e+00 1,000000e+00\n",
      "PC4  0,04489597 0,00000000 7,428134e-01 0,000000e+00 2,122906e-01\n",
      "PC5  0,00000000 0,72067107 5,330324e-03 2,069437e-01 6,705494e-02\n",
      "PC6  0,26703072 0,35983743 1,760581e-12 2,211010e-01 1,520309e-01\n",
      "PC7  0,00000000 0,00000000 0,000000e+00 0,000000e+00 1,000000e+00\n",
      "PC8  0,44747694 0,10303263 4,494854e-01 1,188334e-12 5,006358e-06\n",
      "PC9  0,12480225 0,23295173 7,536053e-02 0,000000e+00 5,668855e-01\n",
      "PC10 0,24678910 0,00000000 0,000000e+00 6,084623e-13 7,532109e-01\n",
      "PC11 0,00000000 0,21844136 0,000000e+00 4,545159e-12 7,815586e-01\n",
      "PC12 0,00000000 0,00000000 5,995989e-01 3,812116e-13 4,004011e-01\n",
      "PC13 0,00000000 0,00000000 1,143446e-01 4,855274e-03 8,808001e-01\n",
      "PC14 0,00000000 0,00000000 0,000000e+00 0,000000e+00 1,000000e+00\n"
     ]
    },
    {
     "ename": "",
     "evalue": "",
     "output_type": "error",
     "traceback": [
      "\u001b[1;31mThe Kernel crashed while executing code in the current cell or a previous cell. \n",
      "\u001b[1;31mPlease review the code in the cell(s) to identify a possible cause of the failure. \n",
      "\u001b[1;31mClick <a href='https://aka.ms/vscodeJupyterKernelCrash'>here</a> for more info. \n",
      "\u001b[1;31mView Jupyter <a href='command:jupyter.viewOutput'>log</a> for further details."
     ]
    }
   ],
   "source": [
    "pandas2ri.activate()\n",
    "ro.r('''\n",
    "    source('src/utils/plotting.R')\n",
    "''')\n",
    "\n",
    "\n",
    "pca_biplot_vgenes_pertime = ro.globalenv['pca_biplot_vgenes_pertime']\n",
    "\n",
    "for time in trbv_gene_usage.reset_index()['TIMEPOINTS'].unique():\n",
    "    trbv_time = trbv_gene_usage.reset_index().query('TIMEPOINTS == @time').drop(columns=['TIMEPOINTS'])\n",
    "    trbv_time.set_index(['sample_id', 'CONDITION'], inplace=True)\n",
    "    pca_biplot_vgenes_pertime(trbv_time,\n",
    "                              pd.merge(trbv_time.reset_index()[['sample_id', 'CONDITION']],\n",
    "                              metadata_test, on = ['sample_id', 'CONDITION'],\n",
    "                              how = 'left')[['sample_id', 'CONDITION', 'SAMPLE', 'HLA_A', 'HLA_B', 'HLA_C', 'fraction_sequences']], time, PLOTSDIR)"
   ]
  },
  {
   "cell_type": "markdown",
   "metadata": {},
   "source": [
    "### Test specific V gene usage of those samples that cluster together"
   ]
  },
  {
   "cell_type": "code",
   "execution_count": 67,
   "metadata": {},
   "outputs": [
    {
     "name": "stderr",
     "output_type": "stream",
     "text": [
      "R[write to console]: \n",
      "Caricamento pacchetto: ‘reshape2’\n",
      "\n",
      "\n",
      "R[write to console]: Il seguente oggetto è mascherato da ‘package:tidyr’:\n",
      "\n",
      "    smiths\n",
      "\n",
      "\n"
     ]
    },
    {
     "data": {
      "text/plain": [
       "array(['/Users/fabioaffaticati/Desktop/Work/lymphoma_covid/results/plots/Vgene_spec_cluster1.png'],\n",
       "      dtype='<U88')"
      ]
     },
     "execution_count": 67,
     "metadata": {},
     "output_type": "execute_result"
    }
   ],
   "source": [
    "pandas2ri.activate()\n",
    "ro.r('''\n",
    "    source('src/utils/plotting.R')\n",
    "''')\n",
    "test_cluster_vgenes = ro.globalenv['test_cluster_vgenes']\n",
    "test_cluster_vgenes(trbv_gene_usage.reset_index(), metadata_test,\n",
    "                    ['s_11', 's_12', 's_13', 's_14', 's_16'],\n",
    "                    'baseline', '1', PLOTSDIR)"
   ]
  },
  {
   "cell_type": "code",
   "execution_count": 68,
   "metadata": {},
   "outputs": [
    {
     "data": {
      "text/plain": [
       "array(['/Users/fabioaffaticati/Desktop/Work/lymphoma_covid/results/plots/Vgene_spec_cluster2.png'],\n",
       "      dtype='<U88')"
      ]
     },
     "execution_count": 68,
     "metadata": {},
     "output_type": "execute_result"
    }
   ],
   "source": [
    "pandas2ri.activate()\n",
    "ro.r('''\n",
    "    source('src/utils/plotting.R')\n",
    "''')\n",
    "test_cluster_vgenes = ro.globalenv['test_cluster_vgenes']\n",
    "test_cluster_vgenes(trbv_gene_usage.reset_index(), metadata_test,\n",
    "                    ['s_2', 's_3', 's_4', 's_7', 's_8'],\n",
    "                    'baseline', '2', PLOTSDIR)"
   ]
  },
  {
   "cell_type": "code",
   "execution_count": 69,
   "metadata": {},
   "outputs": [
    {
     "data": {
      "text/plain": [
       "array(['/Users/fabioaffaticati/Desktop/Work/lymphoma_covid/results/plots/Vgene_spec_cluster3.png'],\n",
       "      dtype='<U88')"
      ]
     },
     "execution_count": 69,
     "metadata": {},
     "output_type": "execute_result"
    }
   ],
   "source": [
    "pandas2ri.activate()\n",
    "ro.r('''\n",
    "    source('src/utils/plotting.R')\n",
    "''')\n",
    "test_cluster_vgenes = ro.globalenv['test_cluster_vgenes']\n",
    "test_cluster_vgenes(trbv_gene_usage.reset_index(), metadata_test,\n",
    "                    ['s_8', 's_9', 's_12', 's_16'],\n",
    "                    'V3', '3', PLOTSDIR)"
   ]
  },
  {
   "cell_type": "code",
   "execution_count": 70,
   "metadata": {},
   "outputs": [
    {
     "data": {
      "text/plain": [
       "array(['/Users/fabioaffaticati/Desktop/Work/lymphoma_covid/results/plots/Vgene_spec_cluster4.png'],\n",
       "      dtype='<U88')"
      ]
     },
     "execution_count": 70,
     "metadata": {},
     "output_type": "execute_result"
    }
   ],
   "source": [
    "pandas2ri.activate()\n",
    "ro.r('''\n",
    "    source('src/utils/plotting.R')\n",
    "''')\n",
    "test_cluster_vgenes = ro.globalenv['test_cluster_vgenes']\n",
    "test_cluster_vgenes(trbv_gene_usage.reset_index(), metadata_test,\n",
    "                    ['s_11', 's_13', 's_15', 's_17'],\n",
    "                    'V3', '4', PLOTSDIR)"
   ]
  },
  {
   "cell_type": "code",
   "execution_count": 71,
   "metadata": {},
   "outputs": [
    {
     "data": {
      "text/plain": [
       "array(['/Users/fabioaffaticati/Desktop/Work/lymphoma_covid/results/plots/Vgene_spec_cluster5.png'],\n",
       "      dtype='<U88')"
      ]
     },
     "execution_count": 71,
     "metadata": {},
     "output_type": "execute_result"
    }
   ],
   "source": [
    "pandas2ri.activate()\n",
    "ro.r('''\n",
    "    source('src/utils/plotting.R')\n",
    "''')\n",
    "test_cluster_vgenes = ro.globalenv['test_cluster_vgenes']\n",
    "test_cluster_vgenes(trbv_gene_usage.reset_index(), metadata_test,\n",
    "                    ['s_2', 's_4', 's_5', 's_7', 's_14'],\n",
    "                    'V3', '5', PLOTSDIR)"
   ]
  }
 ],
 "metadata": {
  "kernelspec": {
   "display_name": "lymphenv",
   "language": "python",
   "name": "python3"
  },
  "language_info": {
   "codemirror_mode": {
    "name": "ipython",
    "version": 3
   },
   "file_extension": ".py",
   "mimetype": "text/x-python",
   "name": "python",
   "nbconvert_exporter": "python",
   "pygments_lexer": "ipython3",
   "version": "3.11.11"
  }
 },
 "nbformat": 4,
 "nbformat_minor": 2
}
